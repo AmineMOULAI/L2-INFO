{
 "cells": [
  {
   "cell_type": "code",
   "execution_count": 4,
   "id": "481432d8",
   "metadata": {},
   "outputs": [
    {
     "name": "stdout",
     "output_type": "stream",
     "text": [
      "Defaulting to user installation because normal site-packages is not writeable\n",
      "Requirement already satisfied: pymango in /home/etudiants/z92304242/.local/lib/python3.10/site-packages (0.1.1)\n",
      "Requirement already satisfied: requests>=2.4.3 in /usr/lib/python3/dist-packages (from pymango) (2.25.1)\n"
     ]
    }
   ],
   "source": [
    "!pip install pymango"
   ]
  },
  {
   "cell_type": "code",
   "execution_count": null,
   "id": "48255e64",
   "metadata": {},
   "outputs": [],
   "source": []
  }
 ],
 "metadata": {
  "kernelspec": {
   "display_name": "Python 3 (ipykernel)",
   "language": "python",
   "name": "python3"
  },
  "language_info": {
   "codemirror_mode": {
    "name": "ipython",
    "version": 3
   },
   "file_extension": ".py",
   "mimetype": "text/x-python",
   "name": "python",
   "nbconvert_exporter": "python",
   "pygments_lexer": "ipython3",
   "version": "3.9.13"
  }
 },
 "nbformat": 4,
 "nbformat_minor": 5
}
