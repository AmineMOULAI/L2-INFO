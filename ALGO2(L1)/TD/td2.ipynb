{
 "cells": [
  {
   "cell_type": "markdown",
   "id": "606f3dae-00c0-48a2-afe9-ecf31b74ef77",
   "metadata": {},
   "source": [
    "(td:td5)= \n",
    "# Feuille 2 : récursivité\n",
    "\n",
    "-   Le symbole $\\blacksquare$ indique les exercices ou questions\n",
    "    obligatoires. Commencez pas ceux-là.\n",
    "-   Les symboles $\\star$ et $\\star\\star$ indiquent les exercices ou\n",
    "    questions de difficulté relative plus importante.\n",
    "\n",
    "**Focus**\n",
    "\n",
    "-   récursivité et notions associées : arbre et pile des appels,\n",
    "    environnements\n",
    "-   recherche dichotomique\n",
    "\n",
    "**Compétences**\n",
    "\n",
    "-   Savoir conduire une approche diviser pour régner et en déduire une\n",
    "    solution récursive : application à des exemples calculatoires\n",
    "    simples – comme ceux vus en cours, *e.g*. factorielles,\n",
    "    exponentiation entière, exponentiation rapide.\n",
    "-   Savoir identifier la (ou les) terminaison, la récursion et\n",
    "    l'initialisation d'un traitement avec un algorithme récursif :\n",
    "    application à des exemples simples – comme ceux vus en cours, *e.g*.\n",
    "    factorielles, exponentiation entière, exponentiation rapide.\n",
    "-   Savoir exprimer la complexité d'un algorithme récursif\n",
    "-   Savoir écrire sous la forme d'une fonction de même signature les\n",
    "    versions itérative et récursive d'un traitement calculatoire simple\n",
    "-   Construire la pile des appels et son évolution lors d'un traitement\n",
    "    récursif"
   ]
  },
  {
   "cell_type": "markdown",
   "id": "151b6034-e3ae-4af6-ac3b-d3cb9ae76675",
   "metadata": {},
   "source": [
    "## Objectif 10"
   ]
  },
  {
   "cell_type": "markdown",
   "id": "6d67cc6e-d1e6-433d-a0cb-273fa39a7afc",
   "metadata": {},
   "source": [
    "(exo:sumrec)= \n",
    "### $\\blacksquare$ Exercice."
   ]
  },
  {
   "cell_type": "markdown",
   "id": "196cfb0b-38bb-426e-af7e-2bd59a673977",
   "metadata": {
    "tags": []
   },
   "source": [
    "1.  Écrire puis coder une version itérative de $u(n)= 2^n$ pour $n>0$\n",
    "2.  Écrire puis coder une version récursive de ce même calcul.\n",
    "3.  Expliciter l'arbre des appels et les calculs associés lors de l'évaluation de $u(5)$. Combien d'appels récursifs à $u$ sont nécessaires ?\n",
    "4.  Expliciter l'évolution de la pile des appels lors de l'évaluation de $u(5)$.\n",
    "5.  Compter le nombre d'opérations arithmétiques effectuées dans le calcul itératif de $u(5)$.\n",
    "6.  Faire de même pour le calcul récursif.\n",
    "7.  Conclure."
   ]
  },
  {
   "cell_type": "code",
   "execution_count": 8,
   "id": "45edfc1f",
   "metadata": {},
   "outputs": [],
   "source": [
    "def p_2(n : int) -> int:\n",
    "    '''Calculer et retourner 2^n'''\n",
    "    assert n > 0\n",
    "    res = 1\n",
    "    for i in range(n):\n",
    "        res *= 2\n",
    "    return res"
   ]
  },
  {
   "cell_type": "code",
   "execution_count": 9,
   "id": "f4f6a6e0",
   "metadata": {},
   "outputs": [],
   "source": [
    "from math import pow\n",
    "\n",
    "n = 10\n",
    "for i in range(1, n):\n",
    "    assert p_2(i) == pow(2, i)"
   ]
  },
  {
   "cell_type": "code",
   "execution_count": 10,
   "id": "d03e0be1",
   "metadata": {},
   "outputs": [],
   "source": [
    "def p_2_rec(n : int) -> int:\n",
    "    '''Version récursive'''\n",
    "    assert n > 0\n",
    "    if n == 1:\n",
    "        return 2\n",
    "    return 2* p_2_rec(n - 1)"
   ]
  },
  {
   "cell_type": "code",
   "execution_count": 11,
   "id": "e0929468",
   "metadata": {},
   "outputs": [],
   "source": [
    "from math import pow\n",
    "\n",
    "n = 10\n",
    "for i in range(1, n):\n",
    "    assert p_2_rec(i) == pow(2, i)"
   ]
  },
  {
   "cell_type": "markdown",
   "id": "91f87a2f",
   "metadata": {},
   "source": [
    "                      p(1) = 2  \n",
    "                 p(2) p(2) p(2) = 4 \n",
    "            p(3) p(3) p(3) p(3) p(3) = 8 \n",
    "       p(4) p(4) p(4) p(4) p(4) p(4) p(4) = 16 \n",
    ". p(5) p(5) p(5) p(5) p(5) p(5) p(5) p(5) p(5) = 32 ."
   ]
  },
  {
   "cell_type": "markdown",
   "id": "127efd06",
   "metadata": {},
   "source": [
    "* 5 appels récursive"
   ]
  },
  {
   "cell_type": "markdown",
   "id": "1efb92f1",
   "metadata": {},
   "source": [
    "* 4 opérations de multiplication dans la version récursive"
   ]
  },
  {
   "cell_type": "markdown",
   "id": "f156f296",
   "metadata": {},
   "source": [
    "* Le nombre d'opération dans la version récursive est le même que la version itérative"
   ]
  },
  {
   "cell_type": "markdown",
   "id": "ba836c0a-864e-42d2-9d27-3628ac47af9c",
   "metadata": {},
   "source": [
    "(exo:expo)= \n",
    "### $\\blacksquare$ Exercice.\n",
    "\n",
    "De façon plus générale qu'à l'exercice précédent, on calcule la valeur de $x^n$ où $n$ et un entier positif, et\n",
    "$x$ un flottant. On rappelle que $x^0 = 1.0$."
   ]
  },
  {
   "cell_type": "markdown",
   "id": "f63b58bb-6f6b-4517-826d-d8d0544ddf48",
   "metadata": {
    "tags": []
   },
   "source": [
    "1. Rappeler et écrire les algorithmes itératif et récursif (naïf) qui calculent $x^n$.\n",
    "2. Expliciter l'évolution de la pile des appels lors de l'évaluation de $x^n$ pour $n = 8$ et $n = 9$.\n",
    "3. Combien de multiplications sont nécessaires à ces calculs pour $n=2, 4, 8, 16, \\dots, 2^p$ ?\n",
    "4. Rappeler le principe de l'exponentiation entière rapide.\n",
    "5. Ecrire les versions itératives et récursives de cet algorithme. On pourra utiliser l'opérateur python `divmod`.\n",
    "6.  Dans chacun des cas, combien de multiplications sont nécessaires à ce calcul pour\n",
    "    $n=2, 4, 8, 16, \\dots, 2^p$ ? Conclure.\n",
    "7.  Compter le nombre d'appels récursifs pour les valeurs suivantes de $n = 4, 7, 8, 9, 63, 64, 65$. Conclure.\n",
    "8.  ($\\star$) Expliciter l'évolution de la pile des appels lors de l'évaluation de $x^n$ pour des valeurs de $n$ que vous choisirez dans la liste précédentes comme significatives des différents cas de traitement.\n"
   ]
  },
  {
   "cell_type": "code",
   "execution_count": 16,
   "id": "bea2a2f3",
   "metadata": {},
   "outputs": [],
   "source": [
    "def p_x(x : float, n : int) -> float:\n",
    "    '''Calculer et retourner x^n (version itérative)'''\n",
    "    res = 1.\n",
    "    for i in range(1, n + 1):\n",
    "        res *= x\n",
    "    return res"
   ]
  },
  {
   "cell_type": "code",
   "execution_count": 18,
   "id": "0bbc4b94",
   "metadata": {},
   "outputs": [],
   "source": [
    "from math import pow\n",
    "\n",
    "n = 10\n",
    "x = 3.\n",
    "for i in range(1, n):\n",
    "    assert p_x(x, i) == pow(x, i)"
   ]
  },
  {
   "cell_type": "code",
   "execution_count": 21,
   "id": "ac31c70b",
   "metadata": {},
   "outputs": [],
   "source": [
    "def p_x_rec(x : float, n : int) -> float:\n",
    "    '''Version récursive'''\n",
    "    assert n >= 0\n",
    "    if n == 0:\n",
    "        return 1.\n",
    "    return x * p_x_rec(x, n - 1)"
   ]
  },
  {
   "cell_type": "code",
   "execution_count": 22,
   "id": "2cf4a97a",
   "metadata": {},
   "outputs": [],
   "source": [
    "from math import pow\n",
    "\n",
    "n = 10\n",
    "x = 3.\n",
    "for i in range(1, n):\n",
    "    assert p_x_rec(x, i) == pow(x, i)"
   ]
  },
  {
   "cell_type": "markdown",
   "id": "406a47f3",
   "metadata": {},
   "source": [
    "                    \n",
    "                                                          f(x, 1)              \n",
    "                                                  f(x, 2) f(x, 2) f(x, 2)          \n",
    "                                          f(x, 3) f(x, 3) f(x, 3) f(x, 3) f(x, 3)  \n",
    "                                  f(x, 4) f(x, 4) f(x, 4) f(x, 4) f(x, 4) f(x, 4) f(x, 4)\n",
    "                          f(x, 5) f(x, 5) f(x, 5) f(x, 5) f(x, 5) f(x, 5) f(x, 5) f(x, 5) f(x, 5)   \n",
    "                  f(x, 6) f(x, 6) f(x, 6) f(x, 6) f(x, 6) f(x, 6) f(x, 6) f(x, 6) f(x, 6) f(x, 6) f(x, 6) \n",
    "          f(x, 7) f(x, 7) f(x, 7) f(x, 7) f(x, 7) f(x, 7) f(x, 7) f(x, 7) f(x, 7) f(x, 7) f(x, 7) f(x, 7) f(x, 7)\n",
    ". f(x, 8) f(x, 8) f(x, 8) f(x, 8) f(x, 8) f(x, 8) f(x, 8) f(x, 8) f(x, 8) f(x, 8) f(x, 8) f(x, 8) f(x, 8) f(x, 8) \n",
    "\n",
    "\n",
    "  f(x, 8) ."
   ]
  },
  {
   "cell_type": "markdown",
   "id": "2cc4c101",
   "metadata": {},
   "source": [
    "* Il faut **p** multiplications "
   ]
  },
  {
   "cell_type": "markdown",
   "id": "af7a60e6",
   "metadata": {},
   "source": [
    "* En allant du principe \"Diviser pour régner\", on pourra diviser le problème en des problèmes simples. Dans ce cas, on va diviser la puissance en 2 et on calcule le résultat puis on construire le résultat final."
   ]
  },
  {
   "cell_type": "code",
   "execution_count": 37,
   "id": "be97c9ee",
   "metadata": {},
   "outputs": [],
   "source": [
    "def expo_rapide_iter(x : float, n : int) -> float:\n",
    "    '''Calculer et retourner x^n (exponentiation rapide version itérative)'''\n",
    "    res = 1.\n",
    "    for i in range(n // 2):\n",
    "        res *= x\n",
    "    if n % 2 == 0:\n",
    "        return res * res\n",
    "    return x * res * res"
   ]
  },
  {
   "cell_type": "code",
   "execution_count": 38,
   "id": "0118fee9",
   "metadata": {},
   "outputs": [],
   "source": [
    "from math import pow\n",
    "\n",
    "n = 10\n",
    "x = 3.\n",
    "for i in range(1, n):\n",
    "    assert expo_rapide_iter(x, i) == pow(x, i)"
   ]
  },
  {
   "cell_type": "code",
   "execution_count": 39,
   "id": "6c315b6b",
   "metadata": {},
   "outputs": [],
   "source": [
    "def expo_rapide_rec(x : float, n : int) -> float:\n",
    "    '''Version récursive'''\n",
    "    assert n >= 0\n",
    "    if n == 0:\n",
    "        return 1.\n",
    "    else:\n",
    "        if n % 2 == 0:\n",
    "            r = expo_rapide_rec(x, n // 2)\n",
    "            return r * r\n",
    "        else:\n",
    "            r = expo_rapide_rec(x, (n - 1) // 2)\n",
    "            return x * r * r\n",
    "            "
   ]
  },
  {
   "cell_type": "code",
   "execution_count": 40,
   "id": "a6734ff5",
   "metadata": {},
   "outputs": [],
   "source": [
    "from math import pow\n",
    "\n",
    "n = 10\n",
    "x = 3.\n",
    "for i in range(1, n):\n",
    "    assert expo_rapide_rec(x, i) == pow(x, i)"
   ]
  },
  {
   "cell_type": "markdown",
   "id": "77d702d3",
   "metadata": {},
   "source": [
    "* Version itérative : p / 2 + 1 si n est pair, p / 2 + 2 sinon\n",
    "* Version récursive : "
   ]
  },
  {
   "cell_type": "markdown",
   "id": "67a62bfd",
   "metadata": {},
   "source": [
    "* n = 4 -> 4 appels\n",
    "* n = 7 -> 4 appels\n",
    "* n = 8 -> 5 appels\n",
    "* n = 9 -> 5 appels\n",
    "* n = 63 -> 7 appels\n",
    "* n = 64 -> 8 appels\n",
    "* n = 65 -> 8 appels"
   ]
  },
  {
   "cell_type": "markdown",
   "id": "eafdf37b-61f0-4292-8acc-1ade735f09aa",
   "metadata": {},
   "source": [
    "(exo:forrec)= \n",
    "### $\\blacksquare\\blacksquare$ Exercice. **Si il n'y avait qu'un seul exercice à faire, c'est celui-ci !** "
   ]
  },
  {
   "cell_type": "markdown",
   "id": "70d2bdaa-3bec-42e1-a987-c282f59ed9d5",
   "metadata": {
    "tags": []
   },
   "source": [
    "1.  Donner la forme récursive qui produit le même traitement que celui\n",
    "    d'une boucle `for` qui (parcourt et) affiche les indices entiers\n",
    "    successifs de 11 à 1.\n",
    "2.  Même question pour obtenir l'affichage : 1, 2, …, 10, 11."
   ]
  },
  {
   "cell_type": "code",
   "execution_count": 62,
   "id": "747475b6",
   "metadata": {},
   "outputs": [],
   "source": [
    "def print_rec(n : int) -> None:\n",
    "    '''Afficher de 11 à 1'''\n",
    "    if n == 1:\n",
    "        print(n)\n",
    "    else:\n",
    "        print(n)\n",
    "        print_rec(n - 1)"
   ]
  },
  {
   "cell_type": "code",
   "execution_count": 63,
   "id": "3b499b13",
   "metadata": {
    "scrolled": true
   },
   "outputs": [
    {
     "name": "stdout",
     "output_type": "stream",
     "text": [
      "11\n",
      "10\n",
      "9\n",
      "8\n",
      "7\n",
      "6\n",
      "5\n",
      "4\n",
      "3\n",
      "2\n",
      "1\n"
     ]
    }
   ],
   "source": [
    "print_rec(11)"
   ]
  },
  {
   "cell_type": "code",
   "execution_count": 60,
   "id": "f0e419bf",
   "metadata": {},
   "outputs": [],
   "source": [
    "def print_rec1(n : int) -> None:\n",
    "    '''Afficher de 1 à 11'''\n",
    "    if n == 1:\n",
    "        print(n)\n",
    "    else:\n",
    "        print_rec1(n - 1)\n",
    "        print(n)"
   ]
  },
  {
   "cell_type": "code",
   "execution_count": 61,
   "id": "15462445",
   "metadata": {},
   "outputs": [
    {
     "name": "stdout",
     "output_type": "stream",
     "text": [
      "1\n",
      "2\n",
      "3\n",
      "4\n",
      "5\n",
      "6\n",
      "7\n",
      "8\n",
      "9\n",
      "10\n",
      "11\n"
     ]
    }
   ],
   "source": [
    "print_rec1(11)"
   ]
  },
  {
   "cell_type": "markdown",
   "id": "b6be70c7-70f3-47c0-8c7f-e6c84b9b38f1",
   "metadata": {},
   "source": [
    "(exo:dicho)= \n",
    "### $\\blacksquare$ Exercice.  (recherche dichotomique)"
   ]
  },
  {
   "cell_type": "markdown",
   "id": "1b0e9f83-57fd-455b-b88b-97cc3b716bfb",
   "metadata": {
    "tags": []
   },
   "source": [
    "1.  Écrire un algorithme itératif qui calcule un booléen indiquant si un\n",
    "    tableau d'entiers **donné trié** par ordre croissant contient une\n",
    "    valeur donnée. La recherche sera effectuée par dichotomie.\n",
    "2.  Écrire une fonction récursive `trouve` (c'est-à-dire son en-tête,\n",
    "    puis l'appel puis le corps) qui retourne le booléen précédent en\n",
    "    appliquant aussi une recherche par dichotomie."
   ]
  },
  {
   "cell_type": "code",
   "execution_count": 7,
   "id": "96e23f6d",
   "metadata": {},
   "outputs": [],
   "source": [
    "def recherche_dico(t : list[int], c : int) -> bool:\n",
    "    '''Retourner si une valeur donnée est dans t'''\n",
    "    d = 0\n",
    "    f = len(t) - 1\n",
    "    \n",
    "    while d <= f:\n",
    "        m = (d + f) // 2\n",
    "        if t[m] == c:\n",
    "            return True\n",
    "        elif c < t[m]:\n",
    "            f = m - 1\n",
    "        else:\n",
    "            d = m + 1\n",
    "            \n",
    "    return False"
   ]
  },
  {
   "cell_type": "code",
   "execution_count": 8,
   "id": "95572412",
   "metadata": {},
   "outputs": [],
   "source": [
    "t = [2, 3, 4, 5, 7, 8, 9, 12]\n",
    "\n",
    "c = 5\n",
    "assert recherche_dico(t, c) == True\n",
    "\n",
    "c = 2\n",
    "assert recherche_dico(t, c) == True\n",
    "\n",
    "c = 15\n",
    "assert recherche_dico(t, c) == False"
   ]
  },
  {
   "cell_type": "code",
   "execution_count": 13,
   "id": "c771e24e",
   "metadata": {},
   "outputs": [],
   "source": [
    "def trouve(t : list[int], c : int, d, f : int) -> bool:\n",
    "    '''Version récursive'''\n",
    "    m = (d + f) // 2\n",
    "    if d > f:\n",
    "        return False\n",
    "    if t[m] == c:\n",
    "        return True\n",
    "    elif c < t[m]:\n",
    "        return trouve(t, c, d, m - 1)\n",
    "    else:\n",
    "        return trouve(t, c, m + 1, f)"
   ]
  },
  {
   "cell_type": "code",
   "execution_count": 14,
   "id": "7feb73be",
   "metadata": {},
   "outputs": [],
   "source": [
    "t = [2, 3, 4, 5, 7, 8, 9, 12]\n",
    "\n",
    "d = 0\n",
    "f = len(t) - 1\n",
    "\n",
    "c = 5\n",
    "assert trouve(t, c, d, f) == True\n",
    "\n",
    "c = 2\n",
    "assert trouve(t, c, d, f) == True\n",
    "\n",
    "c = 15\n",
    "assert trouve(t, c, d, f) == False"
   ]
  },
  {
   "cell_type": "markdown",
   "id": "aa60da63-f991-4833-9e33-362b830e1708",
   "metadata": {},
   "source": [
    "(exo:dicho2)= \n",
    "### $\\blacksquare$ Exercice. (recherche dichotomique)"
   ]
  },
  {
   "cell_type": "markdown",
   "id": "988ebb77-0130-4d41-9c23-df0792ba358e",
   "metadata": {
    "tags": []
   },
   "source": [
    "1.  Dérouler l'algorithme de recherche dichotomique (version itérative)\n",
    "    pour rechercher la valeur 3 dans le tableau \\[0,1,2,3,4,5,6,7,8,9\\].\n",
    "2.  Donner une valeur à rechercher qui minimise le nombre d'itérations\n",
    "    de la recherche.\n",
    "3.  Même question pour celle qui maximise ce nombre.\n",
    "4.  Coder ces traitements et vérifier votre analyse.\n",
    "5.  Reprendre les questions précédentes sur une version récursive de cette recherche en complétant avec l'évolution de la pile des appels de ce traitement (rechercher la valeur 3 dans le tableau indiqué)."
   ]
  },
  {
   "cell_type": "markdown",
   "id": "4f658407",
   "metadata": {},
   "source": [
    "* d = 0 / f = 9\n",
    "    * m = 4\n",
    "* d = 0 / f = 3\n",
    "    * m = 1\n",
    "* d = 2 / f = 3\n",
    "    * m = 2\n",
    "* d = 3 / f = 3\n",
    "    * m = 3"
   ]
  },
  {
   "cell_type": "markdown",
   "id": "8ab97dac",
   "metadata": {},
   "source": [
    "* La valeur 4  "
   ]
  },
  {
   "cell_type": "markdown",
   "id": "e5e53a0d",
   "metadata": {},
   "source": [
    "* La valeur 9"
   ]
  },
  {
   "cell_type": "markdown",
   "id": "c7cca911-1819-45eb-8dc5-e516b3d113e6",
   "metadata": {},
   "source": [
    "(exo:palindromerec)=\n",
    "### Exercice. (palindrome)\n",
    "\n",
    "Dans l'exercice {ref}`exo:palindromeiter`, on a défini et donné un algorithme itératif qui vérifie si un mot est ou non un palindrome.\n",
    "\n",
    "1. Donner une version récursive de cette vérification.\n",
    "2. Vérifier sa correction avec les tests unitaires de la version itérative.\n",
    "3. Expliciter l'évolution de la pile des appels des vérifications de \"kayak\" et de \"mamama\"."
   ]
  },
  {
   "cell_type": "code",
   "execution_count": 26,
   "id": "1ddda13b",
   "metadata": {},
   "outputs": [],
   "source": [
    "def palindrom(s : str) -> bool:\n",
    "    '''Vérifier si un mot est ou non un palindrome récursivement'''\n",
    "    if len(s) <= 1:\n",
    "        return True\n",
    "    if s[0] != s[len(s) - 1]:\n",
    "        return False\n",
    "    return palindrom(s[1:-1])\n",
    "    "
   ]
  },
  {
   "cell_type": "code",
   "execution_count": 28,
   "id": "62b08d99",
   "metadata": {},
   "outputs": [],
   "source": [
    "s1 = \"kayak\"\n",
    "assert palindrom(s1) == 1\n",
    "\n",
    "s2 = \"ete\"\n",
    "assert palindrom(s2) == 1\n",
    "\n",
    "s3 = \"elu par cette crapule\"\n",
    "assert palindrom(s3) == 0\n",
    "\n",
    "s4 = \"mon nom\"\n",
    "assert palindrom(s4) == 1"
   ]
  },
  {
   "cell_type": "markdown",
   "id": "a0e01ae2-a36d-4252-83c8-137096e9a0e7",
   "metadata": {},
   "source": [
    "(exo:eucliderec)= \n",
    "### ($\\star$) Exercice. (Maths)\n",
    "\n",
    "Dans l'exercice {ref}`exo:pgcd`, on a défini et donné une version itérative du calcul du pgcd de deux entiers par l'algorithme d'Euclide.\n",
    "\n",
    "1. En écrire une version récursive.\n",
    "5. Application. Ecrire une fonction qui prend en entrée 2 entiers $a$ et $b$, calcule et retourne les entiers $c$ et $d$ tels que $\\frac{c}{d}$ soit la forme irréductible de $\\frac{a}{b}$.      "
   ]
  },
  {
   "cell_type": "code",
   "execution_count": 29,
   "id": "e36a341a",
   "metadata": {},
   "outputs": [],
   "source": [
    "def pgcd(a, b : int) -> int:\n",
    "    '''Calculer pgcd(a, b)'''\n",
    "    if b == 0:\n",
    "        return a\n",
    "    return pgcd(b, a % b)"
   ]
  },
  {
   "cell_type": "code",
   "execution_count": 32,
   "id": "50dd3894",
   "metadata": {},
   "outputs": [],
   "source": [
    "from math import gcd\n",
    "\n",
    "assert pgcd(18, 12) == gcd(18, 12)\n",
    "assert pgcd(30, 12) == gcd(30, 12)\n",
    "assert pgcd(20, 7) == gcd(12, 7)\n",
    "assert pgcd(50, 13) == gcd(50, 13)"
   ]
  },
  {
   "cell_type": "code",
   "execution_count": 45,
   "id": "bfd809a7",
   "metadata": {},
   "outputs": [],
   "source": [
    "def forme(a, b : int) -> list[int]:\n",
    "    p = pgcd(a, b)\n",
    "    res = [0 for i in range(2)]\n",
    "    res[0] = a // p\n",
    "    res[1] = b // p\n",
    "    return res"
   ]
  },
  {
   "cell_type": "code",
   "execution_count": 48,
   "id": "40e480f3",
   "metadata": {},
   "outputs": [],
   "source": [
    "assert forme(48, 64) == [3.0, 4.0]\n",
    "assert forme(28, 35) == [4, 5]\n",
    "assert forme(12, 18) == [2, 3]\n",
    "assert forme(21, 14) == [3, 2]\n",
    "assert forme(10, 15) == [2, 3]"
   ]
  },
  {
   "cell_type": "markdown",
   "id": "371eaca2-00ea-4384-aabd-6166d4ebb337",
   "metadata": {},
   "source": [
    "## Objectif 20"
   ]
  },
  {
   "cell_type": "markdown",
   "id": "4ba4d264-eeb8-4f91-9c94-08eaac4f2a15",
   "metadata": {},
   "source": [
    "(exo:nbchiffres)= \n",
    "### Exercice.\n",
    "\n",
    "Ecrire une fonction récursive `nbChiffresDec(n: int) -> int` qui calcule et retourne le nombre de chiffres de l'écriture décimale de l'entier $n \\ge 0$.\n",
    "\n",
    "Par exemple, `nbChiffresDec(12345) == 5`."
   ]
  },
  {
   "cell_type": "code",
   "execution_count": 1,
   "id": "89169903",
   "metadata": {},
   "outputs": [],
   "source": [
    "def nbChiffresDec(n : int) -> int:\n",
    "    \"\"\"Calculer et retourner le nombre de chiffres de l'ecriture décimale de l'entier \"\"\"\n",
    "    assert n >= 0\n",
    "    if n // 10 == 0:\n",
    "        return 1\n",
    "    return 1 + nbChiffresDec(n // 10)"
   ]
  },
  {
   "cell_type": "code",
   "execution_count": 2,
   "id": "4d029e9c",
   "metadata": {},
   "outputs": [],
   "source": [
    "assert nbChiffresDec(12345) == 5\n",
    "assert nbChiffresDec(123) == 3\n",
    "assert nbChiffresDec(1234) == 4\n",
    "assert nbChiffresDec(1) == 1"
   ]
  },
  {
   "cell_type": "markdown",
   "id": "b7fb57f3-7ab1-444a-adb8-cd156616d6ce",
   "metadata": {},
   "source": [
    "(exo:nbbits)= \n",
    "### Exercice. (Info).\n",
    "\n",
    "Ecrire une fonction récursive `nbBits(n: int) -> int` qui calcule et retourne le nombre de bits valant 1 dans l'écriture binaire de l'entier $n \\ge 0$.\n",
    "L'entier $n$ est donné en décimales.\n",
    "\n",
    "Par exemple, `nbChiffresDec(255) == 8`."
   ]
  },
  {
   "cell_type": "code",
   "execution_count": 10,
   "id": "13d85561",
   "metadata": {},
   "outputs": [],
   "source": [
    "def nbBits(n : int) -> int:\n",
    "    \"\"\"Calculer le nbr de bits d'un entier donné\"\"\"\n",
    "    assert n >= 0\n",
    "    if n == 0:\n",
    "        return 0\n",
    "    return n%2 + nbBits(n // 2)"
   ]
  },
  {
   "cell_type": "markdown",
   "id": "c9e5fc2c",
   "metadata": {},
   "source": [
    "255 // 2 = 127 -> 1\n",
    "127 // 2 = 63 -> 1\n",
    "63 // 2 = 31 -> 1\n",
    "31 // 2 = 15 -> 1\n",
    "15 // 2 = 7 -> 1\n",
    "7 // 2 = 3 -> 1\n",
    "3 // 2 = 1 -> 1\n",
    "1 // 2 = 0 -> 1"
   ]
  },
  {
   "cell_type": "code",
   "execution_count": 15,
   "id": "7d0f6567",
   "metadata": {},
   "outputs": [],
   "source": [
    "assert nbBits(255) == 8\n",
    "assert nbBits(3) == 2\n",
    "assert nbBits(7) == 3\n",
    "assert nbBits(4) == 1\n",
    "assert nbBits(16) == 1\n",
    "assert nbBits(15) == 4"
   ]
  },
  {
   "cell_type": "markdown",
   "id": "34fae356-6b4f-44c0-8bb2-2804446750d0",
   "metadata": {},
   "source": [
    "(exo:syracuse)= \n",
    "### ($\\star$) Exercice. (suite de Syracuse)\n",
    "\n",
    "La suite de Syracuse $s$ d'un nombre $N$ donné est définie de façon\n",
    "récursive comme suit.\n",
    "\n",
    "On commence avec $s(0) = N$, puis :\n",
    "\n",
    "-   $s(n+1) = s(n)/2$, si $s(n)$ est pair,  \n",
    "-   $s(n+1) = 3s(n)+1$, si $s(n)$ est impair.\n",
    "\n",
    "Ainsi définie, $s$ est une suite infinie de valeurs entières construites\n",
    "à partir de la valeur de départ $N$."
   ]
  },
  {
   "cell_type": "markdown",
   "id": "536824cf-5075-45ca-937a-453122e7e5b1",
   "metadata": {},
   "source": [
    "1.  A la main pour commencer.\n",
    "    1.  Calculer à la main les valeurs de la suite pour les valeurs de\n",
    "        départ $N = 4, 2, 1$. Qu'en déduire ?\n",
    "    2.  Calculer à la main les valeurs de la suite pour les valeurs de\n",
    "        départ $N = 3, 5, 6, 7, 8, 16, 32$. Il peut être utile de\n",
    "        représenter les valeurs obtenues sous la forme d'un tableau où\n",
    "        chaque colonne (ou ligne) à la forme $N u_1 u_2 \\dots u_n \\dots$\n",
    "        où les $u_i$ sont les valeurs de la suite pour la valeur de\n",
    "        départ $N$. Qu'en déduire et en particulier que penser de la\n",
    "        terminaison de cette suite ?\n",
    "2.  La coder de façon récursive et observer son comportement pour l'une\n",
    "    de ces valeurs de $N$. Attention !!!\n",
    "3.  Terminaison : on arrête la suite $s(n)$ quand on rencontre $n = 1$\n",
    "    (c'est-à-dire $s(2)$). D'après la conjecture de Collatz, cette\n",
    "    valeur est rencontrée quelque soit le terme de départ $N$.\n",
    "    1.  Compléter votre code précédent avec cette condition d'arrêt.\n",
    "    2.  Compléter votre code précédent avec l'affichage de chaque valeur\n",
    "        calculée avant la terminaison.\n",
    "4.  Écrire des fonctions qui calculent les notions suivantes (source\n",
    "    Wikipédia) :\n",
    "    1.  le temps de vol qui est le plus petit indice $n$ tel que\n",
    "        $s(n) = 1$, *i.e.* jusqu'à la terminaison.\n",
    "    2.  le temps de vol en altitude qui est le plus petit indice $n$ tel\n",
    "        que $s(n) \\le N$.\n",
    "    3.  l'altitude maximale qui est la valeur maximale $s(n)$ de la\n",
    "        suite.\n",
    "5.  Coder ces fonctions et proposer des graphiques instructifs.\n",
    "6.  Coder ces fonctions et proposer des graphiques instructifs.\n",
    "7.  Coder le calcul avec terminaison de façon itérative."
   ]
  },
  {
   "cell_type": "markdown",
   "id": "6de24b45",
   "metadata": {},
   "source": [
    "1. \n",
    "    * N = 4\n",
    "        * s(0) = 4, s(1) = 2, s(2) = 1, s(3) = 4, ...\n",
    "    * N = 2\n",
    "        * s(0) = 2, s(1) = 1, s(3) = 4, ...\n",
    "    * N = 1\n",
    "        * s(0) = 1, s(1) = 4, s(2) = 2, s(3) = 1, ...\n",
    "    * On constate les mêmes valeurs pour les valeurs 4, 2, 1 \n",
    "2. \n",
    "    * N = 3\n",
    "        * s(0) = 3, s(1) = 10, s(2) = 5, s(3) = 16, s(4) = 8, s(5) = 4, s(6) = 2, s(7) = 1, ...\n",
    "    * N = 5 \n",
    "        * s(0) = 5, s(1) = 16, s(2) = 8, s(3) = 4, s(4) = 2, s(5) = 1, s(6) = 4, s(7) = 2, ...\n",
    "    * N = 6\n",
    "        * s(0) = 6, s(1) = 3, s(2) = 10, s(3) = 5, s(4) = 16, s(5) = 8, s(6) = 4, s(7) = 2, ...\n",
    "    * N = 7\n",
    "        * s(0) = 7, s(1) = 22, s(2) = 11, s(3) = 34, s(4) = 17, s(5) = 52, s(6) = 26, s(7) = 13, ...\n",
    "    * On en déduit la même terminaison pour chaque valeur de N\n",
    "\n",
    "\n",
    "\n",
    "\n",
    " \n",
    "   "
   ]
  },
  {
   "cell_type": "code",
   "execution_count": 39,
   "id": "adfae079",
   "metadata": {},
   "outputs": [],
   "source": [
    "def syracuse(n : int) -> None:\n",
    "    \"\"\"Calculer et afficher les valeurs de la suite syracuse\"\"\"\n",
    "    print(n, end=\" \")\n",
    "    if n == 1:\n",
    "        return \n",
    "    elif n % 2 == 0:\n",
    "        return syracuse(n // 2)\n",
    "    else:\n",
    "        return syracuse(3 * n + 1)"
   ]
  },
  {
   "cell_type": "code",
   "execution_count": 42,
   "id": "0b6bf883",
   "metadata": {},
   "outputs": [
    {
     "name": "stdout",
     "output_type": "stream",
     "text": [
      "16 8 4 2 1 \n",
      "\n",
      "7 22 11 34 17 52 26 13 40 20 10 5 16 8 4 2 1 \n",
      "\n",
      "32 16 8 4 2 1 \n",
      "\n",
      "36 18 9 28 14 7 22 11 34 17 52 26 13 40 20 10 5 16 8 4 2 1 "
     ]
    }
   ],
   "source": [
    "syracuse(16)\n",
    "print(\"\\n\")\n",
    "syracuse(7)\n",
    "print(\"\\n\")\n",
    "syracuse(32)\n",
    "print(\"\\n\")\n",
    "syracuse(36)"
   ]
  },
  {
   "cell_type": "code",
   "execution_count": 53,
   "id": "df2ee625",
   "metadata": {},
   "outputs": [],
   "source": [
    "def syracuse_v(n : int) -> int:\n",
    "    \"\"\"Calculer et afficher les valeurs de la suite syracuse\"\"\"\n",
    "    if n == 1:\n",
    "        return 0\n",
    "    elif n % 2 == 0:\n",
    "        return 1 + syracuse_v(n // 2)\n",
    "    else:\n",
    "        return 1 + syracuse_v(3 * n + 1)"
   ]
  },
  {
   "cell_type": "code",
   "execution_count": 57,
   "id": "c7390909",
   "metadata": {},
   "outputs": [],
   "source": [
    "assert syracuse_v(16) == 4\n",
    "assert syracuse_v(3) == 7\n",
    "assert syracuse_v(4) == 2\n",
    "assert syracuse_v(7) == 16"
   ]
  },
  {
   "cell_type": "code",
   "execution_count": 63,
   "id": "b9e5d0ec",
   "metadata": {},
   "outputs": [],
   "source": [
    "def syracuse_a(n : int, n0 : int) -> int:\n",
    "    \"\"\"Calculer et afficher les valeurs de la suite syracuse\"\"\"\n",
    "    if n0 > n:\n",
    "        return 0    \n",
    "    if n == 1:\n",
    "        return \n",
    "    elif n % 2 == 0:\n",
    "        return 1 + syracuse_a(n // 2, n0)\n",
    "    else:\n",
    "        return 1 + syracuse_a(3 * n + 1, n0)       "
   ]
  },
  {
   "cell_type": "code",
   "execution_count": 65,
   "id": "272fd377",
   "metadata": {},
   "outputs": [],
   "source": [
    "assert syracuse_a(27, 27) == 96\n",
    "assert syracuse_a(15, 15) == 11"
   ]
  },
  {
   "cell_type": "markdown",
   "id": "a46171e6-a8a8-47ce-9b8b-df898bede619",
   "metadata": {},
   "source": [
    "(exo:recterm)= \n",
    "### ($\\star$) Exercice. (récursivité terminale)\n",
    "\n",
    "Une fonction récursive est dite _récursive terminale_ lorsque l'appel récursif est la dernière instruction exécutée.\n",
    "\n",
    "1. Donner la liste de telles fonctions récursives terminales qui apparaissent dans les exemples du chapitre. Justifier votre réponse.\n",
    "2. Donner une version récursive terminale du calcul de $n!$. Vous pouvez modifier la signature vue en cours pour cette fonction.\n",
    "3. Déduire une version récursive terminale du calcul de $n!$ de même signature que la fonction vue en cours.\n"
   ]
  },
  {
   "cell_type": "markdown",
   "id": "79fb2592-a9c4-46b4-893c-1b02a56d7120",
   "metadata": {},
   "source": [
    "(exo:addint)= \n",
    "### ($\\star$) Exercice. (addition de 2 entiers)\n",
    "\n",
    "On souhaite additionner deux entiers de $p$ chiffres décimaux. On\n",
    "dispose pour cela d'une fonction `add(c1,c2)` qui calcule et retourne un\n",
    "couple `(r,s)` où :\n",
    "\n",
    "-   `c1, c2, s` sont des entiers compris entre 0 et 9,\n",
    "\n",
    "-   `r` est égal à 0 ou à 1, et\n",
    "\n",
    "-   `c1 + c2 = 10 r + c`.\n",
    "\n",
    "Ainsi `r` est la retenue de l'addition des chiffres `c1` et `c2` et `s`\n",
    "est la valeur “des unités” de cette somme. Par exemple : `add(2,3)`\n",
    "retourne `(0,5)` et `add(8,5)` retourne `(1,3)`.\n",
    "\n",
    "On représente un entier $n$ à $p$ chiffres décimaux par un tableau $N$\n",
    "de longueur $p$. On peut choisir par exemple\n",
    "$n = \\sum_{i=0}^{p-1} N[i]\\cdot 10^i$. Dit plus simplement dans ce cas,\n",
    "le dernier chiffre de $n$ (celui des unités) est stocké en position 0\n",
    "dans le tableau $N$, l'avant-dernier (celui des dizaines) en position 1,\n",
    "… — et on notera qu'il est ainsi plaisant que les tableaux soient\n",
    "indicés à partir de 0. Il est aussi possible de choisir une écriture\n",
    "plus classique où les chiffres sont stockés dans l'ordre des puissances\n",
    "décroissantes (numération de position habituelle).\n"
   ]
  },
  {
   "cell_type": "markdown",
   "id": "81de9b7b-dc3a-4973-be24-2abb54ffe93d",
   "metadata": {},
   "source": [
    "1.  Utiliser la fonction `add` pour écrire un algorithme qui calcule la\n",
    "    somme de deux entiers $n1$ et $n2$ respectivement représentés par\n",
    "    les tableaux $N1$ et $N2$. Le résultat $s = n1+n2$ sera aussi\n",
    "    représenté par un tableau adapté.\n",
    "2.  Soient $n1 = 1234$, $n2=4567$ et $n3=9876$. Dérouler l'algorithme\n",
    "    pour les deux calculs $n1+n2$ et $n1+n3$.\n",
    "3.  Coder et valider ces fonctions."
   ]
  },
  {
   "cell_type": "code",
   "execution_count": null,
   "id": "037c68f4-b7f2-4f83-a836-a3b219f18230",
   "metadata": {},
   "outputs": [],
   "source": []
  }
 ],
 "metadata": {
  "kernelspec": {
   "display_name": "Python 3 (ipykernel)",
   "language": "python",
   "name": "python3"
  },
  "language_info": {
   "codemirror_mode": {
    "name": "ipython",
    "version": 3
   },
   "file_extension": ".py",
   "mimetype": "text/x-python",
   "name": "python",
   "nbconvert_exporter": "python",
   "pygments_lexer": "ipython3",
   "version": "3.9.13"
  }
 },
 "nbformat": 4,
 "nbformat_minor": 5
}
