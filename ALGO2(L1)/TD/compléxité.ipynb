{
 "cells": [
  {
   "cell_type": "markdown",
   "id": "669603a8",
   "metadata": {},
   "source": [
    "## Objectif 10\n",
    "\n",
    "### $\\blacksquare$ QCM (Extrait de CC)"
   ]
  },
  {
   "cell_type": "markdown",
   "id": "fa41545b",
   "metadata": {},
   "source": [
    "1. Faux\n",
    "2. Faux\n",
    "3. Faux -> la compléxité du `while`est une majoration contrairement au `for`\n",
    "4. **L'accés mémoire, l'affectation ou les opération** ont une compléxité **constante**. Un algortihme qui calcule **la somme des n nombres** a une compléxité **linéaire**.\n",
    "5. Boucles imbriquées\n",
    "6. Le meilleur cas dans une recherche séquentielle itérative : **t[i] == val pour i = 0.**\n",
    "7. Meilleur cas dans la recherche dichotomique : t[m] == val (val se trouve dans la position m dans le tableau)\n",
    "8. $C(n) = n³$ si l'on double la taille $C(n) = (2n)³ = 8n³ = n³$\n",
    "9. $C(n) = 4n³ + 25n² + 10²$ est asymptotiquement **cubique** car la fonction cubique croit beaucoup plus rapidement lorque $n \\to +\\infty$"
   ]
  },
  {
   "cell_type": "markdown",
   "id": "1f8bee7b",
   "metadata": {},
   "source": [
    "(exo:doubleboucle)=\n",
    "### $\\blacksquare$ Exercice\n",
    "\n",
    "1.  Dérouler l'algorithme suivant en explicitant les valeurs de\n",
    "    l'ensemble de ses variables."
   ]
  },
  {
   "cell_type": "code",
   "execution_count": 11,
   "id": "6b4e9aba",
   "metadata": {},
   "outputs": [
    {
     "name": "stdout",
     "output_type": "stream",
     "text": [
      "i = 0\n",
      "  j = 0 k = 0\n",
      "  j = 1 k = 1\n",
      "  j = 2 k = 2\n",
      "  j = 3 k = 3\n",
      "i = 1\n",
      "  j = 1 k = 2\n",
      "  j = 2 k = 3\n",
      "  j = 3 k = 4\n",
      "i = 2\n",
      "  j = 2 k = 4\n",
      "  j = 3 k = 5\n",
      "i = 3\n",
      "  j = 3 k = 6\n"
     ]
    }
   ],
   "source": [
    "for i in range (4): \n",
    "        print(f\"i = {i}\")\n",
    "        for j in range(i,4):\n",
    "            k = i + j\n",
    "            print(f\"  j = {j} k = {k}\")"
   ]
  },
  {
   "cell_type": "markdown",
   "id": "e3cef83c",
   "metadata": {},
   "source": [
    "2.  Même question en remplaçant la ligne 2 par :\n",
    "\n",
    "    ```{code-block} python\n",
    "     for j in range(i+1,4):\n",
    "    ```"
   ]
  },
  {
   "cell_type": "code",
   "execution_count": 12,
   "id": "e1a6702e",
   "metadata": {},
   "outputs": [
    {
     "name": "stdout",
     "output_type": "stream",
     "text": [
      "i = 0\n",
      "  j = 1 k = 1\n",
      "  j = 2 k = 2\n",
      "  j = 3 k = 3\n",
      "i = 1\n",
      "  j = 2 k = 3\n",
      "  j = 3 k = 4\n",
      "i = 2\n",
      "  j = 3 k = 5\n",
      "i = 3\n"
     ]
    }
   ],
   "source": [
    "for i in range (4): \n",
    "        print(f\"i = {i}\")\n",
    "        for j in range(i + 1,4):\n",
    "            k = i + j\n",
    "            print(f\"  j = {j} k = {k}\")"
   ]
  },
  {
   "cell_type": "markdown",
   "id": "47289c97",
   "metadata": {},
   "source": [
    "3.  Compter le nombre d'additions dans chacun des deux cas.\n",
    "\n",
    "    * Le nombre d'additions dans le cas 1 : 10\n",
    "    * Le nombre d'additions dans le cas 2:  6"
   ]
  },
  {
   "cell_type": "markdown",
   "id": "99725afd",
   "metadata": {},
   "source": [
    "4.  Coder une vérification de ces deux questions."
   ]
  },
  {
   "cell_type": "code",
   "execution_count": 13,
   "id": "9fdf3f09",
   "metadata": {},
   "outputs": [
    {
     "name": "stdout",
     "output_type": "stream",
     "text": [
      "Le nombre d'opérations : 10\n"
     ]
    }
   ],
   "source": [
    "nb_op = 0\n",
    "for i in range (4): \n",
    "        for j in range(i,4):\n",
    "            k = i + j\n",
    "            nb_op += 1\n",
    "print(f\"Le nombre d'opérations : {nb_op}\")"
   ]
  },
  {
   "cell_type": "code",
   "execution_count": 14,
   "id": "aa1ec417",
   "metadata": {},
   "outputs": [
    {
     "name": "stdout",
     "output_type": "stream",
     "text": [
      "Le nombre d'opérations : 6\n"
     ]
    }
   ],
   "source": [
    "nb_op = 0\n",
    "for i in range (4): \n",
    "        for j in range(i + 1, 4):\n",
    "            k = i + j\n",
    "            nb_op += 1\n",
    "print(f\"Le nombre d'opérations : {nb_op}\")"
   ]
  },
  {
   "cell_type": "markdown",
   "id": "9ba89a09",
   "metadata": {},
   "source": [
    "\n",
    "### $\\blacksquare $ Exercice\n",
    "\n",
    "On reprend [l'exercice précédent](exo:doubleboucle) en introduisant un nombre arbitraire  $n$ d'itérations de chaque boucle.\n",
    "\n",
    "1.  Quelle est une mesure naturelle de la complexité de cet algorithme ?\n",
    "    Quel est le paramètre de cette complexité ?\n",
    "\n",
    "2.  Pour chacun des cas suivants : compter le nombre d'additions\n",
    "    effectuées à chaque itération de la boucle intérieure. En déduire le\n",
    "    nombre total d'additions. Quelle est la complexité asymptotique de\n",
    "    cet algorithme ?\n",
    "\n",
    "\ta.  On modifie la ligne 1 :\n",
    "\n",
    "\t```{code-block} python\n",
    "\t---\n",
    "\tlinenos: true\n",
    "\t---\n",
    "\tfor i in range(n): \n",
    "\t\tfor j in range(i,4):\n",
    "\t```\n",
    "\n",
    "\tb.  on modifie maintenant la ligne 2 :\n",
    "\n",
    "\t```{code-block} python\n",
    "\t---\n",
    "\tlinenos: true\n",
    "\t---\n",
    "\tfor i in range(4): \n",
    "\t\tfor j in range(n):\n",
    "\t```\n",
    "\n",
    "\tc.  ou aussi :\n",
    "\n",
    "\t```{code-block} python\n",
    "\t---\n",
    "\tlinenos: true\n",
    "\t---\n",
    "\tfor i in range(4): \n",
    "\t\tfor j in range(i,n):\n",
    "\t```\n",
    "\n",
    "\td.  Avec les lignes 1 et 2 suivantes :\n",
    "\n",
    "\t```{code-block} python\n",
    "\t---\n",
    "\tlinenos: true\n",
    "\t---\n",
    "\tfor i in range(n): \n",
    "\t\tfor j in range(n):\n",
    "\t```\n",
    "\n",
    "\te.  ou aussi les lignes 1 et 2 suivantes :\n",
    "\n",
    "\t```{code-block} python\n",
    "\t---\n",
    "\tlinenos: true\n",
    "\t---\n",
    "\tfor i in range(n): \n",
    "\t\tfor j in range(i,n):\n",
    "\t```\n",
    "\n",
    "\n",
    "Rappel. Il est utile de connaitre la valeur de la somme des $n$ premiers\n",
    "entiers et son équivalent asymptotique :\n",
    "\n",
    "$$1+2 +  \\dots + n =  \\sum_{k=1}^n k = n(n+1)/2  \\approx n^2/2.$$\n",
    "\n",
    "Complexité asymptotique : ainsi cette somme à une tendance asymptotique (polynomiale) quadratique."
   ]
  },
  {
   "cell_type": "markdown",
   "id": "4b41bf7a",
   "metadata": {},
   "source": [
    "1. La mesure de la compléxité de l'algorithme : **l'addition**\n",
    "    * Le paramètre de la compléxité : **n le nombre d'itérations**\n",
    "2. Le nombre d'additions effectuées :\n",
    "    * Premier cas (exo1):\n",
    "        * i = 0 -> 4 additions\n",
    "        * i = 1 -> 3\n",
    "        * i = 2 -> 2\n",
    "        * i = 1 -> 1\n",
    "        * Total : 10 additions \n",
    "        * La boucle intérieure dépend de la boucle extérieure. Donc la compléxité est asymptotiquement quadratique $O(n²)$"
   ]
  },
  {
   "cell_type": "code",
   "execution_count": 25,
   "id": "45715a1b",
   "metadata": {},
   "outputs": [],
   "source": [
    "# a.\n",
    "n = 4\n",
    "for i in range (n): \n",
    "        for j in range(i,4):\n",
    "            k = i + j\n"
   ]
  },
  {
   "cell_type": "markdown",
   "id": "ff9f3a09",
   "metadata": {},
   "source": [
    "* Nombre d'addition dépend de n : 10 additions dans ce cas quel que soit n"
   ]
  },
  {
   "cell_type": "code",
   "execution_count": null,
   "id": "c8ed65c2",
   "metadata": {},
   "outputs": [],
   "source": [
    "# b.\n",
    "n = 4\n",
    "for i in range (4): \n",
    "        for j in range(n):\n",
    "            k = i + j\n"
   ]
  },
  {
   "cell_type": "markdown",
   "id": "0c5a00e9",
   "metadata": {},
   "source": [
    "* Le nombre d'additions :\n",
    "    * $C(n) = n + n + n + n = 4n$ additions (4 fois car i va de 0 à 3)  "
   ]
  },
  {
   "cell_type": "code",
   "execution_count": 30,
   "id": "f74899ef",
   "metadata": {},
   "outputs": [
    {
     "name": "stdout",
     "output_type": "stream",
     "text": [
      "14\n"
     ]
    }
   ],
   "source": [
    "# c.\n",
    "n = 5\n",
    "nb = 0\n",
    "for i in range (4): \n",
    "        for j in range(i,n):\n",
    "            k = i + j\n",
    "            nb += 1"
   ]
  },
  {
   "cell_type": "markdown",
   "id": "148579e6",
   "metadata": {},
   "source": [
    "* Nombres d'additions :\n",
    "    * $C(n) = n + (n - 1) + (n - 2) + (n - 3) = 4n - 6$"
   ]
  },
  {
   "cell_type": "code",
   "execution_count": 31,
   "id": "3b186993",
   "metadata": {},
   "outputs": [],
   "source": [
    "# d.\n",
    "n = 4\n",
    "for i in range (n): \n",
    "        for j in range(n):\n",
    "            k = i + j"
   ]
  },
  {
   "cell_type": "markdown",
   "id": "6c25809c",
   "metadata": {},
   "source": [
    "* Nombre d'additions :\n",
    "    * $C(n) = n + n + ... + n = n²$"
   ]
  },
  {
   "cell_type": "code",
   "execution_count": 32,
   "id": "2a97b8d8",
   "metadata": {},
   "outputs": [],
   "source": [
    "# d.\n",
    "n = 4\n",
    "for i in range (n): \n",
    "        for j in range(i,n):\n",
    "            k = i + j"
   ]
  },
  {
   "cell_type": "markdown",
   "id": "64a0b6d9",
   "metadata": {},
   "source": [
    "* Nombres d'additions :\n",
    "    * $C(n) = n + (n - 1) + (n - 2) + ... + 0 = \\frac{n(n+1)}{2} \\approx \\frac{n²}{2}$(Quadratique)"
   ]
  },
  {
   "cell_type": "markdown",
   "id": "ac9427b4",
   "metadata": {},
   "source": [
    "### $\\blacksquare $ Exercice \n",
    "\n",
    "On rappelle la spécification des fonctions `est_egal()`  et `nb_communs()` d'abord sur des tableaux de dimension 1 (vecteurs) (cf. feuille 2).\n",
    "\n",
    "- La fonction `est_egal()`  compare  deux tableaux de dimension 1 et retourne le booléen correspondant. \n",
    "On convient que deux tableaux sont égaux si leurs tailles sont égales et si leurs valeurs sont égales deux à deux.\n",
    "- La fonction `nb_communs()` retourne le nombre de valeurs communes entre deux tableaux de dimension 1. Ici aussi la comparaison s'effectue \"deux à deux\" (valeurs de même indice).\n",
    "\n",
    "1. Effectuer l'analyse de la complexité de ces fonctions.\n",
    "2. Ces fonctions s'étendent à des tableaux 2D ou de façon plus générale à des tableaux multi-dimensionnels.\n",
    "L’égalité entre tableaux multi-dimensionnels suppose l’égalité des dimensions, des tailles deux à deux dans chaque dimension, et des valeurs deux à deux pour toutes les valeurs du tableau.\n",
    "Effectuer l'analyse de la complexité de ces fonctions pour des tableaux 2D."
   ]
  },
  {
   "cell_type": "markdown",
   "id": "5e922d67",
   "metadata": {},
   "source": [
    "1. Analyse de la complexité \n",
    "    * Pour les tableaux 1D\n",
    "        * `est_egale()`\n",
    "            * La mesure de la compléxité : **nombre de comparaisons efféctuées** \n",
    "            * Le paramètre de la compléxité : **`n` la taille du tableau** \n",
    "            * $C(n) = 1$ si les deux premières valeurs des tableaux sont différentes l'une de l'autre \n",
    "            * $C(n) \\le n$ pour le reste du parcours \n",
    "         * `nb_communs`\n",
    "             * La mesure de la compléxité : **nombre de comparaisons efféctuées** \n",
    "            * Le paramètre de la compléxité : **`n` la taille du tableau**\n",
    "            $C(n) = n$ (Compléxité linéaire)\n",
    "            \n",
    "    * Pour les tableaux 2D\n",
    "         * `est_egale()`\n",
    "            * La mesure de la compléxité : **nombre de comparaisons efféctuées** \n",
    "            * Le paramètre de la compléxité : **$n \\times m$ la taille du tableau**\n",
    "            * $C(n) = 1$ si les deux premières valeurs des tableaux sont différentes l'une de l'autre\n",
    "            * $C(n) \\le n\\times m$ (Compléxité quadratique quand m = n)\n",
    "         * `nb_communs`\n",
    "             * La mesure de la compléxité : **nombre de comparaisons efféctuées** \n",
    "            * Le paramètre de la compléxité : **`n` la taille du tableau**\n",
    "            $C(n) = n \\times m$ (Compléxité quadratique quand m = n)\n"
   ]
  },
  {
   "cell_type": "markdown",
   "id": "d94aaf89",
   "metadata": {},
   "source": [
    "### Exercice (palindrome ... toujours) extrait d'examen\n",
    "\n",
    "Cet exercice reprend l'exercice sur les palindromes des feuilles 1 et 2.\n",
    "\n",
    "1. Effectuer l'analyse de complexité en temps de la version itérative de la vérification qu'un mot est ou non un palindrome (feuille 1). \n",
    "Veillez bien à répondre aux points suivants : para-mètre et mesure de la complexité, meilleur cas et pire cas, expression de cette complexité, comportement asymptotique, effet sur temps de traitement si le paramètre de complexité est doublé.\n",
    "2. Même question pour la version récursive vue dans la feuille 2."
   ]
  },
  {
   "cell_type": "markdown",
   "id": "66279448",
   "metadata": {},
   "source": [
    "1. Analyse de compléxité (version itérative)\n",
    "    * Mesure de la compléxité : **Nombre de comparaisons effectuées**\n",
    "    * Paramètre de la compléxité : **`n` la taille de la chaîne de caractères**\n",
    "    * $C(n) = 1$ quand **s[0] != s[n - 1] (Meilleur cas)**\n",
    "    * $C(n) \\le \\left\\lfloor \\frac{n}{2} \\right\\rfloor$ sinon **(Pire cas)**\n",
    "    * Asymptotiquement, on peut dire que c'est une **compléxité lineaire $O(n)$**\n",
    "    * si on double le paramètre de la compléxité, on aura $C(n)\\le \\frac{2n}{2} \\iff C(n)\\le n$. Donc **la compléxité reste toujours linéaire**.\n",
    "2. Analyse de compléxité (version récursive)\n",
    "    * Mesure de la compléxité : **Nombre de comparaisons effectuées** \n",
    "    * Paramètre de la compléxité : **n la taille de la chaîne de caractères**\n",
    "    * $C(0) = C(1) = 1$\n",
    "    * $C(n) = C(n - 2) + 1$ \n",
    "        * Récursivement : \n",
    "        * $C(n - 2) = C(n - 4) + 1$\n",
    "        * $C(n - 4) = C(n - 2) + 1$\n",
    "        * .\n",
    "        * .\n",
    "        * .\n",
    "        * $C(2) = C(0) + 1$\n",
    "        * On trouve $C(n) = C(n - 2k) + k$ d'où $k = \\frac{n}{2}$\n",
    "        * Donc $C(n) = \\frac{n}{2} = O(n)$. On dit que **la compléxité est linéaire.**\n"
   ]
  },
  {
   "cell_type": "markdown",
   "id": "0615104c",
   "metadata": {},
   "source": [
    "### Exercice (extrait d'examen)\n",
    "\n",
    "On s'intéresse à la complexité en temps de la fonction suivante.\n",
    "\n",
    "        def mystere(n: int) -> int:\n",
    "           m = 0\n",
    "           for i in range(n):\n",
    "              for j in range(i):\n",
    "                 m = m + i + j\n",
    "           return m \n",
    "\n",
    "1.  Quel est le paramètre de cette complexité ?\n",
    "2.  Quelles sont les instructions significatives de cette complexité ?\n",
    "3.  Quelle est une mesure de sa complexité ?\n",
    "4.  Donner l'expression de cette complexité.\n",
    "5.  Combien y a-t-il d'opérations arithmétiques dans l'exécution de\n",
    "    cette fonction pour un paramètre effectif $N$ donné. ?\n",
    "6.  Quelle est sa complexité asymptotique ?"
   ]
  },
  {
   "cell_type": "markdown",
   "id": "e3e4f992",
   "metadata": {},
   "source": [
    "1. Le paramètre de la compléxité : $n$\n",
    "2. Les instructions significatives sont **les additions (opérations arithmitiques)**\n",
    "3. La mésure de la compléxité : **Nombre d'opérations effectuées**\n",
    "4. L'expression de la compléxité :\n",
    "    * $C(0) = C(1) = 0$\n",
    "    * $C(2) = 1$\n",
    "    * $C(3) = 1 + C(2) = 3$\n",
    "    * $.$\n",
    "    * $.$\n",
    "    * $.$\n",
    "    * $C(n) = n - 1 + C(n - 1)$ \n",
    "    * Et c'est la somme $C(n) = \\sum_{i=1}^{n-1} i = \\frac{(n-1)n}{2}$\n",
    "5. Il y a  $\\frac{(N-1)N}{2}$ opérations arithmitiques\n",
    "6. La compléxité asymptotique est **linéaire** ($C(n) = O(n)$).\n",
    "\n"
   ]
  },
  {
   "cell_type": "markdown",
   "id": "a17c9216",
   "metadata": {},
   "source": [
    "## Objectif 20\n",
    "\n",
    "### Exercice (extrait d'examen)\n",
    "\n",
    "Considérons la fonction `f()` suivante.\n",
    "\n",
    "        def f(a:int, n: int)->int:\n",
    "           assert n >= 0\n",
    "           x = a\n",
    "           y = 1\n",
    "           while n > 0:\n",
    "              if n % 2 == 1:\n",
    "                 y = y * x\n",
    "              x = x * x\n",
    "              n = n // 2\n",
    "          return y \n",
    "\n",
    "1.  Que valent `f(3, 0)`, `f(3, 1)`, `f(3, 2)`, `f(3, 3)` et `f(3, 4)` ?\n",
    "2.  Que vaut `f(3, `$2^p$`)` pour $p$ entier positif ?\n",
    "3.  De même, que vaut `f(3, `$2^p$`+1)` ?\n",
    "4.  Que calcule `f(a, n)` ?\n",
    "5.  Préciser la mesure et le paramètre de la complexité de cette\n",
    "    fonction.\n",
    "6.  Donner une expression précise de sa complexité quand $n=2^p$.\n",
    "    Détailler votre réponse.\n",
    "7.  Quelle est sa complexité asymptotique ?"
   ]
  }
 ],
 "metadata": {
  "kernelspec": {
   "display_name": "Python 3 (ipykernel)",
   "language": "python",
   "name": "python3"
  },
  "language_info": {
   "codemirror_mode": {
    "name": "ipython",
    "version": 3
   },
   "file_extension": ".py",
   "mimetype": "text/x-python",
   "name": "python",
   "nbconvert_exporter": "python",
   "pygments_lexer": "ipython3",
   "version": "3.12.3"
  }
 },
 "nbformat": 4,
 "nbformat_minor": 5
}
