{
 "cells": [
  {
   "cell_type": "markdown",
   "id": "7ca3d468-e4b6-4080-834a-bbef7ac9ae9a",
   "metadata": {},
   "source": [
    "# Ne pas dégrafer les feuilles.\n",
    "Durée : 1.5 heure. Aucun document autorisé.\n",
    "Répondre uniquement dans les zones “à petits carreaux” (il n’est pas demandé d’écrire un caractère par “petit\n",
    "carreau”). Vous pouvez écrire vos réponses sur 2 colonnes dans ces zones. Un barème sur 25 est indiqué à\n",
    "droite de chaque question. La note finale sur 20 est proportionnellement déduite.\n",
    "### Exercice 1. (8 points)\n",
    "Un palindrome est un mot, ou un groupe de mots, dont l’ordre des lettres reste le même qu’on le lise de\n",
    "la droite vers la gauche ou inversement. Des exemples bien connus sont “été”, “kayak”, “mon nom”, “élu\n",
    "par cette crapule”. Ce dernier permet d’illustrer qu’on ne tient pas compte en général des accents, trémas ou\n",
    "cédilles.\n",
    "En revanche, le caractère “ espace” peut être ignoré (“mon nom” et “élu par cette crapule” sont des palin-\n",
    "dromes) ou pris en compte comme un caractère à part entière (“mon nom” est un palindrome tandis que “élu\n",
    "par cette crapule” n’en n’est pas un).\n",
    "Dans cet exercice, un mot ou un groupe de mots est représenté par une chaîne de caractères (str), sans\n",
    "accent, tréma, ni cédille. Le traitement du caractère “espace” diffère entre les questions 1 et 2.\n",
    "1. Dans cette question, le caractère “espace” est pris en compte comme un caractère à part entière pour\n",
    "décider si il y a palindrome ou pas. Écrire `est_palindrome_espace()`, fonction qui teste si un argu-\n",
    "ment est, ou non, un palindrome et retourne le booléen correspondant."
   ]
  },
  {
   "cell_type": "code",
   "execution_count": 1,
   "id": "0c765d51-be76-4b50-be94-a5612f8a1149",
   "metadata": {},
   "outputs": [],
   "source": [
    "def est_palindrome_espace(s : str) -> bool:\n",
    "    for i in range(len(s) // 2):\n",
    "        if s[i] != s[-(i+1)]:\n",
    "            return False\n",
    "    return True"
   ]
  },
  {
   "cell_type": "code",
<<<<<<< HEAD
   "execution_count": 1,
   "id": "f1d12faf-9ec7-40ff-b5a7-50dd2b3aa1f9",
   "metadata": {},
   "outputs": [
    {
     "ename": "NameError",
     "evalue": "name 'est_palindrome_espace' is not defined",
     "output_type": "error",
     "traceback": [
      "\u001b[1;31m---------------------------------------------------------------------------\u001b[0m",
      "\u001b[1;31mNameError\u001b[0m                                 Traceback (most recent call last)",
      "Cell \u001b[1;32mIn[1], line 1\u001b[0m\n\u001b[1;32m----> 1\u001b[0m \u001b[38;5;28;01massert\u001b[39;00m \u001b[43mest_palindrome_espace\u001b[49m(\u001b[38;5;124m\"\u001b[39m\u001b[38;5;124mradar\u001b[39m\u001b[38;5;124m\"\u001b[39m) \u001b[38;5;241m==\u001b[39m \u001b[38;5;28;01mTrue\u001b[39;00m\n\u001b[0;32m      2\u001b[0m \u001b[38;5;28;01massert\u001b[39;00m est_palindrome_espace(\u001b[38;5;124m\"\u001b[39m\u001b[38;5;124mra d ar\u001b[39m\u001b[38;5;124m\"\u001b[39m) \u001b[38;5;241m==\u001b[39m \u001b[38;5;28;01mTrue\u001b[39;00m\n",
      "\u001b[1;31mNameError\u001b[0m: name 'est_palindrome_espace' is not defined"
     ]
    }
   ],
=======
   "execution_count": 2,
   "id": "f1d12faf-9ec7-40ff-b5a7-50dd2b3aa1f9",
   "metadata": {},
   "outputs": [],
>>>>>>> 09cda8ff79a4216cdfc72da25c007a73e6ae0bb7
   "source": [
    "assert est_palindrome_espace(\"radar\") == True\n",
    "assert est_palindrome_espace(\"ra d ar\") == True"
   ]
  },
  {
   "cell_type": "markdown",
   "id": "7a061b3f-1625-4b3a-8177-f7ba197d7aff",
   "metadata": {},
   "source": [
    "2. Dans cette question, le caractère “espace” est ignoré pour décider si il y a palindrome ou pas. Sans utili-\n",
    "ser la fonction-méthode .split() des chaînes de caractères, écrire `est_palindrome_nospace()`,\n",
    "fonction qui teste si un argument est, ou non, un palindrome et retourne le booléen correspondant."
   ]
  },
  {
   "cell_type": "code",
   "execution_count": 3,
   "id": "84acda73-a6a5-406b-9a5b-69512767ea31",
   "metadata": {},
   "outputs": [],
   "source": [
    "def est_palindrome_nospace(s : str) -> bool:\n",
    "    i = 0\n",
    "    j = len(s) - 1\n",
    "    while i < j:\n",
    "        if s[i] != \" \" and s[j] != \" \":\n",
    "            if s[i] != s[j]:\n",
    "                return False\n",
    "            i += 1\n",
    "            j -= 1\n",
    "        else:\n",
    "            if s[i] == \" \" and s[j] == \" \":\n",
    "                i += 1\n",
    "                j -= 1\n",
    "            elif s[i] == \" \":\n",
    "                i += 1\n",
    "            else:\n",
    "                j -= 1\n",
    "    return True"
   ]
  },
  {
   "cell_type": "code",
   "execution_count": 4,
   "id": "e7d80b6f-7ced-4b0e-aa77-ed211d8b4195",
   "metadata": {},
   "outputs": [],
   "source": [
    "assert est_palindrome_nospace(\"a santa at nasa\") == True\n",
    "assert est_palindrome_nospace(\"a santa at nasa\") == True"
   ]
  },
  {
   "cell_type": "markdown",
   "id": "db62a585-e82a-46ea-aa6a-34ef7d648973",
   "metadata": {},
   "source": [
    "3. Analyser la complexité en temps de l’un ou l’autre de ces traitements (à votre choix). Veillez bien à\n",
    "répondre aux points suivants : paramètre et mesure de la complexité, meilleur cas et pire cas, expression\n",
    "de cette complexité, comportement asymptotique et son écriture avec la notation de Landau, effet sur\n",
    "temps de traitement si le paramètre de complexité est doublé. "
   ]
  },
  {
   "cell_type": "markdown",
   "id": "0ab2a83f-21b5-43e4-8510-f3370579b097",
   "metadata": {},
   "source": [
    "* Analyse de complexité :\n",
    "    * **Mesure de la complexité**: `s[i] == s[-i-1]`\n",
    "    * **Paramètre de la complexité**: `n = len(s)` la longeur de la chaine de characteres\n",
    "    * **Meilleur cas :**\n",
    "      * Le mot n'est pas un palindrome : `s[i] != s[-i-1]` pour `i == 0` donc $C(n) = 0$\n",
    "    * **Pire cas :**\n",
    "      * Le mot est bien un palindrome : on effectue $\\frac{n}{2}$ comparaisons d'où $C(n) = \\frac{n}{2}$\n",
    "    * On peut dire que la complexité est asymptotiquement **lineaire** ($O(n)$)\n",
    "    * Le doublement du paramètre :\n",
    "      * Meilleur cas reste le même\n",
    "      * Pire cas :\n",
    "        * $C(n) = \\frac{2n}{2} = n$, d'où la complexité est toujours **lineaire**"
   ]
  },
  {
   "cell_type": "markdown",
   "id": "692a8864-07af-436d-99f6-ec2e6e1a6e4f",
   "metadata": {},
   "source": [
    "# Exercice 2. (17 points) /17\n",
    "\n",
    "Un carré magique d’ordre **n** est constitué de tous les nombres entiers de $1$ à  $n^2$ écrits sous la forme d’un tableau carré. Ces nombres sont disposés de sorte que leurs **sommes sur chaque ligne**, **chaque colonne** et **chacune des deux diagonales principales** soient égales. On nomme alors **constante magique** la valeur de ces sommes (*source: Wikipedia*).\n",
    "\n",
    "### Exemple\n",
    "Voici un exemple de carré magique normal d’ordre 3 et de constante magique 15 (*source: Phidauex*). Dans cet exercice, la variable Python `cmn3` représente ce carré magique comme la liste de ses 3 lignes, chacune d’elles représentée par une liste de 3 entiers :\n",
    "```python\n",
    "cmn3 = [ [ 2, 7, 6 ], [ 9, 5, 1 ], [ 4, 3, 8 ] ]\n",
    "```\n",
    "\n",
    "De façon analogue, les tableaux carrés d’ordre n > 1 (i.e. de taille n × n) sont de type `list[list[int]]` dans cet exercice.  \n",
    "On va d’abord étudier la vérification qu’un tableau carré donné est un carré magique (fonctions, tests unitaires, complexité). Puis on va étudier une méthode qui génère un carré magique d’ordre impair quelconque n > 1 (fonction, complexité).  \n",
    "\n",
    "1. On va écrire une fonction `carre_magique()` qui retourne la constante magique d’un tableau carré d’ordre arbitraire ou 0 si une telle constante n’existe pas (i.e. le tableau carré n’est pas un carré magique).  \n",
    "   (a) Écrire la fonction `lignes()` qui vérifie la condition sur la somme des lignes d’un carré magique d’ordre n. Cette fonction retourne la somme commune ou 0 sinon.\n",
    "\n"
   ]
  },
  {
   "cell_type": "code",
<<<<<<< HEAD
   "execution_count": 5,
=======
   "execution_count": 7,
>>>>>>> 09cda8ff79a4216cdfc72da25c007a73e6ae0bb7
   "id": "c1cb9f66-97a8-466f-9840-0a317371f7e0",
   "metadata": {},
   "outputs": [],
   "source": [
    "def lignes(carre : list[list[int]], n : int) -> int:\n",
    "    s = [0 for i in range(n)]\n",
    "    for i in range(n):\n",
    "        for j in range(n):\n",
    "            s[i] += carre[i][j]\n",
    "    s1 = s[0]\n",
    "    for i in range(1, n):\n",
    "        if s[i] != s1:\n",
    "            return 0\n",
    "    return s[0]"
   ]
  },
  {
   "cell_type": "code",
<<<<<<< HEAD
   "execution_count": 6,
=======
   "execution_count": 13,
>>>>>>> 09cda8ff79a4216cdfc72da25c007a73e6ae0bb7
   "id": "95b30242-3196-4e01-8d26-aebe97f3f3ae",
   "metadata": {},
   "outputs": [
    {
     "name": "stdout",
     "output_type": "stream",
     "text": [
      "15\n",
      "0\n"
     ]
    }
   ],
   "source": [
    "cmn3 = [ [ 2 , 7 , 6 ] , [ 9 , 5 , 1 ] , [ 4 , 3 , 8 ] ]\n",
    "n = len(cmn3)\n",
    "print(lignes(cmn3, n))\n",
    "\n",
    "cmn = [ [ 2 , 7 , 6 ] , [ 9 , 5 , 1 ] , [ 4 , 3 , 1 ] ]\n",
    "n = len(cmn)\n",
    "print(lignes(cmn, n))"
   ]
  },
  {
   "cell_type": "markdown",
   "id": "99f18417-7ca0-48de-8145-593dd0597fe6",
   "metadata": {},
   "source": [
    "(b) Écrire la fonction colonnes() qui vérifie la condition sur la somme des colonnes d’un carré ma-\n",
    "gique d’ordre n. Cette fonction retourne la somme commune ou 0 sinon."
   ]
  },
  {
   "cell_type": "code",
<<<<<<< HEAD
   "execution_count": 7,
=======
   "execution_count": 10,
>>>>>>> 09cda8ff79a4216cdfc72da25c007a73e6ae0bb7
   "id": "26dbfce0-5ec6-403b-9e66-0a61f54d1af4",
   "metadata": {},
   "outputs": [],
   "source": [
    "def colonnes(carre : list[list[int]], n : int) -> int:\n",
    "    s = [0 for i in range(n)]\n",
    "    for i in range(n):\n",
    "        for j in range(n):\n",
    "            s[i] += carre[j][i]\n",
    "    s1 = s[0]\n",
    "    for i in range(1, n):\n",
    "        if s[i] != s1:\n",
    "            return 0\n",
    "    return s[0]"
   ]
  },
  {
   "cell_type": "code",
<<<<<<< HEAD
   "execution_count": 8,
=======
   "execution_count": 15,
>>>>>>> 09cda8ff79a4216cdfc72da25c007a73e6ae0bb7
   "id": "4797ca41-a1ea-4937-9bb2-85b69aa76e07",
   "metadata": {},
   "outputs": [
    {
     "name": "stdout",
     "output_type": "stream",
     "text": [
      "15\n",
      "0\n"
     ]
    }
   ],
   "source": [
    "cmn3 = [ [ 2 , 7 , 6 ] , [ 9 , 5 , 1 ] , [ 4 , 3 , 8 ] ]\n",
    "n = len(cmn3)\n",
    "print(colonnes(cmn3, n))\n",
    "\n",
    "cmn = [ [ 2 , 7 , 6 ] , [ 9 , 5 , 1 ] , [ 4 , 3 , 1 ] ]\n",
    "n = len(cmn)\n",
    "print(colonnes(cmn, n))"
   ]
  },
  {
   "cell_type": "markdown",
   "id": "074dd9a0-6f17-40bd-a5af-47b5137ab099",
   "metadata": {},
   "source": [
    "(c) Écrire la fonction diags() qui vérifie la condition sur la somme des deux diagonales principales\n",
    "d’un carré magique d’ordre n. Cette fonction retourne la somme commune ou 0 sinond’un carré magique d’ordre n. Cette fonction retourne la somme commune ou 0 sinond’un carré magique d’ordre n. Cette fonction retourne la somme commune ou 0 sinon"
   ]
  },
  {
   "cell_type": "code",
<<<<<<< HEAD
   "execution_count": 9,
=======
   "execution_count": 23,
>>>>>>> 09cda8ff79a4216cdfc72da25c007a73e6ae0bb7
   "id": "f72ac130-c3bf-47bc-95b1-621de9abacda",
   "metadata": {},
   "outputs": [],
   "source": [
    "def diags(carre : list[list[int]], n : int) -> int:\n",
    "    dg, dd = 0, 0\n",
    "    i, j = 0, 0\n",
    "    while i < n and j < n:\n",
    "        dd += carre[i][j]\n",
    "        i += 1\n",
    "        j += 1\n",
    "        \n",
    "    i, j = 0, n - 1  \n",
    "    while i < n and j >= 0:\n",
    "        dg += carre[i][j]\n",
    "        i += 1\n",
    "        j -= 1\n",
    "    if dg == dd:\n",
    "        return dg\n",
    "    else:\n",
    "        return 0"
   ]
  },
  {
   "cell_type": "code",
<<<<<<< HEAD
   "execution_count": 10,
=======
   "execution_count": 24,
>>>>>>> 09cda8ff79a4216cdfc72da25c007a73e6ae0bb7
   "id": "3a163e4e-3149-4b53-afe1-10d04f529a0c",
   "metadata": {},
   "outputs": [
    {
     "name": "stdout",
     "output_type": "stream",
     "text": [
      "15\n",
      "0\n"
     ]
    }
   ],
   "source": [
    "cmn3 = [ [ 2 , 7 , 6 ] , [ 9 , 5 , 1 ] , [ 4 , 3 , 8 ] ]\n",
    "n = len(cmn3)\n",
    "print(diags(cmn3, n))\n",
    "\n",
    "cmn = [ [ 2 , 7 , 6 ] , [ 9 , 5 , 1 ] , [ 4 , 3 , 1 ] ]\n",
    "n = len(cmn)\n",
    "print(diags(cmn, n))"
   ]
  },
  {
   "cell_type": "markdown",
   "id": "ad72f31e-15ab-4e9b-97a9-484b1e4f7ce5",
   "metadata": {},
   "source": [
    "(d) Avec les fonctions précédentes, écrire carre_magique() qui retourne la constante magique d’un\n",
    "tableau carré d’ordre arbitraire n ou 0 si une telle constante n’existe pas"
   ]
  },
  {
   "cell_type": "code",
<<<<<<< HEAD
   "execution_count": 11,
=======
   "execution_count": 26,
>>>>>>> 09cda8ff79a4216cdfc72da25c007a73e6ae0bb7
   "id": "a5850b94-d8ec-444c-ba94-03342fb627ab",
   "metadata": {},
   "outputs": [],
   "source": [
    "def carre_magique(carre : list[list[int]], n : int) -> int:\n",
    "    if lignes(carre, n) == colonnes(carre, n) == diags(carre, n):\n",
    "        return lignes(carre, n)\n",
    "    else:\n",
    "        return 0"
   ]
  },
  {
   "cell_type": "code",
<<<<<<< HEAD
   "execution_count": 12,
=======
   "execution_count": 32,
>>>>>>> 09cda8ff79a4216cdfc72da25c007a73e6ae0bb7
   "id": "22a18626-4f4e-4909-bcf4-d5b18b6dca64",
   "metadata": {},
   "outputs": [
    {
     "name": "stdout",
     "output_type": "stream",
     "text": [
      "15\n",
      "0\n"
     ]
    }
   ],
   "source": [
    "cmn3 = [ [ 2 , 7 , 6 ] , [ 9 , 5 , 1 ] , [ 4 , 3 , 8 ] ]\n",
    "print(carre_magique(cmn3, len(cmn3)))\n",
    "\n",
    "cmn = [ [ 2 , 7 , 6 ] , [ 9 , 5 , 1 ] , [ 4 , 3 , 1 ] ]\n",
    "n = len(cmn)\n",
    "print(carre_magique(cmn, n))"
   ]
  },
  {
   "cell_type": "markdown",
   "id": "9ba1d10f-129f-457c-b4a9-505a8469098e",
   "metadata": {},
   "source": [
    "3. Étudier la complexité de carre_magique(). Effectuer cette analyse de façon similaire à la question 3\n",
    "de l’exercice 1. Conclure lorsque l’ordre n du tableau carré est doublé.\n",
    "Conseil : commecer par effectuer l’analyse de complexité de chaque fonction impliquée dans le traite-\n",
    "ment de carre_magique(). "
   ]
  },
  {
   "cell_type": "markdown",
   "id": "979dbab0-6e93-4730-858f-b548106fc3a7",
   "metadata": {},
   "source": [
    "* Etude de la complexité :\n",
    "  * **Mesure de la complexité :** les opérations arithmitiques effectuées\n",
    "  * **Paramètre de la complexité :** `n` la taille du carré magique\n",
    "  * on a 3 appels de fonctions dans `carre_magique()`\n",
    "    * `lignes()` : \n",
    "        * Boucles imbriquées indépendantes l'une de l'autre. Sa complexité $C(n) = n * n = n^2$\n",
    "        * Boucle vérifiant les résultats de chaque ligne (n comparaisons)\n",
    "         * Donc $C(n) = n² + n = n²$. Sa compléxité est cubique asymptotiquement\n",
    "    * `colonnes()`: Même traitement comme `lignes()\n",
    "    * `diags()`: Deux boucles indépendantes l'une effectue le traitement pour la 1ère diag et l'autre pour la 2éme \n",
    "        * Parcours estimé n fois pour les deux boucles d'où $C(n) = n + n = 2n$ donc sa complexité est asymptotiquement lineaire $O(n)$.\n",
    "   * La fonction `carre_magique()`appelle les 3 fonctions précedantes indépendamment. Sa complexité est $C(n) = n² + n² + n$ où $n²$ représente la complexite de la fonction `lignes()`et `colonnes()` et $n$ est celle de `diags()`. Donc $C(n) = 2n²+ n = n²$, sa complexité est asymptotiquement cubique $O(n²)$."
   ]
  },
  {
   "cell_type": "markdown",
   "id": "2620ccb4",
   "metadata": {},
   "source": [
    "# La méthode siamoise de génération d’un carré magique normal d’ordre impair\n",
    "\n",
    "La méthode siamoise, décrite par Simon de La Loubère en 1688, est une technique historique de construction de carrés magiques normaux d’ordre impair. Voici les étapes principales pour générer un carré magique en suivant cette méthode :\n",
    "\n",
    "## Étapes de construction :\n",
    "\n",
    "1. **Démarrer du 1 :**\n",
    "   Placer le nombre 1 au milieu de la ligne supérieure du carré.\n",
    "\n",
    "2. **Décaler vers le NE :**\n",
    "   À partir de la position actuelle, déplacer d’une case vers la droite, puis d’une case vers le haut, pour placer le prochain nombre (par exemple : 2, 3, 4, etc.).\n",
    "\n",
    "3. **Out ! Faire le tour :**\n",
    "   Si la flèche pointe hors des limites du carré :\n",
    "   - Revenir de l’autre côté de la même ligne ou colonne selon la direction de la sortie.\n",
    "   - Se déplacer ensuite vers le NE pour placer le nombre.\n",
    "\n",
    "   *Note :* En cas de sortie par le coin supérieur NE, repartir au coin inférieur SO.\n",
    "\n",
    "4. **Collision ! Descendre :**\n",
    "   Si la prochaine case est déjà occupée :\n",
    "   - Descendre d’une case directement sous la position actuelle pour placer le nombre.\n",
    "\n",
    "   *Exemple :* Lors du placement du nombre 16, on observe les deux situations : sortie du cadre et collision.\n",
    "\n",
    "![Illustration d'un carré magique](Magic_Square_-_5x5.svg.png)"
   ]
  },
  {
   "cell_type": "markdown",
   "id": "ba393632",
   "metadata": {},
   "source": [
    "(*) Écrire la fonction `generation_siamoise()` qui prend en argument un tableau carré d’ordre n,\n",
    "supposé préalablement initialisé avec des zéros, et le modifie en un carré magique normal selon l’algo-\n",
    "rithme ci-dessus. Cette fonction modifie le tableau argument en un carré magique d’ordre n et retourne\n",
    "la valeur magique. "
   ]
<<<<<<< HEAD
  },
  {
   "cell_type": "code",
   "execution_count": 13,
   "id": "cb9a640f",
   "metadata": {},
   "outputs": [],
   "source": [
    "def generation_siamoise(carre : list[list[int]], n : int) -> int:\n",
    "    d = 1 # NE\n",
    "    l, c = 0, n // 2\n",
    "    for i in range(1, n*n):\n",
    "        dl, dc = l, c\n",
    "        carre[l][c] = i\n",
    "        if l == 0:\n",
    "            dl = n - 1\n",
    "            dc += 1\n",
    "        elif c == n - 1:\n",
    "            dc = 0\n",
    "            dl -= 1\n",
    "        else:\n",
    "            dc += 1\n",
    "            dl -= 1\n",
    "\n",
    "        if dl >= 0 and dl < n and dc >= 0 and dc < n and carre[dl][dc] == 0:\n",
    "            l = dl \n",
    "            c = dc\n",
    "        else:\n",
    "            l += 1\n",
    "    s = 0\n",
    "    for j in range(n):\n",
    "        s += carre[0][j]\n",
    "    return s"
   ]
  },
  {
   "cell_type": "code",
   "execution_count": 14,
   "id": "6b31fd53",
   "metadata": {},
   "outputs": [
    {
     "name": "stdout",
     "output_type": "stream",
     "text": [
      "Valeur magique : 65\n"
     ]
    }
   ],
   "source": [
    "n = 5\n",
    "carre = [[0 for j in range(n)] for i in range(n)]\n",
    "c = generation_siamoise(carre, n)\n",
    "print(f\"Valeur magique : {c}\")"
   ]
  },
  {
   "cell_type": "markdown",
   "id": "4fbd2db8",
   "metadata": {},
   "source": [
    "5. On va étudier la complexité en temps de cette génération d’un carré magique d’ordre impair n.\n",
    "    * Préciser le paramètre et la mesure de cette complexité\n",
    "        * **Paramètre de la complexité :** `n` la taille du carré magique\n",
    "        * **Mesure de la complexité :** ou `carre[dl][dc] == 0`"
   ]
  },
  {
   "cell_type": "code",
   "execution_count": null,
   "id": "474e67e5",
   "metadata": {},
   "outputs": [],
   "source": []
=======
>>>>>>> 09cda8ff79a4216cdfc72da25c007a73e6ae0bb7
  }
 ],
 "metadata": {
  "kernelspec": {
   "display_name": "Python 3 (ipykernel)",
   "language": "python",
   "name": "python3"
  },
  "language_info": {
   "codemirror_mode": {
    "name": "ipython",
    "version": 3
   },
   "file_extension": ".py",
   "mimetype": "text/x-python",
   "name": "python",
   "nbconvert_exporter": "python",
   "pygments_lexer": "ipython3",
<<<<<<< HEAD
   "version": "3.12.3"
=======
   "version": "3.9.13"
>>>>>>> 09cda8ff79a4216cdfc72da25c007a73e6ae0bb7
  }
 },
 "nbformat": 4,
 "nbformat_minor": 5
}
