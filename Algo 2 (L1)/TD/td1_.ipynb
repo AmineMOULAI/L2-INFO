{
 "cells": [
  {
   "cell_type": "markdown",
   "id": "05680cef-6c79-40ee-a55f-9dd4d005cbc0",
   "metadata": {},
   "source": [
    "(td:td1)=\n",
    "# Feuille 1 : fonctions\n",
    "\n",
    "**Rappels**\n",
    "\n",
    "- Le symbole $\\blacksquare$ indique les exercices ou questions obligatoires. Commencez par ceux-là.\n",
    "- Les symboles $\\star$ et $\\star\\star$ indiquent les exercices ou questions de difficulté relative plus importante.\n",
    "\n",
    "**Focus**\n",
    "\n",
    "- Fonctions\n",
    "\n",
    "**Compétences**\n",
    "\n",
    "- utiliser une fonction prédéfinie ou existante\n",
    "- définir et écrire la spécification d'une fonction qui réalise un traitement décrit en français, ou qui résout un problème (simple) décrit en français  \n",
    "- définir et écrire des appels simples (ou des tests unitaires) \n",
    "- définir, écrire et utiliser des tests unitaires \n",
    "- définir et écrire l'implémentation d'une fonction associée à une spécification "
   ]
  },
  {
   "cell_type": "markdown",
   "id": "242896f2-07d8-4dbd-b2d6-0e041afab40a",
   "metadata": {},
   "source": [
    "**Rappel de quelques consignes**\n",
    "\n",
    "Dans _cet ordre_ et avec les corrections entre 2 étapes si besoin :\n",
    "\n",
    "1. écriture de la signature de la fonction _docstring_ compris\n",
    "3. écriture d'au moins un appel simple ou un test unitaire\n",
    "4. écriture du corps\n",
    "5. écriture des tests unitaires\n",
    "6. exécution des tests unitaires\n",
    "7. écriture des appels voulus  \n",
    "8. exécution des appels voulus\n",
    "\n",
    "\n",
    "_Se souvenir_ :\n",
    "\n",
    "- Séparer les entrées-sorties des traitements !    \n",
    "- Réduire au minimum l'utilisation des `input()` (les entrées au clavier) et des `print()` (les sorties à l'écran).  \n",
    "- Utiliser des identifiants différents pour les paramètres formels et effectifs, respectivement dans la définition et les appels."
   ]
  },
  {
   "cell_type": "markdown",
   "id": "db5174c5",
   "metadata": {},
   "source": [
    "## Objectif 10"
   ]
  },
  {
   "cell_type": "markdown",
   "id": "929dd824-442e-46ed-ac02-df8afeee665d",
   "metadata": {
    "jp-MarkdownHeadingCollapsed": true
   },
   "source": [
    "(exo:fact)=\n",
    "### Exercice. (factorielle)\n",
    "\n",
    "La valeur de factorielle (de) $n$, où $n$ est un entier positif, est :\n",
    "$n ! = 1 \\times 2 \\times \\cdots \\ \\times (n-1) \\times n$. On choisit\n",
    "$0 ! = 1$.\n",
    "\n",
    "2.  $\\blacksquare$ Écrire la fonction `factorielle()` qui calcule et retourne $n!$.\n",
    "3.  La fonction `factorial()` du module `math` effectue le même calcul. Utiliser cette fonction pour définir et coder des tests unitaires de votre fonction `factorielle()`.\n",
    "4.  Utiliser la fonction `factorielle()` pour écrire des fonctions qui\n",
    "    calculent les quantités suivantes.\n",
    "\n",
    "    1.  Le nombre d'arrangements (listes ordonnées) de $k$ valeurs\n",
    "        prises dans un ensemble de $n$ valeurs est :\n",
    "        $\\mathcal{A}_n^k = {n\n",
    "                  !}/{(n-k)!}, (k \\le n)$.\n",
    "    2.  Le nombre de combinaisons (listes non ordonnées) de $k$ valeurs\n",
    "        prises dans un ensemble de $n$ valeurs est :\n",
    "        $\\left(_k^n\\right) =\n",
    "                {\\mathcal{A}_n^k}/{k!}$, $(k \\le n)$."
   ]
  },
  {
   "cell_type": "code",
   "execution_count": 4,
   "id": "a39942e9",
   "metadata": {},
   "outputs": [],
   "source": [
    "def factorielle(n : int) -> int:\n",
    "    '''Calculer et retourner n!'''\n",
    "    f = 1\n",
    "    for i in range(1, n + 1):\n",
    "        f *= i\n",
    "    return f"
   ]
  },
  {
   "cell_type": "code",
   "execution_count": 5,
   "id": "3ac6b14f",
   "metadata": {},
   "outputs": [],
   "source": [
    "from math import factorial\n",
    "\n",
    "for i in range(6):\n",
    "    assert factorielle(i) == factorial(i)"
   ]
  },
  {
   "cell_type": "code",
   "execution_count": 3,
   "id": "3bdbe577",
   "metadata": {},
   "outputs": [],
   "source": [
    "def arrangement(n : int, k : int) -> float:\n",
    "    '''Calculer et retourner larrangement (n, k)'''\n",
    "    assert k <= n\n",
    "    return factorielle(n) / factorielle(n - k)"
   ]
  },
  {
   "cell_type": "code",
   "execution_count": 4,
   "id": "6794da6a",
   "metadata": {},
   "outputs": [],
   "source": [
    "def combinaison(n : int, k : int) -> float:\n",
    "    '''Calculer et retourner la combinaison (n, k)'''\n",
    "    assert k <= n\n",
    "    return arrangement(n , k) / factorielle(k)"
   ]
  },
  {
   "cell_type": "code",
   "execution_count": 5,
   "id": "5ce48f0b",
   "metadata": {},
   "outputs": [],
   "source": [
    "assert arrangement(2, 1) == 2 \n",
    "assert arrangement(3, 1) == 3\n",
    "assert arrangement(4, 2) == 12\n",
    "\n",
    "assert combinaison(3, 2) == 3\n",
    "assert combinaison(2, 1) == 2\n",
    "assert combinaison(4, 2) == 6\n"
   ]
  },
  {
   "cell_type": "markdown",
   "id": "a5d0cbee-88bb-43c1-ada6-193337850b0d",
   "metadata": {},
   "source": [
    "### $\\blacksquare$ Exercice \n",
    "\n",
    "Écrire une fonction `moy()` qui calcule et retourne la moyenne de 4 valeurs flottantes de façon adaptée au traitement suivant souhaité. \n",
    "\n",
    "- Ces 4 valeurs sont entrées au clavier et stockées dans un tableau. \n",
    "- La moyenne calculée est affichée à l'écran avec un rappel des 4 valeurs correspondantes.\n",
    "\n",
    "Accompagner votre développement avec quelques tests unitaires bien choisis."
   ]
  },
  {
   "cell_type": "code",
   "execution_count": 1,
   "id": "b3bfc195",
   "metadata": {},
   "outputs": [],
   "source": [
    "def moy(t : list[int]) -> float:\n",
    "    '''Calculer et retourner la moyenne d un tableau'''\n",
    "    s = 0\n",
    "    for i in range(len(t)):\n",
    "        s += t[i]\n",
    "    return s / len(t)"
   ]
  },
  {
   "cell_type": "code",
   "execution_count": 7,
   "id": "8d62b540",
   "metadata": {},
   "outputs": [
    {
     "name": "stdout",
     "output_type": "stream",
     "text": [
      "Entrer t[0] : 2\n",
      "Entrer t[1] : 15\n",
      "Entrer t[2] : 12\n",
      "Entrer t[3] : 11\n",
      "2.0 15.0 12.0 11.0 \n",
      "\n",
      "La moyenne du tableau : 10.0\n"
     ]
    }
   ],
   "source": [
    "t = [float(input(f\"Entrer t[{i}] : \")) for i in range(4)]\n",
    "\n",
    "for i in range(4):\n",
    "    print(t[i], end = \" \")\n",
    "    \n",
    "print(\"\\n\")\n",
    "print(f\"La moyenne du tableau : {moy(t)}\")"
   ]
  },
  {
   "cell_type": "code",
   "execution_count": 9,
   "id": "c3ea4077",
   "metadata": {},
   "outputs": [],
   "source": [
    "t = [1, 2, 3, 4]\n",
    "assert moy(t) == 2.5\n",
    "\n",
    "t1 = [12.5, 9, 13, 10]\n",
    "assert moy(t1) == 11.125"
   ]
  },
  {
   "cell_type": "markdown",
   "id": "1d12acd1-690e-43a0-8c5f-510c11ec286e",
   "metadata": {},
   "source": [
    "### Exercice (codage ASCII) \n",
    "\n",
    "L'ASCII est un codage de caractères qui\n",
    "définit 128 codes sur 7 bits. Chaque code correspond à un caractère :\n",
    "chiffres, lettres, symboles mathématiques et de ponctuation. \n",
    "\n",
    "En Python,\n",
    "la fonction `ord()` retourne le code ASCII d'un caractère fourni en\n",
    "argument. La fonction `chr()` retourne le caractère associé à un code\n",
    "donné.\n",
    "\n",
    "1. Ecrire un programme qui affiche les 128 codes ASCII selon 16 lignes de 8 colonnes.\n",
    "\n",
    "**Remarque.** Etre conscient que cette question nécessite de mélanger des traitements (appels de fonctions) et des entrées-sorties (`print()`).\n",
    "\n",
    "2. Ecrire une autre solution qui ne mélange pas traitements et entrées-sorties."
   ]
  },
  {
   "cell_type": "markdown",
   "id": "8de0dabf",
   "metadata": {},
   "source": [
    "(exo:suites)= \n",
    "### $\\blacksquare$ Exercice \n",
    "\n",
    "On rappelle quelques suites et séries numériques classiques.\n",
    "\n",
    "-   La somme des $n$ premiers entiers :\n",
    "    $s_1(n) = 1 + 2 + \\cdots + (n-1) + n = \\sum_{k=1}^{n} k$ ;\n",
    "\n",
    "-   La suite de Fibonacci : $u_{n+1} = u_{n}+ u_{n-1}$ et $u_0=u_1=1$.\n",
    "\n",
    "-   Une suite arithmético-géométrique : $u_{n+1} = u_n/3 + 2$ avec $u_0=1$.\n",
    "\n",
    "1. Écrire des fonctions (en-tête, appel, corps) qui calculent et\n",
    "    retournent le $n$-ième terme de ces suites. \n",
    "2. Ecrire des tests unitaires adaptés. Justifier vos choix.\n",
    "3.  Pour chacune de ces suites et en utilisant ces fonctions, lire une valeur de $n$ entrée au clavier, calcule le $n$-ième terme de la suite puis l'afficher à l'écran.\n"
   ]
  },
  {
   "cell_type": "code",
   "execution_count": 6,
   "id": "0b2bb89c",
   "metadata": {},
   "outputs": [],
   "source": [
    "def somme(n : int) -> int:\n",
    "    '''Calculer et retourner la somme des n premiers entiers'''\n",
    "    s = 0\n",
    "    for i in range(1, n + 1):\n",
    "        s += i\n",
    "    return s"
   ]
  },
  {
   "cell_type": "code",
   "execution_count": 7,
   "id": "cef12a9e",
   "metadata": {},
   "outputs": [],
   "source": [
    "assert somme(3) == 6\n",
    "assert somme(4) == 10\n",
    "assert somme(5) == 15 "
   ]
  },
  {
   "cell_type": "code",
   "execution_count": 19,
   "id": "d19d5359",
   "metadata": {},
   "outputs": [],
   "source": [
    "def fibo(n : int) -> int:\n",
    "    '''Calculer et retourner fibo(n)'''\n",
    "    up = 1\n",
    "    upp = 1\n",
    "    if n == 0 or n == 1:\n",
    "        return up\n",
    "    \n",
    "    for i in range(1, n):\n",
    "        u = up + upp\n",
    "        up = upp\n",
    "        upp = u\n",
    "    return u"
   ]
  },
  {
   "cell_type": "code",
   "execution_count": 20,
   "id": "63e9b55b",
   "metadata": {},
   "outputs": [],
   "source": [
    "assert fibo(0) == 1\n",
    "assert fibo(1) == 1\n",
    "assert fibo(2) == 2\n",
    "assert fibo(3) == 3"
   ]
  },
  {
   "cell_type": "code",
   "execution_count": 10,
   "id": "77061424",
   "metadata": {},
   "outputs": [],
   "source": [
    "def suite(n : int) -> float:\n",
    "    '''Calculer et retourner le neme terme de la suite geo'''\n",
    "    u = 1\n",
    "    for i in range(n):\n",
    "        u = u / 3 + 2 \n",
    "    return u"
   ]
  },
  {
   "cell_type": "code",
   "execution_count": 11,
   "id": "3048d01d",
   "metadata": {},
   "outputs": [],
   "source": [
    "assert suite(0) == 1\n",
    "assert suite(1) == 7 / 3"
   ]
  },
  {
   "cell_type": "code",
   "execution_count": 14,
   "id": "39801132",
   "metadata": {},
   "outputs": [
    {
     "name": "stdout",
     "output_type": "stream",
     "text": [
      "Entrer n : 4\n",
      "somme = 10\n",
      "Entrer n : 2\n",
      "Fibo(2) = 2\n",
      "Entrer n : 7\n",
      "U(n) = 2.999085505258345\n"
     ]
    }
   ],
   "source": [
    "n = int(input(\"Entrer n : \"))\n",
    "print(f\"somme = {somme(n)}\")\n",
    "\n",
    "n = int(input(\"Entrer n : \"))\n",
    "print(f\"Fibo({n}) = {fibo(n)}\")\n",
    "\n",
    "n = int(input(\"Entrer n : \"))\n",
    "print(f\"U(n) = {suite(n)}\")\n",
    "\n"
   ]
  },
  {
   "cell_type": "markdown",
   "id": "cf74599c-a644-4207-a465-6c296baa8f3e",
   "metadata": {},
   "source": [
    "### Exercice\n",
    "\n",
    "1. $\\blacksquare$ Définir et écrire une fonction `est_rectangle()` qui vérifie si un triangle est rectangle. Aucune hypothèse est effectuée sur les paramètres de ce traitement.\n",
    "2. Ecrire des tests unitaires adaptés. Justifier vos choix."
   ]
  },
  {
   "cell_type": "markdown",
   "id": "2bf8049a-9f3c-4e19-8fc6-61153e1a5678",
   "metadata": {},
   "source": [
    "### $\\blacksquare$ Exercice\n",
    "\n",
    "Ecrire une fonctions `tabup()` qui vérifie si les `n` valeurs d'un tableau sont rangées par ordre croissant. Ces valeurs sont des entiers.\n",
    "\n",
    "Accompagner votre développement avec quelques tests unitaires bien choisis."
   ]
  },
  {
   "cell_type": "code",
   "execution_count": 1,
   "id": "30658d12",
   "metadata": {},
   "outputs": [],
   "source": [
    "def tabup(t : list[int], n : int) -> bool:\n",
    "    '''Retourner vrai si les valeurs du tableau n sont triées'''\n",
    "    for i in range(n - 1):\n",
    "        if t[i + 1] < t[i]:\n",
    "            return 0\n",
    "    return 1"
   ]
  },
  {
   "cell_type": "code",
   "execution_count": 2,
   "id": "efa286be",
   "metadata": {},
   "outputs": [],
   "source": [
    "t1 = [0, 1, 2, 3]\n",
    "assert tabup(t1, len(t1)) == 1\n",
    "\n",
    "t2 = [0, 3, 1, 2]\n",
    "assert tabup(t2, len(t2)) == 0\n",
    "\n",
    "t3 = [0, 1, 2, 3, 6, 7]\n",
    "assert tabup(t3, len(t3)) == 1\n"
   ]
  },
  {
   "cell_type": "markdown",
   "id": "5920056b-5986-481e-9f94-02ff4052a65e",
   "metadata": {
    "jp-MarkdownHeadingCollapsed": true,
    "tags": []
   },
   "source": [
    "(exo:tablst)=\n",
    "### $\\blacksquare$ Exercice (tableaux 1D)\n",
    "\n",
    "Soit `t` un tableau 1D\n",
    "d'entiers de taille `n` arbitraire. Voici quelques traitements\n",
    "classiques de ces tableaux et les fonctions associées.\n",
    "\n",
    "1.  `max_tab()` qui calcule et retourne la valeur maximale d'un tableau 1D.\n",
    "\n",
    "2.  `max_ind_max()` qui calcule et retourne le plus grand indice de la\n",
    "    valeur maximale d'un tableau 1D.\n",
    "\n",
    "3.  `min_ind_max()` : une modification de la fonction précédente qui\n",
    "    calcule et retourne le plus petit indice de la valeur maximale d'un\n",
    "    tableau 1D.\n",
    "\n",
    "Pour chacune de ces fonctions, deux questions.\n",
    "\n",
    "1.   Proposer des solutions itératives alternatives (`for` vs.\n",
    "    `while`) lorsque qu'elles conduisent à des traitements différents.\n",
    "\n",
    "2.  Tests unitaires : expliciter différents tableaux `t` qui\n",
    "    correspondent, le cas échéant, à des cas particuliers de traitement.\n",
    "    Les tester pour valider vos solutions."
   ]
  },
  {
   "cell_type": "code",
   "execution_count": 21,
   "id": "1206921d",
   "metadata": {},
   "outputs": [],
   "source": [
    "## For \n",
    "\n",
    "# le max dans un tableau\n",
    "\n",
    "def max_tab(t : list[int], n : int) -> int:\n",
    "    '''Calculer la valeur max du tableau'''\n",
    "    max = t[0]\n",
    "    for i in range(1, len(t)):\n",
    "        if max < t[i]:\n",
    "            max = t[i]\n",
    "    return max\n",
    "\n",
    "# l'indice max dans un tab\n",
    "\n",
    "def max_ind_max(t : list[int], n : int) -> int:\n",
    "    \"\"\"Calculer l'indice max du tableau\"\"\"\n",
    "    indx_max = 0\n",
    "    max = t[0]\n",
    "    for i in range(1, len(t)):\n",
    "        if max < t[i]:\n",
    "            max = t[i]\n",
    "            indx_max = i\n",
    "    \n",
    "    return indx_max\n",
    "\n",
    "# indice min dans un tab\n",
    "\n",
    "def min_ind_min(t : list[int], n : int) -> int:\n",
    "    \"\"\"Calculer l'indice max du tableau\"\"\"\n",
    "    indx_min = 0\n",
    "    min = t[0]\n",
    "    for i in range(1, len(t)):\n",
    "        if min > t[i]:\n",
    "            min = t[i]\n",
    "            indx_min = i\n",
    "    \n",
    "    return indx_min\n",
    "\n",
    "## While\n",
    "\n",
    "# le max dans un tableau\n",
    "\n",
    "def max_tab_while(t : list[int], n : int) -> int:\n",
    "    '''Calculer la valeur max du tableau'''\n",
    "    max = t[0]\n",
    "    i = 1\n",
    "    while i < n:\n",
    "        if max < t[i]:\n",
    "            max = t[i]\n",
    "        i += 1\n",
    "    return max\n",
    "\n",
    "# l'indice max dans un tab\n",
    "\n",
    "def max_ind_max_while(t : list[int], n : int) -> int:\n",
    "    \"\"\"Calculer l'indice max du tableau\"\"\"\n",
    "    indx_max = 0\n",
    "    max = t[0]\n",
    "    i = 1\n",
    "    while i < n + 1 :\n",
    "        if max < t[i]:\n",
    "            indx_max = i\n",
    "        i += 1\n",
    "    \n",
    "    return indx_max\n",
    "\n",
    "# indice min dans un tab\n",
    "\n",
    "def min_ind_min_while(t : list[int], n : int) -> int:\n",
    "    \"\"\"Calculer l'indice max du tableau\"\"\"\n",
    "    indx_min = 0\n",
    "    min = t[0]\n",
    "    i = 1\n",
    "    while i < n + 1 :\n",
    "        if min > t[i]:\n",
    "            indx_min = i\n",
    "        i += 1\n",
    "    \n",
    "    return indx_min"
   ]
  },
  {
   "cell_type": "code",
   "execution_count": 23,
   "id": "b81e1022",
   "metadata": {},
   "outputs": [],
   "source": [
    "# tests unitairs \n",
    "\n",
    "t1 = [1, 2, 5, 78, 23]\n",
    "assert max_tab(t1, len(t1)) == 78\n",
    "assert max_tab_while(t1, len(t1)) == 78\n",
    "assert max_ind_max(t1, len(t1)) == 3\n",
    "assert min_ind_min(t1, len(t1)) == 0\n",
    "\n",
    "t2 = [11, 2, 5, 8, 23, 0]\n",
    "assert max_tab(t2, len(t2)) == 23\n",
    "assert max_tab_while(t2, len(t1)) == 23\n",
    "assert max_ind_max(t2, len(t2)) == 4\n",
    "assert min_ind_min(t2, len(t2)) == 5"
   ]
  },
  {
   "cell_type": "markdown",
   "id": "a13eed25-866a-459a-b4b1-54adc80a21a5",
   "metadata": {
    "tags": []
   },
   "source": [
    "### $\\blacksquare$ Exercice (extrait d'examen 2017 sans machine)\n",
    "\n",
    "1.  Que calcule la fonction `m` suivante ?\n",
    "\n",
    "```python\n",
    "    def m(s : str, n : int, c : str ) -> int: \n",
    "        ''' role : à vous de deviner :) '''\n",
    "        res = 0\n",
    "        for i in range(n): \n",
    "            if s[i] == c: \n",
    "                res = res + 1 \n",
    "        return res\n",
    "```"
   ]
  },
  {
   "cell_type": "markdown",
   "id": "d4c5e6e2",
   "metadata": {},
   "source": [
    "Calculer et retourner le nombre d'occuration d'un caractere dans une chaine de characters "
   ]
  },
  {
   "cell_type": "markdown",
   "id": "bac64c14-9e8a-4472-a6c4-ab7f4401e101",
   "metadata": {
    "jp-MarkdownHeadingCollapsed": true,
    "tags": []
   },
   "source": [
    "2.  Quel résultat produit l'exécution du code suivant ?\n",
    "\n",
    "```python\n",
    "    t = \"anticonstitutionnellement\" \n",
    "    nba = m(t, len(t), 'a') \n",
    "    nbe = m(t, len(t), 'e') \n",
    "    nbl = m(t, len(t), 'l') \n",
    "    print(len(t), nba, nbe, nbl)\n",
    "```"
   ]
  },
  {
   "cell_type": "markdown",
   "id": "c140641e",
   "metadata": {},
   "source": [
    "25 1 3 2\n",
    "\n"
   ]
  },
  {
   "cell_type": "markdown",
   "id": "4cc4010c-efa4-4217-ba11-77f41232f852",
   "metadata": {
    "jp-MarkdownHeadingCollapsed": true,
    "tags": []
   },
   "source": [
    "(que:mmavecm)=\n",
    "3.  Utiliser la fonction `m` pour écrire une fonction `mm` qui identifie\n",
    "    et retourne la lettre ayant le maximum d'occurrences dans une chaîne\n",
    "    de caractères de longueur `n`. Si plusieurs lettres conviennent,\n",
    "    l'algorithme identifiera celle dont l'occurrence est la plus tardive\n",
    "    dans `s`. Par exemple `'o'` dans `'toto'`.\n",
    "\n",
    "Accompagner cette fonction de quelques tests unitaires pertinents."
   ]
  },
  {
   "cell_type": "code",
   "execution_count": 35,
   "id": "1b590d2a",
   "metadata": {},
   "outputs": [],
   "source": [
    "def m(s : str, n : int, c : str ) -> int: \n",
    "    ''' role : à vous de deviner :) '''\n",
    "    res = 0\n",
    "    for i in range(n): \n",
    "        if s[i] == c: \n",
    "            res = res + 1 \n",
    "    return res\n",
    "    \n",
    "def mm(s : str, n : int) -> str:\n",
    "    max = m(s, len(s), s[0])\n",
    "    r = s[0]\n",
    "    for i in range(1, len(s)):\n",
    "        if max <= m(s, len(s), s[i]):\n",
    "            max = m(s, len(s), s[i])\n",
    "            r = s[i]\n",
    "    return r\n",
    "    "
   ]
  },
  {
   "cell_type": "code",
   "execution_count": 40,
   "id": "4d8460fb",
   "metadata": {},
   "outputs": [],
   "source": [
    "t = \"anticonstitutionnellement\" \n",
    "\n",
    "assert mm(t, len(t)) == 't'\n",
    "\n",
    "s1 = \"Algorithmique\"\n",
    "assert mm(s1, len(s1)) == 'i'\n",
    "\n",
    "s2 = \"cybersécurité\"\n",
    "assert mm(s2, len(s2)) == 'é'"
   ]
  },
  {
   "cell_type": "markdown",
   "id": "008707cc-d8e1-449c-8dcb-3b64776307ec",
   "metadata": {
    "jp-MarkdownHeadingCollapsed": true,
    "tags": []
   },
   "source": [
    "4.  Écrire le code qui utilise `mm` et fournit l'affichage suivant.\n",
    "\n",
    ">    t est la lettre qui apparaît le plus ( 5 fois) dans anticonstitutionnellement   \n",
    ">    o est la lettre qui apparaît le plus ( 2 fois) dans toto"
   ]
  },
  {
   "cell_type": "code",
   "execution_count": 43,
   "id": "8e34b973",
   "metadata": {},
   "outputs": [
    {
     "name": "stdout",
     "output_type": "stream",
     "text": [
      "t est la lettre qui apparait le plus (5 fois) dans anticonstitutionnellement\n",
      "o est la lettre qui apparait le plus (2 fois) dans toto\n"
     ]
    }
   ],
   "source": [
    "t = \"anticonstitutionnellement\" \n",
    "s1 = \"toto\"\n",
    "\n",
    "print(f\"{mm(t, len(t))} est la lettre qui apparait le plus ({m(t, len(t), mm(t, len(t)))} fois) dans {t}\")\n",
    "print(f\"{mm(s1, len(s1))} est la lettre qui apparait le plus ({m(s1, len(s1), mm(s1, len(t)))} fois) dans {s1}\")"
   ]
  },
  {
   "cell_type": "markdown",
   "id": "7fcaf874-07ea-4807-a4cb-f35f5adcb81e",
   "metadata": {
    "jp-MarkdownHeadingCollapsed": true,
    "tags": []
   },
   "source": [
    "5.  Modifier `mm` pour que dans le cas d'une occurrence maximale\n",
    "    multiple, l'algorithme identifie la lettre de première occurrence.\n",
    "    Par exemple, `'t'` dans `'toto'`."
   ]
  },
  {
   "cell_type": "code",
   "execution_count": 44,
   "id": "71c77ff3",
   "metadata": {},
   "outputs": [],
   "source": [
    "def mm_bis(s : str, n : int) -> str:\n",
    "    max = m(s, len(s), s[0])\n",
    "    r = s[0]\n",
    "    for i in range(1, len(s)):\n",
    "        if max < m(s, len(s), s[i]):\n",
    "            max = m(s, len(s), s[i])\n",
    "            r = s[i]\n",
    "    return r\n",
    "    "
   ]
  },
  {
   "cell_type": "code",
   "execution_count": 49,
   "id": "a73a3229",
   "metadata": {},
   "outputs": [],
   "source": [
    "s1 = \"toto\"\n",
    "assert mm_bis(s1, len(s1)) == 't'"
   ]
  },
  {
   "cell_type": "markdown",
   "id": "78fa8430-a4b1-4715-aaaf-6fddd184e8ca",
   "metadata": {
    "jp-MarkdownHeadingCollapsed": true,
    "tags": []
   },
   "source": [
    "6.  Réécrire la fonction `mm` de la\n",
    "    question  {ref}`que:mmavecm` \n",
    "    sans utiliser la fonction `m`. \n",
    "    Vérifier que les tests unitaires écrits plus haut valident cette version."
   ]
  },
  {
   "cell_type": "code",
   "execution_count": 50,
   "id": "facf98f7",
   "metadata": {},
   "outputs": [],
   "source": [
    "def mm1(s : str, n : int) -> str:\n",
    "    return \n",
    "        "
   ]
  },
  {
   "cell_type": "markdown",
   "id": "caa452b7-ccd2-4925-a7a5-400b223fe915",
   "metadata": {
    "tags": []
   },
   "source": [
    "(exo:palindromeiter)\n",
    "### $\\blacksquare$ Exercice (palindrome)\n",
    "\n",
    "Un _palindrome_ est un mot, ou un groupe de mots, dont l'ordre des lettres\n",
    "reste le même qu'on le lise de la droite vers la gauche ou inversement.\n",
    "Des exemples bien connus sont \"été\", \"kayak\", \"mon nom\", \"élu par cette\n",
    "crapule\". Ce dernier permet d'illustrer qu'on ne tient pas compte en\n",
    "général des accents, trémas, cédilles, ni des espaces. Dans cet exercice\n",
    ":\n",
    "\n",
    "-   un mot ou un groupe de mots est représenté par une chaîne de\n",
    "    caractères (`str`),\n",
    "\n",
    "-   ces caractères sont sans accent, tréma, ni cédille : \"ete\"\n",
    "\n",
    "-   les espaces sont considérés comme des caractères : ainsi \"elu par\n",
    "    cette crapule\" n'est pas un palindrome ici.\n",
    "\n",
    "1.  Ecrire une fonction qui teste si un argument est ou non un\n",
    "    palindrome et retourne le booléen correspondant.\n",
    "2. Valider votre fonction avec des tests unitaires."
   ]
  },
  {
   "cell_type": "code",
   "execution_count": 58,
   "id": "c0bad504",
   "metadata": {},
   "outputs": [],
   "source": [
    "def palindrome(s : str) -> bool:\n",
    "    '''Vérifier si s est palindrome ou non'''\n",
    "    for i in range(len(s) // 2):\n",
    "        if s[i] != s[len(s) - i - 1]:\n",
    "            return 0\n",
    "    return 1\n",
    "        "
   ]
  },
  {
   "cell_type": "code",
   "execution_count": 64,
   "id": "206ebc4b",
   "metadata": {},
   "outputs": [],
   "source": [
    "s1 = \"kayak\"\n",
    "assert palindrome(s1) == 1\n",
    "\n",
    "s2 = \"ete\"\n",
    "assert palindrome(s2) == 1\n",
    "\n",
    "s3 = \"elu par cette crapule\"\n",
    "assert palindrome(s3) == 0\n",
    "\n",
    "s4 = \"mon nom\"\n",
    "assert palindrome(s4) == 1"
   ]
  },
  {
   "cell_type": "markdown",
   "id": "52322269-9e66-425c-9b59-a9d150286d38",
   "metadata": {
    "jp-MarkdownHeadingCollapsed": true,
    "tags": []
   },
   "source": [
    "### Exercice (produit scalaire)\n",
    "\n",
    "Rappel : le produit scalaire deux vecteurs orthogonaux est nul.\n",
    "\n",
    "Ecrire les fonctions qui vérifie l'orthogonalité ou non de vecteurs \n",
    "\n",
    "1. de taille 3,\n",
    "2. de taille arbitraire $n$.\n"
   ]
  },
  {
   "cell_type": "markdown",
   "id": "e6a75896-ee3c-4c48-8540-cd2302b17dc7",
   "metadata": {},
   "source": [
    "## Objectif 20\n",
    "\n",
    "**Consignes importantes** \n",
    "\n",
    "1. Proposer les fonctions les plus générales possibles.\n",
    "2. Accompagner chaque fonction écrite de quelques tests unitaires pertinents."
   ]
  },
  {
   "cell_type": "markdown",
   "id": "3bd2d06d-4ea0-4989-bc51-eb038bdc59a6",
   "metadata": {},
   "source": [
    "### Exercice (math)\n",
    "\n",
    "On continue l'exercice {ref}`(exo:fact)`. \n",
    "\n",
    "- Utiliser la fonction `factorielle()` pour écrire des fonctions qui  calculent les quantités suivantes.\n",
    "- En s'inspirant d'un exemple donné au chapitre 1, proposer des\n",
    "représentations graphiques qui illustrent les approximations mentionnées.\n",
    "\n",
    "1. Une approximation de $e \\approx \\sum_{k=0}^n 1/k !$, puis\n",
    "vérifier que l'approximation est d'autant plus précise que $n$\n",
    "est grand.\n",
    "2. La formule de Stirling $n! \\approx \\sqrt{2\\pi n} (n/e)^n$ qui\n",
    "donne un équivalent de la factorielle (et aussi une\n",
    "approximation de $\\pi$), approximation dont on vérifiera la\n",
    "pertinence.\n",
    "3. Même question pour $\\ln(n!) \\approx n\\ln(n)-n$ et des $n$ assez\n",
    "grands."
   ]
  },
  {
   "cell_type": "code",
   "execution_count": 14,
   "id": "b627474f",
   "metadata": {},
   "outputs": [],
   "source": [
    "def approx(n : int) -> float:\n",
    "    \"\"\"Calculer et retourner l'approx de e\"\"\"\n",
    "    e = 0\n",
    "    for i in range(n + 1):\n",
    "        e += 1 / factorielle(i)\n",
    "    return e"
   ]
  },
  {
   "cell_type": "code",
   "execution_count": 16,
   "id": "2a209304",
   "metadata": {},
   "outputs": [],
   "source": [
    "assert approx(0) == 1.0\n",
    "assert approx(1) == 2.0\n",
    "assert approx(2) == 2.5\n",
    "assert approx(5) == 2.7166666666666663"
   ]
  },
  {
   "cell_type": "code",
   "execution_count": 77,
   "id": "df979b8b",
   "metadata": {},
   "outputs": [],
   "source": [
    "from math import *\n",
    "\n",
    "def fact_approx(n : int) -> float:\n",
    "    \"\"\"Calculer et retourner l'approx de n! \"\"\"\n",
    "    return sqrt(2 * pi * n) * pow(n / exp(1), n)\n",
    "    "
   ]
  },
  {
   "cell_type": "code",
   "execution_count": 78,
   "id": "928829b1",
   "metadata": {},
   "outputs": [],
   "source": [
    "assert fact_approx(0) == 0\n",
    "assert round(fact_approx(1)) == factorielle(1)\n",
    "assert round(fact_approx(3)) == factorielle(3)\n",
    "assert round(fact_approx(5)) != factorielle(5)"
   ]
  },
  {
   "cell_type": "code",
   "execution_count": 92,
   "id": "88748be5",
   "metadata": {},
   "outputs": [],
   "source": [
    "def approx1(n : int) -> float:\n",
    "    '''Calculer et retourner approx de ln(n!)'''\n",
    "    return (n * log(n)) - n"
   ]
  },
  {
   "cell_type": "code",
   "execution_count": 95,
   "id": "306444b6",
   "metadata": {},
   "outputs": [
    {
     "name": "stdout",
     "output_type": "stream",
     "text": [
      "-1.0, 0.0\n",
      "-0.6137056388801094, 0.6931471805599453\n",
      "0.2958368660043291, 1.791759469228055\n",
      "1.5451774444795623, 3.1780538303479458\n",
      "3.0471895621705016, 4.787491742782046\n",
      "4.750556815368331, 6.579251212010101\n",
      "6.621371043387192, 8.525161361065415\n",
      "8.635532333438686, 10.60460290274525\n",
      "10.775021196025975, 12.801827480081469\n"
     ]
    }
   ],
   "source": [
    "from math import *\n",
    "\n",
    "for i in range(1, 10):\n",
    "    print(f\"{approx1(i)}, {log(factorielle(i))}\")"
   ]
  },
  {
   "cell_type": "markdown",
   "id": "be4adf8d-5b19-41ea-b6a3-b458b77f702e",
   "metadata": {
    "jp-MarkdownHeadingCollapsed": true
   },
   "source": [
    "### Exercice (crible d'Eratosthène)\n",
    "\n",
    "1. Consulter la page wikipedia du [crible d'Eratosthène](https://fr.wikipedia.org/wiki/Crible_d%27Ératosthène)\n",
    "2. Écrire une fonction `est_premier()` qui retourne un booléen qui indique si un nombre entier donné $n$ est\n",
    "premier ou non."
   ]
  },
  {
   "cell_type": "markdown",
   "id": "54f606d3-0fef-4713-823b-429becee3fc0",
   "metadata": {},
   "source": [
    "(exo:pgcd)\n",
    "### Exercice (pgcd)\n",
    "\n",
    "Écrire une fonction `pgcd()` qui calcule le PGCD de deux entiers naturels. \n",
    "On utilisera l'algorithme d'Euclide.\n",
    "\n",
    "Rappel : l'algorithme d'Euclide utilise la propriété suivante. Le PGCD\n",
    "de $a$ et $b$, $a > b$, est égal à $b$ si le reste $r$ de la division\n",
    "euclidienne de $a$ par $b$ est nul, sinon il vaut le PGCD de $b$ et de\n",
    "$r$. Le PGCD de 2 nombres distincts premiers entre eux (*i.e.* sans\n",
    "diviseur commun autre que 1) est égal à 1. Cet exercice permet d'écrire\n",
    "une version itérative de cet algorithme."
   ]
  },
  {
   "cell_type": "markdown",
   "id": "22dbf534-a9d2-4103-a0c8-d7c72ca9a6cd",
   "metadata": {
    "tags": []
   },
   "source": [
    "### Exercice (tableau 1D, écriture décimale)\n",
    "\n",
    "Ecrire une fonction qui transforme un tableau de 0 et de\n",
    "1 de longueur arbitraire, en l'entier de base 10 qui est codé par ce\n",
    "tableau en représentation de position en base 2 :\n",
    "\n",
    "$$\n",
    "(b_n b_{n-1} \\cdots b_1 b_0)_2 = (\\sum_{i=0}^n b_i \\times\n",
    "  2^i)_{10} \\text{ avec } b_i \\in \\{0, 1\\}.\n",
    "$$\n",
    "\n",
    "**Exemple.** la tableau $(1,0,1,1)$ représente l'entier $8+2+1 = 11$."
   ]
  },
  {
   "cell_type": "markdown",
   "id": "cb391fc5-37af-40cf-b808-151d8e76ddee",
   "metadata": {
    "tags": []
   },
   "source": [
    "### ($\\star$) Exercice (Algorithme de type Monte-Carlo)\n",
    "\n",
    "On va calculer une approximation de $\\pi$ de façon probabiliste.\n",
    "\n",
    "1.  Ecrire une fonction qui vérifie si un point du plan défini par ses\n",
    "    coordonnées $(x,y)$ appartient à un disque de centre $(a,b)$ et de\n",
    "    rayon $r$.  \n",
    "    Rappel. L'équation du cercle de mêmes caractéristiques est :\n",
    "    $(x-a)^2 + (y-b)^2 = r^2$.\n",
    "\n",
    "2.  Identifier dans la documentation du module python `random` la\n",
    "    fonction adaptée à la génération d'un point aléatoire dans le carré\n",
    "    $[-1, 1] \\times [-1, 1]$.\n",
    "\n",
    "3.  Soit $\\mathcal{C}$ le cercle de centre 0 et de rayon 1. Ecrire une\n",
    "    programme qui génère $n$ points aléatoires situés dans le carré\n",
    "    précédent et calcule le ratio entre les points situés dans le cercle\n",
    "    $\\mathcal{C}$ et $n$.\n",
    "\n",
    "4.  Faire varier $n$ et observer l'évolution de ce ratio.\n",
    "\n",
    "5.  ($\\star$) En déduire une approximation de $\\pi$."
   ]
  },
  {
   "cell_type": "code",
   "execution_count": 96,
   "id": "1ca3c2ab",
   "metadata": {},
   "outputs": [],
   "source": [
    "def appartient(x : float, y : float, a : float, b : float, r : float) -> bool:\n",
    "    \"\"\"Retourner si un point appartient à un circle du rayon r\"\"\"\n",
    "    return (x - a)**2 + (y - b)**2 <= r*r "
   ]
  },
  {
   "cell_type": "code",
   "execution_count": 105,
   "id": "457c82ba",
   "metadata": {},
   "outputs": [],
   "source": [
    "assert appartient(0, 0, 0, 0, 1) == True\n",
    "assert appartient(1, 1, 0, 0, 2) == True  \n",
    "assert appartient(2, 2, 0, 0, 2) == False  \n",
    "assert appartient(0, 2, 0, 0, 2) == True  \n",
    "assert appartient(3, 4, 0, 0, 5) == True  \n",
    "assert appartient(-1, -1, 0, 0, 1.5) == True  \n",
    "assert appartient(-1, 1, 0, 0, 1.414) == False"
   ]
  },
  {
   "cell_type": "markdown",
   "id": "2dff7da1",
   "metadata": {},
   "source": [
    "* La fonction `uniform` est la plus adaptée à la génération d'un point dans [-1, 1] * [-1, 1]"
   ]
  },
  {
   "cell_type": "code",
   "execution_count": 109,
   "id": "feed94ae",
   "metadata": {},
   "outputs": [],
   "source": [
    "from random import uniform\n",
    "\n",
    "def generate_points(n : int) -> None:\n",
    "    '''Générer des points dans le carré [-1, 1] * [-1, 1] et calculer le ration entre C et n'''\n",
    "    r = 0\n",
    "    for i in range(n):\n",
    "        x = uniform(-1, 1)\n",
    "        y = uniform(-1, 1)\n",
    "        if appartient(x, y, 0, 0, 1):\n",
    "            r += 1\n",
    "    return r / n"
   ]
  },
  {
   "cell_type": "code",
   "execution_count": 126,
   "id": "66ae8f53",
   "metadata": {},
   "outputs": [],
   "source": [
    "ratio = generate_points(10)\n",
    "assert 0 <= ratio <= 1\n",
    "\n",
    "ratio = generate_points(1000)\n",
    "assert 0 <= ratio <= 1\n",
    "\n",
    "ratio = generate_points(100000)\n",
    "assert 0 <= ratio <= 1"
   ]
  },
  {
   "cell_type": "markdown",
   "id": "6d360a6d-6288-4a9e-a813-dcc64856ebc6",
   "metadata": {
    "jp-MarkdownHeadingCollapsed": true
   },
   "source": [
    "### ($\\star\\star$) Exercice\n",
    "\n",
    "On souhaite évaluer la valeur d'un polynôme de degré $3$,\n",
    "$p_3(x) = a_0 + a_1 x + a_2 x^2 + a_3 x^3$, en des valeurs $x$ arbitraires.\n",
    "\n",
    "1. Écrire une fonction `eval()` qui calcule et retourne $p_3(x)$.\n",
    "2. Ecrire un algorithme qui utilise cette fonction pour des valeurs\n",
    "    entrées au clavier et affiche le résultat à l'écran.\n",
    "4. ($\\star$) Détailler le principe d'un algorithme qui calcule une racine d'un\n",
    "    polynôme sur un intervalle $[a, b]$ donné. La présence d'une racine\n",
    "    *unique* sur $[a, b]$ sera admise MAIS l'existence d'une racine sera\n",
    "    vérifiée par cet algorithme. Introduire un paramètre adapté au\n",
    "    caractère approximatif de la valeur calculée.\n",
    "5.  Écrire un algorithme principal qui effectue cette recherche pour un\n",
    "    polynôme $p_3$ de degré $3$ et un intervalle $[a, b]$ donnés. Tous\n",
    "    les paramètres sont entrés au clavier.\n",
    "6.  ($\\star\\star$) Appliquer cet algorithme pour retrouver, une à une, les racines de\n",
    "    $p(x)=x(x-1)(x-2)$. Ce polynôme sera considéré sous sa forme développée."
   ]
  },
  {
   "cell_type": "markdown",
   "id": "9fe9a3e3-7860-4c9e-a55d-c92d91a0ab6d",
   "metadata": {},
   "source": [
    "### $\\blacksquare$ Exercice (tableau 2D)\n",
    "\n",
    "1.  Écrire une fonction qui, pour les deux paramètres entiers `a` et `b` ($a  \\le b$), calcule la table de multiplication entre les entiers compris entre `a` et `b` inclus. Le résultat attendu est un tableau 2D : la case $(i,j)$ du tableau contient le résultat de\n",
    "$i \\times j$. La table des multiplications entre 1 et 10 est obtenue pour $a = 1$ et $b= 10$.\n",
    "1.  Utiliser cette fonction pour afficher cette table pour des valeurs de `a` et `b` entrées au clavier."
   ]
  },
  {
   "cell_type": "code",
   "execution_count": 100,
   "id": "f55faa2f",
   "metadata": {},
   "outputs": [],
   "source": [
    "def multM(a : int, b : int) -> list[list[int]]:\n",
    "    m = [[(i * j) for i in range(a, b + 1)] for j in range(a, b + 1)]\n",
    "    return m"
   ]
  },
  {
   "cell_type": "code",
   "execution_count": 103,
   "id": "3e72c87e",
   "metadata": {},
   "outputs": [
    {
     "name": "stdout",
     "output_type": "stream",
     "text": [
      "Entrer a : 1\n",
      "Entrer b : 10\n"
     ]
    },
    {
     "data": {
      "text/plain": [
       "[[1, 2, 3, 4, 5, 6, 7, 8, 9, 10],\n",
       " [2, 4, 6, 8, 10, 12, 14, 16, 18, 20],\n",
       " [3, 6, 9, 12, 15, 18, 21, 24, 27, 30],\n",
       " [4, 8, 12, 16, 20, 24, 28, 32, 36, 40],\n",
       " [5, 10, 15, 20, 25, 30, 35, 40, 45, 50],\n",
       " [6, 12, 18, 24, 30, 36, 42, 48, 54, 60],\n",
       " [7, 14, 21, 28, 35, 42, 49, 56, 63, 70],\n",
       " [8, 16, 24, 32, 40, 48, 56, 64, 72, 80],\n",
       " [9, 18, 27, 36, 45, 54, 63, 72, 81, 90],\n",
       " [10, 20, 30, 40, 50, 60, 70, 80, 90, 100]]"
      ]
     },
     "execution_count": 103,
     "metadata": {},
     "output_type": "execute_result"
    }
   ],
   "source": [
    "a = int(input(\"Entrer a : \"))\n",
    "b = int(input(\"Entrer b : \"))\n",
    "\n",
    "multM(a, b)\n"
   ]
  },
  {
   "cell_type": "markdown",
   "id": "69b65a6f-fc29-4262-b117-dd457b8b971d",
   "metadata": {
    "tags": []
   },
   "source": [
    "### Exercice (tableau 2D)\n",
    "\n",
    "Les fonctions suivantes seront définies et utilisées dans\n",
    "un programme (principal) qui définit des tableaux que vous choisirez\n",
    "pour vérifier la validité de vos traitements. Vous choisirez la\n",
    "structure de donnée la plus adaptée à ces traitements.\n",
    "\n",
    "1.  Ecrire une fonction `est_egal()` qui réalise la comparaison entre\n",
    "    deux tableaux de dimension 1 et retourne le booléen correspondant.\n",
    "    On convient que deux tableaux sont égaux si leurs tailles sont\n",
    "    égales et si leurs valeurs sont égales deux à deux.\n",
    "\n",
    "2.  Ecrire une fonction `nb_val_egales()` qui retourne le nombre de valeurs\n",
    "    égales deux à deux entre deux tableaux de dimension 1. \n",
    "\n",
    "3.  Reprendre les 2 questions précédentes pour des tableaux 2D.\n",
    "    L'égalité entre tableaux multi-dimensionnels suppose l'égalité des\n",
    "    dimensions, des tailles deux à deux dans chaque dimension, et des\n",
    "    valeurs deux à deux pour toutes les valeurs du tableau. \n",
    "    De même pour le décompte des valeurs égales deux à deux."
   ]
  },
  {
   "cell_type": "markdown",
   "id": "b75d14c8-942a-48e7-b1d0-42f610636629",
   "metadata": {},
   "source": [
    "(exo:verif)=\n",
    "### $\\blacksquare$ Exercice (matrices)\n",
    "\n",
    "Ecrire les algorithmes de vérification suivants pour une matrice $M$\n",
    "donnée, carrée de taille $n$ et à valeurs flottantes.\n",
    "\n",
    "1.  $M$ est diagonale ?\n",
    "\n",
    "2.  $M$ est symétrique ?\n",
    "\n",
    "3.  $M$ est égale à l'identité ?\n",
    "\n",
    "4.  $M$ est l'inverse d'une autre matrice donnée $N$ ?"
   ]
  },
  {
   "cell_type": "markdown",
   "id": "8ad25e7f-254f-4789-a15e-3ef2e097cf9e",
   "metadata": {
    "tags": []
   },
   "source": [
    "(exo:imnb)=\n",
    "### $\\blacksquare$ Exercice (images NB)\n",
    "\n",
    "**Note.** Cet exercice est inspiré d'un extrait de sujet d'examen.\n",
    "Il comporte des questions Objectifs 10 et Objectif 20.\n",
    "\n",
    "Une image 2D peut être représentée par un tableau 2D de _pixels_.  \n",
    "Une image \"noir et blanc\" de taille $L \\times C$ est ainsi représentée\n",
    "par un tableau de $L$ lignes et $C$ colonnes, de 0 (pixel blanc) ou de\n",
    "1 (pixel noir).  \n",
    "Les images suivantes sont des exemples d'images 3 $\\times$ 4. "
   ]
  },
  {
   "cell_type": "markdown",
   "id": "de425b70-9486-4213-b345-7dde0b45ad4f",
   "metadata": {},
   "source": [
    "```{image} fig/3x4-blanc.png\n",
    ":alt: image blanche\n",
    ":height: 20mm\n",
    ":name: 1\n",
    "```\n",
    "```{image} fig/3x4-nb-centre.png\n",
    ":alt: 2 pixels noirs au centre\n",
    ":height: 20mm\n",
    "```\n",
    "```{image} fig/3x4-tri.png\n",
    ":alt: triangle inférieur noir\n",
    ":height: 20mm\n",
    "```"
   ]
  },
  {
   "cell_type": "markdown",
   "id": "1991f4bc-2e6b-4573-9404-754fc9036274",
   "metadata": {},
   "source": [
    "L'image blanche (à gauche) est représentée par le tableau de taille $3 \\times\n",
    "4$ (une liste de listes de 0) donné par le code python suivant."
   ]
  },
  {
   "cell_type": "code",
   "execution_count": 1,
   "id": "a9897d57-d06c-47d3-9593-45fb2ce4203a",
   "metadata": {},
   "outputs": [
    {
     "name": "stdout",
     "output_type": "stream",
     "text": [
      "[[0, 0, 0, 0], [0, 0, 0, 0], [0, 0, 0, 0]]\n",
      "3 4\n"
     ]
    }
   ],
   "source": [
    "l = 3\n",
    "c = 4\n",
    "t = [[0 for i in range(c)] for j in range(l)]\n",
    "\n",
    "print(t)\n",
    "print(len(t), len(t[0]))"
   ]
  },
  {
   "cell_type": "markdown",
   "id": "8a283e72-feb3-45bb-be78-1653b4ac489b",
   "metadata": {},
   "source": [
    "#### Premières transformations d'images 3 $\\times$ 4.\n",
    "  \n",
    "1. Ecrire l'algorithme qui transforme l'image blanche (à gauche) en une image noire 3 $\\times$ 4 sans définir un autre tableau.\n",
    "2. Ecrire l'algorithme qui transforme l'image blanche en l'image du centre.\n",
    "3. Ecrire l'algorithme qui transforme l'image blanche en l'image de droite."
   ]
  },
  {
   "cell_type": "markdown",
   "id": "d1802a01-3c29-4809-86d2-02513b4c8537",
   "metadata": {},
   "source": [
    "#### Fonctions et transformation d'image de taille arbitraire.  \n",
    "\n",
    "On considère la dernière transformation où la partie\n",
    "triangulaire inférieure est noircie. Selon la forme de la matrice, cette\n",
    "partie noircie est un triangle (matrice rectangulaire \"allongée\"\n",
    "horizontalement) ou un trapèze (matrice rectangulaire \"allongée\"\n",
    "verticalement). On va définir cette transformation sous la forme d'une\n",
    "fonction.\n",
    "\n",
    "1. Ecrire l'en-tête de cette fonction `tr()`\n",
    "2. Appliquer cette fonction à l'image blanche de gauche.\n",
    "3. Ecrire le corps de la fonction `tr()`.\n",
    "4. ($\\star$) Définir une image `t2` de taille 4 $\\times$ 8 composée de\n",
    "      lignes alternativement blanche et noire \n",
    "(que:im4)=\n",
    "5.  On applique la fonction `tr()` à cette image. Dessiner \"à la main\" l'image ainsi transformée.\n",
    "6. Ecrire ce traitement à l'aide de la fonction `tr()`\n"
   ]
  },
  {
   "cell_type": "markdown",
   "id": "5285340c-e0ed-448a-83cf-70f124fe61e3",
   "metadata": {},
   "source": [
    "#### Analyse d'une image de taille arbitraire.\n",
    "\n",
    "1.  Ecrire une fonction `nbpixblc()` qui compte et retourne le\n",
    "    nombre de pixels blanc d'une image de taille arbitraire\n",
    "\n",
    "2.  Que retourne l'application de cette fonction à l'image (4) de la\n",
    "    question {ref}`que:im4``."
   ]
  },
  {
   "cell_type": "markdown",
   "id": "fc4742d7-bf5f-49ec-801f-1a07e00c3aa3",
   "metadata": {},
   "source": [
    "### Exercice.\n",
    "\n",
    "De façon similaire à l'[exercice précédent](exo:imnb), on définit des images à\n",
    "niveaux de gris par un tableau 2D d'entiers compris en 0 (noir) et 255\n",
    "(blanc). La taille de l'image $L \\times C$ est arbitraire.  \n",
    "Ecrire les algorithmes des traitements suivants. On pourra commencer en\n",
    "introduisant un tableau supplémentaire pour l'image transformée. Selon\n",
    "les cas, on essaiera ensuite une solution “en place” : la transformation\n",
    "s'effectue sur le tableau de l'image d'origine.\n",
    "\n",
    "1.  Générer le négatif (*reverse video*) d'une image NB ou par niveaux\n",
    "    de gris.\n",
    "\n",
    "2.  Générer une image NB à partir d'une image niveau de gris.\n",
    "\n",
    "3.  Augmenter le contraste de la transformation précédente.  \n",
    "    Principe : fixer un seuil et remplacer les pixels plus clairs que le\n",
    "    seuil par des pixels blancs, et inversement les plus sombres que le\n",
    "    seuil par des pixels noirs.\n",
    "\n",
    "4.  Générer une image miroir vertical (le haut se retrouve en bas et\n",
    "    réciproquement) ou horizontal d'une image NB.\n",
    "\n",
    "5.  Augmenter la luminosité (ou luminance) d'une image à niveau de\n",
    "    gris.  \n",
    "    Principe : ajouter ou retrancher une constante de la valeur des\n",
    "    pixels.\n",
    "\n",
    "6.  Générer les contours significatifs d'une image.  \n",
    "    Principe : on remplace par un pixel noir chaque pixel dont la\n",
    "    variation des valeurs de ses 4 voisins varient au delà d'un certain\n",
    "    seuil, sinon on le remplace par un pixel blanc.\n",
    "\n",
    "7.  Réduire par 2 la taille d'une image à niveau de gris.  \n",
    "    Principe : chaque carré de 2x2 pixels est remplacé par 1 pixel de\n",
    "    valeur la moyenne des pixels du carré."
   ]
  },
  {
   "cell_type": "code",
   "execution_count": 219,
   "id": "c302f6e7",
   "metadata": {},
   "outputs": [],
   "source": [
    "def reverse_img(t : list[list[int]], l : int, c : int) -> list[list[int]]:\n",
    "    \"\"\"Générer le négatif d'une image NB ou par niveaux de gris\"\"\"\n",
    "    for i in range(l):\n",
    "        for j in range(c):\n",
    "            if t[i][j] == 0:\n",
    "                t[i][j] = 1\n",
    "            else:\n",
    "                t[i][j] = 0\n",
    "    return tGénérer les contours significatifs d'une image.\n",
    "Principe : on remplace par un pixel noir chaque pixel dont la variation des valeurs de ses 4 voisins varient au delà d'un certain seuil, sinon on le remplace par un pixel blanc."
   ]
  },
  {
   "cell_type": "code",
   "execution_count": 220,
   "id": "2e79fdce",
   "metadata": {},
   "outputs": [],
   "source": [
    "image1 = [\n",
    "        [0, 0, 0],\n",
    "        [0, 0, 0],\n",
    "        [0, 0, 0]\n",
    "    ]\n",
    "\n",
    "result1 = [\n",
    "        [1, 1, 1],\n",
    "        [1, 1, 1],\n",
    "        [1, 1, 1]\n",
    "    ]\n",
    "\n",
    "assert reverse_img(image1, len(image1), len(image1[0])) == result1\n",
    "\n",
    "image2 = [\n",
    "        [0, 1, 0],\n",
    "        [1, 0, 1],\n",
    "        [0, 1, 0]\n",
    "    ]\n",
    "result2 = [\n",
    "    [1, 0, 1],\n",
    "    [0, 1, 0],\n",
    "    [1, 0, 1]\n",
    "]\n",
    "\n",
    "assert reverse_img(image2, len(image2), len(image2[0])) == result2\n",
    "\n"
   ]
  },
  {
   "cell_type": "code",
   "execution_count": 148,
   "id": "af810209",
   "metadata": {},
   "outputs": [],
   "source": [
    "def generate_img(t : list[list[int]], l : int, c : int) -> list[list[int]]:\n",
    "    '''Générer une image NB avec une image par niveaux de gris'''\n",
    "    seuil = 128\n",
    "    for i in range(l):\n",
    "        for j in range(c):\n",
    "            if t[i][j] <= seuil:\n",
    "                t[i][j] = 1\n",
    "            else:\n",
    "                t[i][j] = 0\n",
    "    return t"
   ]
  },
  {
   "cell_type": "code",
   "execution_count": 158,
   "id": "f5d922ff",
   "metadata": {},
   "outputs": [],
   "source": [
    "image2 = [\n",
    "        [255, 128, 0],\n",
    "        [64, 32, 16],\n",
    "        [8, 4, 2]\n",
    "    ]\n",
    "result2 = [\n",
    "        [0, 1, 1],\n",
    "        [1, 1, 1],\n",
    "        [1, 1, 1]\n",
    "    ]\n",
    "assert generate_img(image2, len(image2), len(image2[0])) == result2"
   ]
  },
  {
   "cell_type": "code",
   "execution_count": 212,
   "id": "4af45a35",
   "metadata": {},
   "outputs": [],
   "source": [
    "def augmenter_contrast(t : list[list[int]], l : int, c : int, contrast : int) -> list[list[int]]:\n",
    "    \"\"\"Augmenter la contraste d'une image \"\"\"\n",
    "    \n",
    "    for i in range(l):\n",
    "        for j in range(c):\n",
    "            if t[i][j] >= contrast:\n",
    "                t[i][j] -= contrast\n",
    "            else:\n",
    "                t[i][j] = 0\n",
    "    return t"
   ]
  },
  {
   "cell_type": "code",
   "execution_count": 215,
   "id": "2a57f7fb",
   "metadata": {},
   "outputs": [],
   "source": [
    "c = 20\n",
    "\n",
    "image = [\n",
    "        [255, 128, 0],\n",
    "        [64, 32, 16],\n",
    "        [8, 4, 2]\n",
    "    ]\n",
    "\n",
    "result = [\n",
    "        [235, 108, 0],\n",
    "        [44, 12, 0],\n",
    "        [0, 0, 0]\n",
    "    ]\n",
    "\n",
    "\n",
    "assert augmenter_contrast(image, len(image), len(image[0]), c) == result"
   ]
  },
  {
   "cell_type": "code",
   "execution_count": 195,
   "id": "1ca7b652",
   "metadata": {},
   "outputs": [],
   "source": [
    "def generate_mirroir(t : list[list[int]], l : int, c : int, s : int) -> list[list[int]]:\n",
    "    \"\"\"Générer une image mirroir vertical\"\"\"\n",
    "    if s == 0:\n",
    "        for i in range(l // 2):\n",
    "            for j in range(c):\n",
    "                tmp = t[i][j]\n",
    "                t[i][j] = t[l - i - 1][j]\n",
    "                t[l - i - 1][j] = tmp\n",
    "    else:\n",
    "        for i in range(l):\n",
    "            for j in range(c//2):\n",
    "                tmp = t[i][j]\n",
    "                t[i][j] = t[i][c - j - 1]\n",
    "                t[i][c - j - 1] = tmp\n",
    "    return t"
   ]
  },
  {
   "cell_type": "code",
   "execution_count": 196,
   "id": "3e19f600",
   "metadata": {},
   "outputs": [],
   "source": [
    "sensV = 0 # Vertical\n",
    "sensH  = 1 # Horizontal\n",
    "\n",
    "image = [\n",
    "  [1, 0, 1, 0],\n",
    "  [0, 1, 0, 1],\n",
    "  [1, 0, 1, 0],\n",
    "  [0, 1, 0, 1]\n",
    "]\n",
    "\n",
    "result_v = [\n",
    "  [0, 1, 0, 1],\n",
    "  [1, 0, 1, 0],\n",
    "  [0, 1, 0, 1],\n",
    "  [1, 0, 1, 0]\n",
    "]\n",
    "\n",
    "image1 = [\n",
    "  [1, 0, 1, 0],\n",
    "  [0, 1, 0, 1],\n",
    "  [1, 0, 1, 0],\n",
    "  [0, 1, 0, 1]\n",
    "]\n",
    "\n",
    "result_h = [\n",
    "  [0, 1, 0, 1],\n",
    "  [1, 0, 1, 0],\n",
    "  [0, 1, 0, 1],\n",
    "  [1, 0, 1, 0]\n",
    "]\n",
    "\n",
    "\n",
    "assert generate_mirroir(image, len(image), len(image[0]), sensV) == result_v\n",
    "assert generate_mirroir(image1, len(image1), len(image1[0]), sensH) == result_h"
   ]
  },
  {
   "cell_type": "code",
   "execution_count": 216,
   "id": "cf420cb7",
   "metadata": {},
   "outputs": [],
   "source": [
    "def luminosite(t : list[list[int]], l : int, c : int, luminosite : int) -> list[list[int]]:\n",
    "    \"\"\"Augmentrer la luminosité d'une image \"\"\"\n",
    "    \n",
    "    for i in range(l):\n",
    "        for j in range(c):\n",
    "            if t[i][j] <= 255 - luminosite:\n",
    "                t[i][j] += luminosite\n",
    "            else:\n",
    "                t[i][j] = 255\n",
    "    return t"
   ]
  },
  {
   "cell_type": "code",
   "execution_count": 218,
   "id": "7589891c",
   "metadata": {},
   "outputs": [],
   "source": [
    "m = 20\n",
    "\n",
    "image = [\n",
    "        [255, 128, 245],\n",
    "        [64, 32, 16],\n",
    "        [8, 4, 2]\n",
    "    ]\n",
    "\n",
    "result = [\n",
    "        [255, 148, 255],\n",
    "        [84, 52, 36],\n",
    "        [28, 24, 22]\n",
    "    ]\n",
    "\n",
    "assert luminosite(image, len(image), len(image[0]), m) == result\n"
   ]
  }
 ],
 "metadata": {
  "kernelspec": {
   "display_name": "Python 3 (ipykernel)",
   "language": "python",
   "name": "python3"
  },
  "language_info": {
   "codemirror_mode": {
    "name": "ipython",
    "version": 3
   },
   "file_extension": ".py",
   "mimetype": "text/x-python",
   "name": "python",
   "nbconvert_exporter": "python",
   "pygments_lexer": "ipython3",
   "version": "3.9.13"
  }
 },
 "nbformat": 4,
 "nbformat_minor": 5
}
