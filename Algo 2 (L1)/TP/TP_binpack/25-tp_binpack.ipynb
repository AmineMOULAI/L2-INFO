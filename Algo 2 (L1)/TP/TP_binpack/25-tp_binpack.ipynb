{
 "cells": [
  {
   "cell_type": "markdown",
   "metadata": {},
   "source": [
    "# Méthodes de résolution approchées du problème du Bin-Packing"
   ]
  },
  {
   "cell_type": "markdown",
   "metadata": {},
   "source": [
    "**Compétences abordées :**\n",
    "\n",
    "- traitements itératifs sur des tableaux 1D\n",
    "- listes \n",
    "- module random  \n",
    "\n",
    "\n",
    "**IMPORTANT.** Lire le sujet _en entier_ avant de commencer."
   ]
  },
  {
   "cell_type": "markdown",
   "metadata": {},
   "source": [
    "## Définition du problème \n",
    "\n",
    "Le problème du Bin-Packing consiste à ranger un ensemble d'objets dans un minimum de \"boites\" de taille prédéfinies.    \n",
    "Quelques exemples de situations modélisées par ce problème. \n",
    "- On veut stocker un ensemble de fichiers sur des dvd en en utilisant le moins possible\n",
    "- on veut transporter un ensemble de véhicules lourds par bateau en faisant un minimum d'allers-retours sans dépasser la capacité du bateau\n",
    "- on veut acheminer un certain nombre de colis en utilisant le moins de containers possibles\n",
    "- etc...\n",
    "\n",
    "Plus formellement, voici le **problème (P)**.   \n",
    "- On dispose d'un **ensemble E** de **n objets** ayant **chacun un poids ei** et de **boites de capacité cap**.     \n",
    "**Combien de boites au minimum** sont nécessaires pour **contenir tous les objets de E** sans dépassement de capacité ? \n",
    "\n",
    "*On supposera dans tout ce TP que la capacité des boites est supérieure au poids du plus grand objet* \n",
    "\n",
    "Trouver la solution exacte à ce problème est très complexe, aussi nous chercherons dans ce TP à trouver des solutions approchées."
   ]
  },
  {
   "cell_type": "code",
   "execution_count": 1,
   "metadata": {},
   "outputs": [],
   "source": [
    "#Le module suivant est nécessaire pour certains traitements\n",
    "import random"
   ]
  },
  {
   "cell_type": "markdown",
   "metadata": {},
   "source": [
    "## Représentation des données et des solutions\n",
    "\n",
    "### Représentation des données\n",
    "\n",
    "On définit un problème exemple (P_ex).\n",
    "\n",
    "Supposons que l'on veuille ranger les quatre objets suivants,\n",
    "- un objet de poids 5,  \n",
    "- un objet de poids 1,  \n",
    "- un objet de poids 6 et \n",
    "- un second objet de poids 5,\n",
    "\n",
    "dans des boites de capacité 10.   "
   ]
  },
  {
   "cell_type": "markdown",
   "metadata": {},
   "source": [
    "Question  : Représentez les poids des objets par une liste `E` et la capacité des boites par un entier `cap`"
   ]
  },
  {
   "cell_type": "code",
   "execution_count": 2,
   "metadata": {},
   "outputs": [],
   "source": [
    "E = [5, 1, 6, 5]\n",
    "cap = 10"
   ]
  },
  {
   "cell_type": "markdown",
   "metadata": {},
   "source": [
    "### Représentation des solutions\n",
    "\n",
    "Une _solution_ de (P) est une affectation de chaque objet à une boite. \n",
    "\n",
    "Pour la représenter, nous utiliserons une liste `sol` de `n` entiers, `sol[i]` représentant le numéro de la boite ou sera rangé l'objet `i`. La numérotation des boites commence à zéro.\n",
    "\n",
    "**Une** solution à (P_ex) pourrait être :  \n",
    "- le premier objet va dans la boite 0, \n",
    "- le deuxième objet va dans la boite 0,  \n",
    "- le troisième objet va dans la boite 1, \n",
    "- le quatrième objet va dans la boite 2.\n",
    "\n",
    "Question : Représentez cette _solution exemple_  par une liste `sol_ex`"
   ]
  },
  {
   "cell_type": "code",
   "execution_count": 4,
   "metadata": {},
   "outputs": [],
   "source": [
    "sol_ex = [0, 0, 1, 2]"
   ]
  },
  {
   "cell_type": "markdown",
   "metadata": {},
   "source": [
    "Question : Ecrire l'en-tête d'une fonction `resolution()` prenant en paramètres les données du problème et retournant une solution.\n",
    "\n",
    "**Attention** : pour l'instant, on ne demande que l'en-tête de `resolution()` (et non de construire une solution). "
   ]
  },
  {
   "cell_type": "code",
   "execution_count": 6,
   "metadata": {},
   "outputs": [],
   "source": [
    "def resolution(E : list[int], n : int, cap : int) -> list[int]:\n",
    "    sol = []\n",
    "    i, j, p = 0, 0, 0\n",
    "    while i < n:\n",
    "        while j < n:\n",
    "            p += E[j]\n",
    "            if p > cap:\n",
    "                p = E[j]\n",
    "                i += 1    \n",
    "            sol[j] = i\n",
    "            j += 1\n",
    "    return sol"
   ]
  },
  {
   "cell_type": "markdown",
   "metadata": {},
   "source": [
    "## Analyse d'une solution\n",
    "\n",
    "### `valeur()`\n",
    "\n",
    "La _valeur d'une solution_ est le nombre de boites utilisées par cette solution. \n",
    "Plus cette valeur est basse, meilleure est la solution.   \n",
    "\n",
    "On considère qu'on peut utiliser la boite 0 et qu'on ne peut utiliser une boite i>1 que si la boite i-1 est utilisée. Par exemple, on ne peut utiliser la boite 4 que si la boite 3 est utilisée.  \n",
    "\n",
    "On peut donc en déduire que si la boite k est utilisée, alors au moins k+1 boites sont utilisées.  "
   ]
  },
  {
   "cell_type": "markdown",
   "metadata": {},
   "source": [
    "Question : comment se comparent la valeur d'une solution et le nombre d'objets ?"
   ]
  },
  {
   "cell_type": "markdown",
   "metadata": {},
   "source": [
    "* $1 \\lt valeur(sol) \\le n$"
   ]
  },
  {
   "cell_type": "markdown",
   "metadata": {},
   "source": [
    "Question : écrire une fonction `valeur()`  prenant en paramètre une solution et retournant sa valeur."
   ]
  },
  {
   "cell_type": "code",
   "execution_count": 8,
   "metadata": {},
   "outputs": [],
   "source": [
    "def valeurs(sol : list[int], n : int) -> int:\n",
    "    b = []\n",
    "    for i in range(n):\n",
    "        if sol[i] not in b:\n",
    "            b.append(sol[i])\n",
    "    return len(b)\n"
   ]
  },
  {
   "cell_type": "code",
   "execution_count": 13,
   "metadata": {},
   "outputs": [
    {
     "name": "stdout",
     "output_type": "stream",
     "text": [
      "3\n"
     ]
    }
   ],
   "source": [
    "s = [0, 1, 0, 2, 1]\n",
    "v = valeurs(s, len(s))\n",
    "print(v)\n",
    "\n"
   ]
  },
  {
   "cell_type": "markdown",
   "metadata": {},
   "source": [
    "Question : vérifier que la valeur de la solution exemple vaut 3."
   ]
  },
  {
   "cell_type": "code",
   "execution_count": 14,
   "metadata": {},
   "outputs": [],
   "source": [
    "v1 = valeurs(sol_ex, len(sol_ex))\n",
    "assert v1 == 3"
   ]
  },
  {
   "cell_type": "markdown",
   "metadata": {},
   "source": [
    "### `verification()`\n",
    "\n",
    "Une solution _est valide_ pour (P) si la somme des poids des objets affectés à chaque boite ne dépasse pas la capacité de la boite.   \n",
    "\n",
    "Pour (P_ex) :\n",
    "- la solution [0,1,2,3] est valide     \n",
    "- la solution [0,1,0,1] ne l'est pas : dépassement de capacité pour la boite 0.  "
   ]
  },
  {
   "cell_type": "markdown",
   "metadata": {},
   "source": [
    "Question : Ecrire une fonction `verification()`, prenant en paramètre les données du problème et une solution, qui vérifie que la solution est bien valide. \n",
    "\n",
    "**Remarque** \n",
    "\n",
    "- Vous devez vérifier que les tailles des structures de données manipulées sont cohérentes.    "
   ]
  },
  {
   "cell_type": "code",
   "execution_count": null,
   "metadata": {},
   "outputs": [],
   "source": []
  },
  {
   "cell_type": "markdown",
   "metadata": {},
   "source": [
    "## Construction d'une solution\n",
    "Nous allons maintenant construire des solutions avec trois méthodes différentes.   \n",
    "\n",
    "**Un exemple des solutions ainsi générées est disponible à la fin du sujet.** \n",
    "\n",
    "### `next_fit( )`\n",
    "Un première méthode dite \"next-fit\" consiste à considérer les objets et les boites dans l'ordre.   \n",
    "- On se place initialement sur le premier objet et sur la première boite.  \n",
    "- On considère l'objet courant.  \n",
    "    - Si il peut rentrer dans la boite courante, on l'y insère.  \n",
    "    - Sinon, on ouvre une nouvelle boite qui devient la boite courante et on y insère l'objet.\n",
    "- On répète ces opérations sur tous les objets suivants.  "
   ]
  },
  {
   "cell_type": "markdown",
   "metadata": {},
   "source": [
    "Question : Implémentez cette méthode dans une fonction `next_fit()` "
   ]
  },
  {
   "cell_type": "code",
   "execution_count": null,
   "metadata": {},
   "outputs": [],
   "source": []
  },
  {
   "cell_type": "markdown",
   "metadata": {},
   "source": [
    "Question : Proposez un exemple, différent de `sol_ex`, pour lequel `next-fit()` ne donne pas la meilleure solution possible et déduisez en une \"faiblesse\" de cet algorithme.\n"
   ]
  },
  {
   "cell_type": "markdown",
   "metadata": {},
   "source": []
  },
  {
   "cell_type": "markdown",
   "metadata": {},
   "source": [
    "### `first_fit( )` \n",
    "Une autre méthode, dite \"first-fit\" consiste à insérer l'objet dans la première boite de capacité libre suffisante.\n",
    "\n",
    "- Pour chaque objet  \n",
    "- Pour chaque boite  \n",
    "    - si l'objet rentre dans la boite, il y est inséré  \n",
    "    - sinon on passe à la boite suivante  \n",
    "\n",
    "Pour cet algorithme, il est utile de mémoriser la capacité libre des boites en cours d'utilisation, par exemple dans une liste."
   ]
  },
  {
   "cell_type": "markdown",
   "metadata": {},
   "source": [
    "Question : Implémentez cette méthode dans une fonction `first_fit()` "
   ]
  },
  {
   "cell_type": "code",
   "execution_count": null,
   "metadata": {},
   "outputs": [],
   "source": []
  },
  {
   "cell_type": "markdown",
   "metadata": {},
   "source": [
    "### `best_fit( )` \n",
    "\n",
    "Une dernière méthode, dite \"best-fit\" consiste à insérer l'objet dans la boite pour lequel l'espace libre _restant_ sera le moins grand possible. \n",
    "\n",
    "- Pour chaque objet  \n",
    "- Pour chaque boite  \n",
    "    - calculer la capacité restante si l'objet est inséré  \n",
    "    - insérer l'objet dans la boite pour laquelle l'espace restant est le plus faible mais suffisant  \n",
    "\n",
    "Comme pour l'algorithme \"first-fit\", il est utile de mémoriser la capacité libre des boites en cours d'utilisation, par exemple dans une liste."
   ]
  },
  {
   "cell_type": "markdown",
   "metadata": {},
   "source": [
    "Question : Implémentez cette méthode dans une fonction `best_fit( )`  "
   ]
  },
  {
   "cell_type": "code",
   "execution_count": null,
   "metadata": {},
   "outputs": [],
   "source": []
  },
  {
   "cell_type": "markdown",
   "metadata": {},
   "source": [
    "## Comparaison des méthodes \n",
    "\n",
    "Nous sommes maintenant capables de calculer des solutions selon diverses méthodes et de calculer leur valeur.\n",
    "\n",
    "### `generer_objets( )`  \n",
    "Nous alons générer des jeux de données aléatoires et comparer les résultats des différentes méthodes de construction d'une solution."
   ]
  },
  {
   "cell_type": "markdown",
   "metadata": {},
   "source": [
    "Question : Implémentez une fonction `generer_objets(p_min, p_max, nb)` \n",
    "générant et retournant une liste de `nb` objets au poids aléatoire (entier) compris entre `p_min` et `p_max`."
   ]
  },
  {
   "cell_type": "code",
   "execution_count": null,
   "metadata": {},
   "outputs": [],
   "source": []
  },
  {
   "cell_type": "markdown",
   "metadata": {},
   "source": [
    "### `comparer( )`\n",
    "\n",
    "Question : Ecrivez une fonction `comparer()` prenant en paramètres un nombre de tests `nb_tests`, un nombre d'objets `nb_objets`, un poids minimal pour les objets `p_min`, un poids maximal pour les objets `p_max`, et une capacité `cap`.\n",
    "\n",
    "- Cette fonction génèrera `nb_tests` ensembles de `nb_objets` aléatoires (de poids compris entre `p_min` et `p_max`).   \n",
    "- Pour chaque méthode, la fonction calculera la somme des valeurs (la valeur totale) des solutions de tous les ensembles d'objets.  \n",
    "- Enfin, la fonction retournera un triplet correspondant aux valeurs totales des trois méthodes. "
   ]
  },
  {
   "cell_type": "code",
   "execution_count": null,
   "metadata": {},
   "outputs": [],
   "source": []
  },
  {
   "cell_type": "markdown",
   "metadata": {},
   "source": [
    "### Expérimentations\n",
    "\n",
    "Question : Utilisez la fonction comparaison pour 1000 tests, 100 objets de poids compris entre 10 et 60 et une capacité de 100."
   ]
  },
  {
   "cell_type": "code",
   "execution_count": null,
   "metadata": {},
   "outputs": [],
   "source": []
  },
  {
   "cell_type": "markdown",
   "metadata": {},
   "source": [
    "Question : Que pouvez vous observer ?"
   ]
  },
  {
   "cell_type": "raw",
   "metadata": {},
   "source": []
  },
  {
   "cell_type": "markdown",
   "metadata": {},
   "source": [
    "## Exemple d'utilisation des trois méthodes\n",
    "\n",
    "\n",
    "![Exemple d'utilisation des methodes](exempleBP.png)"
   ]
  },
  {
   "cell_type": "markdown",
   "metadata": {},
   "source": [
    "Une fois toutes les fonctions implémentées, l'exécution de la cellule suivante doit s'effectuer sans erreur."
   ]
  },
  {
   "cell_type": "code",
   "execution_count": null,
   "metadata": {},
   "outputs": [],
   "source": [
    "assert next_fit([5,6,3,5], 10) == [0 1 1 2]\n",
    "assert valeur(next_fit([5,6,3,5], 10)) == 3\n",
    "\n",
    "assert first_fit([5,6,3,5], 10) == [0 1 0 2]\n",
    "assert valeur(first_fit([5,6,3,5], 10)) == 3\n",
    "\n",
    "assert best_fit([5,6,3,5], 10) == [0 1 1 0]\n",
    "assert valeur(best_fit([5,6,3,5], 10)) == 2\n",
    "\n",
    "assert verification([5,6,3,5], 10, [1,1,2,2]) == False"
   ]
  }
 ],
 "metadata": {
  "kernelspec": {
   "display_name": "Python 3 (ipykernel)",
   "language": "python",
   "name": "python3"
  },
  "language_info": {
   "codemirror_mode": {
    "name": "ipython",
    "version": 3
   },
   "file_extension": ".py",
   "mimetype": "text/x-python",
   "name": "python",
   "nbconvert_exporter": "python",
   "pygments_lexer": "ipython3",
   "version": "3.12.3"
  },
  "latex_envs": {
   "LaTeX_envs_menu_present": true,
   "autoclose": false,
   "autocomplete": true,
   "bibliofile": "biblio.bib",
   "cite_by": "apalike",
   "current_citInitial": 1,
   "eqLabelWithNumbers": true,
   "eqNumInitial": 1,
   "hotkeys": {
    "equation": "Ctrl-E",
    "itemize": "Ctrl-I"
   },
   "labels_anchors": false,
   "latex_user_defs": false,
   "report_style_numbering": true,
   "user_envs_cfg": false
  },
  "toc": {
   "nav_menu": {},
   "number_sections": true,
   "sideBar": false,
   "skip_h1_title": false,
   "title_cell": "Table des matières",
   "title_sidebar": "TdM",
   "toc_cell": true,
   "toc_position": {},
   "toc_section_display": true,
   "toc_window_display": false
  }
 },
 "nbformat": 4,
 "nbformat_minor": 4
}
