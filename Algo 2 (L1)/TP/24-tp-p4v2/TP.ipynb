{
 "cells": [
  {
   "cell_type": "markdown",
   "metadata": {
    "deletable": false,
    "editable": false,
    "nbgrader": {
     "cell_type": "markdown",
     "checksum": "53f99459139b12d65cc8760bfaaaffd9",
     "grade": false,
     "grade_id": "cell-8161993f1fc3149d",
     "locked": true,
     "schema_version": 3,
     "solution": false,
     "task": false
    },
    "slideshow": {
     "slide_type": ""
    },
    "tags": []
   },
   "source": [
    "# Présentation\n",
    "\n",
    "Ce sujet propose de développer un jeu _puissance 4_.\n",
    "Les questions vous guident dans ce développement.\n",
    "Des tests d'auto-validation suivent chaque question et vous aident à valider vos traitements.\n",
    "**Ne pas continuer dès qu'un test déclenche une exception ou produit des messages d'erreur.**\n",
    "Dans ce cas, vos traitements sont erronés et vous devez les corriger avant d'aller plus loin\n",
    "dans la résolution du sujet."
   ]
  },
  {
   "cell_type": "markdown",
   "metadata": {
    "deletable": false,
    "editable": false,
    "nbgrader": {
     "cell_type": "markdown",
     "checksum": "0404824742b53384f676be3d4bf75260",
     "grade": false,
     "grade_id": "cell-c5096e58b9b6c8fd",
     "locked": true,
     "schema_version": 3,
     "solution": false
    },
    "slideshow": {
     "slide_type": ""
    },
    "tags": []
   },
   "source": [
    "## Le jeu **puissance 4**\n",
    "\n",
    "Le jeu **puissance 4** est un jeu de stratégie dont le but est d'aligner une suite de 4 pions de même couleur sur une grille comptant 6 lignes horizontales et 7 colonnes verticales. \n",
    "\n",
    "![Un debut de partie](p4.png)\n",
    "\n",
    "Il y a deux joueurs. Chacun dispose de 21 pions d'une couleur, en général jaune ou rouge.  \n",
    "\n",
    "Tour à tour, les joueurs placent un pion dans la colonne de leur choix. **Le pion tombe dans la colonne jusqu'à la position la plus basse possible**.  Puis c'est à l'adversaire de jouer de façon similaire avec ses jetons.\n",
    "\n",
    "Le vainqueur est le joueur qui réalise le premier un **alignement horizontal ou vertical ou diagonal d'au moins quatre pions consécutifs de sa couleur**. \n",
    "\n",
    "Si, alors que toutes les cases de la grille de jeu sont remplies, aucun des deux joueurs n'a réalisé un tel alignement, la partie est déclarée nulle."
   ]
  },
  {
   "cell_type": "markdown",
   "metadata": {
    "deletable": false,
    "editable": false,
    "nbgrader": {
     "cell_type": "markdown",
     "checksum": "de935e3daec3127b2362b4dc44fd0a95",
     "grade": false,
     "grade_id": "cell-7ca610ba347b28c1",
     "locked": true,
     "schema_version": 3,
     "solution": false
    },
    "slideshow": {
     "slide_type": ""
    },
    "tags": []
   },
   "source": [
    "## La grille et les jetons de couleurs"
   ]
  },
  {
   "cell_type": "markdown",
   "metadata": {
    "deletable": false,
    "editable": false,
    "nbgrader": {
     "cell_type": "markdown",
     "checksum": "b8109c877c5e7df6102701822db99eff",
     "grade": false,
     "grade_id": "cell-b667d0771955812b",
     "locked": true,
     "schema_version": 3,
     "solution": false,
     "task": false
    },
    "slideshow": {
     "slide_type": ""
    },
    "tags": []
   },
   "source": [
    "**Constantes et `couleurs`.**\n",
    "\n",
    "- `NBL` et `NBC` sont des constantes entières égales à 6 et 7 respectivement. Elles représentent le nombre de lignes et le nombre de colonnes du jeu réel.\n",
    "- Les couleurs jaune et rouge sont **ici** des constantes entières égales à 1 et 2 respectivement.\n",
    "\n",
    "- L'énumératif `couleurs` permet de définir le type de paramètre(s) de couleur dans la définition de fonctions.\n",
    "- Il est complété par la constante 3 qui représente un jeton de couleur quelconque (jaune ou rouge). "
   ]
  },
  {
   "cell_type": "code",
   "execution_count": 1,
   "metadata": {
    "deletable": false,
    "editable": false,
    "nbgrader": {
     "cell_type": "code",
     "checksum": "0f40eaea979026798448a867f9cac6cb",
     "grade": false,
     "grade_id": "cell-23fdf00950925754",
     "locked": true,
     "schema_version": 3,
     "solution": false
    },
    "slideshow": {
     "slide_type": ""
    },
    "tags": []
   },
   "outputs": [],
   "source": [
    "NBL = 6 # nbre de lignes\n",
    "NBC = 7 # nbre de colonnes\n",
    "\n",
    "couleurs = (1, 2, 3) # (jaune, rouge, jaune ou rouge)"
   ]
  },
  {
   "cell_type": "markdown",
   "metadata": {
    "deletable": false,
    "editable": false,
    "nbgrader": {
     "cell_type": "markdown",
     "checksum": "d9f719350193f59e2eb374518c1abdcc",
     "grade": false,
     "grade_id": "cell-5bc5f360724be6d4",
     "locked": true,
     "schema_version": 3,
     "solution": false,
     "task": false
    },
    "slideshow": {
     "slide_type": ""
    },
    "tags": []
   },
   "source": [
    "**La grille de jeu et le tableau qui la représente.**\n",
    "\n",
    "La grille du jeu est un tableau 2D de valeurs entières.\n",
    "\n",
    "**IMPORTANT :** ce tableau stocke la grille de jeu ligne par ligne **à partir de la ligne du bas de la grille**\n",
    "- la ligne 0 du tableau représente la ligne du bas de la grille de jeu, cad. la ligne qui accueille le premier jeton joué dans une partie,\n",
    "- la ligne 1 du tableau représente la ligne de la grille qui accueille le deuxième jeton joué si celui-ci est glissé dans la même colonne que le premier jeton, et ainsi de suite. \n",
    "- Il faudra être prudent **dès que** les notions de \"haut\" et de \"bas\" de la grille de jeu seront considérés ;\n",
    "- en particulier, les `print()` du tableau affichent en fait la grille \"tête en bas\".\n",
    "    \n",
    "Dans la suite, la grille de jeu sera de taille `NBL x NBC`. Cependant les fonctions qui définissent les traitements de la grille de jeu seront paramétrés par  `dimv` et `dimh` pour représenter des grilles de taille quelconque `dimv x dimh`.\n"
   ]
  },
  {
   "cell_type": "markdown",
   "metadata": {
    "deletable": false,
    "editable": false,
    "nbgrader": {
     "cell_type": "markdown",
     "checksum": "6fd769601812d1f9f2c2470a93a92a70",
     "grade": false,
     "grade_id": "cell-bb9b100053f8bf4d",
     "locked": true,
     "schema_version": 3,
     "solution": false
    },
    "slideshow": {
     "slide_type": ""
    },
    "tags": []
   },
   "source": [
    "La cellule suivante définit deux états de la grille de jeu.\n",
    "- **la valeur 0 représente une case vide**\n",
    "- la grille `g0` est vide -- comme en début de jeu. Elle est représentée comme un tableau 2D de zéros\n",
    "- la grille `g1` correspond à l'image du début du sujet"
   ]
  },
  {
   "cell_type": "code",
   "execution_count": 2,
   "metadata": {
    "deletable": false,
    "editable": false,
    "nbgrader": {
     "cell_type": "code",
     "checksum": "301bdf0ea8450b74bd9e2c8ad6ac6a0b",
     "grade": false,
     "grade_id": "cell-94208d8769fe93ad",
     "locked": true,
     "schema_version": 3,
     "solution": false,
     "task": false
    },
    "slideshow": {
     "slide_type": ""
    },
    "tags": []
   },
   "outputs": [
    {
     "name": "stdout",
     "output_type": "stream",
     "text": [
      "[[0, 0, 0, 0, 0, 0, 0], [0, 0, 0, 0, 0, 0, 0], [0, 0, 0, 0, 0, 0, 0], [0, 0, 0, 0, 0, 0, 0], [0, 0, 0, 0, 0, 0, 0], [0, 0, 0, 0, 0, 0, 0]]\n",
      "[[2, 1, 1, 1, 2, 2, 0], [0, 1, 2, 2, 1, 0, 0], [0, 0, 2, 1, 2, 0, 0], [0, 0, 1, 0, 0, 0, 0], [0, 0, 0, 0, 0, 0, 0], [0, 0, 0, 0, 0, 0, 0]]\n"
     ]
    }
   ],
   "source": [
    "g0 = [[0 for j in range(NBC)] for i in range(NBL)]\n",
    "\n",
    "g1 = [[2,1,1,1,2,2,0],\n",
    "      [0,1,2,2,1,0,0],\n",
    "      [0,0,2,1,2,0,0],\n",
    "      [0,0,1,0,0,0,0],\n",
    "      [0,0,0,0,0,0,0],\n",
    "      [0,0,0,0,0,0,0]]\n",
    "\n",
    "print(g0)\n",
    "print(g1)"
   ]
  },
  {
   "cell_type": "markdown",
   "metadata": {
    "deletable": false,
    "editable": false,
    "nbgrader": {
     "cell_type": "markdown",
     "checksum": "d56b9c1c60a214bcb97fe93882d7b82c",
     "grade": false,
     "grade_id": "cell-527ca4789da33303",
     "locked": true,
     "schema_version": 3,
     "solution": false,
     "task": false
    },
    "slideshow": {
     "slide_type": ""
    },
    "tags": []
   },
   "source": [
    "**Remarque sur l'affichage de la grille.**\n",
    "\n",
    "La grille de jeu étant représentée par un tableau 2D, on peut utiliser la fonction d'affichage `print()` appliquée à un tableau. Bien sûr, on gardera bien en tête que l'affichage alors obtenu correspond **aux lignes à partir du bas de la grille**.\n",
    "\n",
    "**Exemple.** L'exécution de \n",
    "```python\n",
    "print(g1)\n",
    "```\n",
    "pour la grille `g1`de la figure du début donne :\n",
    "```\n",
    "[[2, 1, 1, 1, 2, 2, 0], [0, 1, 2, 2, 1, 0, 0], [0, 0, 2, 1, 2, 0, 0], [0, 0, 1, 0, 0, 0, 0], [0, 0, 0, 0, 0, 0, 0], [0, 0, 0, 0, 0, 0, 0]]\n",
    "```\n",
    "\n",
    "($\\star$) Cet affichage sera modifié en une version plus réaliste en fin de sujet."
   ]
  },
  {
   "cell_type": "markdown",
   "metadata": {
    "deletable": false,
    "editable": false,
    "nbgrader": {
     "cell_type": "markdown",
     "checksum": "4459c82092d041192261ba7a995f4c33",
     "grade": false,
     "grade_id": "cell-2c5d82443d00013f",
     "locked": true,
     "schema_version": 3,
     "solution": false
    },
    "slideshow": {
     "slide_type": ""
    },
    "tags": []
   },
   "source": [
    "# Quelques primitives utiles"
   ]
  },
  {
   "cell_type": "markdown",
   "metadata": {
    "deletable": false,
    "editable": false,
    "nbgrader": {
     "cell_type": "markdown",
     "checksum": "9d280899253f063c6117e438d85a9ab5",
     "grade": false,
     "grade_id": "cell-1e27687743e51687",
     "locked": true,
     "schema_version": 3,
     "solution": false
    },
    "slideshow": {
     "slide_type": ""
    },
    "tags": []
   },
   "source": [
    "On va écrire deux fonctions qui retournent le nombre de jetons d'une grille donnée :\n",
    "\n",
    "1. `nbJetons0()` qui se limite aux jetons jaunes ou rouges,\n",
    "2. `nbJetons()` qui compte tous les jetons indépendamment de leur couleur."
   ]
  },
  {
   "cell_type": "markdown",
   "metadata": {
    "deletable": false,
    "editable": false,
    "nbgrader": {
     "cell_type": "markdown",
     "checksum": "a2a9aeb8b737b7d078ec1456954b1ce9",
     "grade": false,
     "grade_id": "cell-ea96df810aae8b7f",
     "locked": true,
     "schema_version": 3,
     "solution": false
    },
    "slideshow": {
     "slide_type": ""
    },
    "tags": []
   },
   "source": [
    "## `nbJetons0()`: jaunes ou rouges\n",
    "\n",
    "Ecrire selon l'en-tête suivant, la fonction nbJetons0() qui retourne le nombre de jetons de couleur `c` d'une grille `g` de taille `dimv x dimh`. Le paramètre `c` prendra les valeurs 1 ou 2 dans cette première version."
   ]
  },
  {
   "cell_type": "code",
   "execution_count": 3,
   "metadata": {
    "deletable": false,
    "nbgrader": {
     "cell_type": "code",
     "checksum": "4e8c17eed9c3d15d75bd517ad11f2a8f",
     "grade": false,
     "grade_id": "cell-7d4d2e49cba26a7e",
     "locked": false,
     "schema_version": 3,
     "solution": true,
     "task": false
    },
    "slideshow": {
     "slide_type": ""
    },
    "tags": []
   },
   "outputs": [],
   "source": [
    "def nbJetons0(c : couleurs, g : list[list[int]], dimv : int, dimh : int) -> int:\n",
    "    "
   ]
  },
  {
   "cell_type": "code",
   "execution_count": 4,
   "metadata": {
    "deletable": false,
    "editable": false,
    "nbgrader": {
     "cell_type": "code",
     "checksum": "cf14c38650bdebdf0dec2ec812398772",
     "grade": true,
     "grade_id": "cell-47190c7de55dd8a7",
     "locked": true,
     "points": 1,
     "schema_version": 3,
     "solution": false,
     "task": false
    },
    "slideshow": {
     "slide_type": ""
    },
    "tags": []
   },
   "outputs": [],
   "source": [
    "# Ne pas écrire dans cette cellule\n"
   ]
  },
  {
   "cell_type": "markdown",
   "metadata": {
    "deletable": false,
    "editable": false,
    "nbgrader": {
     "cell_type": "markdown",
     "checksum": "6e02018c3dab763368faa1594ced46c1",
     "grade": false,
     "grade_id": "cell-11324cd98a98a09e",
     "locked": true,
     "schema_version": 3,
     "solution": false,
     "task": false
    },
    "slideshow": {
     "slide_type": ""
    },
    "tags": []
   },
   "source": [
    "### Auto-validation"
   ]
  },
  {
   "cell_type": "code",
   "execution_count": 5,
   "metadata": {
    "deletable": false,
    "editable": false,
    "nbgrader": {
     "cell_type": "code",
     "checksum": "52c5e7299206f0a4f7c2912975501ce7",
     "grade": false,
     "grade_id": "cell-e0da5676cfe1dd68",
     "locked": true,
     "schema_version": 3,
     "solution": false,
     "task": false
    },
    "scrolled": true,
    "slideshow": {
     "slide_type": ""
    },
    "tags": []
   },
   "outputs": [],
   "source": [
    "assert nbJetons0(1, g0, NBL, NBC) == 0\n",
    "assert nbJetons0(1, g1, NBL, NBC) == 7"
   ]
  },
  {
   "cell_type": "markdown",
   "metadata": {
    "deletable": false,
    "editable": false,
    "nbgrader": {
     "cell_type": "markdown",
     "checksum": "b0e2d8ee98db47b9e32a98c0479ce9e3",
     "grade": false,
     "grade_id": "cell-bdd06f2a04cdebb7",
     "locked": true,
     "schema_version": 3,
     "solution": false,
     "task": false
    },
    "slideshow": {
     "slide_type": ""
    },
    "tags": []
   },
   "source": [
    "## `nbJetons()`: jaunes, rouges, jaune ou rouge\n"
   ]
  },
  {
   "cell_type": "markdown",
   "metadata": {
    "deletable": false,
    "editable": false,
    "nbgrader": {
     "cell_type": "markdown",
     "checksum": "c46f368755f1392aac16751aa657e39f",
     "grade": false,
     "grade_id": "cell-042a3a32d9ff73b5",
     "locked": true,
     "schema_version": 3,
     "solution": false
    },
    "slideshow": {
     "slide_type": ""
    },
    "tags": []
   },
   "source": [
    "Reprendre `nbJetons0()` et la compléter de façon à ce que le paramètre couleur `c` prenne aussi la valeur \n",
    "`3` et retourne dans ce cas tous les jetons (jaunes ou rouges) présents dans la grille de jeu."
   ]
  },
  {
   "cell_type": "code",
   "execution_count": 6,
   "metadata": {
    "deletable": false,
    "nbgrader": {
     "cell_type": "code",
     "checksum": "97cef7dfa33075ed034981b14c1d6b22",
     "grade": false,
     "grade_id": "cell-8f31b8bac7944c43",
     "locked": false,
     "schema_version": 3,
     "solution": true,
     "task": false
    },
    "slideshow": {
     "slide_type": ""
    },
    "tags": []
   },
   "outputs": [],
   "source": [
    "def nbJetons(c : couleurs, g : list[list[int]], dimv : int, dimh : int) -> int:\n",
    "    if c == 3:\n",
    "        return nbJetons0(c - 1, g, dimv, dimh) + nbJetons0(c - 2, g, dimv, dimh)\n",
    "    \n",
    "    return nbJetons0(c, g, dimv, dimh)"
   ]
  },
  {
   "cell_type": "code",
   "execution_count": 7,
   "metadata": {
    "deletable": false,
    "editable": false,
    "nbgrader": {
     "cell_type": "code",
     "checksum": "96bd2a8fb6b1f13f6d76c181ed46c97a",
     "grade": true,
     "grade_id": "cell-28893e6eb53989ce",
     "locked": true,
     "points": 1,
     "schema_version": 3,
     "solution": false,
     "task": false
    },
    "slideshow": {
     "slide_type": ""
    },
    "tags": []
   },
   "outputs": [],
   "source": [
    "# Ne pas écrire dans cette cellule\n"
   ]
  },
  {
   "cell_type": "markdown",
   "metadata": {
    "deletable": false,
    "editable": false,
    "nbgrader": {
     "cell_type": "markdown",
     "checksum": "4447c2bcbcd61ed07d23cf479544b8b1",
     "grade": false,
     "grade_id": "cell-ca5c253e1392d686",
     "locked": true,
     "schema_version": 3,
     "solution": false,
     "task": false
    },
    "slideshow": {
     "slide_type": ""
    },
    "tags": []
   },
   "source": [
    "### Auto-validation"
   ]
  },
  {
   "cell_type": "code",
   "execution_count": 8,
   "metadata": {
    "deletable": false,
    "editable": false,
    "nbgrader": {
     "cell_type": "code",
     "checksum": "f3a18ab0fff4466d68408a42597fe5b8",
     "grade": false,
     "grade_id": "cell-4aa7189d354a58f6",
     "locked": true,
     "schema_version": 3,
     "solution": false,
     "task": false
    },
    "slideshow": {
     "slide_type": ""
    },
    "tags": []
   },
   "outputs": [],
   "source": [
    "assert nbJetons(1, g0, NBL, NBC) == 0\n",
    "assert nbJetons(3, g0, NBL, NBC) == 0\n",
    "assert nbJetons(2, g1, NBL, NBC) == 7\n",
    "assert nbJetons(3, g1, NBL, NBC) == 14"
   ]
  },
  {
   "cell_type": "markdown",
   "metadata": {
    "deletable": false,
    "editable": false,
    "nbgrader": {
     "cell_type": "markdown",
     "checksum": "4151ec4e8d33e33a4e10b34019ece19b",
     "grade": false,
     "grade_id": "cell-c8ac70c0e7a242a5",
     "locked": true,
     "schema_version": 3,
     "solution": false
    },
    "slideshow": {
     "slide_type": ""
    },
    "tags": []
   },
   "source": [
    "## `nbCasesLibres()` \n",
    "\n",
    "Ecrire selon l'en-tête suivant, une fonction NbCasesLibres() qui retourne le nombre de cases vides (sans jeton) d'une grille de taille `dimv x dimh`."
   ]
  },
  {
   "cell_type": "code",
   "execution_count": 9,
   "metadata": {
    "deletable": false,
    "nbgrader": {
     "cell_type": "code",
     "checksum": "36d36776916183b8a7bc8e42a3923226",
     "grade": false,
     "grade_id": "cell-80cbb0c3b5131367",
     "locked": false,
     "schema_version": 3,
     "solution": true,
     "task": false
    },
    "slideshow": {
     "slide_type": ""
    },
    "tags": []
   },
   "outputs": [],
   "source": [
    "def NbCasesLibres(g : list[list[int]], dimv : int, dimh : int) -> int:\n",
    "    return nbJetons(0, g, dimv, dimh)"
   ]
  },
  {
   "cell_type": "code",
   "execution_count": 10,
   "metadata": {
    "deletable": false,
    "editable": false,
    "nbgrader": {
     "cell_type": "code",
     "checksum": "055c1acd16351358a8b281b9e23c44b9",
     "grade": true,
     "grade_id": "cell-5459610383a33008",
     "locked": true,
     "points": 1,
     "schema_version": 3,
     "solution": false,
     "task": false
    },
    "slideshow": {
     "slide_type": ""
    },
    "tags": []
   },
   "outputs": [],
   "source": [
    "# Ne pas écrire dans cette cellule\n"
   ]
  },
  {
   "cell_type": "markdown",
   "metadata": {
    "deletable": false,
    "editable": false,
    "nbgrader": {
     "cell_type": "markdown",
     "checksum": "c3b880deb6883b2e3b42cb76372fa943",
     "grade": false,
     "grade_id": "cell-8b0363086541fab7",
     "locked": true,
     "schema_version": 3,
     "solution": false,
     "task": false
    },
    "slideshow": {
     "slide_type": ""
    },
    "tags": []
   },
   "source": [
    "### Auto-validation"
   ]
  },
  {
   "cell_type": "code",
   "execution_count": 11,
   "metadata": {
    "deletable": false,
    "editable": false,
    "nbgrader": {
     "cell_type": "code",
     "checksum": "8eb68f428fbbcc3394c87532774835ba",
     "grade": false,
     "grade_id": "cell-1538ff0326dce0ce",
     "locked": true,
     "schema_version": 3,
     "solution": false,
     "task": false
    },
    "slideshow": {
     "slide_type": ""
    },
    "tags": []
   },
   "outputs": [],
   "source": [
    "assert NbCasesLibres(g1, NBL, NBC) == 28"
   ]
  },
  {
   "cell_type": "markdown",
   "metadata": {
    "deletable": false,
    "editable": false,
    "hideCode": true,
    "hideOutput": true,
    "nbgrader": {
     "cell_type": "markdown",
     "checksum": "a3152b650993c0e2b99d2f6fafc63e07",
     "grade": false,
     "grade_id": "cell-de2022ca4b2bbb1f",
     "locked": true,
     "schema_version": 3,
     "solution": false,
     "task": false
    },
    "slideshow": {
     "slide_type": ""
    },
    "tags": []
   },
   "source": [
    "## `estValide()`\n",
    "\n",
    "Cette question n'est pas indispensable pour la suite des traitements.\n",
    "\n",
    "Une grille est valide si les conditions suivantes sont satisfaites.  \n",
    "- la grille comporte 6 lignes et 7 colonnes  \n",
    "- les pions jaunes commençant, il y a le même nombre de pions jaunes et de pions rouges ou un pion jaune de plus   \n",
    "- il y a 21 pions jaunes au plus  \n",
    "- il n'y a pas de case vide \"sous\" une case non vide  \n",
    "\n",
    "Ecrire une fonction `estValide()`\n",
    " selon l'en-tête suivante qui vérifie la validité d'une grille."
   ]
  },
  {
   "cell_type": "code",
   "execution_count": null,
   "metadata": {
    "deletable": false,
    "nbgrader": {
     "cell_type": "code",
     "checksum": "eb5e827099f3a27145145d8c3e1f046b",
     "grade": false,
     "grade_id": "cell-e5ee1ceadb2d4020",
     "locked": false,
     "schema_version": 3,
     "solution": true
    },
    "slideshow": {
     "slide_type": ""
    },
    "tags": []
   },
   "outputs": [],
   "source": [
    "def estValide(g : list[list[int]], dimv : int, dimh : int) -> bool:\n",
    "    \n",
    "    if dimv != 6 or dimh != 7:\n",
    "        return False\n",
    "    \n",
    "    j = nbJetons(1, g, dimv, dimh)\n",
    "    r = nbJetons(2, g, dimv, dimh)\n",
    "    \n",
    "    if (j != r or j <= r) and j > 21:\n",
    "        return False\n",
    "    \n",
    "    for i in range(1, dimv):\n",
    "        for j in range(dimh):\n",
    "            if g[i][j] != 0 and g[i - 1][j] == 0:\n",
    "                return False\n",
    "    \n",
    "    return True  \n",
    "\n",
    "g1 = [[2, 1, 1, 1, 2, 2, 0], [0, 1, 2, 2, 1, 0, 0], [0, 0, 2, 1, 2, 0, 0], [0, 0, 1, 0, 0, 0, 0], [0, 0, 0, 0, 0, 0, 0], [0, 0, 0, 0, 0, 0, 0]]\n",
    "estValide(g1, NBL, NBC)"
   ]
  },
  {
   "cell_type": "code",
   "execution_count": null,
   "metadata": {
    "deletable": false,
    "editable": false,
    "nbgrader": {
     "cell_type": "code",
     "checksum": "005fb55eff0b089f628e6313886ed3e3",
     "grade": true,
     "grade_id": "cell-48437d126f8a99c9",
     "locked": true,
     "points": 1,
     "schema_version": 3,
     "solution": false,
     "task": false
    },
    "slideshow": {
     "slide_type": ""
    },
    "tags": []
   },
   "outputs": [],
   "source": [
    "# Ne pas écrire dans cette cellule\n"
   ]
  },
  {
   "cell_type": "markdown",
   "metadata": {
    "deletable": false,
    "editable": false,
    "hideCode": true,
    "hideOutput": true,
    "nbgrader": {
     "cell_type": "markdown",
     "checksum": "abbcfdff74bdb2efa80e5dc6db5b3156",
     "grade": false,
     "grade_id": "cell-2a51e68d991caeef",
     "locked": true,
     "schema_version": 3,
     "solution": false
    },
    "slideshow": {
     "slide_type": ""
    },
    "tags": []
   },
   "source": [
    "### Auto-validation\n",
    "\n",
    "Validez la cellule suivante qui défini la grille **non-valide** `gbad` utilisée pour les tests et les auto-validations."
   ]
  },
  {
   "cell_type": "code",
   "execution_count": null,
   "metadata": {
    "deletable": false,
    "editable": false,
    "nbgrader": {
     "cell_type": "code",
     "checksum": "e9da14f8bd7a7155dc1a3371e7e6a383",
     "grade": false,
     "grade_id": "cell-6b7131b25c30bbfc",
     "locked": true,
     "schema_version": 3,
     "solution": false,
     "task": false
    },
    "slideshow": {
     "slide_type": ""
    },
    "tags": []
   },
   "outputs": [],
   "source": [
    "g1 = [[2, 1, 1, 1, 2, 2, 0], [0, 1, 2, 2, 1, 0, 0], [0, 0, 2, 1, 2, 0, 0], [0, 0, 1, 0, 0, 0, 0], [0, 0, 0, 0, 0, 0, 0], [0, 0, 0, 0, 0, 0, 0]]\n",
    "gbad = [[2, 1, 1, 1, 2, 2, 0], [0, 1, 2, 2, 1, 0, 0], [0, 0, 0, 1, 2, 0, 0], [0, 0, 1, 0, 0, 0, 0], [0, 0, 0, 0, 0, 0, 0], [0, 0, 0, 0, 0, 0, 0]]"
   ]
  },
  {
   "cell_type": "markdown",
   "metadata": {
    "deletable": false,
    "editable": false,
    "nbgrader": {
     "cell_type": "markdown",
     "checksum": "fc03d876926904d60abe3a6672a7bb4c",
     "grade": false,
     "grade_id": "cell-5d96b14dda781b4c",
     "locked": true,
     "schema_version": 3,
     "solution": false,
     "task": false
    },
    "slideshow": {
     "slide_type": ""
    },
    "tags": []
   },
   "source": [
    "La cellule d'auto-validation suivante doit s'exécuter sans erreur."
   ]
  },
  {
   "cell_type": "code",
   "execution_count": null,
   "metadata": {
    "deletable": false,
    "editable": false,
    "nbgrader": {
     "cell_type": "code",
     "checksum": "752c2ac668413a327da8b1c373c2d729",
     "grade": false,
     "grade_id": "cell-93cff3dfb564c4c1",
     "locked": true,
     "schema_version": 3,
     "solution": false,
     "task": false
    },
    "scrolled": true,
    "slideshow": {
     "slide_type": ""
    },
    "tags": []
   },
   "outputs": [],
   "source": [
    "assert estValide(g1, NBL, NBC) == True\n",
    "assert estValide(gbad, NBL, NBC) == False"
   ]
  },
  {
   "cell_type": "markdown",
   "metadata": {
    "deletable": false,
    "editable": false,
    "nbgrader": {
     "cell_type": "markdown",
     "checksum": "874e50aec6b670fb9b479f0a37d10bbb",
     "grade": false,
     "grade_id": "cell-ed87cf8590a07c81",
     "locked": true,
     "schema_version": 3,
     "solution": false,
     "task": false
    },
    "slideshow": {
     "slide_type": ""
    },
    "tags": []
   },
   "source": [
    "# Alignements gagnants \n",
    "\n",
    "On va examiner les 4 alignements gagnants d'une couleur donnée. \n",
    "- alignement horizontal : 4 pions de même couleur consécutivement alignés sur une ligne  \n",
    "- alignement vertical : 4 pions de même couleur consécutivement alignés sur une colonne  \n",
    "- alignement selon une diagonale NordOuest-SudEst _du tableau_ : 4 pions de même couleur consécutivement alignés sur une diagonale \"du haut à gauche vers le bas à droite\"  \n",
    "- alignement selon une diagonale NordEst-SudOuest _du tableau_ : 4 pions de même couleur consécutivement alignés sur une diagonale \"d'en haut à droite vers le bas à gauche\"\n",
    "\n",
    "**Attention.** Les 2 derniers alignements dépendent du haut et du bas **du tableau** qui représente la grille :\n",
    "\n",
    "- la ligne 0 est le haut du tableau (qui représente le bas de la grille)\n",
    "- la ligne `NBL - 1` est le bas du tableau (qui représente le haut de la grille) "
   ]
  },
  {
   "cell_type": "markdown",
   "metadata": {
    "deletable": false,
    "editable": false,
    "nbgrader": {
     "cell_type": "markdown",
     "checksum": "5c535b8bd026982586bb33d4a33fc873",
     "grade": false,
     "grade_id": "cell-f6a1c5598ea4de74",
     "locked": true,
     "schema_version": 3,
     "solution": false
    },
    "slideshow": {
     "slide_type": ""
    },
    "tags": []
   },
   "source": [
    "## `horiz()`\n",
    "\n",
    "Ecrire selon l'en-tête suivant, la fonction `horiz()` qui identifie un alignement horizontal gagnant d'une couleur donnée : 4 pions de même couleurs consécutivement alignés sur une ligne. \n",
    "\n",
    "Cette fonction retourne le numéro de la ligne de l'alignement trouvé ou -1 sinon.  "
   ]
  },
  {
   "cell_type": "code",
   "execution_count": null,
   "metadata": {
    "deletable": false,
    "nbgrader": {
     "cell_type": "code",
     "checksum": "f8a3d30c15f26366532a5ef043eaa006",
     "grade": false,
     "grade_id": "cell-3a5f8b8b500af5dd",
     "locked": false,
     "schema_version": 3,
     "solution": true
    },
    "slideshow": {
     "slide_type": ""
    },
    "tags": []
   },
   "outputs": [],
   "source": [
    "def horiz(c : couleurs, g : list[list[int]],  dimv : int, dimh : int) -> int:\n",
    "    compt = 0\n",
    "    i = 0\n",
    "    j = 0\n",
    "    while i < dimv:\n",
    "        while j < dimh:\n",
    "            if c == 1:\n",
    "                if g[i][j] == g[i][j + 1] == c:\n",
    "                    compt += 1\n",
    "                    if compt == 4:\n",
    "                        break\n",
    "                        return i\n",
    "                    else:\n",
    "                        return -1\n",
    "            elif c == 2:\n",
    "                if g[i][j] == g[i][j + 1] == c:\n",
    "                    compt += 1\n",
    "                    if compt == 4:\n",
    "                        break\n",
    "                        return i\n",
    "                    else:\n",
    "                        return -1\n",
    "        j += 1\n",
    "    i += 1\n",
    "    \n",
    "g0 = [[0 for j in range(NBC)] for i in range(NBL)]\n",
    "g0[0] = [1, 2, 1, 2, 1, 2, 1]\n",
    "g0[1] = [1, 1, 2, 1, 1, 2, 1]\n",
    "g0[2] = [1, 2, 2, 2, 2, 2, 0]\n",
    "horiz(1, g0, NBL, NBC)"
   ]
  },
  {
   "cell_type": "code",
   "execution_count": null,
   "metadata": {
    "deletable": false,
    "editable": false,
    "nbgrader": {
     "cell_type": "code",
     "checksum": "feae5f483f4fc554c67ecc1b62dbc9df",
     "grade": true,
     "grade_id": "cell-a3b2e30ba56d462f",
     "locked": true,
     "points": 1,
     "schema_version": 3,
     "solution": false,
     "task": false
    },
    "slideshow": {
     "slide_type": ""
    },
    "tags": []
   },
   "outputs": [],
   "source": [
    "# Ne pas écrire dans cette cellule\n"
   ]
  },
  {
   "cell_type": "markdown",
   "metadata": {
    "deletable": false,
    "editable": false,
    "nbgrader": {
     "cell_type": "markdown",
     "checksum": "7802e5d894949aef39a0dc747d4ccd9f",
     "grade": false,
     "grade_id": "cell-0b58604e8b26ac2b",
     "locked": true,
     "schema_version": 3,
     "solution": false
    },
    "slideshow": {
     "slide_type": ""
    },
    "tags": []
   },
   "source": [
    "### Auto-validation\n",
    "\n",
    "L'auto-validation suivante doit s'exécuter sans erreur."
   ]
  },
  {
   "cell_type": "code",
   "execution_count": null,
   "metadata": {
    "deletable": false,
    "editable": false,
    "nbgrader": {
     "cell_type": "code",
     "checksum": "6b86599560d46ad6b029891594e00ccf",
     "grade": false,
     "grade_id": "cell-3d650fb1c3473fa6",
     "locked": true,
     "schema_version": 3,
     "solution": false
    },
    "slideshow": {
     "slide_type": ""
    },
    "tags": []
   },
   "outputs": [],
   "source": [
    "g0 = [[0 for j in range(NBC)] for i in range(NBL)]\n",
    "g0[0] = [1, 2, 1, 2, 1, 2, 1]\n",
    "g0[1] = [1, 1, 2, 1, 1, 2, 1]\n",
    "g0[2] = [1, 2, 2, 2, 2, 2, 0]\n",
    "\n",
    "assert horiz(1, g0, NBL, NBC) == -1\n",
    "assert horiz(2, g0, NBL, NBC) == 2"
   ]
  },
  {
   "cell_type": "markdown",
   "metadata": {
    "deletable": false,
    "editable": false,
    "nbgrader": {
     "cell_type": "markdown",
     "checksum": "903b14b05b2e1c9f225eee5e641eaf7b",
     "grade": false,
     "grade_id": "cell-07d649d6d7b3d0b5",
     "locked": true,
     "schema_version": 3,
     "solution": false
    },
    "slideshow": {
     "slide_type": ""
    },
    "tags": []
   },
   "source": [
    "## `vertic()`\n",
    "\n",
    "Ecrire selon l'en-tête suivant, la fonction `vertic()` qui identifie un alignement vertical gagnant d'une couleur donnée (4 pions de même couleur consécutivement alignés sur une colonne). \n",
    "\n",
    "Cette fonction retourne le numéro de la colonne de l'alignement trouvé ou -1 sinon.  "
   ]
  },
  {
   "cell_type": "code",
   "execution_count": null,
   "metadata": {
    "deletable": false,
    "nbgrader": {
     "cell_type": "code",
     "checksum": "aa9e4896700b6ea5998d9a96b89db928",
     "grade": false,
     "grade_id": "cell-673f269057ebe501",
     "locked": false,
     "schema_version": 3,
     "solution": true
    },
    "slideshow": {
     "slide_type": ""
    },
    "tags": []
   },
   "outputs": [],
   "source": [
    "def vertic(c : couleurs, g : list[list[int]],  dimv : int, dimh : int) -> int:\n",
    "# ENTRER VOTRE CODE A LA PLACE DE CES 2 LIGNES\n",
    "raise NotImplementedError()"
   ]
  },
  {
   "cell_type": "code",
   "execution_count": null,
   "metadata": {
    "deletable": false,
    "editable": false,
    "nbgrader": {
     "cell_type": "code",
     "checksum": "16de9ea93e18c16b6cca08d0b21110af",
     "grade": true,
     "grade_id": "cell-2275e6936cf6c41b",
     "locked": true,
     "points": 1,
     "schema_version": 3,
     "solution": false,
     "task": false
    },
    "slideshow": {
     "slide_type": ""
    },
    "tags": []
   },
   "outputs": [],
   "source": [
    "# Ne pas écrire dans cette cellule\n"
   ]
  },
  {
   "cell_type": "markdown",
   "metadata": {
    "deletable": false,
    "editable": false,
    "nbgrader": {
     "cell_type": "markdown",
     "checksum": "b114cb45a3838856d9a881f1783d839e",
     "grade": false,
     "grade_id": "cell-9034f2dc6f2ae1d6",
     "locked": true,
     "schema_version": 3,
     "solution": false
    },
    "slideshow": {
     "slide_type": ""
    },
    "tags": []
   },
   "source": [
    "### Auto-validation\n",
    "\n",
    "On définit deux grilles **non valides** mais utiles pour vérifier l'alignement vertical gagnant pour chacune des couleurs.\n",
    "\n",
    "L'auto-validation suivante doit s'exécuter sans erreur."
   ]
  },
  {
   "cell_type": "code",
   "execution_count": null,
   "metadata": {
    "deletable": false,
    "editable": false,
    "nbgrader": {
     "cell_type": "code",
     "checksum": "7161195475c8ff16f77af50a9caee9b0",
     "grade": false,
     "grade_id": "cell-f3d2e3597d745aaa",
     "locked": true,
     "schema_version": 3,
     "solution": false,
     "task": false
    },
    "slideshow": {
     "slide_type": ""
    },
    "tags": []
   },
   "outputs": [],
   "source": [
    "g_testvert = [[0 for j in range(NBC)] for i in range(NBL)]\n",
    "for i in range(NBL-2):\n",
    "    g_testvert[i][3] = 1\n",
    "for i in range(NBL-3):\n",
    "    g_testvert[i][NBC-1] = 2\n",
    "    \n",
    "assert vertic(1, g_testvert, NBL, NBC) == 3\n",
    "assert vertic(2, g_testvert, NBL, NBC) == -1\n",
    "\n",
    "g_testvert[2][3] = 2\n",
    "g_testvert[3][NBC-1] = 2\n",
    "\n",
    "assert vertic(1, g_testvert, NBL, NBC) == -1\n",
    "assert vertic(2, g_testvert, NBL, NBC) == 6\n"
   ]
  },
  {
   "cell_type": "markdown",
   "metadata": {
    "deletable": false,
    "editable": false,
    "nbgrader": {
     "cell_type": "markdown",
     "checksum": "97246f07f4ce9c1ee30d4d4c2577e20e",
     "grade": false,
     "grade_id": "cell-c1db2c672fc6f85b",
     "locked": true,
     "schema_version": 3,
     "solution": false
    },
    "slideshow": {
     "slide_type": ""
    },
    "tags": []
   },
   "source": [
    "## `diagoNOSE()`\n",
    "\n",
    "Ecrire selon l'en-tête suivant, la fonction `diagoNOSE()` qui identifie un alignement diagonal gagnant d'une couleur donnée : 4 pions consécutifs de même couleur diagonalement alignés.\n",
    "\n",
    "Cette fonction retourne 1 si un tel alignement est présent ou -1 sinon.\n",
    "\n",
    "**Rappel.** \n",
    "\n",
    "- la ligne 0 est le haut du tableau (qui représente le bas de la grille)\n",
    "- la ligne `NBL-1` est le bas du tableau (qui représente le bas de la grille)\n",
    "- diagonale NordOuest-SudEst : \"du haut à gauche vers le bas à droite\" _du tableau_"
   ]
  },
  {
   "cell_type": "code",
   "execution_count": null,
   "metadata": {
    "deletable": false,
    "nbgrader": {
     "cell_type": "code",
     "checksum": "0bd200e2de419407c4c2cb7e255be862",
     "grade": false,
     "grade_id": "cell-6e57bf0ece3d5a1f",
     "locked": false,
     "schema_version": 3,
     "solution": true
    },
    "slideshow": {
     "slide_type": ""
    },
    "tags": []
   },
   "outputs": [],
   "source": [
    "def diagoNOSE(c : couleurs, g : list[list[int]],  dimv : int, dimh : int) -> int:\n",
    "# ENTRER VOTRE CODE A LA PLACE DE CES 2 LIGNES\n",
    "raise NotImplementedError()"
   ]
  },
  {
   "cell_type": "code",
   "execution_count": null,
   "metadata": {
    "deletable": false,
    "editable": false,
    "nbgrader": {
     "cell_type": "code",
     "checksum": "1256353943fae965c3b66614ab3b6c3f",
     "grade": true,
     "grade_id": "cell-13f27594668e9922",
     "locked": true,
     "points": 1,
     "schema_version": 3,
     "solution": false,
     "task": false
    },
    "slideshow": {
     "slide_type": ""
    },
    "tags": []
   },
   "outputs": [],
   "source": [
    "# Ne pas écrire dans cette cellule\n"
   ]
  },
  {
   "cell_type": "markdown",
   "metadata": {
    "deletable": false,
    "editable": false,
    "nbgrader": {
     "cell_type": "markdown",
     "checksum": "578eea4e5f5575677e1b3a40e19ae2f8",
     "grade": false,
     "grade_id": "cell-6b49afee09698f91",
     "locked": true,
     "schema_version": 3,
     "solution": false,
     "task": false
    },
    "slideshow": {
     "slide_type": ""
    },
    "tags": []
   },
   "source": [
    "### Auto-validation\n",
    "\n",
    "L'auto-validation suivante doit s'exécuter sans erreur."
   ]
  },
  {
   "cell_type": "code",
   "execution_count": null,
   "metadata": {
    "deletable": false,
    "editable": false,
    "nbgrader": {
     "cell_type": "code",
     "checksum": "05af1e7f6c2de95205310fa3a5a5eeb8",
     "grade": false,
     "grade_id": "cell-d6bbe12e2ad4fc87",
     "locked": true,
     "schema_version": 3,
     "solution": false,
     "task": false
    },
    "slideshow": {
     "slide_type": ""
    },
    "tags": []
   },
   "outputs": [],
   "source": [
    "g_testdiago1 = [[0 for j in range(NBC)] for i in range(NBL)]\n",
    "for i in range(4):\n",
    "    for j in range(2, 6):\n",
    "        g_testdiago1[i][j] = 2 \n",
    "\n",
    "assert diagoNOSE(1, g_testdiago1, NBL, NBC) == -1\n",
    "assert diagoNOSE(2, g_testdiago1, NBL, NBC) == 1\n",
    "\n",
    "g_testdiago1[0][2] = 1\n",
    "assert diagoNOSE(1, g_testdiago1, NBL, NBC) == -1\n",
    "assert diagoNOSE(2, g_testdiago1, NBL, NBC) == -1\n",
    "\n",
    "g_testdiago1[4][5\n",
    "] = 2\n",
    "assert diagoNOSE(1, g_testdiago1, NBL, NBC) == -1\n",
    "assert diagoNOSE(2, g_testdiago1, NBL, NBC) == 1"
   ]
  },
  {
   "cell_type": "markdown",
   "metadata": {
    "deletable": false,
    "editable": false,
    "nbgrader": {
     "cell_type": "markdown",
     "checksum": "ee515ec706975f53eca557a4284d60b3",
     "grade": false,
     "grade_id": "cell-de1af7f943f3c92f",
     "locked": true,
     "schema_version": 3,
     "solution": false
    },
    "slideshow": {
     "slide_type": ""
    },
    "tags": []
   },
   "source": [
    "## `diagoNESO()`\n",
    "\n",
    "Ecrire selon l'en-tête suivant, la fonction `diagoNESO()` qui identifie l'autre  alignement diagonal gagnant d'une couleur donnée.   \n",
    "Cette fonction retourne 1 si un tel alignement est présent, ou -1 sinon.\n",
    "\n",
    "**Rappel.** \n",
    "\n",
    "- la ligne 0 est le haut du tableau (qui représente le bas de la grille)\n",
    "- la ligne `NBL-1` est le bas du tableau (qui représente le bas de la grille)\n",
    "- diagonale NordEst-SudOuest : diagonale \"d'en haut à droite vers le bas à gauche\" du tableau"
   ]
  },
  {
   "cell_type": "code",
   "execution_count": null,
   "metadata": {
    "deletable": false,
    "nbgrader": {
     "cell_type": "code",
     "checksum": "52d402939474fce4f5273b23dca39e6f",
     "grade": false,
     "grade_id": "cell-48226e4bdba25ebb",
     "locked": false,
     "schema_version": 3,
     "solution": true
    },
    "slideshow": {
     "slide_type": ""
    },
    "tags": []
   },
   "outputs": [],
   "source": [
    "def diagoNESO(c : couleurs, g : list[list[int]],  dimv : int, dimh : int) -> int:\n",
    "# ENTRER VOTRE CODE A LA PLACE DE CES 2 LIGNES\n",
    "raise NotImplementedError()"
   ]
  },
  {
   "cell_type": "code",
   "execution_count": null,
   "metadata": {
    "deletable": false,
    "editable": false,
    "nbgrader": {
     "cell_type": "code",
     "checksum": "67d7a60b35c29ef96723dc9141ffa037",
     "grade": true,
     "grade_id": "cell-c820963302e597be",
     "locked": true,
     "points": 1,
     "schema_version": 3,
     "solution": false,
     "task": false
    },
    "slideshow": {
     "slide_type": ""
    },
    "tags": []
   },
   "outputs": [],
   "source": [
    "# Ne pas écrire dans cette cellule\n"
   ]
  },
  {
   "cell_type": "markdown",
   "metadata": {
    "deletable": false,
    "editable": false,
    "nbgrader": {
     "cell_type": "markdown",
     "checksum": "6e64f1fd1a660b5f1529906990f42856",
     "grade": false,
     "grade_id": "cell-3422e007843df03c",
     "locked": true,
     "schema_version": 3,
     "solution": false,
     "task": false
    },
    "slideshow": {
     "slide_type": ""
    },
    "tags": []
   },
   "source": [
    "### Auto-validation\n",
    "\n",
    "L'auto-validation suivante doit s'exécuter sans erreur."
   ]
  },
  {
   "cell_type": "code",
   "execution_count": null,
   "metadata": {
    "deletable": false,
    "editable": false,
    "nbgrader": {
     "cell_type": "code",
     "checksum": "1d4d17ce633444ea5373c78bf40397e5",
     "grade": false,
     "grade_id": "cell-71fc7126ada02e0f",
     "locked": true,
     "schema_version": 3,
     "solution": false,
     "task": false
    },
    "slideshow": {
     "slide_type": ""
    },
    "tags": []
   },
   "outputs": [],
   "source": [
    "g_testdiago1 = [[0 for j in range(NBC)] for i in range(NBL)]\n",
    "for i in range(4):\n",
    "    for j in range(2, 6):\n",
    "        g_testdiago1[i][j] = 2 \n",
    "\n",
    "assert diagoNESO(1, g_testdiago1, NBL, NBC) == -1\n",
    "assert diagoNESO(2, g_testdiago1, NBL, NBC) == 1\n",
    "\n",
    "g_testdiago1[0][5] = 1\n",
    "assert diagoNESO(1, g_testdiago1, NBL, NBC) == -1\n",
    "assert diagoNESO(2, g_testdiago1, NBL, NBC) == -1\n",
    "\n",
    "g_testdiago1[4][2] = 2\n",
    "assert diagoNESO(1, g_testdiago1, NBL, NBC) == -1\n",
    "assert diagoNESO(2, g_testdiago1, NBL, NBC) == 1\n"
   ]
  },
  {
   "cell_type": "markdown",
   "metadata": {
    "deletable": false,
    "editable": false,
    "nbgrader": {
     "cell_type": "markdown",
     "checksum": "073da80ec6b4c1fc14a2c91c5a49d353",
     "grade": false,
     "grade_id": "cell-fc94a7dddc14b452",
     "locked": true,
     "schema_version": 3,
     "solution": false
    },
    "slideshow": {
     "slide_type": ""
    },
    "tags": []
   },
   "source": [
    "## `est_gagnante()`\n",
    "\n",
    "Ecrire selon l'en-tête suivant, la fonction `est_gagnante()` qui vérifie si la grille `g` est gagnante pour la couleur `c`.\n",
    "\n",
    "Cette fonction retourne un booléen."
   ]
  },
  {
   "cell_type": "code",
   "execution_count": null,
   "metadata": {
    "deletable": false,
    "nbgrader": {
     "cell_type": "code",
     "checksum": "e9df80667e4946ca2cbd5348832a5739",
     "grade": false,
     "grade_id": "cell-ef6a7cb6c7a8a002",
     "locked": false,
     "schema_version": 3,
     "solution": true
    },
    "slideshow": {
     "slide_type": ""
    },
    "tags": []
   },
   "outputs": [],
   "source": [
    "def est_gagnante(c : couleurs, g : list[list[int]], dimv : int, dimh : int) -> bool:\n",
    "# ENTRER VOTRE CODE A LA PLACE DE CES 2 LIGNES\n",
    "raise NotImplementedError()"
   ]
  },
  {
   "cell_type": "code",
   "execution_count": null,
   "metadata": {
    "deletable": false,
    "editable": false,
    "nbgrader": {
     "cell_type": "code",
     "checksum": "a8b967c963db23fa837f8dee7dbce2b8",
     "grade": true,
     "grade_id": "cell-ae355b0a8e5e99a9",
     "locked": true,
     "points": 1,
     "schema_version": 3,
     "solution": false,
     "task": false
    },
    "slideshow": {
     "slide_type": ""
    },
    "tags": []
   },
   "outputs": [],
   "source": [
    "# Ne pas écrire dans cette cellule\n"
   ]
  },
  {
   "cell_type": "markdown",
   "metadata": {
    "deletable": false,
    "editable": false,
    "nbgrader": {
     "cell_type": "markdown",
     "checksum": "00ab698b8989ea15df285261575efca2",
     "grade": false,
     "grade_id": "cell-3e92cdb991433330",
     "locked": true,
     "schema_version": 3,
     "solution": false,
     "task": false
    },
    "slideshow": {
     "slide_type": ""
    },
    "tags": []
   },
   "source": [
    "### Auto-validation\n",
    "\n",
    "L'auto-validation suivante doit s'exécuter sans erreur."
   ]
  },
  {
   "cell_type": "code",
   "execution_count": null,
   "metadata": {
    "deletable": false,
    "editable": false,
    "nbgrader": {
     "cell_type": "code",
     "checksum": "136d79b2efd2a81460f8e9432035e655",
     "grade": false,
     "grade_id": "cell-8cf6d39d6b25a529",
     "locked": true,
     "schema_version": 3,
     "solution": false,
     "task": false
    },
    "slideshow": {
     "slide_type": ""
    },
    "tags": []
   },
   "outputs": [],
   "source": [
    "g0 = [[0 for j in range(NBC)] for i in range(NBL)]\n",
    "faux = est_gagnante(1, g0, NBL, NBC)\n",
    "assert faux == False\n",
    "faux = est_gagnante(1, g0, NBL, NBC)\n",
    "assert faux == False\n",
    "\n",
    "for i in range(0,4):\n",
    "    g0[i][3] = 1\n",
    "for j in range(0,3):\n",
    "    g0[0][j] = 2\n",
    "g0[0][4] = 2\n",
    "\n",
    "vrai = est_gagnante(1, g0, NBL, NBC)\n",
    "assert vrai == True\n",
    "faux = est_gagnante(2, g0, NBL, NBC)\n",
    "assert faux == False"
   ]
  },
  {
   "cell_type": "markdown",
   "metadata": {
    "deletable": false,
    "editable": false,
    "nbgrader": {
     "cell_type": "markdown",
     "checksum": "ba03487135e8d74523ed44f6c2b813d9",
     "grade": false,
     "grade_id": "cell-e133f660cc73c2fe",
     "locked": true,
     "schema_version": 3,
     "solution": false,
     "task": false
    },
    "slideshow": {
     "slide_type": ""
    },
    "tags": []
   },
   "source": [
    "## `jouer()` !\n",
    "\n",
    "On commence avec une fonction qui permet l'interaction entre un joueur et le jeu."
   ]
  },
  {
   "cell_type": "markdown",
   "metadata": {
    "deletable": false,
    "editable": false,
    "nbgrader": {
     "cell_type": "markdown",
     "checksum": "fceba77278f04503270fd14d71901ed5",
     "grade": false,
     "grade_id": "cell-bbcf67dbb80022e7",
     "locked": true,
     "schema_version": 3,
     "solution": false,
     "task": false
    },
    "slideshow": {
     "slide_type": ""
    },
    "tags": []
   },
   "source": [
    "Ecrire selon l'en-tête suivant, la fonction `jouer()` qui ajoute un pion de couleur `c` à la colonne `colonne` à la grille de jeu en cours `g` (de dimensions habituelles). \n",
    "\n",
    "- Les numéro des colonnes de la grille de jeu `g` et du tableau qui la représente sont égales.\n",
    "- Cette fonction modifie l'état de la grille `g`. C'est donc une procédure qui ne retourne aucun résultat (autre que `None` en python). \n",
    "\n",
    "Pour cette version simple de `jouer()`, on supposera que les valeurs de `c` et de `colonne` ont du sens et ne rendent pas la grille non valide."
   ]
  },
  {
   "cell_type": "code",
   "execution_count": null,
   "metadata": {
    "deletable": false,
    "nbgrader": {
     "cell_type": "code",
     "checksum": "0bcb728d2dba4ddf46144062c5a88f97",
     "grade": false,
     "grade_id": "cell-55f8bf4adf268fc5",
     "locked": false,
     "schema_version": 3,
     "solution": true,
     "task": false
    },
    "slideshow": {
     "slide_type": ""
    },
    "tags": []
   },
   "outputs": [],
   "source": [
    "def jouer(c : couleurs, colonne : int, g : list[list[int]], dimv : int, dimh : int) -> None:\n",
    "# ENTRER VOTRE CODE A LA PLACE DE CES 2 LIGNES\n",
    "raise NotImplementedError()"
   ]
  },
  {
   "cell_type": "code",
   "execution_count": null,
   "metadata": {
    "deletable": false,
    "editable": false,
    "nbgrader": {
     "cell_type": "code",
     "checksum": "31e6260e23bad06f767d07b9a6bdb3a4",
     "grade": true,
     "grade_id": "cell-a26364917ed3de62",
     "locked": true,
     "points": 2,
     "schema_version": 3,
     "solution": false,
     "task": false
    },
    "slideshow": {
     "slide_type": ""
    },
    "tags": []
   },
   "outputs": [],
   "source": [
    "# Ne pas écrire dans cette cellule\n"
   ]
  },
  {
   "cell_type": "markdown",
   "metadata": {
    "deletable": false,
    "editable": false,
    "nbgrader": {
     "cell_type": "markdown",
     "checksum": "6a69261515e2acff87793594193d764a",
     "grade": false,
     "grade_id": "cell-4e286a0f8fbeeb03",
     "locked": true,
     "schema_version": 3,
     "solution": false,
     "task": false
    },
    "slideshow": {
     "slide_type": ""
    },
    "tags": []
   },
   "source": [
    "### Auto-validation\n",
    "\n",
    "L'auto-validation suivante doit s'exécuter sans erreur."
   ]
  },
  {
   "cell_type": "code",
   "execution_count": null,
   "metadata": {
    "deletable": false,
    "editable": false,
    "nbgrader": {
     "cell_type": "code",
     "checksum": "da1a288c8a95ee0233db4bdde229b933",
     "grade": false,
     "grade_id": "cell-0d730072c0606388",
     "locked": true,
     "schema_version": 3,
     "solution": false,
     "task": false
    },
    "slideshow": {
     "slide_type": ""
    },
    "tags": []
   },
   "outputs": [],
   "source": [
    "# g1 dans son état initial\n",
    "g1 = [[2, 1, 1, 1, 2, 2, 0], [0, 1, 2, 2, 1, 0, 0], [0, 0, 2, 1, 2, 0, 0], [0, 0, 1, 0, 0, 0, 0], [0, 0, 0, 0, 0, 0, 0], [0, 0, 0, 0, 0, 0, 0]]\n",
    "\n",
    "# un tour de jeu\n",
    "jouer(1, 1, g1, NBL, NBC)\n",
    "jouer(2, 3, g1, NBL, NBC)\n",
    "\n",
    "# vérifications\n",
    "assert g1[2][1] == 1\n",
    "assert g1[3][3] == 2"
   ]
  },
  {
   "cell_type": "markdown",
   "metadata": {
    "deletable": false,
    "editable": false,
    "nbgrader": {
     "cell_type": "markdown",
     "checksum": "dc0925a7eb5bbcf98724ceedf05e3708",
     "grade": false,
     "grade_id": "cell-911069f363fb8b73",
     "locked": true,
     "schema_version": 3,
     "solution": false,
     "task": false
    },
    "slideshow": {
     "slide_type": ""
    },
    "tags": []
   },
   "source": [
    "## ($\\star$) Affichages de la grille"
   ]
  },
  {
   "cell_type": "markdown",
   "metadata": {
    "deletable": false,
    "editable": false,
    "nbgrader": {
     "cell_type": "markdown",
     "checksum": "60ec8f987173d161cde16fab95200888",
     "grade": false,
     "grade_id": "cell-b18a41a8db192840",
     "locked": true,
     "schema_version": 3,
     "solution": false
    },
    "slideshow": {
     "slide_type": ""
    },
    "tags": []
   },
   "source": [
    "**Objectif 20.**\n",
    "Un affichage plus agréable va être développé en 2 étapes :  \n",
    "- d'abord un affichage de la grille uniquement,\n",
    "- puis un affichage complété avec les numéros des lignes et des colonnes tels que les voient les joueurs. \n",
    "\n",
    "### ($\\star$) `grille_en_str()`\n",
    "\n",
    "Le premier affichage sera tel que :\n",
    "- les cases vides sont affichées avec le caractère `'.'` \n",
    "- les pions jaunes sont affichées avec le caractère `'O'`  \n",
    "- les pions rouge sont affichées avec le caractère `'X'`  \n",
    "\n",
    "Pour cela, on va écrire une fonction `grille_en_str( )` qui transforme la grille de jeu en une chaîne de caractères adaptée qui, ensuite, pourra être affichée d'un seul `print` et donner l'affichage souhaité.\n",
    "\n",
    "- L'en-tête de cette fonction est définie dans la cellule suivante.\n",
    "- Cette fonction retourne la chaîne de caractère construite par l'algorithme suivant :\n",
    "    - chaque ligne de la grille est interprétée comme une chaîne de 6 caractères séparés par des espaces ;\n",
    "    - chaque chaîne de caractères est concaténée dans un ordre adéquat dans une chaîne globale qui représentera la grille complète ;\n",
    "    - cette chaîne globale sera retournée pour obtenir l'affichage demandé.\n",
    "\n",
    "On rappelle que le _caractère_ spécial `\\n` permet un saut de ligne.\n",
    "\n",
    "Ainsi \n",
    "```python\n",
    "print( grille_en_str(g1) )\n",
    "```\n",
    "donnera l'affichage de la grille `g1` suivant.\n",
    "\n",
    "```\n",
    ". . . . . . . \n",
    ". . . . . . . \n",
    ". . O . . . .`\n",
    ". 0 X O X . . \n",
    ". O X X O . . \n",
    "X O O O X X .\n",
    "```\n",
    " "
   ]
  },
  {
   "cell_type": "code",
   "execution_count": null,
   "metadata": {
    "deletable": false,
    "nbgrader": {
     "cell_type": "code",
     "checksum": "fd3e38dc6b17be349f09b67c0ac8aafa",
     "grade": false,
     "grade_id": "cell-f7938db9b7f17050",
     "locked": false,
     "schema_version": 3,
     "solution": true,
     "task": false
    },
    "slideshow": {
     "slide_type": ""
    },
    "tags": []
   },
   "outputs": [],
   "source": [
    "def grille_en_str(g : list[list[int]], dimv : int, dimh : int) -> str:\n",
    "# ENTRER VOTRE CODE A LA PLACE DE CES 2 LIGNES\n",
    "raise NotImplementedError()"
   ]
  },
  {
   "cell_type": "code",
   "execution_count": null,
   "metadata": {
    "deletable": false,
    "editable": false,
    "nbgrader": {
     "cell_type": "code",
     "checksum": "4bc9bbfad9ccd2de086fb6159464ee60",
     "grade": true,
     "grade_id": "cell-b310bca4b1c0c264",
     "locked": true,
     "points": 2,
     "schema_version": 3,
     "solution": false,
     "task": false
    },
    "slideshow": {
     "slide_type": ""
    },
    "tags": []
   },
   "outputs": [],
   "source": [
    "# Ne pas écrire dans cette cellule"
   ]
  },
  {
   "cell_type": "markdown",
   "metadata": {
    "deletable": false,
    "editable": false,
    "nbgrader": {
     "cell_type": "markdown",
     "checksum": "fca124823a4a64c36d22db7f5aceb4ba",
     "grade": false,
     "grade_id": "cell-b12478766b5dc9c4",
     "locked": true,
     "schema_version": 3,
     "solution": false,
     "task": false
    },
    "slideshow": {
     "slide_type": ""
    },
    "tags": []
   },
   "source": [
    "($\\star$) **application**\n",
    "\n",
    "Vérifier que l'affichage suivant de `g1` est identique à celui indiqué au dessus."
   ]
  },
  {
   "cell_type": "code",
   "execution_count": null,
   "metadata": {
    "deletable": false,
    "editable": false,
    "nbgrader": {
     "cell_type": "code",
     "checksum": "1ce766fae5e8f0e3bf863cf5e5cf3182",
     "grade": false,
     "grade_id": "cell-8e9125192de8003e",
     "locked": true,
     "schema_version": 3,
     "solution": false,
     "task": false
    },
    "slideshow": {
     "slide_type": ""
    },
    "tags": []
   },
   "outputs": [],
   "source": [
    "print(grille_en_str(g1, NBL, NBC))"
   ]
  },
  {
   "cell_type": "markdown",
   "metadata": {
    "deletable": false,
    "editable": false,
    "nbgrader": {
     "cell_type": "markdown",
     "checksum": "3169bb5f4523e03442696a5158d5d698",
     "grade": false,
     "grade_id": "cell-0f9310440f487ec6",
     "locked": true,
     "schema_version": 3,
     "solution": false
    },
    "slideshow": {
     "slide_type": ""
    },
    "tags": []
   },
   "source": [
    "### ($\\star$) `afficher()`\n",
    "\n",
    "**Attention : bien lire ce passage qui définit 2 numérotations différentes.**\n",
    "\n",
    "Jusqu'à présent, on utilise une numérotation induite par le tableau qui représente la grille de jeu : la _numérotation-développeur_. `print()` permet un affichage selon cette numérotation.\n",
    "\n",
    "On définit maintenant une _numérotation-joueur_ : le _joueur_ compte \n",
    "\n",
    "- les lignes à partir de 1 et en partant de la ligne du **bas** de la grille du jeu **réel**\n",
    "- les colonnes à partir de 1 et en partant de la colonne de gauche de la grille (voir exemple ci-dessous). \n",
    "\n",
    "Par la suite, nous indiquerons **explicitement** les cas où cette numérotation-joueur devra être utilisée (pour `afficher()`, `atoidejouer()` et `jeu()`).\n",
    "Sinon, la numérotation-développeur reste celle à utiliser.\n",
    "\n",
    "Si besoin :\n",
    "- `afficher()` est adapté pour visualiser la _numérotation-joueur_\n",
    "- `print()` (du tableau) est adapté pour visualiser la _numérotation-développeur._"
   ]
  },
  {
   "cell_type": "markdown",
   "metadata": {
    "deletable": false,
    "editable": false,
    "nbgrader": {
     "cell_type": "markdown",
     "checksum": "98ece108676ba36f90aa56cfe72be621",
     "grade": false,
     "grade_id": "cell-6c86d9bd79e44eb4",
     "locked": true,
     "schema_version": 3,
     "solution": false,
     "task": false
    },
    "slideshow": {
     "slide_type": ""
    },
    "tags": []
   },
   "source": [
    "Ecrire la fonction `afficher()` selon l'en-tête suivant où le paramètre booléen `debug` permet de compléter l'affichage précédent avec les numéros-joueur des lignes et des colonnes de la grille comme ci-dessous pour `g1`.  \n",
    "\n",
    "```\n",
    ". . . . . . . |6\n",
    ". . . . . . . |5\n",
    ". . O . . . . |4\n",
    ". . X O X . . |3\n",
    ". O X X O . . |2\n",
    "X O O O X X . |1\n",
    "-------------\n",
    "1 2 3 4 5 6 7\n",
    "```\n",
    "Si `debug == True`, `afficher()` réalisera l'affichage ci-dessus.\n",
    "\n",
    "Si `debug == False`, `afficher()` réalisera l'affichage sans numéro de lignes, ni de colonnes.\n",
    "\n",
    "Cette fonction pourra s'inspirer de la fonction `grille_en_str()`.\n",
    "Elle réalise l'affichage demandé : il s'agit donc d'une _procédure_ d'affichage (qui mélange des traitements spécifiques et des entrées-sorties).  "
   ]
  },
  {
   "cell_type": "code",
   "execution_count": null,
   "metadata": {
    "deletable": false,
    "nbgrader": {
     "cell_type": "code",
     "checksum": "e1364ad3ccd19f1acf5d35fae41d0f49",
     "grade": false,
     "grade_id": "cell-434564f34ec29c88",
     "locked": false,
     "schema_version": 3,
     "solution": true
    },
    "slideshow": {
     "slide_type": ""
    },
    "tags": []
   },
   "outputs": [],
   "source": [
    "def afficher(g : list[list[int]], dimv : int, dimh : int, debug : bool) -> None:\n",
    "# ENTRER VOTRE CODE A LA PLACE DE CES 2 LIGNES\n",
    "raise NotImplementedError()\n"
   ]
  },
  {
   "cell_type": "code",
   "execution_count": null,
   "metadata": {
    "deletable": false,
    "editable": false,
    "nbgrader": {
     "cell_type": "code",
     "checksum": "b88df626294c988e42557d06ff6197da",
     "grade": true,
     "grade_id": "cell-3c79b281dcee3bed",
     "locked": true,
     "points": 3,
     "schema_version": 3,
     "solution": false,
     "task": false
    },
    "slideshow": {
     "slide_type": ""
    },
    "tags": []
   },
   "outputs": [],
   "source": [
    "# Ne pas écrire dans cette cellule"
   ]
  },
  {
   "cell_type": "markdown",
   "metadata": {
    "deletable": false,
    "editable": false,
    "nbgrader": {
     "cell_type": "markdown",
     "checksum": "e8f10cf89e31de3e6c4d65291af38c36",
     "grade": false,
     "grade_id": "cell-f60f848d54e37ae8",
     "locked": true,
     "schema_version": 3,
     "solution": false,
     "task": false
    },
    "slideshow": {
     "slide_type": ""
    },
    "tags": []
   },
   "source": [
    "($\\star$) **application**\n",
    "\n",
    "Vérifier que les affichages de `g1` sont identiques à ceux indiqués au dessus."
   ]
  },
  {
   "cell_type": "code",
   "execution_count": null,
   "metadata": {
    "deletable": false,
    "editable": false,
    "nbgrader": {
     "cell_type": "code",
     "checksum": "ce5f2af661265b3c9f4052b23d3fc89c",
     "grade": false,
     "grade_id": "cell-2f2c757b26acfd43",
     "locked": true,
     "schema_version": 3,
     "solution": false,
     "task": false
    },
    "slideshow": {
     "slide_type": ""
    },
    "tags": []
   },
   "outputs": [],
   "source": [
    "print(afficher(g1, NBL, NBC, debug=False))\n",
    "print(afficher(g1, NBL, NBC, debug=True))"
   ]
  },
  {
   "cell_type": "markdown",
   "metadata": {
    "deletable": false,
    "editable": false,
    "nbgrader": {
     "cell_type": "markdown",
     "checksum": "02b953fb02b5bf06a627246eb526cdcf",
     "grade": false,
     "grade_id": "cell-f15bea482310206c",
     "locked": true,
     "schema_version": 3,
     "solution": false
    },
    "slideshow": {
     "slide_type": ""
    },
    "tags": []
   },
   "source": [
    "## `atoidejouer()`\n",
    "\n",
    "Ecrire selon l'en-tête suivant, une fonction `atoidejouer()` qui demande au joueur _d'entrer au clavier_ dans quelle colonne de la **grille réelle** `g` il dépose son jeton de couleur `c`.\n",
    "\n",
    "**Attention : numérotation.** Cette fonction (d'ES)\n",
    "\n",
    "- prend \"en entrée\" le **numéro-joueur** de colonne saisi au clavier, \n",
    "- retourne le **numéro-développeur** de la colonne correspondant pour les traitements à suivre. "
   ]
  },
  {
   "cell_type": "code",
   "execution_count": null,
   "metadata": {
    "deletable": false,
    "nbgrader": {
     "cell_type": "code",
     "checksum": "8ff64785d3a6f999026b70791b309f1f",
     "grade": true,
     "grade_id": "cell-ece5b57720b3d37c",
     "locked": false,
     "points": 1,
     "schema_version": 3,
     "solution": true,
     "task": false
    },
    "slideshow": {
     "slide_type": ""
    },
    "tags": []
   },
   "outputs": [],
   "source": [
    "def atoidejouer(c : couleurs, g : list[list[int]], dimv : int, dimh : int) -> int:\n",
    "# ENTRER VOTRE CODE A LA PLACE DE CES 2 LIGNES\n",
    "raise NotImplementedError()"
   ]
  },
  {
   "cell_type": "markdown",
   "metadata": {
    "deletable": false,
    "editable": false,
    "nbgrader": {
     "cell_type": "markdown",
     "checksum": "ab9e953a4fd499adacb250e28ff28ea5",
     "grade": false,
     "grade_id": "cell-cf01fb7734e0f5bf",
     "locked": true,
     "schema_version": 3,
     "solution": false
    },
    "slideshow": {
     "slide_type": ""
    },
    "tags": []
   },
   "source": [
    "### Auto-validation\n",
    "\n",
    "Entrez successivement `1` et `2` et l'auto-validation suivante doit s'exécuter sans erreur."
   ]
  },
  {
   "cell_type": "code",
   "execution_count": null,
   "metadata": {
    "deletable": false,
    "editable": false,
    "nbgrader": {
     "cell_type": "code",
     "checksum": "4bfe89726a9a5ba1dce81c2d70d334c6",
     "grade": false,
     "grade_id": "cell-3c5cdba938ef3db4",
     "locked": true,
     "schema_version": 3,
     "solution": false,
     "task": false
    },
    "slideshow": {
     "slide_type": ""
    },
    "tags": []
   },
   "outputs": [],
   "source": [
    "g0 = [[0 for j in range(NBC)] for i in range(NBL)]\n",
    "\n",
    "zero = atoidejouer(1, g0, NBL, NBC)\n",
    "assert zero == 0                   \n",
    "                   \n",
    "un = atoidejouer(2, g0, NBL, NBC)\n",
    "assert un == 1  "
   ]
  },
  {
   "cell_type": "markdown",
   "metadata": {
    "deletable": false,
    "editable": false,
    "nbgrader": {
     "cell_type": "markdown",
     "checksum": "9033c457bd2ee9a65e9526c5f217929b",
     "grade": false,
     "grade_id": "cell-ffbb389b750597a5",
     "locked": true,
     "schema_version": 3,
     "solution": false
    },
    "slideshow": {
     "slide_type": ""
    },
    "tags": []
   },
   "source": [
    "## jeu()\n",
    "\n",
    "On peut maintenant utiliser les développements précédents pour écrire selon l'en-tête suivant, une fonction `jeu()` qui permet à deux joueurs de jouer comme suit.  \n",
    "- Avec `atoidejouer()`, demander à chaque joueur de jouer à son tour, en commençant par les jaunes.\n",
    "    - On suppose (ici) que le joueur choisit une colonne valide\n",
    "- La grille de jeu est affichée après chaque action de jeu  \n",
    "- Le jeu s'arrête quand un des joueurs a gagné ou en cas d'égalité (blocage) \n",
    "- Le résultat est **affiché à l'écran**  comme suit :\n",
    "```\n",
    "Les pions jaunes/rouges gagnent. Bravo !\n",
    "```\n",
    "ou en cas d'égalité (blocage) :\n",
    "```\n",
    "Egalité ... Recommencez !\n",
    "```\n",
    "La partie s'effectue en complétant la grille `g` qui est :\n",
    "- soit une grille vide à créer avant l'appel,\n",
    "- soit une grille partiellement remplie provenant de la lecture d'un fichier (comme G1.txt). Dans ce cas, il faut donc vérifier la validité de la grille lue dans le fichier et, si besoin afficher le message :\n",
    "```\n",
    "Grille invalide. Jeu stoppé.\n",
    "```\n"
   ]
  },
  {
   "cell_type": "code",
   "execution_count": null,
   "metadata": {
    "deletable": false,
    "nbgrader": {
     "cell_type": "code",
     "checksum": "8b2692160808b244ca8b0b1f171326f1",
     "grade": true,
     "grade_id": "cell-28ad996f56f34779",
     "locked": false,
     "points": 3,
     "schema_version": 3,
     "solution": true,
     "task": false
    },
    "slideshow": {
     "slide_type": ""
    },
    "tags": []
   },
   "outputs": [],
   "source": [
    "def jeu(g : list[list[int]], dimv : int, dimh : int) -> None:\n",
    "# ENTRER VOTRE CODE A LA PLACE DE CES 2 LIGNES\n",
    "raise NotImplementedError()"
   ]
  },
  {
   "cell_type": "markdown",
   "metadata": {
    "deletable": false,
    "editable": false,
    "nbgrader": {
     "cell_type": "markdown",
     "checksum": "11e3b7fbd1278871cd77550371bc72ed",
     "grade": false,
     "grade_id": "cell-41dcc23bea49caa5",
     "locked": true,
     "schema_version": 3,
     "solution": false,
     "task": false
    },
    "slideshow": {
     "slide_type": ""
    },
    "tags": []
   },
   "source": [
    "### Auto-validation 1\n",
    "\n",
    "Entrez successivement `2, 2` pour que l'exécution de la cellule suivante fasse gagner les rouges (`X`)."
   ]
  },
  {
   "cell_type": "code",
   "execution_count": null,
   "metadata": {
    "deletable": false,
    "editable": false,
    "nbgrader": {
     "cell_type": "code",
     "checksum": "06fa56509cf24eecec0f7fb39a9f5dad",
     "grade": false,
     "grade_id": "cell-13dfa74ab957c927",
     "locked": true,
     "schema_version": 3,
     "solution": false,
     "task": false
    },
    "slideshow": {
     "slide_type": ""
    },
    "tags": []
   },
   "outputs": [],
   "source": [
    "# g1 dans son état initial\n",
    "g1 = [[2, 1, 1, 1, 2, 2, 0], [0, 1, 2, 2, 1, 0, 0], [0, 0, 2, 1, 2, 0, 0], [0, 0, 1, 0, 0, 0, 0], [0, 0, 0, 0, 0, 0, 0], [0, 0, 0, 0, 0, 0, 0]]\n",
    "print(\"Entrer 2 puis 2 et les rouges gagnent\")\n",
    "jeu(g1, NBL, NBC)"
   ]
  },
  {
   "cell_type": "markdown",
   "metadata": {
    "deletable": false,
    "editable": false,
    "nbgrader": {
     "cell_type": "markdown",
     "checksum": "b4ba89e8915f0e69bf1f8d2d5c0977be",
     "grade": false,
     "grade_id": "cell-dff215fe90b5816c",
     "locked": true,
     "schema_version": 3,
     "solution": false,
     "task": false
    },
    "slideshow": {
     "slide_type": ""
    },
    "tags": []
   },
   "source": [
    "### Auto-validation 2\n",
    "\n",
    "Entrez successivement `2, 1, 2` pour que l'exécution de la cellule suivante fasse gagner les jaunes (`O`)."
   ]
  },
  {
   "cell_type": "code",
   "execution_count": null,
   "metadata": {
    "deletable": false,
    "editable": false,
    "nbgrader": {
     "cell_type": "code",
     "checksum": "56c7b4bcd0703a2410f5059c5895f52d",
     "grade": false,
     "grade_id": "cell-2731962260cda3ed",
     "locked": true,
     "schema_version": 3,
     "solution": false,
     "task": false
    },
    "slideshow": {
     "slide_type": ""
    },
    "tags": []
   },
   "outputs": [],
   "source": [
    "g1 = [[2, 1, 1, 1, 2, 2, 0], [0, 1, 2, 2, 1, 0, 0], [0, 0, 2, 1, 2, 0, 0], [0, 0, 1, 0, 0, 0, 0], [0, 0, 0, 0, 0, 0, 0], [0, 0, 0, 0, 0, 0, 0]]\n",
    "print(\"Entrer 212 et les jaunes gagnent\")\n",
    "jeu(g1, NBL, NBC)"
   ]
  },
  {
   "cell_type": "code",
   "execution_count": null,
   "metadata": {
    "slideshow": {
     "slide_type": ""
    },
    "tags": []
   },
   "outputs": [],
   "source": []
  }
 ],
 "metadata": {
  "kernelspec": {
   "display_name": "Python 3 (ipykernel)",
   "language": "python",
   "name": "python3"
  },
  "language_info": {
   "codemirror_mode": {
    "name": "ipython",
    "version": 3
   },
   "file_extension": ".py",
   "mimetype": "text/x-python",
   "name": "python",
   "nbconvert_exporter": "python",
   "pygments_lexer": "ipython3",
   "version": "3.9.13"
  },
  "latex_envs": {
   "LaTeX_envs_menu_present": true,
   "autoclose": false,
   "autocomplete": true,
   "bibliofile": "biblio.bib",
   "cite_by": "apalike",
   "current_citInitial": 1,
   "eqLabelWithNumbers": true,
   "eqNumInitial": 1,
   "hotkeys": {
    "equation": "Ctrl-E",
    "itemize": "Ctrl-I"
   },
   "labels_anchors": false,
   "latex_user_defs": false,
   "report_style_numbering": true,
   "user_envs_cfg": false
  },
  "toc": {
   "nav_menu": {},
   "number_sections": true,
   "sideBar": true,
   "skip_h1_title": false,
   "title_cell": "Table des matières",
   "title_sidebar": "TdM",
   "toc_cell": true,
   "toc_position": {
    "height": "475px",
    "left": "888px",
    "top": "134px",
    "width": "211.98529052734375px"
   },
   "toc_section_display": true,
   "toc_window_display": true
  }
 },
 "nbformat": 4,
 "nbformat_minor": 4
}
