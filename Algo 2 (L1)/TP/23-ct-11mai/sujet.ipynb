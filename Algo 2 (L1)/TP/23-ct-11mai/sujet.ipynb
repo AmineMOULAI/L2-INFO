{
 "cells": [
  {
   "cell_type": "markdown",
   "id": "058f8caf",
   "metadata": {
    "deletable": false,
    "editable": false,
    "nbgrader": {
     "cell_type": "markdown",
     "checksum": "0c0b1f54f2fc21a5c4c89f61b2e16e45",
     "grade": false,
     "grade_id": "cell-d20c381719e04780",
     "locked": true,
     "schema_version": 3,
     "solution": false,
     "task": false
    }
   },
   "source": [
    "# Examen du 11 mai 2023\n",
    "\n",
    "## Consignes à lire 2 fois SVP\n",
    "\n",
    "1. Ne pas changer le nom de ce fichier qui sera déposé sous moodle en fin d'épreuve : `sujet.ipynb`\n",
    "2. Enregister régulièrement votre travail\n",
    "3. Exécuter régulièrement tout votre notebook par exemple en relançant le noyau (Redémarrer & tout exécuter)\n",
    "3. N'ajouter aucune cellule \n",
    "4. Ne supprimer aucune cellule\n",
    "5. Ne pas faire de copier-coller ou couper-coller de cellule\n",
    "    - en revanche, vous pouvez copier _le contenu_ d'une cellule et le coller dans une autre\n",
    "5. Ne pas modifier les cellules qui indiquent     \n",
    "    >  `# Ne pas écrire dans cette cellule`\n",
    "5. Aucune cellule ne demande des entrées-clavier avec `input()`\n",
    "6. **Comment répondre avec du code python**\n",
    "    1. Répondre avec du code python qui **remplace** les 2 lignes :\n",
    "    >    `# ENTRER VOTRE CODE A LA PLACE DE CES 2 LIGNES`  \n",
    "    >    `  raise NotImplementedError()` \n",
    "    2. Laisser ces 2 lignes si vous ne répondez pas à la question\n",
    "7. **Comment répondre avec du texte ?** \n",
    "    1. Les rares cellules qui attendent du texte indiquent  :\n",
    "    > VOTRE REPONSE A LA PLACE DE CE TEXTE (format texte ou markdown)\n",
    "8. Re-lire ces consignes\n",
    "9. Appeler le surveillant de salle en cas de doute pendant l'épreuve"
   ]
  },
  {
   "cell_type": "markdown",
   "metadata": {
    "deletable": false,
    "editable": false,
    "nbgrader": {
     "cell_type": "markdown",
     "checksum": "6a539a8c835d0c7307c834791d974a8c",
     "grade": false,
     "grade_id": "cell-7a35e449414b4f65",
     "locked": true,
     "schema_version": 3,
     "solution": false,
     "task": false
    }
   },
   "source": [
    "Ce sujet est accompagné des 4 fichiers `ref_c0.txt`, `ref_c1.txt`, `ref_c2.txt` et `./random100.txt`."
   ]
  },
  {
   "cell_type": "markdown",
   "metadata": {
    "deletable": false,
    "editable": false,
    "nbgrader": {
     "cell_type": "markdown",
     "checksum": "8a2dfc01dc87df2dff2979e9e84900ca",
     "grade": false,
     "grade_id": "cell-dc07477f420e4e3b",
     "locked": true,
     "schema_version": 3,
     "solution": false,
     "task": false
    }
   },
   "source": [
    "On va calculer **l'enveloppe convexe** d'un nuage de points du plan.\n",
    "L'enveloppe convexe est la région délimitée par la ligne bleue : analogie avec un élastique entourant des points dans le plan (source [Wikipedia](https://fr.wikipedia.org/wiki/Enveloppe_convexe)).\n",
    "Rassurez-vous, des précisions seront données dans la suite du sujet.\n",
    "![ConvexHull source Wikipedia](fig/ConvexHull.png)\n"
   ]
  },
  {
   "cell_type": "markdown",
   "metadata": {
    "deletable": false,
    "editable": false,
    "nbgrader": {
     "cell_type": "markdown",
     "checksum": "76e832d63a40be8ccd7375ac3b96f84c",
     "grade": false,
     "grade_id": "cell-b1f56d89959524d7",
     "locked": true,
     "schema_version": 3,
     "solution": false,
     "task": false
    }
   },
   "source": [
    "# Points du plan, relation d'ordre, orientation\n",
    "\n",
    "- Un _point_ du plan est un couple  $(x, y)$ de nombres flottants.  \n",
    "- $x$ et $y$ sont respectivement l'_abscisse_ et l'_ordonnée_ du point $p =(x, y)$."
   ]
  },
  {
   "cell_type": "markdown",
   "metadata": {
    "deletable": false,
    "editable": false,
    "nbgrader": {
     "cell_type": "markdown",
     "checksum": "bba68710a7125944ae2de002e443b96a",
     "grade": false,
     "grade_id": "cell-da34cdd8624d68fd",
     "locked": true,
     "schema_version": 3,
     "solution": false,
     "task": false
    }
   },
   "source": [
    "## `x()`, `y()`\n",
    "\n",
    "On représente un point `p` du plan par le `tuple` de ses deux coordonnées `x` et `y`.\n",
    "La cellule suivante définit les points `O`, `I`, `J` du repère classique du plan -- ici en majuscules selon la convention de notation des constantes en python."
   ]
  },
  {
   "cell_type": "code",
   "execution_count": null,
   "metadata": {
    "deletable": false,
    "editable": false,
    "nbgrader": {
     "cell_type": "code",
     "checksum": "484c5206b16d894a6657491fa1e9b945",
     "grade": false,
     "grade_id": "cell-fb281bc92d05ef7d",
     "locked": true,
     "schema_version": 3,
     "solution": false,
     "task": false
    }
   },
   "outputs": [],
   "source": [
    "O = (0., 0.)\n",
    "I = (1., 0.)\n",
    "J = (0., 1.)"
   ]
  },
  {
   "cell_type": "markdown",
   "metadata": {
    "deletable": false,
    "editable": false,
    "nbgrader": {
     "cell_type": "markdown",
     "checksum": "c6849067dbb9153ebec2954b5d573c0c",
     "grade": false,
     "grade_id": "cell-95075c3b8ea5994c",
     "locked": true,
     "schema_version": 3,
     "solution": false,
     "task": false
    }
   },
   "source": [
    "Ecrire les fonctions `x()` et `y()` qui retournent respectivement l'abscisse et l'ordonnée d'un point `p`. \n",
    "\n",
    "**Rmq.** Dans ce sujet, un point du plan est toujours représenté par un `tuple` de 2 `float`. Parlons-donc de \"tuple-point\". \n",
    "Pour améliorer la lisibilité **des fonctions dont un argument est _un_ \"tuple-point\", on se dispensera ici** de rajouter le paramètre \"habituel\" qui décrit la taille du \"tuple-point\" -- c-a-d. 2. \n",
    "Ainsi, l'abscisse du point `O` sera obtenue par l'appel `x(O)` et non `x(O, 2)`."
   ]
  },
  {
   "cell_type": "code",
   "execution_count": null,
   "metadata": {
    "deletable": false,
    "nbgrader": {
     "cell_type": "code",
     "checksum": "5c3c0c1a7c8fb4a455aa2e0c01daaadd",
     "grade": false,
     "grade_id": "cell-9a287032fc475cf6",
     "locked": false,
     "schema_version": 3,
     "solution": true,
     "task": false
    }
   },
   "outputs": [],
   "source": [
    "def x(p: tuple[float]) -> float:\n",
    "    # ENTRER VOTRE CODE A LA PLACE DE CES 2 LIGNES\n",
    "    raise NotImplementedError()"
   ]
  },
  {
   "cell_type": "code",
   "execution_count": null,
   "metadata": {
    "deletable": false,
    "editable": false,
    "nbgrader": {
     "cell_type": "code",
     "checksum": "aefc9db1a940a42c4a98d4928478f94f",
     "grade": true,
     "grade_id": "cell-699893866c6ebd03",
     "locked": true,
     "points": 1,
     "schema_version": 3,
     "solution": false,
     "task": false
    }
   },
   "outputs": [],
   "source": [
    "# Ne pas écrire dans cette cellule"
   ]
  },
  {
   "cell_type": "code",
   "execution_count": null,
   "metadata": {
    "deletable": false,
    "nbgrader": {
     "cell_type": "code",
     "checksum": "2371bcb66807661569efeb1db7afd6e9",
     "grade": false,
     "grade_id": "cell-db87bbe5289c5776",
     "locked": false,
     "schema_version": 3,
     "solution": true,
     "task": false
    }
   },
   "outputs": [],
   "source": [
    "def y(p: tuple[float]) -> float:\n",
    "    # ENTRER VOTRE CODE A LA PLACE DE CES 2 LIGNES\n",
    "    raise NotImplementedError()"
   ]
  },
  {
   "cell_type": "code",
   "execution_count": null,
   "metadata": {
    "deletable": false,
    "editable": false,
    "nbgrader": {
     "cell_type": "code",
     "checksum": "8f14499d81cb6e668ceb9e5a7e348c73",
     "grade": true,
     "grade_id": "cell-08894bfb408222da",
     "locked": true,
     "points": 1,
     "schema_version": 3,
     "solution": false,
     "task": false
    }
   },
   "outputs": [],
   "source": [
    "# Ne pas écrire dans cette cellule"
   ]
  },
  {
   "cell_type": "markdown",
   "metadata": {
    "deletable": false,
    "editable": false,
    "nbgrader": {
     "cell_type": "markdown",
     "checksum": "688a001e778a66b98c3ec03f1f030527",
     "grade": false,
     "grade_id": "cell-7710c4e259dc44f7",
     "locked": true,
     "schema_version": 3,
     "solution": false,
     "task": false
    }
   },
   "source": [
    "**Auto-validation**"
   ]
  },
  {
   "cell_type": "code",
   "execution_count": null,
   "metadata": {
    "deletable": false,
    "editable": false,
    "nbgrader": {
     "cell_type": "code",
     "checksum": "776f531cb19176b7c718d7180f916619",
     "grade": false,
     "grade_id": "cell-1d6a264bd04e85b3",
     "locked": true,
     "schema_version": 3,
     "solution": false,
     "task": false
    }
   },
   "outputs": [],
   "source": [
    "assert x(O) == 0.\n",
    "assert x(I) == 1.\n",
    "assert y(O) == 0.\n",
    "assert y(J) == 1.\n",
    "assert y(I) == x(J)"
   ]
  },
  {
   "cell_type": "markdown",
   "metadata": {
    "deletable": false,
    "editable": false,
    "nbgrader": {
     "cell_type": "markdown",
     "checksum": "0a1560f7ff3526dcbb15155c2a6c75d1",
     "grade": false,
     "grade_id": "cell-ddc25baef0714215",
     "locked": true,
     "schema_version": 3,
     "solution": false,
     "task": false
    }
   },
   "source": [
    "## `==`\n",
    "\n",
    "L'égalité de 2 points du plan est définie de façon classique comme l'égalité de leurs abscisses et de leurs ordonnées :\n",
    "$$(x,y) = (x',y') \\iff x = x' \\text{ et } y = y'.$$  \n",
    "\n",
    "On pourra utiliser l'opérateur python `==` entre deux \"tuple-points\" qui satisfait cette définition comme la cellule suivante l'illustre."
   ]
  },
  {
   "cell_type": "code",
   "execution_count": null,
   "metadata": {
    "deletable": false,
    "editable": false,
    "nbgrader": {
     "cell_type": "code",
     "checksum": "09e55a17b89992d69d24b9272ac3f286",
     "grade": false,
     "grade_id": "cell-2dc0675cc49f2ac9",
     "locked": true,
     "schema_version": 3,
     "solution": false,
     "task": false
    }
   },
   "outputs": [],
   "source": [
    "assert O == O\n",
    "assert (O == I) == False\n",
    "assert (I == J) == False\n",
    "assert (J == J) == True"
   ]
  },
  {
   "cell_type": "markdown",
   "metadata": {
    "deletable": false,
    "editable": false,
    "nbgrader": {
     "cell_type": "markdown",
     "checksum": "1eee9b32cea9e3c97408c2a88e200843",
     "grade": false,
     "grade_id": "cell-3bc1a19785c32349",
     "locked": true,
     "schema_version": 3,
     "solution": false,
     "task": false
    },
    "tags": []
   },
   "source": [
    "## `le()`\n",
    "\n",
    "On définit la relation d'ordre suivante entre 2 points du plan :    \n",
    "$$(x,y) \\le (x',y') \\iff x < x' \\text{ ou } (x = x' \\text{ et } y \\le y').$$  \n",
    "\n",
    "**A la différence de l'égalité, on n'utilisera pas l'opérateur `<=` de python entre deux \"tuple-points\".**\n",
    "\n",
    "Ecrire la fonction `le()` (\"le\" pour _lower or equal_) telle que `le(p, q)` retourne la comparaison $p \\le q$ pour $p$ et $q$ deux points du plan.  "
   ]
  },
  {
   "cell_type": "code",
   "execution_count": null,
   "metadata": {
    "deletable": false,
    "nbgrader": {
     "cell_type": "code",
     "checksum": "8b5f6866add75094e36a18b635e0400b",
     "grade": false,
     "grade_id": "cell-37fb7cc53813b983",
     "locked": false,
     "schema_version": 3,
     "solution": true,
     "task": false
    }
   },
   "outputs": [],
   "source": [
    "def le(p: tuple[float], q: tuple[float]) -> bool:\n",
    "    # ENTRER VOTRE CODE A LA PLACE DE CES 2 LIGNES\n",
    "    raise NotImplementedError()"
   ]
  },
  {
   "cell_type": "code",
   "execution_count": null,
   "metadata": {
    "deletable": false,
    "editable": false,
    "nbgrader": {
     "cell_type": "code",
     "checksum": "cfeb5d970f8ffe73da94dfc7ba30a07b",
     "grade": true,
     "grade_id": "cell-c255333d7357471e",
     "locked": true,
     "points": 1,
     "schema_version": 3,
     "solution": false,
     "task": false
    }
   },
   "outputs": [],
   "source": [
    "# Ne pas écrire dans cette cellule"
   ]
  },
  {
   "cell_type": "markdown",
   "metadata": {
    "deletable": false,
    "editable": false,
    "nbgrader": {
     "cell_type": "markdown",
     "checksum": "419f8e085ced8dfcb30730458d108617",
     "grade": false,
     "grade_id": "cell-2a92a5e287c9a777",
     "locked": true,
     "schema_version": 3,
     "solution": false,
     "task": false
    }
   },
   "source": [
    "**Auto-validation**"
   ]
  },
  {
   "cell_type": "code",
   "execution_count": null,
   "metadata": {
    "deletable": false,
    "editable": false,
    "nbgrader": {
     "cell_type": "code",
     "checksum": "16426c29b318f9f62150113d5cdf1364",
     "grade": false,
     "grade_id": "cell-4a9501fc3875553b",
     "locked": true,
     "schema_version": 3,
     "solution": false,
     "task": false
    }
   },
   "outputs": [],
   "source": [
    "assert le(O, O) == True\n",
    "assert le(O, I) == True\n",
    "assert le(I, J) == False\n",
    "assert le(J, I) == True\n",
    "assert le(J, O) == False"
   ]
  },
  {
   "cell_type": "markdown",
   "metadata": {
    "deletable": false,
    "editable": false,
    "nbgrader": {
     "cell_type": "markdown",
     "checksum": "e7ca7b0d19f8bb7783e0943c35f4373f",
     "grade": false,
     "grade_id": "cell-04ea8565890c72a1",
     "locked": true,
     "schema_version": 3,
     "solution": false,
     "task": false
    },
    "tags": []
   },
   "source": [
    "## `orientation()`\n",
    "\n",
    "![Orientation positive d'un triplet (p,q,r)](./fig/orient_pos.png)![Orientation négative d'un triplet (p,q,r)](./fig/orient_neg.png)\n",
    "\n",
    "Un triplet `(p,q,r)` de points _non alignés_ du plan est _orienté positivement_\n",
    "si l'angle des vecteurs `(pq, pr)` est dans $]0, \\pi \\ [$ (modulo $2\\pi$). \n",
    "Sinon, il est _orienté négativement_.\n",
    "\n",
    "On vérifie l'orientation du triplet `(p,q,r)` en calculant le signe de $det(pq,pr)$, le \n",
    "déterminant 2x2 des vecteurs `pq` et `pr`. \n",
    "\n",
    "**Le signe du déterminant et le sens d'orientation coïncident**. C-a-d. :\n",
    "- un déterminant nul indique 3 points alignés, \n",
    "- un déterminant positif indique un triplet orienté positivement,\n",
    "- et un déterminant négatif l'orientation opposée.\n",
    "\n",
    "On rappelle que :\n",
    "$$det(pq,pr) = (x_q - x_p)\\times(y_r - y_p) - (y_q - y_p)\\times(x_r -\n",
    "x_p).$$\n",
    "\n",
    "\n",
    "Ecrire la fonction `orientation()` qui :\n",
    "- retourne 0 si les 3 points sont alignés,\n",
    "- retourne 1 si les 3 points sont orientés positivement,\n",
    "- et retourne -1 sinon.  "
   ]
  },
  {
   "cell_type": "code",
   "execution_count": null,
   "metadata": {
    "deletable": false,
    "nbgrader": {
     "cell_type": "code",
     "checksum": "7b038a6cf033be73134c5dfd0d742dcf",
     "grade": false,
     "grade_id": "cell-94dc82cd40c0ac71",
     "locked": false,
     "schema_version": 3,
     "solution": true,
     "task": false
    }
   },
   "outputs": [],
   "source": [
    "def orientation(p: tuple[float], q: tuple[float], r: tuple[float]) -> int:\n",
    "    # ENTRER VOTRE CODE A LA PLACE DE CES 2 LIGNES\n",
    "    raise NotImplementedError()"
   ]
  },
  {
   "cell_type": "code",
   "execution_count": null,
   "metadata": {
    "deletable": false,
    "editable": false,
    "nbgrader": {
     "cell_type": "code",
     "checksum": "dbb1972ee2ca7f4245ca44cd086c3c38",
     "grade": true,
     "grade_id": "cell-3ffefccccf4cf039",
     "locked": true,
     "points": 1,
     "schema_version": 3,
     "solution": false,
     "task": false
    }
   },
   "outputs": [],
   "source": [
    "# Ne pas écrire dans cette cellule"
   ]
  },
  {
   "cell_type": "markdown",
   "metadata": {
    "deletable": false,
    "editable": false,
    "nbgrader": {
     "cell_type": "markdown",
     "checksum": "96e947988815f25c9e2b8abcde08fc2b",
     "grade": false,
     "grade_id": "cell-3f7f3abd7c6a818d",
     "locked": true,
     "schema_version": 3,
     "solution": false,
     "task": false
    }
   },
   "source": [
    "**Auto-validation**"
   ]
  },
  {
   "cell_type": "code",
   "execution_count": null,
   "metadata": {
    "deletable": false,
    "editable": false,
    "nbgrader": {
     "cell_type": "code",
     "checksum": "f04ed0248fbd101065703501184481ca",
     "grade": false,
     "grade_id": "cell-ede899e9273d36f2",
     "locked": true,
     "schema_version": 3,
     "solution": false,
     "task": false
    }
   },
   "outputs": [],
   "source": [
    "assert orientation(O, I, J) > 0\n",
    "assert orientation(J, I, O) < 0"
   ]
  },
  {
   "cell_type": "markdown",
   "metadata": {
    "deletable": false,
    "editable": false,
    "nbgrader": {
     "cell_type": "markdown",
     "checksum": "66bd93960be7334a04f2fc7a788f28f9",
     "grade": false,
     "grade_id": "cell-20030ece13d2e7a8",
     "locked": true,
     "schema_version": 3,
     "solution": false,
     "task": false
    }
   },
   "source": [
    "## `st()`\n",
    "\n",
    "Ecrire la fonction `st()` qui retourne les coordonnées d'un point `p = [x,y]` sous la forme de la chaîne de caractères `\"(x , y)\"`. Dans cette chaîne de caractères, les coordonnées \"x\" et \"y\" sont séparées par un espace, une virgule et un espace, le tout étant mis entre parenthèses. L'auto-validation de la cellule qui suit illustre le format attendu pour les points `O` et `I`. "
   ]
  },
  {
   "cell_type": "code",
   "execution_count": null,
   "metadata": {
    "deletable": false,
    "nbgrader": {
     "cell_type": "code",
     "checksum": "16b408ae7529e3904a1d6791247a6a16",
     "grade": false,
     "grade_id": "cell-3d8e0db8eb0fd9c9",
     "locked": false,
     "schema_version": 3,
     "solution": true,
     "task": false
    }
   },
   "outputs": [],
   "source": [
    "def st(p: tuple[float]) -> str:\n",
    "    # ENTRER VOTRE CODE A LA PLACE DE CES 2 LIGNES\n",
    "    raise NotImplementedError()"
   ]
  },
  {
   "cell_type": "code",
   "execution_count": null,
   "metadata": {
    "deletable": false,
    "editable": false,
    "nbgrader": {
     "cell_type": "code",
     "checksum": "b183031651f087b2063600483ec04335",
     "grade": true,
     "grade_id": "cell-c0414d6e698875c7",
     "locked": true,
     "points": 1,
     "schema_version": 3,
     "solution": false,
     "task": false
    }
   },
   "outputs": [],
   "source": [
    "# Ne pas écrire dans cette cellule"
   ]
  },
  {
   "cell_type": "markdown",
   "metadata": {
    "deletable": false,
    "editable": false,
    "nbgrader": {
     "cell_type": "markdown",
     "checksum": "f9c3e99ccb0df209faf728dbd5c7756b",
     "grade": false,
     "grade_id": "cell-e313f1585154b485",
     "locked": true,
     "schema_version": 3,
     "solution": false,
     "task": false
    }
   },
   "source": [
    "**Auto-validation**"
   ]
  },
  {
   "cell_type": "code",
   "execution_count": null,
   "metadata": {
    "deletable": false,
    "editable": false,
    "nbgrader": {
     "cell_type": "code",
     "checksum": "783a0705f76e56ed7175f4f8a3560485",
     "grade": false,
     "grade_id": "cell-5ec91260bd951ec8",
     "locked": true,
     "schema_version": 3,
     "solution": false,
     "task": false
    }
   },
   "outputs": [],
   "source": [
    "assert len(st(O)) == 11\n",
    "assert st(O) == \"(0.0 , 0.0)\"\n",
    "assert st(I) == \"(1.0 , 0.0)\""
   ]
  },
  {
   "cell_type": "markdown",
   "metadata": {
    "deletable": false,
    "editable": false,
    "nbgrader": {
     "cell_type": "markdown",
     "checksum": "4ce9d1ba05e28f3f9768746cb2d8eef2",
     "grade": false,
     "grade_id": "cell-d987cac374d524d7",
     "locked": true,
     "schema_version": 3,
     "solution": false,
     "task": false
    }
   },
   "source": [
    "L'affichage à l'écran des coordonnées d'un point `p` sera donc effectuée grâce au `print()` de la chaîne de caractères retournée par l'appel `st(p)`. La cellule suivante illustre ce traitement."
   ]
  },
  {
   "cell_type": "code",
   "execution_count": null,
   "metadata": {
    "deletable": false,
    "editable": false,
    "nbgrader": {
     "cell_type": "code",
     "checksum": "fa96c8954c52cbda4653ef9a7e35c0fd",
     "grade": false,
     "grade_id": "cell-41d93c1d54bf1c19",
     "locked": true,
     "schema_version": 3,
     "solution": false,
     "task": false
    }
   },
   "outputs": [],
   "source": [
    "print(st(O))\n",
    "print(st(I), st(J))"
   ]
  },
  {
   "cell_type": "markdown",
   "metadata": {
    "deletable": false,
    "editable": false,
    "nbgrader": {
     "cell_type": "markdown",
     "checksum": "09c07bea6b60ad2f308b6dccd715a42b",
     "grade": false,
     "grade_id": "cell-73381fdca685635e",
     "locked": true,
     "schema_version": 3,
     "solution": false,
     "task": false
    }
   },
   "source": [
    "# Nuage de points : traitements indispensables\n",
    "\n",
    "On se place dans le plan euclidien.\n",
    "\n",
    "- Un _nuage de points_ est un ensemble fini de points distincts du plan.\n",
    "- On représente un nuage de $n$ points par une liste de `n` \"tuple-points\" distincts et **triés par ordre croissant** selon la relation d'ordre `le()`."
   ]
  },
  {
   "cell_type": "markdown",
   "metadata": {
    "deletable": false,
    "editable": false,
    "nbgrader": {
     "cell_type": "markdown",
     "checksum": "f042c6763ab195d6f0d2402fc498a363",
     "grade": false,
     "grade_id": "cell-bb145f4eac007cbb",
     "locked": true,
     "schema_version": 3,
     "solution": false,
     "task": false
    }
   },
   "source": [
    "## Les nuages `C0`, `C1` et `C2`\n",
    "\n",
    "La cellule suivante définit\n",
    "- le nuage `C0` composé des 3 points `O`, `I` et `J`,\n",
    "- le nuage `C1` qui ajoute le point (1/4, 1/4) à `C0`,\n",
    "- le nuage `C2` qui ajoute le point (1/2, 3/4) à `C0`,\n",
    "\n",
    "Ces nuages seront utilisés par la suite.\n",
    "Noter l'ordre des points de leur représentation."
   ]
  },
  {
   "cell_type": "code",
   "execution_count": null,
   "metadata": {
    "deletable": false,
    "editable": false,
    "nbgrader": {
     "cell_type": "code",
     "checksum": "954af194b07f7e01e06e3015218dcd20",
     "grade": false,
     "grade_id": "cell-7f7a641892007a23",
     "locked": true,
     "schema_version": 3,
     "solution": false,
     "task": false
    }
   },
   "outputs": [],
   "source": [
    "C0 = [ (0., 0.), (0., 1.), (1., 0.) ]\n",
    "C1 = [ (0., 0.), (0., 1.), (0.25, 0.25), (1., 0.) ]\n",
    "C2 = [ (0., 0.), (0., 1.), (0.5, 0.75), (1., 0.) ]"
   ]
  },
  {
   "cell_type": "markdown",
   "metadata": {
    "deletable": false,
    "editable": false,
    "nbgrader": {
     "cell_type": "markdown",
     "checksum": "b0f98a72e2305f057e6dc1ae84371744",
     "grade": false,
     "grade_id": "cell-d8bfce05284a4cde",
     "locked": true,
     "schema_version": 3,
     "solution": false,
     "task": false
    }
   },
   "source": [
    "## `est_nuage()`\n",
    "\n",
    "Ecrire `est_nuage()` qui vérifie si une liste de `n` points représente, ou non, un nuage de `n` points.\n",
    "Cette fonction vérifie que la liste contient `n` points distincts et qu'ils sont stockés par ordre croissant.  "
   ]
  },
  {
   "cell_type": "code",
   "execution_count": null,
   "metadata": {
    "deletable": false,
    "nbgrader": {
     "cell_type": "code",
     "checksum": "509df87c08d8fd43d04413547ac718f6",
     "grade": false,
     "grade_id": "cell-d1c85f91822ba6f9",
     "locked": false,
     "schema_version": 3,
     "solution": true,
     "task": false
    }
   },
   "outputs": [],
   "source": [
    "def est_nuage(c: list[tuple[float]], n: int) -> bool:\n",
    "    # ENTRER VOTRE CODE A LA PLACE DE CES 2 LIGNES\n",
    "    raise NotImplementedError()"
   ]
  },
  {
   "cell_type": "code",
   "execution_count": null,
   "metadata": {
    "deletable": false,
    "editable": false,
    "nbgrader": {
     "cell_type": "code",
     "checksum": "b921356c068cc48a092b117d5cbd2550",
     "grade": true,
     "grade_id": "cell-e3684e8c7e3db79d",
     "locked": true,
     "points": 2,
     "schema_version": 3,
     "solution": false,
     "task": false
    }
   },
   "outputs": [],
   "source": [
    "# Ne pas écrire dans cette cellule"
   ]
  },
  {
   "cell_type": "markdown",
   "metadata": {
    "deletable": false,
    "editable": false,
    "nbgrader": {
     "cell_type": "markdown",
     "checksum": "0547b1370069a48be76a6271225ae604",
     "grade": false,
     "grade_id": "cell-b9a602b197f81719",
     "locked": true,
     "schema_version": 3,
     "solution": false,
     "task": false
    }
   },
   "source": [
    "**Auto-validation**"
   ]
  },
  {
   "cell_type": "code",
   "execution_count": null,
   "metadata": {
    "deletable": false,
    "editable": false,
    "nbgrader": {
     "cell_type": "code",
     "checksum": "e5323f7609ce567fc482b8b9cbff3d97",
     "grade": false,
     "grade_id": "cell-f45cd12bbfc679dd",
     "locked": true,
     "schema_version": 3,
     "solution": false,
     "task": false
    }
   },
   "outputs": [],
   "source": [
    "assert est_nuage(C0, 3) == True\n",
    "assert est_nuage(C1, 4) == True\n",
    "assert est_nuage(C2, 4) == True\n",
    "\n",
    "NO_C = [I, O, J]\n",
    "assert est_nuage(NO_C, 3) == False\n",
    "NO_C = [O, I, I]\n",
    "assert est_nuage(NO_C, 3) == False"
   ]
  },
  {
   "cell_type": "markdown",
   "metadata": {
    "deletable": false,
    "editable": false,
    "nbgrader": {
     "cell_type": "markdown",
     "checksum": "c969f15617bd1263b3f060a9f74d38ca",
     "grade": false,
     "grade_id": "cell-36aa087e9346171e",
     "locked": true,
     "schema_version": 3,
     "solution": false,
     "task": false
    }
   },
   "source": [
    "## `est_dans()`\n",
    "\n",
    "Ecrire **avec l'algorithme le plus efficace en terme de complexité en temps**, la fonction `est_dans()` qui indique si un point donné est, ou non, dans un nuage donné supposé **trié**."
   ]
  },
  {
   "cell_type": "code",
   "execution_count": null,
   "metadata": {
    "deletable": false,
    "nbgrader": {
     "cell_type": "code",
     "checksum": "1247df1cf721237e2fd457ccd63d6fec",
     "grade": false,
     "grade_id": "cell-a9faeb855958b7fb",
     "locked": false,
     "schema_version": 3,
     "solution": true,
     "task": false
    }
   },
   "outputs": [],
   "source": [
    "def est_dans(p: tuple[float], c: list[tuple[float]], n: int) -> bool:\n",
    "    # ENTRER VOTRE CODE A LA PLACE DE CES 2 LIGNES\n",
    "    raise NotImplementedError()"
   ]
  },
  {
   "cell_type": "code",
   "execution_count": null,
   "metadata": {
    "deletable": false,
    "editable": false,
    "nbgrader": {
     "cell_type": "code",
     "checksum": "7b1447a8556fb6449d1bb5ed8543230d",
     "grade": true,
     "grade_id": "cell-20bd61ceaf7d29aa",
     "locked": true,
     "points": 3,
     "schema_version": 3,
     "solution": false,
     "task": false
    }
   },
   "outputs": [],
   "source": [
    "# Ne pas écrire dans cette cellule"
   ]
  },
  {
   "cell_type": "markdown",
   "metadata": {
    "deletable": false,
    "editable": false,
    "nbgrader": {
     "cell_type": "markdown",
     "checksum": "d7e85d1692dcf518c61d838e0e806ab5",
     "grade": false,
     "grade_id": "cell-d4f345158584f34b",
     "locked": true,
     "schema_version": 3,
     "solution": false,
     "task": false
    }
   },
   "source": [
    "**Auto-validation**"
   ]
  },
  {
   "cell_type": "code",
   "execution_count": null,
   "metadata": {
    "deletable": false,
    "editable": false,
    "nbgrader": {
     "cell_type": "code",
     "checksum": "952dfd037e92e10cf7c7a33e46d93022",
     "grade": false,
     "grade_id": "cell-c891b48459496c57",
     "locked": true,
     "schema_version": 3,
     "solution": false,
     "task": false
    }
   },
   "outputs": [],
   "source": [
    "assert est_dans(O, C0, 3) == True\n",
    "assert est_dans(I, C0, 3) == True\n",
    "assert est_dans(J, C0, 3) == True\n",
    "assert est_dans((0.25, 0.25), C1, 4) == True\n",
    "assert est_dans((0.5, 0.75), C1, 4) == False"
   ]
  },
  {
   "cell_type": "markdown",
   "metadata": {
    "deletable": false,
    "editable": false,
    "nbgrader": {
     "cell_type": "markdown",
     "checksum": "bd35eebe18248f5f0dd62da7c5f53917",
     "grade": false,
     "grade_id": "cell-6dfa6a143e8b69f4",
     "locked": true,
     "schema_version": 3,
     "solution": false,
     "task": false
    }
   },
   "source": [
    "## `add_point()`\n",
    "\n",
    "Ecrire la fonction `add_point()` qui ajoute un point à un nuage de points. \n",
    "Cette fonction modifie le nuage **de façon efficace en terme de complexité en espace** (pas de copie inutile).\n",
    "En particulier, elle assure que le nuage obtenu est toujours composé de points distincts et ordonnés. "
   ]
  },
  {
   "cell_type": "code",
   "execution_count": null,
   "metadata": {
    "deletable": false,
    "nbgrader": {
     "cell_type": "code",
     "checksum": "5a3be13b21b060aa23f6e85b5558889a",
     "grade": false,
     "grade_id": "cell-d738e34601710e56",
     "locked": false,
     "schema_version": 3,
     "solution": true,
     "task": false
    }
   },
   "outputs": [],
   "source": [
    "def add_point(p: tuple[float], c: list[tuple[float]], n: int) -> None:\n",
    "    # ENTRER VOTRE CODE A LA PLACE DE CES 2 LIGNES\n",
    "    raise NotImplementedError()"
   ]
  },
  {
   "cell_type": "code",
   "execution_count": null,
   "metadata": {
    "deletable": false,
    "editable": false,
    "nbgrader": {
     "cell_type": "code",
     "checksum": "c98d9760071f358889c049388544e531",
     "grade": true,
     "grade_id": "cell-fc807df77078183a",
     "locked": true,
     "points": 2,
     "schema_version": 3,
     "solution": false,
     "task": false
    }
   },
   "outputs": [],
   "source": [
    "# Ne pas écrire dans cette cellule"
   ]
  },
  {
   "cell_type": "markdown",
   "metadata": {
    "deletable": false,
    "editable": false,
    "nbgrader": {
     "cell_type": "markdown",
     "checksum": "0a948559bc5a98d5fd27a9e01e2fa141",
     "grade": false,
     "grade_id": "cell-f12bee59957cb019",
     "locked": true,
     "schema_version": 3,
     "solution": false,
     "task": false
    }
   },
   "source": [
    "**Auto-validation**\n",
    "\n",
    "Remarque : cette auto-validation ne modifie pas le nuage constant `C0`. Elle introduit un autre nuage `c00`. "
   ]
  },
  {
   "cell_type": "code",
   "execution_count": null,
   "metadata": {
    "deletable": false,
    "editable": false,
    "nbgrader": {
     "cell_type": "code",
     "checksum": "ce2157e38088283e5eef85c67788016b",
     "grade": false,
     "grade_id": "cell-4ab62142bc85e495",
     "locked": true,
     "schema_version": 3,
     "solution": false,
     "task": false
    }
   },
   "outputs": [],
   "source": [
    "c00 = []\n",
    "assert est_nuage(c00, len(c00))\n",
    "\n",
    "add_point(O, c00, len(c00))\n",
    "assert len(c00) == 1\n",
    "assert est_nuage(c00, len(c00))\n",
    "\n",
    "add_point(I, c00, len(c00))\n",
    "assert len(c00) == 2\n",
    "assert est_nuage(c00, len(c00))\n",
    "\n",
    "add_point(J, c00, len(c00))\n",
    "assert len(c00) == 3\n",
    "assert est_nuage(c00, len(c00))\n",
    "\n",
    "for p in c00:\n",
    "    assert est_dans(p, C0, len(C0))"
   ]
  },
  {
   "cell_type": "markdown",
   "metadata": {
    "deletable": false,
    "editable": false,
    "hideCode": true,
    "nbgrader": {
     "cell_type": "markdown",
     "checksum": "6baf71fd95e6cb5783962c3ab979f693",
     "grade": false,
     "grade_id": "cell-4c5683415d8b8f57",
     "locked": true,
     "schema_version": 3,
     "solution": false,
     "task": false
    }
   },
   "source": [
    "# Piles en python : facile !\n",
    "\n",
    "Une _pile_ est une structure de données dite \"LIFO\" pour _Last In - First Out_. \n",
    "- Ainsi la dernière donnée ajoutée à la pile (on dit _empiler_) sera la première enlevée (on dit _dépiler_).   \n",
    "- On n'a pas besoin de connaître le nombre d'éléments empilés : il suffit de savoir si une pile _est vide_ ou non.  \n",
    "- La dernière valeur empilée est le _sommet_ de la pile.  \n",
    "- La _base_ de la pile est la dernière valeur qu'on pourra dépiler pour qu'elle devienne vide.\n",
    "\n",
    "On a déjà vu cette notion en cours : la pile des appels d'un traitement récursif.\n",
    "\n",
    "Dans la suite, on va avoir besoin de piles et d'empiler et dépiler des _points_ du plan.\n",
    "Les listes python permettent d'implanter très facilement de telles **piles de points**. \n",
    "\n",
    "La cellule suivante définit les traitements nécessaires et suffisants pour manipuler **toutes** les piles de ce sujet. \n",
    "\n",
    "- Ainsi exceptée l'initialisation d'une pile vide (`= []`), aucune manipulation directe de la liste qui représente une pile n'est nécessaire.\n",
    "- Remarquer que par cohérence avec la définition d'une pile, ces fonctions ne demandent pas la taille de la liste  qui la représente. "
   ]
  },
  {
   "cell_type": "code",
   "execution_count": null,
   "metadata": {
    "deletable": false,
    "editable": false,
    "nbgrader": {
     "cell_type": "code",
     "checksum": "bfb5ee84817122dd14497d8c5c9dcd5e",
     "grade": false,
     "grade_id": "cell-f87c015b705ca064",
     "locked": true,
     "schema_version": 3,
     "solution": false,
     "task": false
    }
   },
   "outputs": [],
   "source": [
    "def empiler(p: tuple[float], pile: list[tuple[float]]) -> None:\n",
    "    '''empile le point p sur le sommet de pile'''\n",
    "    pile.append(p)\n",
    "    return None\n",
    "\n",
    "def est_vide(pile: list[tuple[float]]) -> bool:\n",
    "    return len(pile) == 0\n",
    "\n",
    "def depiler(pile: list[tuple[float]]) -> tuple[float] :\n",
    "    '''dépile et retourne le point sommet de pile'''\n",
    "    assert not(est_vide(pile))\n",
    "    p = pile.pop()\n",
    "    return p"
   ]
  },
  {
   "cell_type": "markdown",
   "metadata": {
    "deletable": false,
    "editable": false,
    "nbgrader": {
     "cell_type": "markdown",
     "checksum": "65ef6e5d01357d46281e6ea1cd40052c",
     "grade": false,
     "grade_id": "cell-030a0e46c434e8a2",
     "locked": true,
     "schema_version": 3,
     "solution": false,
     "task": false
    }
   },
   "source": [
    "La cellule suivante illustre comment définir et utiliser facilement une pile `s`."
   ]
  },
  {
   "cell_type": "code",
   "execution_count": null,
   "metadata": {
    "deletable": false,
    "editable": false,
    "nbgrader": {
     "cell_type": "code",
     "checksum": "8dbac196e1f3a4ee4e5ab707cc881383",
     "grade": false,
     "grade_id": "cell-9bc3df2c110c5c7a",
     "locked": true,
     "schema_version": 3,
     "solution": false,
     "task": false
    }
   },
   "outputs": [],
   "source": [
    "s = [] # initialisation de la pile vide s \n",
    "assert est_vide(s) == True \n",
    "empiler(O, s) \n",
    "empiler(I, s) \n",
    "assert est_vide(s) == False\n",
    "p = depiler(s) \n",
    "assert p == I\n",
    "p = depiler(s) \n",
    "assert p == O\n",
    "assert est_vide(s) == True "
   ]
  },
  {
   "cell_type": "markdown",
   "metadata": {
    "deletable": false,
    "editable": false,
    "nbgrader": {
     "cell_type": "markdown",
     "checksum": "b57961ca35b2c4f81c5ec1db2c0e2c08",
     "grade": false,
     "grade_id": "cell-a4ebe8958ea98b6a",
     "locked": true,
     "schema_version": 3,
     "solution": false,
     "task": false
    }
   },
   "source": [
    "**Interprétation**\n",
    "\n",
    "Expliciter les états successifs de la pile `s` lors des traitements de la cellule ci-dessus."
   ]
  },
  {
   "cell_type": "markdown",
   "metadata": {
    "deletable": false,
    "nbgrader": {
     "cell_type": "markdown",
     "checksum": "debd4e2527ff606b8cb6c187aa222aea",
     "grade": true,
     "grade_id": "cell-7d96e0f0a026a190",
     "locked": false,
     "points": 1,
     "schema_version": 3,
     "solution": true,
     "task": false
    }
   },
   "source": [
    "> VOTRE REPONSE A LA PLACE DE CE TEXTE (format texte ou markdown)"
   ]
  },
  {
   "cell_type": "markdown",
   "metadata": {
    "deletable": false,
    "editable": false,
    "nbgrader": {
     "cell_type": "markdown",
     "checksum": "86f391c2aa363fa79d587e7d6b0d7b5b",
     "grade": false,
     "grade_id": "cell-565f7f643c532360",
     "locked": true,
     "schema_version": 3,
     "solution": false,
     "task": false
    }
   },
   "source": [
    "# Enveloppe convexe : on y va !\n",
    "\n",
    "Un ensemble $e$ est _convexe_  si le segment [p,q] qui relie deux\n",
    "points quelconques de $e$ est inclus dans $e$.  \n",
    "\n",
    "![exemple d'ensembles convexes et non convexe](./fig/conv.png)\n",
    "![exemple d'ensembles convexes et non convexe](./fig/no-conv.png)\n",
    "\n",
    "L'_enveloppe convexe_ d'un nuage de points `c` est le plus petit\n",
    "polygone convexe qui contient tous les points de `c`.\n",
    "\n",
    "![L'enveloppe convexe du nuage de points 'data_nuage_10.txt'](./fig/env_conv10.png)\n",
    "![L'enveloppe convexe du nuage de points 'data_nuage_100.txt'](./fig/env_conv100.png)\n",
    "\n",
    "De façon imagée, si on représente un nuage de points du plan par des clous plantés sur une planche, l'enveloppe convexe du nuage de points est un élastique qui engloble tous les clous (voir figure en début de sujet).\n",
    "\n",
    "On va étudier un algorithme qui construit l'enveloppe convexe d'un nuage de points. \n",
    "\n",
    "- On part d'un nuage `c` trié par ordre croissant.\n",
    "- `p0` désigne le plus petit point de `c`, _ie._ celui le plus \"en bas à gauche\".  \n",
    "- On balaie de gauche à droite avec une droite verticale le nuage `c`.\n",
    "- Chaque point `p` rencontré par la droite verticale met à jour l'enveloppe convexe (\\*) du sous-nuage à gauche de ce point `p`. \n",
    "    - La _partie supérieure_ de l'enveloppe convexe est au dessus du segment `[p0, p]`.  \n",
    "    - La _partie inférieure_ de l'enveloppe convexe est en dessous du segment `[p0, p]`. \n",
    "\n",
    "On note respectivement `esup` et  `einf` les parties supérieure et inférieure de l'enveloppe convexe.\n",
    "\n",
    "En pratique, cet algorithme : \n",
    "- construit d'abord la partie supérieure `esup` de l'enveloppe convexe, \n",
    "- puis sa partie inférieure `einf`,\n",
    "- et en déduit l'enveloppe convexe après un (petit) traitement de ces parties supérieure et inférieure.\n",
    "\n",
    "Ainsi la mise à jour (\\*) s'effectue en fait sur les parties supérieure et inférieure de l'enveloppe convexe.  "
   ]
  },
  {
   "cell_type": "markdown",
   "metadata": {
    "deletable": false,
    "editable": false,
    "nbgrader": {
     "cell_type": "markdown",
     "checksum": "d334d265acc26d40a25951566b5c0d10",
     "grade": false,
     "grade_id": "cell-f897e285aad0a6c6",
     "locked": true,
     "schema_version": 3,
     "solution": false,
     "task": false
    }
   },
   "source": [
    "Détaillons maintenant comment construire l'enveloppe supérieure `esup`. \n",
    "Une approche similaire permettra de construire l'enveloppe inférieure `einf`.\n",
    "\n",
    "- `esup` est une pile, \n",
    "- `esup` est initialisée comme suit :\n",
    "    - La base de `esup` est le point `p0`, \n",
    "    - puis on empile ensuite `p1` le point immédiatement supérieur à `p0`.\n",
    "- La pile `esup` est ainsi composée d'au moins deux éléments.  \n",
    "\n",
    "On balaye de gauche à droite le nuage de points.\n",
    "Pour chaque point `p` rencontré :  \n",
    "- on dépile `q` puis `r` les 2 derniers points empilés sur `esup`,\n",
    "- on teste l'orientation `(p, q, r)`.\n",
    "    - Si \"orientation >= 0\", on empile `r`, `q` puis `p` ; et c'est fini pour `p`.\n",
    "    - Sinon :\n",
    "        - on empile `r` (`q` n'est définitivement plus dans `esup`) \n",
    "        - on recommence à tester l'orientation `(p, q, r)` où `q` et `r` sont les 2 derniers points empilés sur `esup` \n",
    "            - jusqu'à réussir \"orientation >= 0\" et comme précédemment, on empile `r`, `q` puis `p` et c'est fini pour `p` ;\n",
    "            - ou que `esup` ne contienne plus qu'un point \n",
    "                - dans ce cas, on on empile `p` et c'est fini pour `p`."
   ]
  },
  {
   "cell_type": "markdown",
   "metadata": {
    "deletable": false,
    "editable": false,
    "nbgrader": {
     "cell_type": "markdown",
     "checksum": "ee590f907a377de0c1171c847fd6f730",
     "grade": false,
     "grade_id": "cell-e82d60102c846fb5",
     "locked": true,
     "schema_version": 3,
     "solution": false,
     "task": false
    }
   },
   "source": [
    "## `majesup()`\n",
    "\n",
    "Ecrire la fonction `majesup()` (\"mise à jour enveloppe supérieure\") qui applique cet algorithme pour ajouter ou non, **un point `p`** donné à l'enveloppe supérieure `pile` d'un nuage de points `c` donné.\n",
    "\n",
    "Remarque : cette fonction suppose que `pile` existe et a été initialisée comme indiqué ci-dessus, _ie._ avec `p0` et `p1`."
   ]
  },
  {
   "cell_type": "code",
   "execution_count": null,
   "metadata": {
    "deletable": false,
    "nbgrader": {
     "cell_type": "code",
     "checksum": "d7ed4ab549eaf641e2a28f640257af4e",
     "grade": false,
     "grade_id": "cell-6a9baee2a4de066c",
     "locked": false,
     "schema_version": 3,
     "solution": true,
     "task": false
    }
   },
   "outputs": [],
   "source": [
    "def majesup(p: tuple[float], pile: list[tuple[float]]) -> None:\n",
    "    # ENTRER VOTRE CODE A LA PLACE DE CES 2 LIGNES\n",
    "    raise NotImplementedError()"
   ]
  },
  {
   "cell_type": "code",
   "execution_count": null,
   "metadata": {
    "deletable": false,
    "editable": false,
    "nbgrader": {
     "cell_type": "code",
     "checksum": "7f6fd8bd30a58ac758c2e10bf2900ba3",
     "grade": true,
     "grade_id": "cell-f85c7a70cd06a6d2",
     "locked": true,
     "points": 2,
     "schema_version": 3,
     "solution": false,
     "task": false
    }
   },
   "outputs": [],
   "source": [
    "# Ne pas écrire dans cette cellule"
   ]
  },
  {
   "cell_type": "markdown",
   "metadata": {
    "deletable": false,
    "editable": false,
    "nbgrader": {
     "cell_type": "markdown",
     "checksum": "20bf0a209835bfcd869cdddfadcac556",
     "grade": false,
     "grade_id": "cell-0b596d7a93c5b334",
     "locked": true,
     "schema_version": 3,
     "solution": false,
     "task": false
    }
   },
   "source": [
    "**Auto-validation**\n",
    "\n",
    "- Les enveloppes convexes inférieures des nuages `C0` et `C1` sont égales et contiennnent tous les points de `C0`.\n",
    "- Celle du nuage `C2` contient tous les points de `C2`."
   ]
  },
  {
   "cell_type": "code",
   "execution_count": null,
   "metadata": {
    "deletable": false,
    "editable": false,
    "nbgrader": {
     "cell_type": "code",
     "checksum": "7a3aed12c95d432169f5093f02e84a12",
     "grade": false,
     "grade_id": "cell-273c209f898618e7",
     "locked": true,
     "schema_version": 3,
     "solution": false,
     "task": false
    }
   },
   "outputs": [],
   "source": [
    "# enveloppe supérieure du nuage C0=(O,J,I)\n",
    "assert len(C0) > 1\n",
    "\n",
    "# intialisation de l'enveloppe sup es de C0\n",
    "es = []\n",
    "empiler(C0[0], es)\n",
    "empiler(C0[1], es)\n",
    "assert es == [(0.0, 0.0), (0.0, 1.0)]\n",
    "\n",
    "# majesup pour le dernier point de C0\n",
    "for i in range(2, len(C0)):\n",
    "    majesup(C0[i], es)\n",
    "assert es == [(0.0, 0.0), (0.0, 1.0), (1.0, 0.0)]\n",
    "\n",
    "# intialisation de l'enveloppe sup es de C1=(O,I,J,(1/4,1/4))\n",
    "es = []\n",
    "empiler(C1[0], es)\n",
    "empiler(C1[1], es)\n",
    "\n",
    "# majesup pour les points de C1\n",
    "for i in range(2, len(C1)):\n",
    "    majesup(C1[i], es)\n",
    "assert es == [(0.0, 0.0), (0.0, 1.0), (1.0, 0.0)]\n",
    "\n",
    "# intialisation de l'enveloppe sup es de C2=(O,I,J,(1/2,3/4))\n",
    "es = []\n",
    "empiler(C2[0], es)\n",
    "empiler(C2[1], es)\n",
    "\n",
    "# majesup pour les points de C2\n",
    "for i in range(2, len(C2)):\n",
    "    majesup(C2[i], es)\n",
    "assert es == [(0.0, 0.0), (0.0, 1.0), (0.5, 0.75), (1.0, 0.0)]"
   ]
  },
  {
   "cell_type": "markdown",
   "metadata": {
    "deletable": false,
    "editable": false,
    "nbgrader": {
     "cell_type": "markdown",
     "checksum": "8f88abf260d291bf33f3777b5b320bc5",
     "grade": false,
     "grade_id": "cell-c4551bb1fa68637a",
     "locked": true,
     "schema_version": 3,
     "solution": false,
     "task": false
    }
   },
   "source": [
    "## `majeinf()`\n",
    "\n",
    "L'_enveloppe convexe inférieure_ est obtenue de façon similaire avec une deuxième pile `einf` et un test d'orientation inverse.  \n",
    "\n",
    "Ecrire la fonction `majeinf()` qui ajoute ou non, un point `p` donné à l'enveloppe inférieure `pile` d'un nuage de points `c` donné.\n",
    "\n",
    "Remarque : cette fonction suppose que `pile` existe et a été initialisée comme indiqué ci-dessus, _ie._ avec `p0` et `p1`."
   ]
  },
  {
   "cell_type": "code",
   "execution_count": null,
   "metadata": {
    "deletable": false,
    "nbgrader": {
     "cell_type": "code",
     "checksum": "6084a3c074317c2cd87fa2f9e2094238",
     "grade": false,
     "grade_id": "cell-c3395652cabe99ca",
     "locked": false,
     "schema_version": 3,
     "solution": true,
     "task": false
    }
   },
   "outputs": [],
   "source": [
    "def majeinf(p: tuple[float], pile: list[tuple[float]]) -> None:\n",
    "    # ENTRER VOTRE CODE A LA PLACE DE CES 2 LIGNES\n",
    "    raise NotImplementedError()"
   ]
  },
  {
   "cell_type": "code",
   "execution_count": null,
   "metadata": {
    "deletable": false,
    "editable": false,
    "nbgrader": {
     "cell_type": "code",
     "checksum": "1c28ededcef34568d26c8934437a42a3",
     "grade": true,
     "grade_id": "cell-53c873d3b23f6f2c",
     "locked": true,
     "points": 1,
     "schema_version": 3,
     "solution": false,
     "task": false
    }
   },
   "outputs": [],
   "source": [
    "# Ne pas écrire dans cette cellule"
   ]
  },
  {
   "cell_type": "markdown",
   "metadata": {
    "deletable": false,
    "editable": false,
    "nbgrader": {
     "cell_type": "markdown",
     "checksum": "ee9369f30a3f434f47d6319685a22db0",
     "grade": false,
     "grade_id": "cell-40eb2be82f29f530",
     "locked": true,
     "schema_version": 3,
     "solution": false,
     "task": false
    }
   },
   "source": [
    "**Auto-validation**\n",
    "\n",
    "Les enveloppes convexes inférieures des trois nuages `C0, C1` et `C2` sont égales."
   ]
  },
  {
   "cell_type": "code",
   "execution_count": null,
   "metadata": {
    "deletable": false,
    "editable": false,
    "nbgrader": {
     "cell_type": "code",
     "checksum": "3dd9a8cb68d5af2303ff622f2b003df7",
     "grade": false,
     "grade_id": "cell-a943a5e11887e8c7",
     "locked": true,
     "schema_version": 3,
     "solution": false,
     "task": false
    }
   },
   "outputs": [],
   "source": [
    "# enveloppe inférieure du nuage (O,I,J)\n",
    "assert len(C0) > 1\n",
    "\n",
    "for c in (C0, C1, C2):\n",
    "    ei = []\n",
    "    # initialisation ei\n",
    "    empiler(c[0], ei)\n",
    "    empiler(c[1], ei)\n",
    "\n",
    "    # majeinf pour les autres points de c\n",
    "    for i in range(2, len(c)):\n",
    "        majeinf(c[i], ei)\n",
    "    \n",
    "    # toutes les ei sont les mêmes\n",
    "    assert ei == [(0.0, 0.0), (1.0, 0.0)]"
   ]
  },
  {
   "cell_type": "markdown",
   "metadata": {
    "deletable": false,
    "editable": false,
    "nbgrader": {
     "cell_type": "markdown",
     "checksum": "72d35f9644df0af40d625bb9ecbc6fdf",
     "grade": false,
     "grade_id": "cell-596bc7b5e4301feb",
     "locked": true,
     "schema_version": 3,
     "solution": false,
     "task": false
    }
   },
   "source": [
    "## `env_convexe()`\n",
    "\n",
    "L'enveloppe convexe `econv` est une pile construite à partir des piles  `esup` et `einf` en y ajoutant successivement chaque point visité par le parcours suivant :  \n",
    "1. l'enveloppe convexe supérieure est parcourue de la gauche vers la droite, _ie._ en partant de `p0`, \n",
    "2. puis l'enveloppe convexe inférieure est parcourue de la droite vers la gauche, _ie._ en allant vers `p0`,  \n",
    "3. **cependant** l'extrémité droite de l'une **ou** de l'autre de ces enveloppes **n'est pas répétée**,\n",
    "    - cette extrémité est le point le plus \"en haut à droite\" du nuage du point\n",
    "    - il est présent dans les enveloppes convexes supérieure et inférieure\n",
    "4. le sommet de `econv` répète naturellement sa base `p0`."
   ]
  },
  {
   "cell_type": "markdown",
   "metadata": {
    "deletable": false,
    "editable": false,
    "nbgrader": {
     "cell_type": "markdown",
     "checksum": "a04848c8ddbf5c3bb253e0e4c2e252b9",
     "grade": false,
     "grade_id": "cell-ba738f524eaa8938",
     "locked": true,
     "schema_version": 3,
     "solution": false,
     "task": false
    }
   },
   "source": [
    "Ecrire la fonction `env_convexe()` qui génère l'enveloppe convexe `econv` d'un nuage de points `c` donné. Cette fonction utilisera les fonctions `majesup()` et `majeinf()` pour obtenir les parties supérieure et inférieure, puis effectuera la construction décrite pour obtenir et retourner `econv`.\n",
    "Ainsi, les parties supérieure et inférieure de cette construction seront pas ré-utilisées à l'extérieur de cette fonction. "
   ]
  },
  {
   "cell_type": "code",
   "execution_count": null,
   "metadata": {
    "deletable": false,
    "nbgrader": {
     "cell_type": "code",
     "checksum": "699fd87c9fc72dae286b79d1fcfb05af",
     "grade": false,
     "grade_id": "cell-81aa19cac5c969be",
     "locked": false,
     "schema_version": 3,
     "solution": true,
     "task": false
    }
   },
   "outputs": [],
   "source": [
    "def env_convexe(c : list[tuple[float]], n : int) -> list[tuple[float]]:\n",
    "    # ENTRER VOTRE CODE A LA PLACE DE CES 2 LIGNES\n",
    "    raise NotImplementedError()"
   ]
  },
  {
   "cell_type": "code",
   "execution_count": null,
   "metadata": {
    "deletable": false,
    "editable": false,
    "nbgrader": {
     "cell_type": "code",
     "checksum": "5e91b870df00bebfa58e0988496f6c70",
     "grade": true,
     "grade_id": "cell-cc39fadb72ba275d",
     "locked": true,
     "points": 2,
     "schema_version": 3,
     "solution": false,
     "task": false
    }
   },
   "outputs": [],
   "source": [
    "# Ne pas écrire dans cette cellule"
   ]
  },
  {
   "cell_type": "markdown",
   "metadata": {
    "deletable": false,
    "editable": false,
    "nbgrader": {
     "cell_type": "markdown",
     "checksum": "dbbbca1392f62af30a75846e76d7f372",
     "grade": false,
     "grade_id": "cell-98034d355b572044",
     "locked": true,
     "schema_version": 3,
     "solution": false,
     "task": false
    }
   },
   "source": [
    "**Auto-validation**"
   ]
  },
  {
   "cell_type": "code",
   "execution_count": null,
   "metadata": {
    "deletable": false,
    "editable": false,
    "nbgrader": {
     "cell_type": "code",
     "checksum": "e65c289ba09a1b98af5f570f1791dd0d",
     "grade": false,
     "grade_id": "cell-e38a05c48ff94993",
     "locked": true,
     "schema_version": 3,
     "solution": false,
     "task": false
    }
   },
   "outputs": [],
   "source": [
    "assert env_convexe(C0, 3) == [(0.0, 0.0), (0.0, 1.0), (1.0, 0.0), (0.0, 0.0)]\n",
    "assert env_convexe(C1, 4) == [(0.0, 0.0), (0.0, 1.0), (1.0, 0.0), (0.0, 0.0)]\n",
    "assert env_convexe(C2, 4) == [(0.0, 0.0), (0.0, 1.0), (0.5, 0.75), (1.0, 0.0), (0.0, 0.0)]"
   ]
  },
  {
   "cell_type": "markdown",
   "metadata": {
    "deletable": false,
    "editable": false,
    "nbgrader": {
     "cell_type": "markdown",
     "checksum": "69baeecc360865a0d6f25481d41f67df",
     "grade": false,
     "grade_id": "cell-f81e26a16d688b3b",
     "locked": true,
     "schema_version": 3,
     "solution": false,
     "task": false
    }
   },
   "source": [
    "#  Tracer des nuages et leurs enveloppes convexes\n",
    "\n",
    "Qui dit tracer, dit `matplotlib` :"
   ]
  },
  {
   "cell_type": "code",
   "execution_count": null,
   "metadata": {
    "deletable": false,
    "editable": false,
    "nbgrader": {
     "cell_type": "code",
     "checksum": "e7ad54407982bdc126fff5e98783a811",
     "grade": false,
     "grade_id": "cell-8c27154d80018ab7",
     "locked": true,
     "schema_version": 3,
     "solution": false,
     "task": false
    }
   },
   "outputs": [],
   "source": [
    "import matplotlib.pyplot as plt"
   ]
  },
  {
   "cell_type": "markdown",
   "metadata": {
    "deletable": false,
    "editable": false,
    "nbgrader": {
     "cell_type": "markdown",
     "checksum": "93cc66e08b6824c2fce66c5d1744e322",
     "grade": false,
     "grade_id": "cell-1d9db36585ee145e",
     "locked": true,
     "schema_version": 3,
     "solution": false,
     "task": false
    }
   },
   "source": [
    "- En complément du cours, des feuilles résumés de niveau débutant et intermédiaires sont en ligne sous moodle\n",
    "- `plt.plot` trace selon la même logique aussi bien des courbes (de points) que des nuages (de points)"
   ]
  },
  {
   "cell_type": "markdown",
   "metadata": {
    "deletable": false,
    "editable": false,
    "nbgrader": {
     "cell_type": "markdown",
     "checksum": "e7bbfa34f1ff2c5f8f208f1a20bccb99",
     "grade": false,
     "grade_id": "cell-68a2f7e73bc660e6",
     "locked": true,
     "schema_version": 3,
     "solution": false,
     "task": false
    },
    "tags": []
   },
   "source": [
    "## `plot_nuage()`\n",
    "\n",
    "Utiliser `matplotlib` pour écrire `plot_nuage()` qui permet d'obtenir le tracé d'un nuage donné selon le modèle suivant. \n",
    "Le paramètre optionnel `nom_nuage` permet de préciser le titre du tracé."
   ]
  },
  {
   "cell_type": "code",
   "execution_count": null,
   "metadata": {
    "deletable": false,
    "nbgrader": {
     "cell_type": "code",
     "checksum": "30f52d9b061c157bc968ceff1e1bbea7",
     "grade": true,
     "grade_id": "cell-e32df0e15f959fa1",
     "locked": false,
     "points": 1,
     "schema_version": 3,
     "solution": true,
     "task": false
    }
   },
   "outputs": [],
   "source": [
    "def plot_nuage(c: list[tuple[float]], n: int, nom_nuage : str = \"\") -> None:\n",
    "    # ENTRER VOTRE CODE A LA PLACE DE CES 2 LIGNES\n",
    "    raise NotImplementedError()"
   ]
  },
  {
   "cell_type": "markdown",
   "metadata": {
    "deletable": false,
    "editable": false,
    "nbgrader": {
     "cell_type": "markdown",
     "checksum": "248f10f08868f895f1196e3ad20d0195",
     "grade": false,
     "grade_id": "cell-7ca2d68d045b1efa",
     "locked": true,
     "schema_version": 3,
     "solution": false,
     "task": false
    }
   },
   "source": [
    "**Modèle pour auto-validation**\n",
    "\n",
    "![C0.png](fig/C0.png)\n",
    "\n",
    "Ce tracé est obtenu par l'exécution de la cellule suivante. "
   ]
  },
  {
   "cell_type": "code",
   "execution_count": null,
   "metadata": {
    "deletable": false,
    "editable": false,
    "nbgrader": {
     "cell_type": "code",
     "checksum": "d13c6fb55f07a46dff20b9fac6c4cf6f",
     "grade": false,
     "grade_id": "cell-c66e81168506b3f6",
     "locked": true,
     "schema_version": 3,
     "solution": false,
     "task": false
    }
   },
   "outputs": [],
   "source": [
    "plot_nuage(C0, len(C0), \"C0\")"
   ]
  },
  {
   "cell_type": "markdown",
   "metadata": {
    "deletable": false,
    "editable": false,
    "nbgrader": {
     "cell_type": "markdown",
     "checksum": "4b25c040c48a9edffbd51945256b6d8d",
     "grade": false,
     "grade_id": "cell-a5d05d7b315f1be6",
     "locked": true,
     "schema_version": 3,
     "solution": false,
     "task": false
    }
   },
   "source": [
    "**Application**\n",
    "\n",
    "Tracer les nuages `C1` et `C2`."
   ]
  },
  {
   "cell_type": "code",
   "execution_count": null,
   "metadata": {
    "deletable": false,
    "nbgrader": {
     "cell_type": "code",
     "checksum": "191d873f4f09afd132e6fd112f2c8545",
     "grade": true,
     "grade_id": "cell-193254f8478b7f1a",
     "locked": false,
     "points": 1,
     "schema_version": 3,
     "solution": true,
     "task": false
    }
   },
   "outputs": [],
   "source": [
    "# ENTRER VOTRE CODE A LA PLACE DE CES 2 LIGNES\n",
    "raise NotImplementedError()"
   ]
  },
  {
   "cell_type": "markdown",
   "metadata": {
    "deletable": false,
    "editable": false,
    "nbgrader": {
     "cell_type": "markdown",
     "checksum": "e5e67833540da38ca4236865be6901e3",
     "grade": false,
     "grade_id": "cell-eb28543df2a4b790",
     "locked": true,
     "schema_version": 3,
     "solution": false,
     "task": false
    }
   },
   "source": [
    "## ($\\star$) `plot_env_convexe()`\n",
    "\n",
    "`plot_env_convexe()` trace le nuage de `n` points `c` et son enveloppe convexe. \n",
    "De façon optionnnelle, le tracé est sauvegardé dans le fichier `filename`.\n",
    "\n",
    "Le tracé de l'enveloppe convexe s'appuie sur le module `numpy`  et des sous-modules de `matplotlib` :\n",
    "- le module `numpy` définit la \"fonction-méthode\" `array` qui transforme d'une pile de points en un tableau de type `ndarray` de points\n",
    "- le sous-module `matplotlib.path` définit la \"fonction-méthode\" `Path` qui, à partir d'un `ndarray` de points, construit et retourne la suite des segments qui relient deux points successifs. \n",
    "- le module `matplotlib.patches` définit la \"fonction-méthode\" `PathPatch` qui construit et retourne la surface intérieure définie par sa frontière -- comme par exemple une suite de segments. Le paramètre `facecolor = yellow` colore cette surface comme pour les tracés donnés précédemment.     \n",
    "\n",
    "La cellule suivante illustre l'utilisation des ces 3 fonctions méthodes sur les points du nuage `C0`."
   ]
  },
  {
   "cell_type": "code",
   "execution_count": null,
   "metadata": {
    "deletable": false,
    "editable": false,
    "nbgrader": {
     "cell_type": "code",
     "checksum": "e2bad90dbeb2580ba9e609dea050b720",
     "grade": false,
     "grade_id": "cell-2354007df9988f78",
     "locked": true,
     "schema_version": 3,
     "solution": false,
     "task": false
    }
   },
   "outputs": [],
   "source": [
    "import numpy as np\n",
    "import matplotlib.pyplot as plt\n",
    "from matplotlib.path import Path \n",
    "import matplotlib.patches as patches\n",
    "\n",
    "# transforme une liste de points en un ndarray de points\n",
    "t_c0 = np.array(C0)\n",
    "print(t_c0)\n",
    "print(t_c0[:,0], t_c0[:,1])\n",
    "\n",
    "# définit la suite des segments qui relie 2 points successifs d'un ndarray de points\n",
    "p_c0 = Path(t_c0)\n",
    "\n",
    "# définit et colore en 'yellow' la surface intérieure de frontière la suite de segments p_c0\n",
    "s_c0 = patches.PathPatch(p_c0, facecolor='yellow')\n",
    "\n",
    "# trace les 3 points de C0 et la surface intérieure colorée qu'ils définissent \n",
    "fig, ax = plt.subplots()\n",
    "ax.plot(t_c0[:,0], t_c0[:,1], 'o') \n",
    "ax.add_patch(s_c0)\n"
   ]
  },
  {
   "cell_type": "code",
   "execution_count": null,
   "metadata": {
    "deletable": false,
    "nbgrader": {
     "cell_type": "code",
     "checksum": "7e545ae14b280911592d7541a8e81eb0",
     "grade": true,
     "grade_id": "cell-b0d65e0c60aa1875",
     "locked": false,
     "points": 2,
     "schema_version": 3,
     "solution": true,
     "task": false
    }
   },
   "outputs": [],
   "source": [
    "import numpy as np\n",
    "import matplotlib.pyplot as plt\n",
    "from matplotlib.path import Path \n",
    "import matplotlib.patches as patches\n",
    "\n",
    "def plot_env_convexe(c : list[tuple[float]], n: int, nom_nuage: str = \"\", filename: str = None) -> None:\n",
    "    # ENTRER VOTRE CODE A LA PLACE DE CES 2 LIGNES\n",
    "    raise NotImplementedError()"
   ]
  },
  {
   "cell_type": "markdown",
   "metadata": {
    "deletable": false,
    "editable": false,
    "nbgrader": {
     "cell_type": "markdown",
     "checksum": "438b7d48b133b34bea21867a2a9904f7",
     "grade": false,
     "grade_id": "cell-916a210c13910764",
     "locked": true,
     "schema_version": 3,
     "solution": false,
     "task": false
    }
   },
   "source": [
    "**Modèle pour auto-validation**\n",
    "\n",
    "![C0.png](fig/envC0.png)\n",
    "\n",
    "Ce tracé est obtenu par l'exécution de la cellule suivante. "
   ]
  },
  {
   "cell_type": "code",
   "execution_count": null,
   "metadata": {
    "deletable": false,
    "editable": false,
    "nbgrader": {
     "cell_type": "code",
     "checksum": "89446fdd8ac9b52357613f1c0fb63415",
     "grade": false,
     "grade_id": "cell-fbfe68f814b00b83",
     "locked": true,
     "schema_version": 3,
     "solution": false,
     "task": false
    }
   },
   "outputs": [],
   "source": [
    "plot_env_convexe(C0, 3, \"C0\")"
   ]
  },
  {
   "cell_type": "markdown",
   "metadata": {
    "deletable": false,
    "editable": false,
    "nbgrader": {
     "cell_type": "markdown",
     "checksum": "c67f1e489462ceea453b98ec375ff7f2",
     "grade": false,
     "grade_id": "cell-32adae86ef0051b9",
     "locked": true,
     "schema_version": 3,
     "solution": false,
     "task": false
    }
   },
   "source": [
    "**Application**\n",
    "\n",
    "Tracer les nuages `C1` et `C2`accompagnés de leur enveloppe convexe."
   ]
  },
  {
   "cell_type": "code",
   "execution_count": null,
   "metadata": {
    "deletable": false,
    "nbgrader": {
     "cell_type": "code",
     "checksum": "4e5d382a733e8537b75c4f67f0d5ebf3",
     "grade": true,
     "grade_id": "cell-126d97a0a56e8bdf",
     "locked": false,
     "points": 1,
     "schema_version": 3,
     "solution": true,
     "task": false
    }
   },
   "outputs": [],
   "source": [
    "# ENTRER VOTRE CODE A LA PLACE DE CES 2 LIGNES\n",
    "raise NotImplementedError()"
   ]
  },
  {
   "cell_type": "markdown",
   "metadata": {
    "deletable": false,
    "editable": false,
    "nbgrader": {
     "cell_type": "markdown",
     "checksum": "1a09e4e3a7b2df01bcaa28b43ad84214",
     "grade": false,
     "grade_id": "cell-c636338ee046a3ee",
     "locked": true,
     "schema_version": 3,
     "solution": false,
     "task": false
    }
   },
   "source": [
    "# ($\\star$) Deux tracés plus complets\n",
    "\n",
    "On finit ce travail en calculant et en traçant l'enveloppe convexe :\n",
    "- d'un nuage de point aléatoires et\n",
    "- d'un nuage de point définis dans un fichier."
   ]
  },
  {
   "cell_type": "markdown",
   "metadata": {
    "deletable": false,
    "editable": false,
    "nbgrader": {
     "cell_type": "markdown",
     "checksum": "a6e38eb184fde2acd6294268a3a28dc0",
     "grade": false,
     "grade_id": "cell-924829edce64fc99",
     "locked": true,
     "schema_version": 3,
     "solution": false,
     "task": false
    }
   },
   "source": [
    "## Nuage aléatoire"
   ]
  },
  {
   "cell_type": "markdown",
   "metadata": {
    "deletable": false,
    "editable": false,
    "nbgrader": {
     "cell_type": "markdown",
     "checksum": "b1f528792394fdc0903304aba38c27f5",
     "grade": false,
     "grade_id": "cell-1a2e459b30e0fcf0",
     "locked": true,
     "schema_version": 3,
     "solution": false,
     "task": false
    },
    "tags": []
   },
   "source": [
    "### `genere_nuage()`\n",
    "\n",
    "Ecrire la fonction `genere_nuage()` qui génère et retourne un nuage de `n` points aléatoires du carré `[0, 1] x [0, 1]`.\n",
    "Se souvenir que les points d'un nuage sont triés de façon croissante selon `le`.\n",
    "La figure suivante est un exemple d'un tel nuage.\n",
    "\n",
    "![Un nuage de points aléatoires](fig/nuage.png)"
   ]
  },
  {
   "cell_type": "code",
   "execution_count": null,
   "metadata": {
    "deletable": false,
    "nbgrader": {
     "cell_type": "code",
     "checksum": "d82478187f53181540905aed713394f0",
     "grade": false,
     "grade_id": "cell-60a06cbe44b67570",
     "locked": false,
     "schema_version": 3,
     "solution": true,
     "task": false
    }
   },
   "outputs": [],
   "source": [
    "import random\n",
    "def genere_nuage(n: int) -> list[tuple[float]]:\n",
    "    # ENTRER VOTRE CODE A LA PLACE DE CES 2 LIGNES\n",
    "    raise NotImplementedError()"
   ]
  },
  {
   "cell_type": "code",
   "execution_count": null,
   "metadata": {
    "deletable": false,
    "editable": false,
    "nbgrader": {
     "cell_type": "code",
     "checksum": "c92ecd7f07b95e26271ba41ac760f106",
     "grade": true,
     "grade_id": "cell-d9173a8c6d830921",
     "locked": true,
     "points": 1,
     "schema_version": 3,
     "solution": false,
     "task": false
    }
   },
   "outputs": [],
   "source": [
    "# Ne pas écrire dans cette cellule"
   ]
  },
  {
   "cell_type": "markdown",
   "metadata": {
    "deletable": false,
    "editable": false,
    "nbgrader": {
     "cell_type": "markdown",
     "checksum": "98f81082bbd4f8c624c722bbc0c296b9",
     "grade": false,
     "grade_id": "cell-9b5c6fcb0af0fe68",
     "locked": true,
     "schema_version": 3,
     "solution": false,
     "task": false
    }
   },
   "source": [
    "**Auto-validation**"
   ]
  },
  {
   "cell_type": "code",
   "execution_count": null,
   "metadata": {
    "deletable": false,
    "editable": false,
    "nbgrader": {
     "cell_type": "code",
     "checksum": "19955cf5d9ded854836f45310b717196",
     "grade": false,
     "grade_id": "cell-b3e8ed2e22dc839f",
     "locked": true,
     "schema_version": 3,
     "solution": false,
     "task": false
    }
   },
   "outputs": [],
   "source": [
    "c10 = genere_nuage(10)\n",
    "assert len(c10) == 10\n",
    "for p in c10:\n",
    "    assert le(O, p)\n",
    "    assert le(p, (1.,1.))\n",
    "assert est_nuage(c10, len(c10))"
   ]
  },
  {
   "cell_type": "markdown",
   "metadata": {
    "deletable": false,
    "editable": false,
    "nbgrader": {
     "cell_type": "markdown",
     "checksum": "584ffed469f1180a6bc299ee791ec87d",
     "grade": false,
     "grade_id": "cell-d6ecd219e21b5ef6",
     "locked": true,
     "schema_version": 3,
     "solution": false,
     "task": false
    }
   },
   "source": [
    "**Interprétation**\n",
    "\n",
    "Que vérifie l'auto-validation précédente ?"
   ]
  },
  {
   "cell_type": "markdown",
   "metadata": {
    "deletable": false,
    "nbgrader": {
     "cell_type": "markdown",
     "checksum": "de9b22c2e0a547edcacf52a13c2801bc",
     "grade": true,
     "grade_id": "cell-51ed87192415c47b",
     "locked": false,
     "points": 1,
     "schema_version": 3,
     "solution": true,
     "task": false
    }
   },
   "source": [
    "> VOTRE REPONSE A LA PLACE DE CE TEXTE (format texte ou markdown)"
   ]
  },
  {
   "cell_type": "markdown",
   "metadata": {
    "deletable": false,
    "editable": false,
    "nbgrader": {
     "cell_type": "markdown",
     "checksum": "9e29d6462ab94b5e33eb4e879ddda4c7",
     "grade": false,
     "grade_id": "cell-cb1c3f66489fd0c3",
     "locked": true,
     "schema_version": 3,
     "solution": false,
     "task": false
    }
   },
   "source": [
    "### Application\n",
    "\n",
    "Générer un nuage de 25 points aléatoires, calculer et tracer son enveloppe convexe."
   ]
  },
  {
   "cell_type": "code",
   "execution_count": null,
   "metadata": {
    "deletable": false,
    "nbgrader": {
     "cell_type": "code",
     "checksum": "c94e596ff927e1314241d799c139b3dd",
     "grade": true,
     "grade_id": "cell-70ac28eccf220009",
     "locked": false,
     "points": 1,
     "schema_version": 3,
     "solution": true,
     "task": false
    }
   },
   "outputs": [],
   "source": [
    "# ENTRER VOTRE CODE A LA PLACE DE CES 2 LIGNES\n",
    "raise NotImplementedError()"
   ]
  },
  {
   "cell_type": "markdown",
   "metadata": {
    "deletable": false,
    "editable": false,
    "nbgrader": {
     "cell_type": "markdown",
     "checksum": "3a19e3b4d98d0345c2c1decf89a9c9db",
     "grade": false,
     "grade_id": "cell-0cedbe747687bc5c",
     "locked": true,
     "schema_version": 3,
     "solution": false,
     "task": false
    }
   },
   "source": [
    "## Nuage défini par un fichier\n",
    "\n",
    "On aura besoin de comparer des fichiers. Exécuter la cellule suivante sera utile."
   ]
  },
  {
   "cell_type": "code",
   "execution_count": null,
   "metadata": {
    "deletable": false,
    "editable": false,
    "nbgrader": {
     "cell_type": "code",
     "checksum": "4859eaebf98c51be6965131fb30161d3",
     "grade": false,
     "grade_id": "cell-189cc9bcb33a1bcd",
     "locked": true,
     "schema_version": 3,
     "solution": false,
     "task": false
    }
   },
   "outputs": [],
   "source": [
    "import filecmp"
   ]
  },
  {
   "cell_type": "markdown",
   "metadata": {
    "deletable": false,
    "editable": false,
    "nbgrader": {
     "cell_type": "markdown",
     "checksum": "3fcf63737190d4c2cf5c63ddeeac0791",
     "grade": false,
     "grade_id": "cell-cd1156f22c3b38a7",
     "locked": true,
     "schema_version": 3,
     "solution": false,
     "task": false
    }
   },
   "source": [
    "### `save_nuage()`\n",
    "\n",
    "Ecrire la fonction `save_nuage()` qui stocke un  nuage de points dans le fichier texte arbitraire `filename` selon le format suivant.\n",
    "- La première ligne contient le nombre `n` de points du nuage.\n",
    "- Chaque ligne suivante contientun point dans le format de l'affichage avec `st()` , c-a-d. abscisse et ordonnée **séparées par un espace, une virgule et un espace, le tout entre parenthèses**.\n",
    "    - exemple pour le point `O`:\n",
    "    ```(0.0 , 0.0)```"
   ]
  },
  {
   "cell_type": "code",
   "execution_count": null,
   "metadata": {
    "deletable": false,
    "nbgrader": {
     "cell_type": "code",
     "checksum": "0772ba69fc5cad50b5125703c0e55bb6",
     "grade": false,
     "grade_id": "cell-58662af30c7eb62c",
     "locked": false,
     "schema_version": 3,
     "solution": true,
     "task": false
    }
   },
   "outputs": [],
   "source": [
    "def save_nuage(c: list[tuple[float]], n: int, filename: str) -> None:\n",
    "    # ENTRER VOTRE CODE A LA PLACE DE CES 2 LIGNES\n",
    "    raise NotImplementedError()"
   ]
  },
  {
   "cell_type": "code",
   "execution_count": null,
   "metadata": {
    "deletable": false,
    "editable": false,
    "nbgrader": {
     "cell_type": "code",
     "checksum": "49f79206f293388379db969f31479ea9",
     "grade": true,
     "grade_id": "cell-8d5c7b2dc905ba41",
     "locked": true,
     "points": 2,
     "schema_version": 3,
     "solution": false,
     "task": false
    }
   },
   "outputs": [],
   "source": [
    "# Ne pas écrire dans cette cellule"
   ]
  },
  {
   "cell_type": "markdown",
   "metadata": {
    "deletable": false,
    "editable": false,
    "nbgrader": {
     "cell_type": "markdown",
     "checksum": "79dbf0e1bd8beca179141c37415b7bcf",
     "grade": false,
     "grade_id": "cell-cb0061f139c42671",
     "locked": true,
     "schema_version": 3,
     "solution": false,
     "task": false
    }
   },
   "source": [
    "**Auto-validation**\n",
    "\n",
    "Le module `filecmp` permet de comparer le contenu de fichiers.\n",
    "La validation suivante compare vos fichiers avec des fichiers \"de référence\" inclus dans l'archive zip du sujet.\n",
    "\n",
    "- La cellule suivante utilise la syntaxe des chemins d'accès sous linux ou mac.  \n",
    "- Pour windows, vous pouvez modifier ces chemins d'accès -- par exemple en remplaçant les `/` en `\\\\`."
   ]
  },
  {
   "cell_type": "code",
   "execution_count": null,
   "metadata": {},
   "outputs": [],
   "source": [
    "save_nuage(C0, 3, \"./c0.txt\")\n",
    "assert filecmp.cmp(\"./ref_c0.txt\", \"./c0.txt\", shallow=False)\n",
    "\n",
    "save_nuage(C1, 4, \"./c1.txt\")\n",
    "assert filecmp.cmp(\"./ref_c1.txt\", \"./c1.txt\", shallow=False)\n",
    "\n",
    "save_nuage(C2, 4, \"./c2.txt\")\n",
    "assert filecmp.cmp(\"./ref_c2.txt\", \"./c2.txt\", shallow=False)"
   ]
  },
  {
   "cell_type": "markdown",
   "metadata": {
    "deletable": false,
    "editable": false,
    "nbgrader": {
     "cell_type": "markdown",
     "checksum": "c991dff457346bd50675253c8bbae892",
     "grade": false,
     "grade_id": "cell-91388763650984fa",
     "locked": true,
     "schema_version": 3,
     "solution": false,
     "task": false
    }
   },
   "source": [
    "###  `read_nuage()`\n",
    "\n",
    "Ecrire la fonction `read_nuage()` qui lit un fichier contenant un  nuage de points stockés selon le format défini par `save_nuage()` et retourne le nuage correspondant."
   ]
  },
  {
   "cell_type": "code",
   "execution_count": null,
   "metadata": {
    "deletable": false,
    "nbgrader": {
     "cell_type": "code",
     "checksum": "5ea2bfad8646dc62451130172d0ea335",
     "grade": false,
     "grade_id": "cell-2e340bf352537264",
     "locked": false,
     "schema_version": 3,
     "solution": true,
     "task": false
    }
   },
   "outputs": [],
   "source": [
    "def read_nuage(filename: str) -> list[tuple[float]]:\n",
    "    # ENTRER VOTRE CODE A LA PLACE DE CES 2 LIGNES\n",
    "    raise NotImplementedError()"
   ]
  },
  {
   "cell_type": "code",
   "execution_count": null,
   "metadata": {
    "deletable": false,
    "editable": false,
    "nbgrader": {
     "cell_type": "code",
     "checksum": "5b0da352a0f69478188bf7b920951765",
     "grade": true,
     "grade_id": "cell-ccc4fedd30a27c8a",
     "locked": true,
     "points": 1,
     "schema_version": 3,
     "solution": false,
     "task": false
    }
   },
   "outputs": [],
   "source": [
    "# Ne pas écrire dans cette cellule"
   ]
  },
  {
   "cell_type": "markdown",
   "metadata": {
    "deletable": false,
    "editable": false,
    "nbgrader": {
     "cell_type": "markdown",
     "checksum": "342a95c34ff0a54395a70500593bae51",
     "grade": false,
     "grade_id": "cell-181d9b65e34cbda5",
     "locked": true,
     "schema_version": 3,
     "solution": false,
     "task": false
    }
   },
   "source": [
    "**Auto-validation**\n",
    "\n",
    "Même remarque que précédemment pour les chemins d'accès à ces fichiers."
   ]
  },
  {
   "cell_type": "code",
   "execution_count": null,
   "metadata": {},
   "outputs": [],
   "source": [
    "tmp_c0 = read_nuage(\"./c0.txt\")\n",
    "assert tmp_c0 == C0\n",
    "tmp_c0 = read_nuage(\"./ref_c0.txt\")\n",
    "assert tmp_c0 == C0\n",
    "tmp_c1 = read_nuage(\"./c1.txt\")\n",
    "assert tmp_c1 == C1"
   ]
  },
  {
   "cell_type": "markdown",
   "metadata": {
    "deletable": false,
    "editable": false,
    "nbgrader": {
     "cell_type": "markdown",
     "checksum": "644b8a4a2f041caa5c8b68fa6cc45d32",
     "grade": false,
     "grade_id": "cell-02ae8b42a62244d8",
     "locked": true,
     "schema_version": 3,
     "solution": false,
     "task": false
    }
   },
   "source": [
    "### Génération du fichier-nuage\n",
    "\n",
    "1. Générer un nuage de 100 points aléatoires dans le carré [0,1]x[0,1]\n",
    "    - se souvenir que les points d'un nuage sont triés de façon croissante selon `le`\n",
    "2. stocker ce nuage dans un fichier de nom arbitraire\n",
    "\n",
    "Le fichier `\"./random100.txt\"` est un exemple du résultat de ce traitement."
   ]
  },
  {
   "cell_type": "code",
   "execution_count": null,
   "metadata": {
    "deletable": false,
    "nbgrader": {
     "cell_type": "code",
     "checksum": "2a27c0275af0f2129919803c8abbffd1",
     "grade": true,
     "grade_id": "cell-7f319a13bec78ba4",
     "locked": false,
     "points": 1,
     "schema_version": 3,
     "solution": true,
     "task": false
    }
   },
   "outputs": [],
   "source": [
    "# ENTRER VOTRE CODE A LA PLACE DE CES 2 LIGNES\n",
    "raise NotImplementedError()"
   ]
  },
  {
   "cell_type": "markdown",
   "metadata": {
    "deletable": false,
    "editable": false,
    "nbgrader": {
     "cell_type": "markdown",
     "checksum": "10ec1ea776d625e1ed47e28717893d24",
     "grade": false,
     "grade_id": "cell-60f93b81d42600b4",
     "locked": true,
     "schema_version": 3,
     "solution": false,
     "task": false
    }
   },
   "source": [
    "### Lecture d'un fichier-nuage, calcul et affichage de son enveloppe convexe\n",
    "\n",
    "1. Lire le nuage défini par le fichier généré à la question précédente\n",
    "2. Calculer et afficher son enveloppe convexe\n",
    "3. Enregistrer le tracé du nuage et de son enveloppe convexe dans un fichier `png` de nom arbitraire.\n",
    "\n",
    "Voilà un exemple de ce que vous pouvez obtenir à partir du fichier `\"./random100.txt\"`.\n",
    "![](./fig/random100.png)"
   ]
  },
  {
   "cell_type": "code",
   "execution_count": null,
   "metadata": {
    "deletable": false,
    "nbgrader": {
     "cell_type": "code",
     "checksum": "8f548c8e17ebf0ad2a1f37e2ddce2f40",
     "grade": true,
     "grade_id": "cell-55b55ddcb3193a2a",
     "locked": false,
     "points": 1,
     "schema_version": 3,
     "solution": true,
     "task": false
    }
   },
   "outputs": [],
   "source": [
    "# ENTRER VOTRE CODE A LA PLACE DE CES 2 LIGNES\n",
    "raise NotImplementedError()"
   ]
  }
 ],
 "metadata": {
  "kernelspec": {
   "display_name": "Python 3 (ipykernel)",
   "language": "python",
   "name": "python3"
  },
  "language_info": {
   "codemirror_mode": {
    "name": "ipython",
    "version": 3
   },
   "file_extension": ".py",
   "mimetype": "text/x-python",
   "name": "python",
   "nbconvert_exporter": "python",
   "pygments_lexer": "ipython3",
   "version": "3.9.6"
  },
  "latex_envs": {
   "LaTeX_envs_menu_present": true,
   "autoclose": false,
   "autocomplete": true,
   "bibliofile": "biblio.bib",
   "cite_by": "apalike",
   "current_citInitial": 1,
   "eqLabelWithNumbers": true,
   "eqNumInitial": 1,
   "hotkeys": {
    "equation": "Ctrl-E",
    "itemize": "Ctrl-I"
   },
   "labels_anchors": false,
   "latex_user_defs": false,
   "report_style_numbering": true,
   "user_envs_cfg": false
  },
  "toc": {
   "nav_menu": {},
   "number_sections": true,
   "sideBar": false,
   "skip_h1_title": false,
   "title_cell": "Table des matières",
   "title_sidebar": "TdM",
   "toc_cell": true,
   "toc_position": {},
   "toc_section_display": true,
   "toc_window_display": false
  }
 },
 "nbformat": 4,
 "nbformat_minor": 4
}
