{
 "cells": [
  {
   "cell_type": "markdown",
   "metadata": {
    "deletable": false,
    "editable": false,
    "nbgrader": {
     "cell_type": "markdown",
     "checksum": "ae390fbc217224cef6c5028947afa1d1",
     "grade": false,
     "grade_id": "cell-da87748cb3b4192a",
     "locked": true,
     "schema_version": 3,
     "solution": false
    }
   },
   "source": [
    "**Connaissances abordées :**  types composés de python\n",
    "- les types non mutables de python : `tuple` et `str`\n",
    "- les types mutables de python : `list`, `set` et `dict`"
   ]
  },
  {
   "cell_type": "markdown",
   "metadata": {
    "deletable": false,
    "editable": false,
    "nbgrader": {
     "cell_type": "markdown",
     "checksum": "b4032eeb67fd8ecb18aaef70ee7f6ff7",
     "grade": false,
     "grade_id": "cell-9896fa9474e22433",
     "locked": true,
     "schema_version": 3,
     "solution": false
    }
   },
   "source": [
    "\n",
    "# Créations en compréhension de listes `lst` et `dict` \n",
    "\n",
    "## Listes en compréhension\n",
    "Ce mécanisme est très utile.\n",
    "L'appliquer pour obtenir les listes correspondant aux traitements suivants.\n",
    "1. ajouter 5 à chaque élément de la liste des entiers compris entre 0 et 10.  \n",
    "1. ajouter 5 à chaque élément de la liste des entiers pairs compris entre 0 et 10.  \n",
    "\n",
    "Afficher la liste ainsi obtenue."
   ]
  },
  {
   "cell_type": "code",
   "execution_count": 3,
   "metadata": {
    "deletable": false,
    "nbgrader": {
     "cell_type": "code",
     "checksum": "25f468f7c4b1d432d5ca93e7730a1c11",
     "grade": true,
     "grade_id": "cell-0e8b94626159d152",
     "locked": false,
     "points": 0,
     "schema_version": 3,
     "solution": true,
     "task": false
    },
    "tags": []
   },
   "outputs": [],
   "source": [
    "l1 = [i + 5 for i in range(11)]\n",
    "l2 = [i + 5 for i in range(11) if i % 2 == 0]"
   ]
  },
  {
   "cell_type": "markdown",
   "metadata": {
    "deletable": false,
    "editable": false,
    "nbgrader": {
     "cell_type": "markdown",
     "checksum": "bf5a109cf1bccf7514e185e3f5a0a37a",
     "grade": false,
     "grade_id": "cell-fdf4ab11dd2d0e67",
     "locked": true,
     "schema_version": 3,
     "solution": false,
     "task": false
    }
   },
   "source": [
    "**Validation.**\n",
    "\n",
    "Ecrire une validation de ces générations de listes."
   ]
  },
  {
   "cell_type": "code",
   "execution_count": 4,
   "metadata": {
    "deletable": false,
    "nbgrader": {
     "cell_type": "code",
     "checksum": "c797367297cd4b3123304d9be35ed90d",
     "grade": true,
     "grade_id": "cell-ca4c4db45c7c3592",
     "locked": false,
     "points": 0,
     "schema_version": 3,
     "solution": true,
     "task": false
    },
    "tags": []
   },
   "outputs": [],
   "source": [
    "assert l1[0] == 5\n",
    "assert l1[10] == 15\n",
    "assert l2[0] == 5\n",
    "assert l2[1] == 7"
   ]
  },
  {
   "cell_type": "markdown",
   "metadata": {
    "deletable": false,
    "editable": false,
    "nbgrader": {
     "cell_type": "markdown",
     "checksum": "5c5df63205ec65a78be4cc35756cc4ca",
     "grade": false,
     "grade_id": "cell-3be5e527480d1486",
     "locked": true,
     "schema_version": 3,
     "solution": false
    }
   },
   "source": [
    "## Dictionnaires en compréhension\n",
    "\n",
    "Définir à l'aide de ce mécanisme l'ensemble des couples $(n, n^2)$ pour les entiers $n$ impairs compris entre 1 et 10. \n",
    "\n",
    "Afficher le dictionnaire ainsi obtenu."
   ]
  },
  {
   "cell_type": "code",
   "execution_count": 5,
   "metadata": {
    "deletable": false,
    "nbgrader": {
     "cell_type": "code",
     "checksum": "30d2035959f2a6314fede823199170b7",
     "grade": true,
     "grade_id": "cell-eefe71698de43569",
     "locked": false,
     "points": 0,
     "schema_version": 3,
     "solution": true,
     "task": false
    },
    "tags": []
   },
   "outputs": [],
   "source": [
    "d1 = {i : i * i for i in range(1, 11)}"
   ]
  },
  {
   "cell_type": "markdown",
   "metadata": {
    "deletable": false,
    "editable": false,
    "nbgrader": {
     "cell_type": "markdown",
     "checksum": "8fc508fc3fce3d363db21ddb74aa70b9",
     "grade": false,
     "grade_id": "cell-0d1c7404052833a6",
     "locked": true,
     "schema_version": 3,
     "solution": false,
     "task": false
    }
   },
   "source": [
    "**Validation.**\n",
    "\n",
    "Ecrire une validation de cette génération de dictionnaire."
   ]
  },
  {
   "cell_type": "code",
   "execution_count": 6,
   "metadata": {
    "deletable": false,
    "nbgrader": {
     "cell_type": "code",
     "checksum": "12858eaee5edf03d992aa77403a8e19b",
     "grade": true,
     "grade_id": "cell-3e5e3b107efd43a2",
     "locked": false,
     "points": 0,
     "schema_version": 3,
     "solution": true,
     "task": false
    },
    "tags": []
   },
   "outputs": [],
   "source": [
    "for i in d1:\n",
    "    assert d1[i] == i * i "
   ]
  },
  {
   "cell_type": "markdown",
   "metadata": {
    "deletable": false,
    "editable": false,
    "nbgrader": {
     "cell_type": "markdown",
     "checksum": "41a26a82f1b0dc242e3dffb4d59111b8",
     "grade": false,
     "grade_id": "cell-a1440fdf8ab005e3",
     "locked": true,
     "schema_version": 3,
     "solution": false
    }
   },
   "source": [
    "## Parcourir deux listes\n",
    "\n",
    "A partir des listes de caractères `['u','p','v','d']` et `['p','e','r','p','i']`, utiliser une liste en compréhension pour obtenir la liste :  \n",
    "`['up', 'ue', 'ur', 'up', 'ui', 'pp', 'pe', 'pr', 'pp', 'pi', 'vp', 've', 'vr', 'vp', 'vi', 'dp', 'de', 'dr', 'dp', 'di']`.  \n",
    "Afficher la liste résultat et écrire un test unitaire."
   ]
  },
  {
   "cell_type": "code",
   "execution_count": 7,
   "metadata": {
    "deletable": false,
    "nbgrader": {
     "cell_type": "code",
     "checksum": "f61cd7ad1b4307a46929b64026e7934d",
     "grade": true,
     "grade_id": "cell-ab0ccd8aa0db836f",
     "locked": false,
     "points": 0,
     "schema_version": 3,
     "solution": true,
     "task": false
    },
    "tags": []
   },
   "outputs": [
    {
     "name": "stdout",
     "output_type": "stream",
     "text": [
      "['up', 'ue', 'ur', 'up', 'ui', 'pp', 'pe', 'pr', 'pp', 'pi', 'vp', 've', 'vr', 'vp', 'vi', 'dp', 'de', 'dr', 'dp', 'di']\n"
     ]
    }
   ],
   "source": [
    "m1 = list(\"upvd\")\n",
    "m2 = list(\"perpi\")\n",
    "\n",
    "l = [i + j for i in m1 for j in m2]\n",
    "print(l)"
   ]
  },
  {
   "cell_type": "markdown",
   "metadata": {
    "deletable": false,
    "editable": false,
    "nbgrader": {
     "cell_type": "markdown",
     "checksum": "aac3c8ca638de91377045d719058baa5",
     "grade": false,
     "grade_id": "cell-dc86d15faca609ea",
     "locked": true,
     "schema_version": 3,
     "solution": false,
     "task": false
    }
   },
   "source": [
    "# Dictionnaire français-anglais\n",
    "\n",
    "1. Ecrire une fonction `inverse()` qui échange les clés et les valeurs d'un dictionnaire donné et retourne un nouveau dictionnaire \"inversé\".   "
   ]
  },
  {
   "cell_type": "code",
   "execution_count": 8,
   "metadata": {
    "deletable": false,
    "nbgrader": {
     "cell_type": "code",
     "checksum": "106cb912749624cef867ebf07121af32",
     "grade": true,
     "grade_id": "cell-45a2c8f353d7cd61",
     "locked": false,
     "points": 0,
     "schema_version": 3,
     "solution": true,
     "task": false
    },
    "tags": []
   },
   "outputs": [],
   "source": [
    "def inverse(d : dict) -> dict:\n",
    "    dinv = {}\n",
    "    for k, v in d.items():\n",
    "        dinv[v] = k\n",
    "    return dinv"
   ]
  },
  {
   "cell_type": "markdown",
   "metadata": {
    "deletable": false,
    "editable": false,
    "nbgrader": {
     "cell_type": "markdown",
     "checksum": "b1417baaea750dd0e4e3e90fecdc7f29",
     "grade": false,
     "grade_id": "cell-e5c89bddd10356fb",
     "locked": true,
     "schema_version": 3,
     "solution": false
    }
   },
   "source": [
    "2. Application pour la traduction français <-> anglais : \n",
    "    - définir un dictionnaire avec quelques paires de mots francais/anglais (unicité de chaque mot dans une langue donnée)\n",
    "    - appliquer la fonction pour obtenir un dictionnaire anglais/français ;\n",
    "    - valider `inverse()` avec ces dictionnaires  "
   ]
  },
  {
   "cell_type": "code",
   "execution_count": 9,
   "metadata": {
    "deletable": false,
    "nbgrader": {
     "cell_type": "code",
     "checksum": "cadc5f43d01dfe927a3b754ee16d12ad",
     "grade": true,
     "grade_id": "cell-2bd02eace8e04aa9",
     "locked": false,
     "points": 0,
     "schema_version": 3,
     "solution": true
    },
    "tags": []
   },
   "outputs": [
    {
     "name": "stdout",
     "output_type": "stream",
     "text": [
      "{'run': 'courir', 'man': 'homme', 'woman': 'femme', 'crew': 'clan', 'nature': 'nature', 'red': 'rouge'}\n"
     ]
    }
   ],
   "source": [
    "fr_en = {\n",
    "    \"courir\" : \"run\",\n",
    "    \"homme\" : \"man\",\n",
    "    \"femme\": \"woman\",\n",
    "    \"clan\" : \"crew\",\n",
    "    \"nature\" : \"nature\",\n",
    "    \"rouge\" : \"red\"\n",
    "}\n",
    "\n",
    "en_fr = inverse(fr_en)\n",
    "print(en_fr)"
   ]
  },
  {
   "cell_type": "markdown",
   "metadata": {
    "deletable": false,
    "editable": false,
    "nbgrader": {
     "cell_type": "markdown",
     "checksum": "d80974c9c8dac5b4d36a34df3d22dcc6",
     "grade": false,
     "grade_id": "cell-539ec13d854b4a44",
     "locked": true,
     "schema_version": 3,
     "solution": false
    }
   },
   "source": [
    "# Ensembles\n",
    "\n",
    "## Définition\n",
    "Définir puis afficher les deux ensembles de caractères : `A = {'u','p','v','d'}` et `B = {'p','e','r','p','i'}`. "
   ]
  },
  {
   "cell_type": "code",
   "execution_count": 10,
   "metadata": {
    "deletable": false,
    "nbgrader": {
     "cell_type": "code",
     "checksum": "abac2bfd21c85835bd114c9e88372cff",
     "grade": true,
     "grade_id": "cell-837c2432f24a988d",
     "locked": false,
     "points": 0,
     "schema_version": 3,
     "solution": true
    },
    "tags": []
   },
   "outputs": [],
   "source": [
    "A = set(\"upvd\")\n",
    "B = set(\"perpi\")"
   ]
  },
  {
   "cell_type": "markdown",
   "metadata": {
    "deletable": false,
    "editable": false,
    "nbgrader": {
     "cell_type": "markdown",
     "checksum": "5f6092b343c1a2b3ff1668cbd9fdcd9c",
     "grade": false,
     "grade_id": "cell-db65c7f35b4b80ef",
     "locked": true,
     "schema_version": 3,
     "solution": false
    }
   },
   "source": [
    "## Appartenance et autres opérations ensemblistes\n",
    "\n",
    "1. Afficher les ensembles concernés par les questions suivantes.\n",
    "2. Vérifier l'appartenance ou non des caractères `'v'` et `'p'` :\n",
    "    1. à chacun des ensembles `A` puis `B`\n",
    "    2. à leur intersection\n",
    "    3. à leur union\n",
    "    4. aux ensembles différences `A\\B` et `B\\A`\n",
    "    5. à la différence symétrique `A ^ B`  "
   ]
  },
  {
   "cell_type": "code",
   "execution_count": 11,
   "metadata": {
    "deletable": false,
    "nbgrader": {
     "cell_type": "code",
     "checksum": "a2d2ee6f2a27ad30dc341facdeff2c41",
     "grade": true,
     "grade_id": "cell-1501169a485a85ad",
     "locked": false,
     "points": 0,
     "schema_version": 3,
     "solution": true,
     "task": false
    },
    "tags": []
   },
   "outputs": [
    {
     "name": "stdout",
     "output_type": "stream",
     "text": [
      "{'p', 'v', 'u', 'd'} {'p', 'e', 'i', 'r'}\n"
     ]
    }
   ],
   "source": [
    "print(A, B)"
   ]
  },
  {
   "cell_type": "code",
   "execution_count": 12,
   "metadata": {
    "deletable": false,
    "nbgrader": {
     "cell_type": "code",
     "checksum": "4c88a31445c82ef4c06c64e9d8d7d6fa",
     "grade": true,
     "grade_id": "cell-42e1c1859dd75e1b",
     "locked": false,
     "points": 0,
     "schema_version": 3,
     "solution": true
    },
    "tags": []
   },
   "outputs": [],
   "source": [
    "#appartenance \n",
    "assert ('v' in A) == True\n",
    "assert ('p' in A) == True\n",
    "assert ('v' in B) == False\n",
    "assert ('p' in B) == True\n",
    "\n",
    "# Intersection\n",
    "assert ('v' in (A & B)) == False\n",
    "assert ('p' in (A & B)) == True\n",
    "\n",
    "# Union\n",
    "assert ('v' in (A | B)) == True\n",
    "assert ('p' in (A | B)) == True\n",
    "\n",
    "# Différence\n",
    "assert ('v' in (A - B)) == True\n",
    "assert ('p' in (A - B)) == False\n",
    "\n",
    "assert ('v' in (B - A)) == False\n",
    "assert ('p' in (B - A)) == False\n",
    "\n",
    "# Différence symétrique\n",
    "assert ('v' in (A ^ B)) == True\n",
    "assert ('p' in (A ^ B)) == False"
   ]
  },
  {
   "cell_type": "markdown",
   "metadata": {
    "deletable": false,
    "editable": false,
    "nbgrader": {
     "cell_type": "markdown",
     "checksum": "83f26283ce7b08400250c21d84ebbeef",
     "grade": false,
     "grade_id": "cell-4eaf1c7998af21ff",
     "locked": true,
     "schema_version": 3,
     "solution": false
    }
   },
   "source": [
    "# Mini base de données\n",
    "(dictionnaire)\n",
    "\n",
    "Une mini base de données avec un dictionnaire.  \n",
    "\n",
    "*Remarque* : la plupart des traitements sur une base de données comporte des entrées-sorties : choix entrés au clavier, résultat des requêtes (traitements) affichés à l'écran."
   ]
  },
  {
   "cell_type": "markdown",
   "metadata": {
    "deletable": false,
    "editable": false,
    "nbgrader": {
     "cell_type": "markdown",
     "checksum": "70d3d963feec2dd34e9dd37c6b47513a",
     "grade": false,
     "grade_id": "cell-6023731b6d4a24ef",
     "locked": true,
     "schema_version": 3,
     "solution": false
    }
   },
   "source": [
    "## Structure de données et premiers pas\n",
    "\n",
    "### Définition\n",
    "A partir du tableau suivant, définir un dictionnaire `cops` avec les noms d'une série de copains, leur âge et leur taille.  \n",
    "\n",
    "nom | âge en années| taille en cm  \n",
    "----|-----|-------------  \n",
    "Pierre | 21 | 178  \n",
    "Paul | 20 | 183  \n",
    "Pauline | 19 | 165  \n",
    "Sandrine | 20| 163  \n",
    "\n",
    "\n",
    "Le nom servira de _clé_ et la _valeur_ composée de l'âge et la taille est définie avec un tuple.  \n",
    "L'âge est un entier et la taille sera exprimée _en mètre_ avec un nombre flottant.   \n",
    "On appellera _élément_ le triplet clé:(age, taille).    "
   ]
  },
  {
   "cell_type": "code",
   "execution_count": 13,
   "metadata": {
    "deletable": false,
    "nbgrader": {
     "cell_type": "code",
     "checksum": "26cb11e8668e7cddaa26389f44ff5ba3",
     "grade": true,
     "grade_id": "cell-8b9276011efb36ec",
     "locked": false,
     "points": 0,
     "schema_version": 3,
     "solution": true
    },
    "tags": []
   },
   "outputs": [],
   "source": [
    "cops = {\n",
    "        \"Pierre\" : (21, 1.78),\n",
    "        \"Paul\" : (20, 1.83),\n",
    "        \"Pauline\" : (19, 1.65),\n",
    "        \"Sandrine\" : (20, 1.63)\n",
    "}"
   ]
  },
  {
   "cell_type": "code",
   "execution_count": null,
   "metadata": {
    "deletable": false,
    "editable": false,
    "nbgrader": {
     "cell_type": "code",
     "checksum": "3a82d80bdb032963b0ad3932e41067b7",
     "grade": true,
     "grade_id": "cell-a57ae4fda058c411",
     "locked": true,
     "points": 0,
     "schema_version": 3,
     "solution": false
    },
    "tags": []
   },
   "outputs": [],
   "source": []
  },
  {
   "cell_type": "markdown",
   "metadata": {
    "deletable": false,
    "editable": false,
    "nbgrader": {
     "cell_type": "markdown",
     "checksum": "a7666057158a1dbf8b224e7e46d22274",
     "grade": false,
     "grade_id": "cell-75e86df6c1bd7e32",
     "locked": true,
     "schema_version": 3,
     "solution": false
    }
   },
   "source": [
    "### Affichages\n",
    "Effectuer sur ce dictionnaire les traitements de parcours et d'affichage suivants :  \n",
    "1. parcours selon les clés et affichage des clés\n",
    "1. parcours selon les clés et affichage des couples (clé, valeur)\n",
    "1. parcours selon les valeurs et affichage des valeurs (age, taille)\n",
    "1. parcours selon les valeurs et affichage des tailles\n",
    "2. parcours selon les éléments (clé:valeur) et affichage des couples (clé, valeur) \n",
    "2. parcours et affichage des couples (clé, __age__) "
   ]
  },
  {
   "cell_type": "code",
   "execution_count": 14,
   "metadata": {
    "deletable": false,
    "nbgrader": {
     "cell_type": "code",
     "checksum": "2b9d1ce40ca98adeb01afe3c020805e0",
     "grade": true,
     "grade_id": "cell-640b9f87229ec2f1",
     "locked": false,
     "points": 0,
     "schema_version": 3,
     "solution": true
    },
    "tags": []
   },
   "outputs": [
    {
     "name": "stdout",
     "output_type": "stream",
     "text": [
      "Pierre\n",
      "Paul\n",
      "Pauline\n",
      "Sandrine\n"
     ]
    }
   ],
   "source": [
    "for k in cops.keys():\n",
    "    print(k)"
   ]
  },
  {
   "cell_type": "code",
   "execution_count": 15,
   "metadata": {
    "scrolled": true
   },
   "outputs": [
    {
     "name": "stdout",
     "output_type": "stream",
     "text": [
      "('Pierre', (21, 1.78))\n",
      "('Paul', (20, 1.83))\n",
      "('Pauline', (19, 1.65))\n",
      "('Sandrine', (20, 1.63))\n"
     ]
    }
   ],
   "source": [
    "for element in cops.keys():\n",
    "    print((element, cops[element]))"
   ]
  },
  {
   "cell_type": "code",
   "execution_count": 16,
   "metadata": {},
   "outputs": [
    {
     "name": "stdout",
     "output_type": "stream",
     "text": [
      "(21, 1.78)\n",
      "(20, 1.83)\n",
      "(19, 1.65)\n",
      "(20, 1.63)\n"
     ]
    }
   ],
   "source": [
    "for v in cops.values():\n",
    "    print(v)"
   ]
  },
  {
   "cell_type": "code",
   "execution_count": 17,
   "metadata": {},
   "outputs": [
    {
     "name": "stdout",
     "output_type": "stream",
     "text": [
      "1.78\n",
      "1.83\n",
      "1.65\n",
      "1.63\n"
     ]
    }
   ],
   "source": [
    "for v in cops.values():\n",
    "    print(v[1])"
   ]
  },
  {
   "cell_type": "code",
   "execution_count": 18,
   "metadata": {},
   "outputs": [
    {
     "name": "stdout",
     "output_type": "stream",
     "text": [
      "('Pierre', (21, 1.78))\n",
      "('Paul', (20, 1.83))\n",
      "('Pauline', (19, 1.65))\n",
      "('Sandrine', (20, 1.63))\n"
     ]
    }
   ],
   "source": [
    "for element in cops.items():\n",
    "    print(element)"
   ]
  },
  {
   "cell_type": "code",
   "execution_count": 19,
   "metadata": {},
   "outputs": [
    {
     "name": "stdout",
     "output_type": "stream",
     "text": [
      "Pierre 21\n",
      "Paul 20\n",
      "Pauline 19\n",
      "Sandrine 20\n"
     ]
    }
   ],
   "source": [
    "for k in cops:\n",
    "    print(k, cops[k][0])"
   ]
  },
  {
   "cell_type": "markdown",
   "metadata": {
    "deletable": false,
    "editable": false,
    "nbgrader": {
     "cell_type": "markdown",
     "checksum": "80bb135cbfbadcfb10f91adb7c8de596",
     "grade": false,
     "grade_id": "cell-da6a0b42f9426046",
     "locked": true,
     "schema_version": 3,
     "solution": false
    }
   },
   "source": [
    "### Premier ajout\n",
    "Ajouter un nouvel élément et compter le nombre d'éléments du dictionnaire."
   ]
  },
  {
   "cell_type": "code",
   "execution_count": 20,
   "metadata": {
    "deletable": false,
    "nbgrader": {
     "cell_type": "code",
     "checksum": "ea090644bfc92434122793b262027518",
     "grade": true,
     "grade_id": "cell-42f81ba8f4565ecb",
     "locked": false,
     "points": 0,
     "schema_version": 3,
     "solution": true
    },
    "tags": []
   },
   "outputs": [
    {
     "name": "stdout",
     "output_type": "stream",
     "text": [
      "5\n"
     ]
    }
   ],
   "source": [
    "cops[\"André\"] = (18, 1.68)\n",
    "print(len(cops))"
   ]
  },
  {
   "cell_type": "markdown",
   "metadata": {
    "deletable": false,
    "editable": false,
    "nbgrader": {
     "cell_type": "markdown",
     "checksum": "32f0899d259d918d8eee23fce7420b9e",
     "grade": false,
     "grade_id": "cell-a184a6617f4f0f2f",
     "locked": true,
     "schema_version": 3,
     "solution": false
    }
   },
   "source": [
    "## Requêtes de base\n",
    "\n",
    "Des requêtes classiques en base de données sont :\n",
    "- des requêtes de consultation  \n",
    "- des requêtes de mise à jour.  \n",
    "\n",
    "On va écrire quelques-unes d'entre elles sous la forme de _fonctions_.  \n",
    "Il est conseillé de lire toutes les requêtes demandées pour choisir un ordre de développement efficace.  \n",
    "\n",
    "### Les mises à jour : ajout, modification, suppression \n",
    "Ecrire les fonctions qui effectuent les traitements suivants.  \n",
    "Le cas échéant, signaler l'impossibilité du traitement par un affichage. \n",
    "Pour cela, définir une fonction `dict_error()` qui affiche un message et l'utiliser autant que de besoin.    \n",
    "1. `est_dans()`: vérifier une clé donnée apparaît ou non dans le dictionnaire\n",
    "    - donner 2 versions différentes `est_dans()` et `est_dans2()`, la première n'utilisant pas de méthode de base  \n",
    "1. `ajout()`: ajouter un élément ou modifier un élément déjà existant.   \n",
    "2. `supp()`: suppression d'un élément à partir de sa clé. \n",
    "3. `modif()`: modifier un élément à partir de sa clé. \n",
    "\n",
    "Ecrire aussi des petits tests pour chacune des fonctions."
   ]
  },
  {
   "cell_type": "code",
   "execution_count": 21,
   "metadata": {
    "deletable": false,
    "nbgrader": {
     "cell_type": "code",
     "checksum": "6d51e61e129fa7d2bf10f100e782ca24",
     "grade": true,
     "grade_id": "cell-fba0488c446da042",
     "locked": false,
     "points": 0,
     "schema_version": 3,
     "solution": true,
     "task": false
    },
    "tags": []
   },
   "outputs": [],
   "source": [
    "def dict_error():\n",
    "    print(\"Error ! \")\n",
    "\n",
    "def est_dans(d : dict, k : str) -> bool:\n",
    "    return k in d\n",
    "    \n",
    "def est_dans2(d : dict, k : str) -> bool:\n",
    "    for c in d.keys():\n",
    "        if k == c:\n",
    "            return True\n",
    "    return False\n",
    "\n",
    "def ajout(d : dict, c : str,  val : tuple) -> None: d[c] = val \n",
    "\n",
    "def supp(d : dict, c : str) -> None :\n",
    "    if c not in d:\n",
    "        dict_error()\n",
    "    else:\n",
    "        d.pop(c) \n",
    "\n",
    "def modif(d : dict, c : str, val : tuple) -> None:\n",
    "    if c not in d:\n",
    "        dict_error()\n",
    "    else:\n",
    "        d[c] = val\n",
    "    "
   ]
  },
  {
   "cell_type": "markdown",
   "metadata": {
    "deletable": false,
    "editable": false,
    "nbgrader": {
     "cell_type": "markdown",
     "checksum": "968275853766a8c10c5dc8dd235edf1e",
     "grade": false,
     "grade_id": "cell-ed8cbc9d1a5f0891",
     "locked": true,
     "schema_version": 3,
     "solution": false,
     "task": false
    }
   },
   "source": [
    "#### Tests"
   ]
  },
  {
   "cell_type": "code",
   "execution_count": 22,
   "metadata": {
    "deletable": false,
    "nbgrader": {
     "cell_type": "code",
     "checksum": "a1aa1ee908e92db4a3387b962cee5586",
     "grade": true,
     "grade_id": "cell-d1d25fd6ef4967c4",
     "locked": false,
     "points": 0,
     "schema_version": 3,
     "solution": true
    },
    "tags": []
   },
   "outputs": [],
   "source": [
    "assert est_dans(cops, \"Pierre\") == True\n",
    "assert est_dans(cops, \"Amine\") == False\n",
    "assert est_dans(cops, \"Ahmed\") == False\n",
    "\n",
    "assert est_dans2(cops, \"Pierre\") == True\n",
    "assert est_dans2(cops, \"Amine\") == False\n",
    "assert est_dans2(cops, \"Ahmed\") == False"
   ]
  },
  {
   "cell_type": "code",
   "execution_count": 23,
   "metadata": {},
   "outputs": [
    {
     "name": "stdout",
     "output_type": "stream",
     "text": [
      "{'Pierre': (21, 1.78), 'Paul': (20, 1.83), 'Pauline': (19, 1.65), 'Sandrine': (20, 1.63), 'André': (18, 1.68), 'Amine': (20, 1.85)}\n",
      "Error ! \n",
      "{'Pierre': (21, 1.78), 'Paul': (20, 1.83), 'Pauline': (19, 1.65), 'Sandrine': (20, 1.63), 'André': (18, 1.68), 'Amine': (20, 1.85)}\n"
     ]
    }
   ],
   "source": [
    "ajout(cops, \"Amine\", (20, 1.85))\n",
    "print(cops)\n",
    "modif(cops, \"Ahmed\", (20, 193))\n",
    "print(cops)"
   ]
  },
  {
   "cell_type": "markdown",
   "metadata": {
    "deletable": false,
    "editable": false,
    "nbgrader": {
     "cell_type": "markdown",
     "checksum": "17282151ca101fb3de1de249b934a433",
     "grade": false,
     "grade_id": "cell-0e5661dee79c3280",
     "locked": true,
     "schema_version": 3,
     "solution": false
    }
   },
   "source": [
    "### Les consultations\n",
    "Ecrire les fonctions qui effectuent les traitements suivants.  \n",
    "Les cas de traitement particulier seront identifiés et traités de façon adaptée.   \n",
    "\n",
    "2. `age()`: retourne l'âge d'un élément à partir de sa clé  \n",
    "2. `taille()`: retourne la taille d'un élément à partir de sa clé  \n",
    "3. `elem()`: retourne nom, âge et taille d'un élément à partir de sa clé\n",
    "\n",
    "Ecrire aussi des petits tests pour chacune des fonctions."
   ]
  },
  {
   "cell_type": "code",
   "execution_count": 24,
   "metadata": {
    "deletable": false,
    "nbgrader": {
     "cell_type": "code",
     "checksum": "d1929bf82aa203013628c8a84e77338d",
     "grade": true,
     "grade_id": "cell-c123cc86a0c87fe6",
     "locked": false,
     "points": 0,
     "schema_version": 3,
     "solution": true,
     "task": false
    },
    "tags": []
   },
   "outputs": [],
   "source": [
    "def age(d : dict, k : str) -> int:\n",
    "    return d[k][0] if k in d else dict_error()\n",
    "\n",
    "def taille(d : dict, k : str) -> float: \n",
    "    return d[k][1] if k in d else dict_error()\n",
    "\n",
    "def elem(d : dict, k : str) -> tuple: \n",
    "    return (k, d[k]) if k in d else dict_error()"
   ]
  },
  {
   "cell_type": "markdown",
   "metadata": {
    "deletable": false,
    "editable": false,
    "nbgrader": {
     "cell_type": "markdown",
     "checksum": "9cacd697dc9940850798b6b0c6e46d6f",
     "grade": false,
     "grade_id": "cell-ae34825a71f8dab4",
     "locked": true,
     "schema_version": 3,
     "solution": false,
     "task": false
    }
   },
   "source": [
    "#### Tests"
   ]
  },
  {
   "cell_type": "code",
   "execution_count": 25,
   "metadata": {
    "deletable": false,
    "nbgrader": {
     "cell_type": "code",
     "checksum": "893e86d08c8cbe9b733edddea4459f0c",
     "grade": true,
     "grade_id": "cell-eaf2889553ccf723",
     "locked": false,
     "points": 0,
     "schema_version": 3,
     "solution": true
    }
   },
   "outputs": [],
   "source": [
    "assert age(cops, \"Pierre\") == 21\n",
    "assert age(cops, \"Amine\") == 20\n",
    "assert taille(cops, \"André\") == 1.68\n",
    "assert elem(cops, \"Sandrine\") == (\"Sandrine\", (20, 1.63))"
   ]
  },
  {
   "cell_type": "markdown",
   "metadata": {
    "deletable": false,
    "editable": false,
    "nbgrader": {
     "cell_type": "markdown",
     "checksum": "dd6474f65c4a5f2e34e5d8bff588e1f1",
     "grade": false,
     "grade_id": "cell-a12918cf6dd02056",
     "locked": true,
     "schema_version": 3,
     "solution": false
    }
   },
   "source": [
    "### Les affichages\n",
    "Ecrire les fonctions qui effectuent les traitements suivants.  \n",
    "Les cas de traitement particulier seront identifiés et traités de façon adaptée.   \n",
    "Les affichages seront définis pour respecter le format général suivant :  \n",
    "`Nom : Pauline - âge : 19 ans - taille : 1.65 m`\n",
    "\n",
    "1. `aff_age()`: afficher l'âge d'un élément à partir de sa clé  \n",
    "2. `aff_taille()`: afficher la taille d'un élément à partir de sa clé  \n",
    "3. `aff_elem()`: affichage nom, âge et taille d'un élément à partir de sa clé\n",
    "4. `aff_base()`: affichage de la base complète selon le format précédent\n"
   ]
  },
  {
   "cell_type": "code",
   "execution_count": 26,
   "metadata": {
    "deletable": false,
    "nbgrader": {
     "cell_type": "code",
     "checksum": "c217657d8e6f81183c241dbfec552d43",
     "grade": true,
     "grade_id": "cell-9beff9951c3f29a5",
     "locked": false,
     "points": 0,
     "schema_version": 3,
     "solution": true,
     "task": false
    },
    "tags": []
   },
   "outputs": [],
   "source": [
    "def aff_age(d : dict, k : str) -> None:\n",
    "    print(f\"âge : {d[k][0]} - \")\n",
    "\n",
    "def aff_taille(d : dict, k : str) -> None:\n",
    "    print(f\"taille : {d[k][1]}\")\n",
    "\n",
    "def aff_elem(d : dict, k : str) -> None:\n",
    "    print(f\"Nom : {k} - âge : {d[k][0]} - taille : {d[k][1]}\")\n",
    "\n",
    "def aff_base(d : dict) -> None:\n",
    "    for k in d:\n",
    "        aff_elem(d, k)"
   ]
  },
  {
   "cell_type": "markdown",
   "metadata": {
    "deletable": false,
    "editable": false,
    "nbgrader": {
     "cell_type": "markdown",
     "checksum": "371549d68c825c6a7697ffe425e66e64",
     "grade": false,
     "grade_id": "cell-222c7ec27084a9a2",
     "locked": true,
     "schema_version": 3,
     "solution": false,
     "task": false
    },
    "tags": []
   },
   "source": [
    "### Exemple"
   ]
  },
  {
   "cell_type": "code",
   "execution_count": 27,
   "metadata": {
    "deletable": false,
    "nbgrader": {
     "cell_type": "code",
     "checksum": "41dd68e489e706aea92611012f343ce5",
     "grade": true,
     "grade_id": "cell-70ae53475b149672",
     "locked": false,
     "points": 0,
     "schema_version": 3,
     "solution": true
    },
    "tags": []
   },
   "outputs": [
    {
     "name": "stdout",
     "output_type": "stream",
     "text": [
      "Nom : Pierre - âge : 21 - taille : 1.78\n",
      "Nom : Paul - âge : 20 - taille : 1.83\n",
      "Nom : Pauline - âge : 19 - taille : 1.65\n",
      "Nom : Sandrine - âge : 20 - taille : 1.63\n",
      "Nom : André - âge : 18 - taille : 1.68\n",
      "Nom : Amine - âge : 20 - taille : 1.85\n"
     ]
    }
   ],
   "source": [
    "aff_base(cops)"
   ]
  },
  {
   "cell_type": "markdown",
   "metadata": {
    "deletable": false,
    "editable": false,
    "nbgrader": {
     "cell_type": "markdown",
     "checksum": "f40d1a641199046d85af730509762ce1",
     "grade": false,
     "grade_id": "cell-8e3350e89cb825ea",
     "locked": true,
     "schema_version": 3,
     "solution": false
    }
   },
   "source": [
    "## D'autres requêtes\n",
    "On développe maintenant des requêtes plus sophistiquées sous la forme de fonctions.\n",
    "\n",
    "1. `nb_plus_ages()`: le nombre d'éléments au moins aussi agés qu'un élément donné par sa clé  \n",
    "1. `noms_plus_ages()` : les noms des éléments plus agés qu'un âge donné \n",
    "1. `nb_taille_dans()`: le nombre d'éléments de taille comprise dans un intervalle de tailles données \n",
    "2. `elem_taille_dans()`: afficher les éléments de taille comprise dans un intervalle de tailles données \n",
    "\n",
    "Ecrire aussi des petits tests pour chacune des fonctions."
   ]
  },
  {
   "cell_type": "code",
   "execution_count": 28,
   "metadata": {
    "deletable": false,
    "nbgrader": {
     "cell_type": "code",
     "checksum": "b3d97853065552e78ef8c42907ec8631",
     "grade": true,
     "grade_id": "cell-1e991e10b8413caa",
     "locked": false,
     "points": 0,
     "schema_version": 3,
     "solution": true,
     "task": false
    },
    "tags": []
   },
   "outputs": [],
   "source": [
    "def nb_plus_ages(d : dict, k : str) -> int:\n",
    "    age = d[k][0]\n",
    "    c = 0\n",
    "    for v in d.values():\n",
    "        if age > v[0]:\n",
    "            c += 1\n",
    "    return c\n",
    "\n",
    "def noms_plus_ages(d : dict, k : str) -> None:\n",
    "    age = d[k][0]\n",
    "    for elt in d:\n",
    "        if d[elt][0] > age:\n",
    "            print(elt)\n",
    "\n",
    "def nb_taille_dans(d : dict, tmin, tmax : float) -> int:\n",
    "    c = 0\n",
    "    for v in d.values():\n",
    "        if tmin <= v[1] <= tmax:\n",
    "            c += 1\n",
    "    return c"
   ]
  },
  {
   "cell_type": "code",
   "execution_count": 29,
   "metadata": {
    "deletable": false,
    "nbgrader": {
     "cell_type": "code",
     "checksum": "88c27edb5f60e1f9f5a046c217447b12",
     "grade": true,
     "grade_id": "cell-a04eb641e2032c8b",
     "locked": false,
     "points": 0,
     "schema_version": 3,
     "solution": true
    },
    "tags": []
   },
   "outputs": [],
   "source": [
    "assert nb_plus_ages(cops, \"Pierre\") == 5\n",
    "assert nb_plus_ages(cops, \"André\") == 0\n",
    "assert nb_plus_ages(cops, \"Amine\") == 2"
   ]
  },
  {
   "cell_type": "code",
   "execution_count": 30,
   "metadata": {},
   "outputs": [
    {
     "name": "stdout",
     "output_type": "stream",
     "text": [
      "Pierre\n",
      "Paul\n",
      "Pauline\n",
      "Sandrine\n",
      "Amine\n",
      "{'Pierre': (21, 1.78), 'Paul': (20, 1.83), 'Pauline': (19, 1.65), 'Sandrine': (20, 1.63), 'André': (18, 1.68), 'Amine': (20, 1.85)}\n"
     ]
    }
   ],
   "source": [
    "noms_plus_ages(cops, \"André\")\n",
    "print(cops)"
   ]
  },
  {
   "cell_type": "code",
   "execution_count": 31,
   "metadata": {},
   "outputs": [],
   "source": [
    "assert nb_taille_dans(cops, 1.5, 1.7) == 3 \n",
    "assert nb_taille_dans(cops, 1.7, 1.8) == 1\n",
    "assert nb_taille_dans(cops, 1.8, 1.9) == 2"
   ]
  },
  {
   "cell_type": "markdown",
   "metadata": {
    "deletable": false,
    "editable": false,
    "nbgrader": {
     "cell_type": "markdown",
     "checksum": "c0ad40db3b546f18b125e81c1ac0bd95",
     "grade": false,
     "grade_id": "cell-fa68e19cc702e16b",
     "locked": true,
     "schema_version": 3,
     "solution": false
    }
   },
   "source": [
    "#  _switch case_ python\n",
    "(dictionnaire pour _switch case_)\n",
    "\n",
    "## Choix par menu\n",
    "Compléter le développement précédent de façon à ce que le programme :\n",
    "- affiche le menu suivant :   \n",
    "```Choisir en tapant la lettre correspondante :\n",
    "(C)onsulter la base (affichage complet)\n",
    "(N)ombre d'éléments dans la base\n",
    "(G) : affiche l'élément le plus grand de la base\n",
    "(P) : affiche l'élément le plus petit de la base\n",
    "(J) : affiche l'élément le moins âgé de la base\n",
    "(V) : affiche l'élément le plus âgé de la base\n",
    "(F)in\n",
    "```  \n",
    "- puis attende le choix de l'utilisateur (une lettre entrée au clavier),  \n",
    "- puis exécute le traitement demandé avec la fonction adaptée.  \n",
    "\n",
    "**Indication** : définir un (autre) dictionnaire adapté."
   ]
  },
  {
   "cell_type": "code",
   "execution_count": 32,
   "metadata": {
    "deletable": false,
    "nbgrader": {
     "cell_type": "code",
     "checksum": "2fce6b73cfe2563f6838969f8c9ac5ed",
     "grade": true,
     "grade_id": "cell-f679b9c316b85a33",
     "locked": false,
     "points": 0,
     "schema_version": 3,
     "solution": true,
     "task": false
    },
    "tags": []
   },
   "outputs": [],
   "source": [
    "def min_taille(d : dict):\n",
    "    m = list(d.values())[0][1]\n",
    "    for v in d:\n",
    "        if m > d[v][1]:\n",
    "            m = d[v][1]\n",
    "            elt = v\n",
    "    return aff_elem(d, elt)\n",
    "\n",
    "def max_taille(d : dict) -> float:\n",
    "    m = list(d.values())[0][1]\n",
    "    for v in d:\n",
    "        if m < d[v][1]:\n",
    "            m = d[v][1]\n",
    "            elt = v\n",
    "    return aff_elem(d, elt)\n",
    "\n",
    "def min_age(d : dict) -> int:\n",
    "    m = list(d.values())[0][0]\n",
    "    elt = list(d.keys())[0]\n",
    "    for v in d:\n",
    "        if m > d[v][0]:\n",
    "            m = d[v][0]\n",
    "            elt = v\n",
    "    return aff_elem(d, elt)\n",
    "\n",
    "def max_age(d : dict) -> int:\n",
    "    m = list(d.values())[0][0]\n",
    "    elt = list(d.keys())[0]\n",
    "    for v in d:\n",
    "        if m < d[v][0]:\n",
    "            print(d[v][0])\n",
    "            m = d[v][0]\n",
    "            elt = v\n",
    "    return aff_elem(d, elt)"
   ]
  },
  {
   "cell_type": "code",
   "execution_count": 33,
   "metadata": {
    "deletable": false,
    "nbgrader": {
     "cell_type": "code",
     "checksum": "c694a56816f10a5e324626b30ebaba6d",
     "grade": true,
     "grade_id": "cell-452bdc53634539d1",
     "locked": false,
     "points": 0,
     "schema_version": 3,
     "solution": true
    },
    "tags": []
   },
   "outputs": [
    {
     "data": {
      "text/plain": [
       "'Fin'"
      ]
     },
     "execution_count": 33,
     "metadata": {},
     "output_type": "execute_result"
    }
   ],
   "source": [
    "menu = {\n",
    "    'C' : aff_base,\n",
    "    'N' : len,\n",
    "    'G' : max_taille,\n",
    "    'P' : min_taille,\n",
    "    'J' : min_age,\n",
    "    'V' : max_age,\n",
    "    'F' : \"Fin\"\n",
    "}\n",
    "\n",
    "def board(d, m : dict, c : str):\n",
    "    if c != 'F':\n",
    "        return m[c](d)\n",
    "    else:\n",
    "         return m['F']\n",
    "\n",
    "board(cops, menu, 'F')"
   ]
  },
  {
   "cell_type": "markdown",
   "metadata": {
    "deletable": false,
    "editable": false,
    "nbgrader": {
     "cell_type": "markdown",
     "checksum": "4dab3c167cbfca32c263e407d51f78ea",
     "grade": false,
     "grade_id": "cell-cdd45fd2ab4bb377",
     "locked": true,
     "schema_version": 3,
     "solution": false
    }
   },
   "source": [
    "# Analyse séquence ADN\n",
    "\n",
    "(`str` et ADN)\n",
    "\n",
    "## Validité d'une séquence ADN\n",
    "\n",
    "Une chaine ou séquence d'ADN _valide_ est une chaîne de caractères non vide et uniquement constituée des caractères `a`, `c`, `g` ou `t` qui codent les _gènes_.\n",
    "Ecrire une fonction `est_valide()` qui contrôle la validité d'une chaîne ADN arbitraire."
   ]
  },
  {
   "cell_type": "code",
   "execution_count": 34,
   "metadata": {
    "deletable": false,
    "editable": false,
    "nbgrader": {
     "cell_type": "code",
     "checksum": "3daf1896a19562243d813108cf225ad0",
     "grade": false,
     "grade_id": "cell-b60f7c56e6bb6735",
     "locked": true,
     "schema_version": 3,
     "solution": false,
     "task": false
    },
    "tags": []
   },
   "outputs": [],
   "source": [
    "genes = {'a', 'c', 'g', 't'}"
   ]
  },
  {
   "cell_type": "code",
   "execution_count": 40,
   "metadata": {
    "deletable": false,
    "nbgrader": {
     "cell_type": "code",
     "checksum": "5e7bc3d6d63b08a79b224afc8159b574",
     "grade": true,
     "grade_id": "cell-c2a970be4d65b0ef",
     "locked": false,
     "points": 0,
     "schema_version": 3,
     "solution": true,
     "task": false
    },
    "tags": []
   },
   "outputs": [],
   "source": [
    "def est_valide(adn : str)-> bool:\n",
    "    for g in adn:\n",
    "        if g != 'g' and g != 'a' and g != 't' and g != 'c':\n",
    "            return False\n",
    "    return True"
   ]
  },
  {
   "cell_type": "markdown",
   "metadata": {
    "deletable": false,
    "editable": false,
    "nbgrader": {
     "cell_type": "markdown",
     "checksum": "66f28eb8116e3d97b91cec4353feb9b8",
     "grade": false,
     "grade_id": "cell-3e1c2fccac1914b1",
     "locked": true,
     "schema_version": 3,
     "solution": false,
     "task": false
    },
    "tags": []
   },
   "source": [
    "#### Validation\n",
    "\n",
    "Utiliser la chaine `t` suivante pour tester votre fonction."
   ]
  },
  {
   "cell_type": "code",
   "execution_count": 41,
   "metadata": {
    "deletable": false,
    "editable": false,
    "nbgrader": {
     "cell_type": "code",
     "checksum": "a4924c997c21df1f541f087b5e2b6040",
     "grade": false,
     "grade_id": "cell-bd6a32e68f71d867",
     "locked": true,
     "schema_version": 3,
     "solution": false,
     "task": false
    },
    "tags": []
   },
   "outputs": [],
   "source": [
    "t = \"acgtagtcaaatgctt\""
   ]
  },
  {
   "cell_type": "code",
   "execution_count": 42,
   "metadata": {
    "deletable": false,
    "nbgrader": {
     "cell_type": "code",
     "checksum": "9956b9636859b7364b871e438ffc87a9",
     "grade": true,
     "grade_id": "cell-d3717a7bcf9102ad",
     "locked": false,
     "points": 0,
     "schema_version": 3,
     "solution": true,
     "task": false
    },
    "tags": []
   },
   "outputs": [],
   "source": [
    "assert est_valide(t) == True"
   ]
  },
  {
   "cell_type": "markdown",
   "metadata": {
    "deletable": false,
    "editable": false,
    "nbgrader": {
     "cell_type": "markdown",
     "checksum": "a8ecbb8f1e30dbdb3fd5f2abe8226ccf",
     "grade": false,
     "grade_id": "cell-54f13511d3a25227",
     "locked": true,
     "schema_version": 3,
     "solution": false
    }
   },
   "source": [
    "## Proportion d'apparition\n",
    "\n",
    "### `freqG()`:\n",
    "Ecrire une fonction `freqG()`  qui calcule la proportion d'apparition, exprimée en %, d'un des gènes `a`, `c`, `g` ou `t` dans une chaîne ADN donnée."
   ]
  },
  {
   "cell_type": "code",
   "execution_count": 43,
   "metadata": {
    "deletable": false,
    "nbgrader": {
     "cell_type": "code",
     "checksum": "6f2fc97a57f1ce608f92bc2fa840b0e3",
     "grade": true,
     "grade_id": "cell-04fd2aa07d55a00d",
     "locked": false,
     "points": 0,
     "schema_version": 3,
     "solution": true
    },
    "tags": []
   },
   "outputs": [],
   "source": [
    "def freqG(adn : str, gene : str) -> float:\n",
    "    f = 0.\n",
    "    for g in adn:\n",
    "        if g == gene:\n",
    "            f += 1\n",
    "    return (f * 100)/len(adn)"
   ]
  },
  {
   "cell_type": "code",
   "execution_count": 45,
   "metadata": {
    "deletable": false,
    "nbgrader": {
     "cell_type": "code",
     "checksum": "a5afc1ae58481ddc3035a2c4726c1413",
     "grade": true,
     "grade_id": "cell-78833226c7a85290",
     "locked": false,
     "points": 0,
     "schema_version": 3,
     "solution": true,
     "task": false
    },
    "tags": []
   },
   "outputs": [
    {
     "name": "stdout",
     "output_type": "stream",
     "text": [
      "c : 18.75%\n",
      "g : 18.75%\n",
      "t : 31.25%\n",
      "a : 31.25%\n"
     ]
    }
   ],
   "source": [
    "for g in genes:\n",
    "    print(f\"{g} : {freqG(t, g)}%\")"
   ]
  },
  {
   "cell_type": "markdown",
   "metadata": {
    "deletable": false,
    "editable": false,
    "nbgrader": {
     "cell_type": "markdown",
     "checksum": "202a46735201b94ffb6acd78c8097be6",
     "grade": false,
     "grade_id": "cell-17382a9025396d93",
     "locked": true,
     "schema_version": 3,
     "solution": false,
     "task": false
    }
   },
   "source": [
    "### `freq()`:\n",
    "Ecrire une fonction `freq()`  qui calcule la proportion d'apparition, exprimée en %, d'une séquence `seq` de gènes 'a', 'c', 'g' ou 't' de longueur `lSeq` dans une chaîne ADN `st` donnée de longueur `long`. \n",
    "On vérifiera que la séquence `seq` et la chaine ADN `st` sont valides.  "
   ]
  },
  {
   "cell_type": "code",
   "execution_count": 47,
   "metadata": {
    "deletable": false,
    "nbgrader": {
     "cell_type": "code",
     "checksum": "8223d88c0d90aa08df77f7c4144fe2e0",
     "grade": true,
     "grade_id": "cell-8914c9c8168ea3b8",
     "locked": false,
     "points": 0,
     "schema_version": 3,
     "solution": true,
     "task": false
    },
    "tags": []
   },
   "outputs": [],
   "source": [
    "def freq(st : str, long : int, seq : str, lSeq : int) -> float:\n",
    "    f = 0.\n",
    "    for i in range(0, long - lSeq):\n",
    "        if st[i:i+lSeq] == seq:\n",
    "            f += 1\n",
    "    return (f* 100)/len(st)"
   ]
  },
  {
   "cell_type": "markdown",
   "metadata": {
    "deletable": false,
    "editable": false,
    "nbgrader": {
     "cell_type": "markdown",
     "checksum": "e8599e969e417409ec69a3db2c7502bf",
     "grade": false,
     "grade_id": "cell-416db4cfce88d1ae",
     "locked": true,
     "schema_version": 3,
     "solution": false,
     "task": false
    },
    "tags": []
   },
   "source": [
    "#### Validation\n",
    "\n",
    "Utiliser la chaine ADN `t` pour tester votre fonction sur des séquences de votre choix."
   ]
  },
  {
   "cell_type": "code",
   "execution_count": 49,
   "metadata": {
    "deletable": false,
    "nbgrader": {
     "cell_type": "code",
     "checksum": "6f3e76c00d33b22d65c93f41e353f196",
     "grade": true,
     "grade_id": "cell-f968e0d4a79cd373",
     "locked": false,
     "points": 0,
     "schema_version": 3,
     "solution": true,
     "task": false
    },
    "tags": []
   },
   "outputs": [
    {
     "name": "stdout",
     "output_type": "stream",
     "text": [
      "gt : 12.5%\n"
     ]
    }
   ],
   "source": [
    "s = \"gt\"\n",
    "f1 = freq(t, len(t), s, len(s))\n",
    "print(f\"{s} : {f1}%\")"
   ]
  },
  {
   "cell_type": "markdown",
   "metadata": {
    "deletable": false,
    "editable": false,
    "nbgrader": {
     "cell_type": "markdown",
     "checksum": "f4e86377d4b88f999be07ced6c32f285",
     "grade": false,
     "grade_id": "cell-5fa94c9ff5fe7864",
     "locked": true,
     "schema_version": 3,
     "solution": false,
     "task": false
    },
    "tags": []
   },
   "source": [
    "## Test\n",
    "Ecrire un programme qui effectue les traitements suivants:\n",
    "1. Définir une chaîne ADN assez longue\n",
    "2. Récupérer au clavier une séquence ADN \n",
    "3. Vérifier la validité de la chaine et de la séquence  \n",
    "3. Calculer et afficher sa fréquence d'apparition comme suit :\n",
    "\n",
    "`La séquence \"agt\" apparait 18.75% dans la chaine \"acgtagtcaaatgctt\" `\n"
   ]
  },
  {
   "cell_type": "code",
   "execution_count": 54,
   "metadata": {
    "deletable": false,
    "nbgrader": {
     "cell_type": "code",
     "checksum": "ba246355464d3169e41ce84790a0cb2c",
     "grade": true,
     "grade_id": "cell-92363feac6a7186b",
     "locked": false,
     "points": 0,
     "schema_version": 3,
     "solution": true
    },
    "tags": []
   },
   "outputs": [],
   "source": [
    "adn = \"atcggatcctaggcttaggctagatcgctgagtcgatcgtagcttacggcatagctgacgattaccgatcgtagcttagcg\"\n",
    "\n",
    "def freq_display(dna : str) -> None:\n",
    "    assert est_valide(dna) == True\n",
    "    seq = input(\"Enter a sequence : \")\n",
    "    if est_valide(seq):\n",
    "        print(f\"La séquence '{seq}' apparait {freq(dna, len(dna), seq, len(seq)) : .2f}% dans la chaine '{dna}'\")\n",
    "    else:\n",
    "        print(\"Sequence non valide !\")"
   ]
  },
  {
   "cell_type": "code",
   "execution_count": 65,
   "metadata": {},
   "outputs": [
    {
     "name": "stdin",
     "output_type": "stream",
     "text": [
      "Enter a sequence :  ga\n"
     ]
    },
    {
     "name": "stdout",
     "output_type": "stream",
     "text": [
      "La séquence 'ga' apparait  8.64% dans la chaine 'atcggatcctaggcttaggctagatcgctgagtcgatcgtagcttacggcatagctgacgattaccgatcgtagcttagcg'\n"
     ]
    }
   ],
   "source": [
    "freq_display(adn)"
   ]
  },
  {
   "cell_type": "markdown",
   "metadata": {
    "deletable": false,
    "editable": false,
    "nbgrader": {
     "cell_type": "markdown",
     "checksum": "bf4526eaadfecbc7df1138b7d0570d5b",
     "grade": false,
     "grade_id": "cell-03fba6a581f94fcf",
     "locked": true,
     "schema_version": 3,
     "solution": false
    }
   },
   "source": [
    "# Histogrammes\n",
    "(dictionnaire et histogrammes)\n",
    "\n",
    "Les dictionnaires sont utiles pour construire des histogrammes, comme par exemple celui du nombre d'occurrences d'un caractère donné dans une population. Ici _caractère_ est à prendre au sens génétique : le nombre de personnes aux yeux bleus dans la salle, ... (et non \"caractère\" au sens `str`)   "
   ]
  },
  {
   "cell_type": "markdown",
   "metadata": {
    "deletable": false,
    "editable": false,
    "nbgrader": {
     "cell_type": "markdown",
     "checksum": "25f76b1ab99624b84e5a61e8f764810b",
     "grade": false,
     "grade_id": "cell-7143cb9465ba38fb",
     "locked": true,
     "schema_version": 3,
     "solution": false
    }
   },
   "source": [
    "## Trier un dictionnaire par valeurs\n",
    "\n",
    "**Rappel.** Les éléments d'un dictionnaire sont rangés dans un ordre arbitraire et seulement accessibles par leurs clés.  \n",
    "On suppose que les valeurs d'un dictionnaire sont comparables (avec `<` par exemple).  \n",
    "Pour un tel dictionnaire, écrire une fonction `tri()` qui retourne _une liste_ ordonnée par les _valeurs décroissantes_ des couples (clé:valeur) d'un dictionnaire donné.   \n",
    "*Remarque* : vous pouvez utiliser la méthode `.sort()` qui trie une liste donnée.  \n",
    "`toto.sort()` est la liste `toto` triée.  "
   ]
  },
  {
   "cell_type": "code",
   "execution_count": 79,
   "metadata": {
    "deletable": false,
    "nbgrader": {
     "cell_type": "code",
     "checksum": "1cef916b2dc98606fff961c8c83e8e74",
     "grade": true,
     "grade_id": "cell-b9aee5c2bca9aa78",
     "locked": false,
     "points": 0,
     "schema_version": 3,
     "solution": true,
     "task": false
    }
   },
   "outputs": [],
   "source": [
    "def tri(d : dict) -> list:\n",
    "    d = list(d.items())\n",
    "    d.sort(key = lambda x : x[1], reverse = True)\n",
    "    return d"
   ]
  },
  {
   "cell_type": "code",
   "execution_count": 80,
   "metadata": {
    "deletable": false,
    "nbgrader": {
     "cell_type": "code",
     "checksum": "f6e1863ab6e6bf433d76fe2122eed25d",
     "grade": true,
     "grade_id": "cell-9c3833c338d3ecc1",
     "locked": false,
     "points": 0,
     "schema_version": 3,
     "solution": true
    }
   },
   "outputs": [
    {
     "name": "stdout",
     "output_type": "stream",
     "text": [
      "{'Python': 1991, 'JavaScript': 1995, 'Java': 1995, 'C++': 1985, 'C#': 2000, 'Ruby': 1995, 'Swift': 2014, 'Go': 2009, 'PHP': 1995, 'Kotlin': 2011}\n"
     ]
    }
   ],
   "source": [
    "langages_annees = {\n",
    "    \"Python\": 1991,\n",
    "    \"JavaScript\": 1995,\n",
    "    \"Java\": 1995,\n",
    "    \"C++\": 1985,\n",
    "    \"C#\": 2000,\n",
    "    \"Ruby\": 1995,\n",
    "    \"Swift\": 2014,\n",
    "    \"Go\": 2009,\n",
    "    \"PHP\": 1995,\n",
    "    \"Kotlin\": 2011\n",
    "}\n",
    "\n",
    "print(langages_annees)\n"
   ]
  },
  {
   "cell_type": "code",
   "execution_count": 82,
   "metadata": {},
   "outputs": [
    {
     "data": {
      "text/plain": [
       "[('Swift', 2014),\n",
       " ('Kotlin', 2011),\n",
       " ('Go', 2009),\n",
       " ('C#', 2000),\n",
       " ('JavaScript', 1995),\n",
       " ('Java', 1995),\n",
       " ('Ruby', 1995),\n",
       " ('PHP', 1995),\n",
       " ('Python', 1991),\n",
       " ('C++', 1985)]"
      ]
     },
     "execution_count": 82,
     "metadata": {},
     "output_type": "execute_result"
    }
   ],
   "source": [
    "tri(langages_annees)"
   ]
  },
  {
   "cell_type": "markdown",
   "metadata": {
    "deletable": false,
    "editable": false,
    "nbgrader": {
     "cell_type": "markdown",
     "checksum": "52e118dc14aaa98a0f376628de4a7979",
     "grade": false,
     "grade_id": "cell-60f7892387dd710f",
     "locked": true,
     "schema_version": 3,
     "solution": false
    }
   },
   "source": [
    "## Fréquences d'apparition des lettres d'une phrase\n",
    "Ecrire les fonctions :\n",
    "- `compte()`  qui compte les occurrences des lettres d'une phrase quelconque  \n",
    "- `freq()` qui calcule les fréquences d'apparition des lettres d'une phrase\n",
    "- `aff_freq()`qui affiche les lettres et leurs fréquences par ordre décroissant des fréquences.  \n",
    "\n",
    "Tester ces fonctions sur la phrase suivante :  \n",
    "`bonjour que me vaut le plaisir de votre rencontre cher monsieur`"
   ]
  },
  {
   "cell_type": "code",
   "execution_count": 83,
   "metadata": {
    "deletable": false,
    "nbgrader": {
     "cell_type": "code",
     "checksum": "73b92a9cb284a85a89ed8adaed6bb0c2",
     "grade": true,
     "grade_id": "cell-4fe4b6d7fc9ae58e",
     "locked": false,
     "points": 0,
     "schema_version": 3,
     "solution": true,
     "task": false
    }
   },
   "outputs": [],
   "source": [
    "def compte(s : str, c : str) -> int:\n",
    "    occ = 0\n",
    "    for char in s:\n",
    "        if char == c:\n",
    "            occ += 1\n",
    "    return occ"
   ]
  },
  {
   "cell_type": "code",
   "execution_count": 92,
   "metadata": {
    "deletable": false,
    "nbgrader": {
     "cell_type": "code",
     "checksum": "16fd7dda85956c813d475d750ebd7ac7",
     "grade": true,
     "grade_id": "cell-9fc2668ac7c17b70",
     "locked": false,
     "points": 0,
     "schema_version": 3,
     "solution": true
    }
   },
   "outputs": [],
   "source": [
    "p = \"bonjour que me vaut le plaisir de votre rencontre cher monsieur\"\n",
    "assert compte(p, p[0]) == 1\n",
    "assert compte(p, p[1]) == 5\n",
    "assert compte(p, p[2]) == 4"
   ]
  },
  {
   "cell_type": "code",
   "execution_count": 100,
   "metadata": {},
   "outputs": [],
   "source": [
    "def freq(s : str) -> dict:\n",
    "    occ = {c: compte(s, c) for c in s}\n",
    "    return occ"
   ]
  },
  {
   "cell_type": "code",
   "execution_count": 103,
   "metadata": {},
   "outputs": [
    {
     "data": {
      "text/plain": [
       "{'b': 1,\n",
       " 'o': 5,\n",
       " 'n': 4,\n",
       " 'j': 1,\n",
       " 'u': 4,\n",
       " 'r': 7,\n",
       " ' ': 10,\n",
       " 'q': 1,\n",
       " 'e': 9,\n",
       " 'm': 2,\n",
       " 'v': 2,\n",
       " 'a': 2,\n",
       " 't': 3,\n",
       " 'l': 2,\n",
       " 'p': 1,\n",
       " 'i': 3,\n",
       " 's': 2,\n",
       " 'd': 1,\n",
       " 'c': 2,\n",
       " 'h': 1}"
      ]
     },
     "execution_count": 103,
     "metadata": {},
     "output_type": "execute_result"
    }
   ],
   "source": [
    "freq(p)"
   ]
  },
  {
   "cell_type": "code",
   "execution_count": 161,
   "metadata": {},
   "outputs": [],
   "source": [
    "def aff_freq(s : str) -> None:\n",
    "    d = freq(s)\n",
    "    d = tri(d)\n",
    "    for i in range(len(d)):\n",
    "        print(f\"{d[i][0]} : {d[i][1]}\")\n",
    "        \n",
    "    "
   ]
  },
  {
   "cell_type": "code",
   "execution_count": 162,
   "metadata": {},
   "outputs": [
    {
     "name": "stdout",
     "output_type": "stream",
     "text": [
      "  : 10\n",
      "e : 9\n",
      "r : 7\n",
      "o : 5\n",
      "n : 4\n",
      "u : 4\n",
      "t : 3\n",
      "i : 3\n",
      "m : 2\n",
      "v : 2\n",
      "a : 2\n",
      "l : 2\n",
      "s : 2\n",
      "c : 2\n",
      "b : 1\n",
      "j : 1\n",
      "q : 1\n",
      "p : 1\n",
      "d : 1\n",
      "h : 1\n"
     ]
    }
   ],
   "source": [
    "aff_freq(p)"
   ]
  },
  {
   "cell_type": "markdown",
   "metadata": {
    "deletable": false,
    "editable": false,
    "nbgrader": {
     "cell_type": "markdown",
     "checksum": "15cf0053e1eb566a5abdbee825beb929",
     "grade": false,
     "grade_id": "cell-f6845a3e6360c894",
     "locked": true,
     "schema_version": 3,
     "solution": false
    }
   },
   "source": [
    "### Une ch'tite figure\n",
    "Les histogrammes se construisent et se tracent avec `matplotlib`.   \n",
    "- regarder le chapitre \"modules utiles\" du support de cours \n",
    "- ou la doc de `pyplot.hist` par exemple.\n",
    "\n",
    "Ici on va juste _afficher sous forme d'histogramme_ le résultat de nos précédents traitement. \n",
    "- regarder la doc de `pyplot.bar`  \n",
    "- and let's go!'"
   ]
  },
  {
   "cell_type": "code",
   "execution_count": 205,
   "metadata": {
    "deletable": false,
    "nbgrader": {
     "cell_type": "code",
     "checksum": "4ccf14cf0b0ff9dc032759f7cd9cef13",
     "grade": true,
     "grade_id": "cell-66e0b9df07f43cf1",
     "locked": false,
     "points": 0,
     "schema_version": 3,
     "solution": true
    }
   },
   "outputs": [
    {
     "data": {
      "image/png": "[encoded data removed]",
      "text/plain": [
       "<Figure size 640x480 with 1 Axes>"
      ]
     },
     "metadata": {},
     "output_type": "display_data"
    }
   ],
   "source": [
    "import matplotlib.pyplot as plt\n",
    "\n",
    "letters = freq(p)\n",
    "letters = tri(letters)\n",
    "\n",
    "l = [t[0] for t in letters]\n",
    "f = [(c[1]*100)/len(letters) for c in letters]\n",
    "\n",
    "\n",
    "\n",
    "plt.bar(l, f)\n",
    "\n",
    "plt.title(\"Fréquences des lettres\")\n",
    "plt.xlabel(\"Lettres\")\n",
    "plt.ylabel(\"Fréquence\")\n",
    "plt.show()\n",
    "\n"
   ]
  },
  {
   "cell_type": "markdown",
   "metadata": {
    "deletable": false,
    "editable": false,
    "nbgrader": {
     "cell_type": "markdown",
     "checksum": "5b195528c24b376e824063776ec6f582",
     "grade": false,
     "grade_id": "cell-6d51c20f8f9091d3",
     "locked": true,
     "schema_version": 3,
     "solution": false
    }
   },
   "source": [
    "Voici un exemple ce que vous pouvez obtenir :\n",
    "![](./histo.png)"
   ]
  }
 ],
 "metadata": {
  "kernelspec": {
   "display_name": "Python 3 (ipykernel)",
   "language": "python",
   "name": "python3"
  },
  "language_info": {
   "codemirror_mode": {
    "name": "ipython",
    "version": 3
   },
   "file_extension": ".py",
   "mimetype": "text/x-python",
   "name": "python",
   "nbconvert_exporter": "python",
   "pygments_lexer": "ipython3",
   "version": "3.12.7"
  },
  "latex_envs": {
   "LaTeX_envs_menu_present": true,
   "autoclose": false,
   "autocomplete": true,
   "bibliofile": "biblio.bib",
   "cite_by": "apalike",
   "current_citInitial": 1,
   "eqLabelWithNumbers": true,
   "eqNumInitial": 1,
   "hotkeys": {
    "equation": "Ctrl-E",
    "itemize": "Ctrl-I"
   },
   "labels_anchors": false,
   "latex_user_defs": false,
   "report_style_numbering": false,
   "user_envs_cfg": false
  },
  "toc": {
   "nav_menu": {},
   "number_sections": true,
   "sideBar": false,
   "skip_h1_title": false,
   "title_cell": "Table of Contents",
   "title_sidebar": "Contents",
   "toc_cell": true,
   "toc_position": {
    "height": "47.05882263183594px",
    "left": "1170.9925537109375px",
    "top": "156.98529052734375px",
    "width": "158.06985473632812px"
   },
   "toc_section_display": false,
   "toc_window_display": true
  }
 },
 "nbformat": 4,
 "nbformat_minor": 4
}
