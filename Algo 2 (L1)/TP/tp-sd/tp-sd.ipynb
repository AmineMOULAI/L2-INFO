{
 "cells": [
  {
   "cell_type": "markdown",
   "metadata": {
    "deletable": false,
    "editable": false,
    "nbgrader": {
     "cell_type": "markdown",
     "checksum": "ae390fbc217224cef6c5028947afa1d1",
     "grade": false,
     "grade_id": "cell-da87748cb3b4192a",
     "locked": true,
     "schema_version": 3,
     "solution": false
    }
   },
   "source": [
    "**Connaissances abordées :**  types composés de python\n",
    "- les types non mutables de python : `tuple` et `str`\n",
    "- les types mutables de python : `list`, `set` et `dict`"
   ]
  },
  {
   "cell_type": "markdown",
   "metadata": {
    "deletable": false,
    "editable": false,
    "nbgrader": {
     "cell_type": "markdown",
     "checksum": "b4032eeb67fd8ecb18aaef70ee7f6ff7",
     "grade": false,
     "grade_id": "cell-9896fa9474e22433",
     "locked": true,
     "schema_version": 3,
     "solution": false
    }
   },
   "source": [
    "\n",
    "# Créations en compréhension de listes `lst` et `dict` \n",
    "\n",
    "## Listes en compréhension\n",
    "Ce mécanisme est très utile.\n",
    "L'appliquer pour obtenir les listes correspondant aux traitements suivants.\n",
    "1. ajouter 5 à chaque élément de la liste des entiers compris entre 0 et 10.  \n",
    "1. ajouter 5 à chaque élément de la liste des entiers pairs compris entre 0 et 10.  \n",
    "\n",
    "Afficher la liste ainsi obtenue."
   ]
  },
  {
   "cell_type": "code",
   "execution_count": 3,
   "metadata": {
    "deletable": false,
    "nbgrader": {
     "cell_type": "code",
     "checksum": "25f468f7c4b1d432d5ca93e7730a1c11",
     "grade": true,
     "grade_id": "cell-0e8b94626159d152",
     "locked": false,
     "points": 0,
     "schema_version": 3,
     "solution": true,
     "task": false
    },
    "tags": []
   },
   "outputs": [
    {
     "ename": "NotImplementedError",
     "evalue": "",
     "output_type": "error",
     "traceback": [
      "\u001b[1;31m---------------------------------------------------------------------------\u001b[0m",
      "\u001b[1;31mNotImplementedError\u001b[0m                       Traceback (most recent call last)",
      "Cell \u001b[1;32mIn[3], line 2\u001b[0m\n\u001b[0;32m      1\u001b[0m \u001b[38;5;66;03m# ENTRER VOTRE CODE A LA PLACE DE CES 2 LIGNES\u001b[39;00m\n\u001b[1;32m----> 2\u001b[0m \u001b[38;5;28;01mraise\u001b[39;00m \u001b[38;5;167;01mNotImplementedError\u001b[39;00m()\n",
      "\u001b[1;31mNotImplementedError\u001b[0m: "
     ]
    }
   ],
   "source": [
    "# ENTRER VOTRE CODE A LA PLACE DE CES 2 LIGNES\n",
    "raise NotImplementedError()"
   ]
  },
  {
   "cell_type": "markdown",
   "metadata": {
    "deletable": false,
    "editable": false,
    "nbgrader": {
     "cell_type": "markdown",
     "checksum": "bf5a109cf1bccf7514e185e3f5a0a37a",
     "grade": false,
     "grade_id": "cell-fdf4ab11dd2d0e67",
     "locked": true,
     "schema_version": 3,
     "solution": false,
     "task": false
    }
   },
   "source": [
    "**Validation.**\n",
    "\n",
    "Ecrire une validation de ces générations de listes."
   ]
  },
  {
   "cell_type": "code",
   "execution_count": null,
   "metadata": {
    "deletable": false,
    "nbgrader": {
     "cell_type": "code",
     "checksum": "c797367297cd4b3123304d9be35ed90d",
     "grade": true,
     "grade_id": "cell-ca4c4db45c7c3592",
     "locked": false,
     "points": 0,
     "schema_version": 3,
     "solution": true,
     "task": false
    },
    "tags": []
   },
   "outputs": [],
   "source": [
    "# ENTRER VOTRE CODE A LA PLACE DE CES 2 LIGNES\n",
    "raise NotImplementedError()"
   ]
  },
  {
   "cell_type": "markdown",
   "metadata": {
    "deletable": false,
    "editable": false,
    "nbgrader": {
     "cell_type": "markdown",
     "checksum": "5c5df63205ec65a78be4cc35756cc4ca",
     "grade": false,
     "grade_id": "cell-3be5e527480d1486",
     "locked": true,
     "schema_version": 3,
     "solution": false
    }
   },
   "source": [
    "## Dictionnaires en compréhension\n",
    "\n",
    "Définir à l'aide de ce mécanisme l'ensemble des couples $(n, n^2)$ pour les entiers $n$ impairs compris entre 1 et 10. \n",
    "\n",
    "Afficher le dictionnaire ainsi obtenu."
   ]
  },
  {
   "cell_type": "code",
   "execution_count": null,
   "metadata": {
    "deletable": false,
    "nbgrader": {
     "cell_type": "code",
     "checksum": "30d2035959f2a6314fede823199170b7",
     "grade": true,
     "grade_id": "cell-eefe71698de43569",
     "locked": false,
     "points": 0,
     "schema_version": 3,
     "solution": true,
     "task": false
    },
    "tags": []
   },
   "outputs": [],
   "source": [
    "# ENTRER VOTRE CODE A LA PLACE DE CES 2 LIGNES\n",
    "raise NotImplementedError()"
   ]
  },
  {
   "cell_type": "markdown",
   "metadata": {
    "deletable": false,
    "editable": false,
    "nbgrader": {
     "cell_type": "markdown",
     "checksum": "8fc508fc3fce3d363db21ddb74aa70b9",
     "grade": false,
     "grade_id": "cell-0d1c7404052833a6",
     "locked": true,
     "schema_version": 3,
     "solution": false,
     "task": false
    }
   },
   "source": [
    "**Validation.**\n",
    "\n",
    "Ecrire une validation de cette génération de dictionnaire."
   ]
  },
  {
   "cell_type": "code",
   "execution_count": null,
   "metadata": {
    "deletable": false,
    "nbgrader": {
     "cell_type": "code",
     "checksum": "12858eaee5edf03d992aa77403a8e19b",
     "grade": true,
     "grade_id": "cell-3e5e3b107efd43a2",
     "locked": false,
     "points": 0,
     "schema_version": 3,
     "solution": true,
     "task": false
    },
    "tags": []
   },
   "outputs": [],
   "source": [
    "# ENTRER VOTRE CODE A LA PLACE DE CES 2 LIGNES\n",
    "raise NotImplementedError()"
   ]
  },
  {
   "cell_type": "markdown",
   "metadata": {
    "deletable": false,
    "editable": false,
    "nbgrader": {
     "cell_type": "markdown",
     "checksum": "41a26a82f1b0dc242e3dffb4d59111b8",
     "grade": false,
     "grade_id": "cell-a1440fdf8ab005e3",
     "locked": true,
     "schema_version": 3,
     "solution": false
    }
   },
   "source": [
    "## Parcourir deux listes\n",
    "\n",
    "A partir des listes de caractères `['u','p','v','d']` et `['p','e','r','p','i']`, utiliser une liste en compréhension pour obtenir la liste :  \n",
    "`['up', 'ue', 'ur', 'up', 'ui', 'pp', 'pe', 'pr', 'pp', 'pi', 'vp', 've', 'vr', 'vp', 'vi', 'dp', 'de', 'dr', 'dp', 'di']`.  \n",
    "Afficher la liste résultat et écrire un test unitaire."
   ]
  },
  {
   "cell_type": "code",
   "execution_count": null,
   "metadata": {
    "deletable": false,
    "nbgrader": {
     "cell_type": "code",
     "checksum": "f61cd7ad1b4307a46929b64026e7934d",
     "grade": true,
     "grade_id": "cell-ab0ccd8aa0db836f",
     "locked": false,
     "points": 0,
     "schema_version": 3,
     "solution": true,
     "task": false
    },
    "tags": []
   },
   "outputs": [],
   "source": [
    "# ENTRER VOTRE CODE A LA PLACE DE CES 2 LIGNES\n",
    "raise NotImplementedError()"
   ]
  },
  {
   "cell_type": "markdown",
   "metadata": {
    "deletable": false,
    "editable": false,
    "nbgrader": {
     "cell_type": "markdown",
     "checksum": "aac3c8ca638de91377045d719058baa5",
     "grade": false,
     "grade_id": "cell-dc86d15faca609ea",
     "locked": true,
     "schema_version": 3,
     "solution": false,
     "task": false
    }
   },
   "source": [
    "# Dictionnaire français-anglais\n",
    "\n",
    "1. Ecrire une fonction `inverse()` qui échange les clés et les valeurs d'un dictionnaire donné et retourne un nouveau dictionnaire \"inversé\".   "
   ]
  },
  {
   "cell_type": "code",
   "execution_count": null,
   "metadata": {
    "deletable": false,
    "nbgrader": {
     "cell_type": "code",
     "checksum": "106cb912749624cef867ebf07121af32",
     "grade": true,
     "grade_id": "cell-45a2c8f353d7cd61",
     "locked": false,
     "points": 0,
     "schema_version": 3,
     "solution": true,
     "task": false
    },
    "tags": []
   },
   "outputs": [],
   "source": [
    "# ENTRER VOTRE CODE A LA PLACE DE CES 2 LIGNES\n",
    "raise NotImplementedError()"
   ]
  },
  {
   "cell_type": "markdown",
   "metadata": {
    "deletable": false,
    "editable": false,
    "nbgrader": {
     "cell_type": "markdown",
     "checksum": "b1417baaea750dd0e4e3e90fecdc7f29",
     "grade": false,
     "grade_id": "cell-e5c89bddd10356fb",
     "locked": true,
     "schema_version": 3,
     "solution": false
    }
   },
   "source": [
    "2. Application pour la traduction français <-> anglais : \n",
    "    - définir un dictionnaire avec quelques paires de mots francais/anglais (unicité de chaque mot dans une langue donnée)\n",
    "    - appliquer la fonction pour obtenir un dictionnaire anglais/français ;\n",
    "    - valider `inverse()` avec ces dictionnaires  "
   ]
  },
  {
   "cell_type": "code",
   "execution_count": null,
   "metadata": {
    "deletable": false,
    "nbgrader": {
     "cell_type": "code",
     "checksum": "cadc5f43d01dfe927a3b754ee16d12ad",
     "grade": true,
     "grade_id": "cell-2bd02eace8e04aa9",
     "locked": false,
     "points": 0,
     "schema_version": 3,
     "solution": true
    },
    "tags": []
   },
   "outputs": [],
   "source": [
    "# ENTRER VOTRE CODE A LA PLACE DE CES 2 LIGNES\n",
    "raise NotImplementedError()"
   ]
  },
  {
   "cell_type": "markdown",
   "metadata": {
    "deletable": false,
    "editable": false,
    "nbgrader": {
     "cell_type": "markdown",
     "checksum": "d80974c9c8dac5b4d36a34df3d22dcc6",
     "grade": false,
     "grade_id": "cell-539ec13d854b4a44",
     "locked": true,
     "schema_version": 3,
     "solution": false
    }
   },
   "source": [
    "# Ensembles\n",
    "\n",
    "## Définition\n",
    "Définir puis afficher les deux ensembles de caractères : `A = {'u','p','v','d'}` et `B = {'p','e','r','p','i'}`. "
   ]
  },
  {
   "cell_type": "code",
   "execution_count": null,
   "metadata": {
    "deletable": false,
    "nbgrader": {
     "cell_type": "code",
     "checksum": "abac2bfd21c85835bd114c9e88372cff",
     "grade": true,
     "grade_id": "cell-837c2432f24a988d",
     "locked": false,
     "points": 0,
     "schema_version": 3,
     "solution": true
    },
    "tags": []
   },
   "outputs": [],
   "source": [
    "# ENTRER VOTRE CODE A LA PLACE DE CES 2 LIGNES\n",
    "raise NotImplementedError()"
   ]
  },
  {
   "cell_type": "markdown",
   "metadata": {
    "deletable": false,
    "editable": false,
    "nbgrader": {
     "cell_type": "markdown",
     "checksum": "5f6092b343c1a2b3ff1668cbd9fdcd9c",
     "grade": false,
     "grade_id": "cell-db65c7f35b4b80ef",
     "locked": true,
     "schema_version": 3,
     "solution": false
    }
   },
   "source": [
    "## Appartenance et autres opérations ensemblistes\n",
    "\n",
    "1. Afficher les ensembles concernés par les questions suivantes.\n",
    "2. Vérifier l'appartenance ou non des caractères `'v'` et `'p'` :\n",
    "    1. à chacun des ensembles `A` puis `B`\n",
    "    2. à leur intersection\n",
    "    3. à leur union\n",
    "    4. aux ensembles différences `A\\B` et `B\\A`\n",
    "    5. à la différence symétrique `A ^ B`  "
   ]
  },
  {
   "cell_type": "code",
   "execution_count": null,
   "metadata": {
    "deletable": false,
    "nbgrader": {
     "cell_type": "code",
     "checksum": "a2d2ee6f2a27ad30dc341facdeff2c41",
     "grade": true,
     "grade_id": "cell-1501169a485a85ad",
     "locked": false,
     "points": 0,
     "schema_version": 3,
     "solution": true,
     "task": false
    },
    "tags": []
   },
   "outputs": [],
   "source": [
    "# ENTRER VOTRE CODE A LA PLACE DE CES 2 LIGNES\n",
    "raise NotImplementedError()"
   ]
  },
  {
   "cell_type": "code",
   "execution_count": null,
   "metadata": {
    "deletable": false,
    "nbgrader": {
     "cell_type": "code",
     "checksum": "4c88a31445c82ef4c06c64e9d8d7d6fa",
     "grade": true,
     "grade_id": "cell-42e1c1859dd75e1b",
     "locked": false,
     "points": 0,
     "schema_version": 3,
     "solution": true
    },
    "tags": []
   },
   "outputs": [],
   "source": [
    "# ENTRER VOTRE CODE A LA PLACE DE CES 2 LIGNES\n",
    "raise NotImplementedError()"
   ]
  },
  {
   "cell_type": "markdown",
   "metadata": {
    "deletable": false,
    "editable": false,
    "nbgrader": {
     "cell_type": "markdown",
     "checksum": "83f26283ce7b08400250c21d84ebbeef",
     "grade": false,
     "grade_id": "cell-4eaf1c7998af21ff",
     "locked": true,
     "schema_version": 3,
     "solution": false
    }
   },
   "source": [
    "# Mini base de données\n",
    "(dictionnaire)\n",
    "\n",
    "Une mini base de données avec un dictionnaire.  \n",
    "\n",
    "*Remarque* : la plupart des traitements sur une base de données comporte des entrées-sorties : choix entrés au clavier, résultat des requêtes (traitements) affichés à l'écran."
   ]
  },
  {
   "cell_type": "markdown",
   "metadata": {
    "deletable": false,
    "editable": false,
    "nbgrader": {
     "cell_type": "markdown",
     "checksum": "70d3d963feec2dd34e9dd37c6b47513a",
     "grade": false,
     "grade_id": "cell-6023731b6d4a24ef",
     "locked": true,
     "schema_version": 3,
     "solution": false
    }
   },
   "source": [
    "## Structure de données et premiers pas\n",
    "\n",
    "### Définition\n",
    "A partir du tableau suivant, définir un dictionnaire `cops` avec les noms d'une série de copains, leur âge et leur taille.  \n",
    "\n",
    "nom | âge en années| taille en cm  \n",
    "----|-----|-------------  \n",
    "Pierre | 21 | 178  \n",
    "Paul | 20 | 183  \n",
    "Pauline | 19 | 165  \n",
    "Sandrine | 20| 163  \n",
    "\n",
    "\n",
    "Le nom servira de _clé_ et la _valeur_ composée de l'âge et la taille est définie avec un tuple.  \n",
    "L'âge est un entier et la taille sera exprimée _en mètre_ avec un nombre flottant.   \n",
    "On appellera _élément_ le triplet clé:(age, taille).    "
   ]
  },
  {
   "cell_type": "code",
   "execution_count": null,
   "metadata": {
    "deletable": false,
    "nbgrader": {
     "cell_type": "code",
     "checksum": "26cb11e8668e7cddaa26389f44ff5ba3",
     "grade": true,
     "grade_id": "cell-8b9276011efb36ec",
     "locked": false,
     "points": 0,
     "schema_version": 3,
     "solution": true
    },
    "tags": []
   },
   "outputs": [],
   "source": [
    "# ENTRER VOTRE CODE A LA PLACE DE CES 2 LIGNES\n",
    "raise NotImplementedError()"
   ]
  },
  {
   "cell_type": "code",
   "execution_count": null,
   "metadata": {
    "deletable": false,
    "editable": false,
    "nbgrader": {
     "cell_type": "code",
     "checksum": "3a82d80bdb032963b0ad3932e41067b7",
     "grade": true,
     "grade_id": "cell-a57ae4fda058c411",
     "locked": true,
     "points": 0,
     "schema_version": 3,
     "solution": false
    },
    "tags": []
   },
   "outputs": [],
   "source": []
  },
  {
   "cell_type": "markdown",
   "metadata": {
    "deletable": false,
    "editable": false,
    "nbgrader": {
     "cell_type": "markdown",
     "checksum": "a7666057158a1dbf8b224e7e46d22274",
     "grade": false,
     "grade_id": "cell-75e86df6c1bd7e32",
     "locked": true,
     "schema_version": 3,
     "solution": false
    }
   },
   "source": [
    "### Affichages\n",
    "Effectuer sur ce dictionnaire les traitements de parcours et d'affichage suivants :  \n",
    "1. parcours selon les clés et affichage des clés\n",
    "1. parcours selon les clés et affichage des couples (clé, valeur)\n",
    "1. parcours selon les valeurs et affichage des valeurs (age, taille)\n",
    "1. parcours selon les valeurs et affichage des tailles\n",
    "2. parcours selon les éléments (clé:valeur) et affichage des couples (clé, valeur) \n",
    "2. parcours et affichage des couples (clé, __age__) "
   ]
  },
  {
   "cell_type": "code",
   "execution_count": null,
   "metadata": {
    "deletable": false,
    "nbgrader": {
     "cell_type": "code",
     "checksum": "2b9d1ce40ca98adeb01afe3c020805e0",
     "grade": true,
     "grade_id": "cell-640b9f87229ec2f1",
     "locked": false,
     "points": 0,
     "schema_version": 3,
     "solution": true
    },
    "tags": []
   },
   "outputs": [],
   "source": [
    "# ENTRER VOTRE CODE A LA PLACE DE CES 2 LIGNES\n",
    "raise NotImplementedError()"
   ]
  },
  {
   "cell_type": "markdown",
   "metadata": {
    "deletable": false,
    "editable": false,
    "nbgrader": {
     "cell_type": "markdown",
     "checksum": "80bb135cbfbadcfb10f91adb7c8de596",
     "grade": false,
     "grade_id": "cell-da6a0b42f9426046",
     "locked": true,
     "schema_version": 3,
     "solution": false
    }
   },
   "source": [
    "### Premier ajout\n",
    "Ajouter un nouvel élément et compter le nombre d'éléments du dictionnaire."
   ]
  },
  {
   "cell_type": "code",
   "execution_count": null,
   "metadata": {
    "deletable": false,
    "nbgrader": {
     "cell_type": "code",
     "checksum": "ea090644bfc92434122793b262027518",
     "grade": true,
     "grade_id": "cell-42f81ba8f4565ecb",
     "locked": false,
     "points": 0,
     "schema_version": 3,
     "solution": true
    },
    "tags": []
   },
   "outputs": [],
   "source": [
    "# ENTRER VOTRE CODE A LA PLACE DE CES 2 LIGNES\n",
    "raise NotImplementedError()"
   ]
  },
  {
   "cell_type": "markdown",
   "metadata": {
    "deletable": false,
    "editable": false,
    "nbgrader": {
     "cell_type": "markdown",
     "checksum": "32f0899d259d918d8eee23fce7420b9e",
     "grade": false,
     "grade_id": "cell-a184a6617f4f0f2f",
     "locked": true,
     "schema_version": 3,
     "solution": false
    }
   },
   "source": [
    "## Requêtes de base\n",
    "\n",
    "Des requêtes classiques en base de données sont :\n",
    "- des requêtes de consultation  \n",
    "- des requêtes de mise à jour.  \n",
    "\n",
    "On va écrire quelques-unes d'entre elles sous la forme de _fonctions_.  \n",
    "Il est conseillé de lire toutes les requêtes demandées pour choisir un ordre de développement efficace.  \n",
    "\n",
    "### Les mises à jour : ajout, modification, suppression \n",
    "Ecrire les fonctions qui effectuent les traitements suivants.  \n",
    "Le cas échéant, signaler l'impossibilité du traitement par un affichage. \n",
    "Pour cela, définir une fonction `dict_error()` qui affiche un message et l'utiliser autant que de besoin.    \n",
    "1. `est_dans()`: vérifier une clé donnée apparaît ou non dans le dictionnaire\n",
    "    - donner 2 versions différentes `est_dans()` et `est_dans2()`, la première n'utilisant pas de méthode de base  \n",
    "1. `ajout()`: ajouter un élément ou modifier un élément déjà existant.   \n",
    "2. `supp()`: suppression d'un élément à partir de sa clé. \n",
    "3. `modif()`: modifier un élément à partir de sa clé. \n",
    "\n",
    "Ecrire aussi des petits tests pour chacune des fonctions."
   ]
  },
  {
   "cell_type": "code",
   "execution_count": null,
   "metadata": {
    "deletable": false,
    "nbgrader": {
     "cell_type": "code",
     "checksum": "6d51e61e129fa7d2bf10f100e782ca24",
     "grade": true,
     "grade_id": "cell-fba0488c446da042",
     "locked": false,
     "points": 0,
     "schema_version": 3,
     "solution": true,
     "task": false
    },
    "tags": []
   },
   "outputs": [],
   "source": [
    "# ENTRER VOTRE CODE A LA PLACE DE CES 2 LIGNES\n",
    "raise NotImplementedError()"
   ]
  },
  {
   "cell_type": "markdown",
   "metadata": {
    "deletable": false,
    "editable": false,
    "nbgrader": {
     "cell_type": "markdown",
     "checksum": "968275853766a8c10c5dc8dd235edf1e",
     "grade": false,
     "grade_id": "cell-ed8cbc9d1a5f0891",
     "locked": true,
     "schema_version": 3,
     "solution": false,
     "task": false
    }
   },
   "source": [
    "#### Tests"
   ]
  },
  {
   "cell_type": "code",
   "execution_count": null,
   "metadata": {
    "deletable": false,
    "nbgrader": {
     "cell_type": "code",
     "checksum": "a1aa1ee908e92db4a3387b962cee5586",
     "grade": true,
     "grade_id": "cell-d1d25fd6ef4967c4",
     "locked": false,
     "points": 0,
     "schema_version": 3,
     "solution": true
    },
    "tags": []
   },
   "outputs": [],
   "source": [
    "# ENTRER VOTRE CODE A LA PLACE DE CES 2 LIGNES\n",
    "raise NotImplementedError()"
   ]
  },
  {
   "cell_type": "markdown",
   "metadata": {
    "deletable": false,
    "editable": false,
    "nbgrader": {
     "cell_type": "markdown",
     "checksum": "17282151ca101fb3de1de249b934a433",
     "grade": false,
     "grade_id": "cell-0e5661dee79c3280",
     "locked": true,
     "schema_version": 3,
     "solution": false
    }
   },
   "source": [
    "### Les consultations\n",
    "Ecrire les fonctions qui effectuent les traitements suivants.  \n",
    "Les cas de traitement particulier seront identifiés et traités de façon adaptée.   \n",
    "\n",
    "2. `age()`: retourne l'âge d'un élément à partir de sa clé  \n",
    "2. `taille()`: retourne la taille d'un élément à partir de sa clé  \n",
    "3. `elem()`: retourne nom, âge et taille d'un élément à partir de sa clé\n",
    "\n",
    "Ecrire aussi des petits tests pour chacune des fonctions."
   ]
  },
  {
   "cell_type": "code",
   "execution_count": null,
   "metadata": {
    "deletable": false,
    "nbgrader": {
     "cell_type": "code",
     "checksum": "d1929bf82aa203013628c8a84e77338d",
     "grade": true,
     "grade_id": "cell-c123cc86a0c87fe6",
     "locked": false,
     "points": 0,
     "schema_version": 3,
     "solution": true,
     "task": false
    },
    "tags": []
   },
   "outputs": [],
   "source": [
    "# ENTRER VOTRE CODE A LA PLACE DE CES 2 LIGNES\n",
    "raise NotImplementedError()"
   ]
  },
  {
   "cell_type": "markdown",
   "metadata": {
    "deletable": false,
    "editable": false,
    "nbgrader": {
     "cell_type": "markdown",
     "checksum": "9cacd697dc9940850798b6b0c6e46d6f",
     "grade": false,
     "grade_id": "cell-ae34825a71f8dab4",
     "locked": true,
     "schema_version": 3,
     "solution": false,
     "task": false
    }
   },
   "source": [
    "#### Tests"
   ]
  },
  {
   "cell_type": "code",
   "execution_count": null,
   "metadata": {
    "deletable": false,
    "nbgrader": {
     "cell_type": "code",
     "checksum": "893e86d08c8cbe9b733edddea4459f0c",
     "grade": true,
     "grade_id": "cell-eaf2889553ccf723",
     "locked": false,
     "points": 0,
     "schema_version": 3,
     "solution": true
    }
   },
   "outputs": [],
   "source": [
    "# ENTRER VOTRE CODE A LA PLACE DE CES 2 LIGNES\n",
    "raise NotImplementedError()"
   ]
  },
  {
   "cell_type": "markdown",
   "metadata": {
    "deletable": false,
    "editable": false,
    "nbgrader": {
     "cell_type": "markdown",
     "checksum": "dd6474f65c4a5f2e34e5d8bff588e1f1",
     "grade": false,
     "grade_id": "cell-a12918cf6dd02056",
     "locked": true,
     "schema_version": 3,
     "solution": false
    }
   },
   "source": [
    "### Les affichages\n",
    "Ecrire les fonctions qui effectuent les traitements suivants.  \n",
    "Les cas de traitement particulier seront identifiés et traités de façon adaptée.   \n",
    "Les affichages seront définis pour respecter le format général suivant :  \n",
    "`Nom : Pauline - âge : 19 ans - taille : 1.65 m`\n",
    "\n",
    "1. `aff_age()`: afficher l'âge d'un élément à partir de sa clé  \n",
    "2. `aff_taille()`: afficher la taille d'un élément à partir de sa clé  \n",
    "3. `aff_elem()`: affichage nom, âge et taille d'un élément à partir de sa clé\n",
    "4. `aff_base()`: affichage de la base complète selon le format précédent\n"
   ]
  },
  {
   "cell_type": "code",
   "execution_count": null,
   "metadata": {
    "deletable": false,
    "nbgrader": {
     "cell_type": "code",
     "checksum": "c217657d8e6f81183c241dbfec552d43",
     "grade": true,
     "grade_id": "cell-9beff9951c3f29a5",
     "locked": false,
     "points": 0,
     "schema_version": 3,
     "solution": true,
     "task": false
    },
    "tags": []
   },
   "outputs": [],
   "source": [
    "# ENTRER VOTRE CODE A LA PLACE DE CES 2 LIGNES\n",
    "raise NotImplementedError()"
   ]
  },
  {
   "cell_type": "markdown",
   "metadata": {
    "deletable": false,
    "editable": false,
    "nbgrader": {
     "cell_type": "markdown",
     "checksum": "371549d68c825c6a7697ffe425e66e64",
     "grade": false,
     "grade_id": "cell-222c7ec27084a9a2",
     "locked": true,
     "schema_version": 3,
     "solution": false,
     "task": false
    },
    "tags": []
   },
   "source": [
    "### Exemple"
   ]
  },
  {
   "cell_type": "code",
   "execution_count": null,
   "metadata": {
    "deletable": false,
    "nbgrader": {
     "cell_type": "code",
     "checksum": "41dd68e489e706aea92611012f343ce5",
     "grade": true,
     "grade_id": "cell-70ae53475b149672",
     "locked": false,
     "points": 0,
     "schema_version": 3,
     "solution": true
    },
    "tags": []
   },
   "outputs": [],
   "source": [
    "# ENTRER VOTRE CODE A LA PLACE DE CES 2 LIGNES\n",
    "raise NotImplementedError()"
   ]
  },
  {
   "cell_type": "markdown",
   "metadata": {
    "deletable": false,
    "editable": false,
    "nbgrader": {
     "cell_type": "markdown",
     "checksum": "f40d1a641199046d85af730509762ce1",
     "grade": false,
     "grade_id": "cell-8e3350e89cb825ea",
     "locked": true,
     "schema_version": 3,
     "solution": false
    }
   },
   "source": [
    "## D'autres requêtes\n",
    "On développe maintenant des requêtes plus sophistiquées sous la forme de fonctions.\n",
    "\n",
    "1. `nb_plus_ages()`: le nombre d'éléments au moins aussi agés qu'un élément donné par sa clé  \n",
    "1. `noms_plus_ages()` : les noms des éléments plus agés qu'un âge donné \n",
    "1. `nb_taille_dans()`: le nombre d'éléments de taille comprise dans un intervalle de tailles données \n",
    "2. `elem_taille_dans()`: afficher les éléments de taille comprise dans un intervalle de tailles données \n",
    "\n",
    "Ecrire aussi des petits tests pour chacune des fonctions."
   ]
  },
  {
   "cell_type": "code",
   "execution_count": null,
   "metadata": {
    "deletable": false,
    "nbgrader": {
     "cell_type": "code",
     "checksum": "b3d97853065552e78ef8c42907ec8631",
     "grade": true,
     "grade_id": "cell-1e991e10b8413caa",
     "locked": false,
     "points": 0,
     "schema_version": 3,
     "solution": true,
     "task": false
    },
    "tags": []
   },
   "outputs": [],
   "source": [
    "# ENTRER VOTRE CODE A LA PLACE DE CES 2 LIGNES\n",
    "raise NotImplementedError()"
   ]
  },
  {
   "cell_type": "code",
   "execution_count": null,
   "metadata": {
    "deletable": false,
    "nbgrader": {
     "cell_type": "code",
     "checksum": "88c27edb5f60e1f9f5a046c217447b12",
     "grade": true,
     "grade_id": "cell-a04eb641e2032c8b",
     "locked": false,
     "points": 0,
     "schema_version": 3,
     "solution": true
    },
    "tags": []
   },
   "outputs": [],
   "source": [
    "# ENTRER VOTRE CODE A LA PLACE DE CES 2 LIGNES\n",
    "raise NotImplementedError()"
   ]
  },
  {
   "cell_type": "markdown",
   "metadata": {
    "deletable": false,
    "editable": false,
    "nbgrader": {
     "cell_type": "markdown",
     "checksum": "c0ad40db3b546f18b125e81c1ac0bd95",
     "grade": false,
     "grade_id": "cell-fa68e19cc702e16b",
     "locked": true,
     "schema_version": 3,
     "solution": false
    }
   },
   "source": [
    "#  _switch case_ python\n",
    "(dictionnaire pour _switch case_)\n",
    "\n",
    "## Choix par menu\n",
    "Compléter le développement précédent de façon à ce que le programme :\n",
    "- affiche le menu suivant :   \n",
    "```Choisir en tapant la lettre correspondante :\n",
    "(C)onsulter la base (affichage complet)\n",
    "(N)ombre d'éléments dans la base\n",
    "(G) : affiche l'élément le plus grand de la base\n",
    "(P) : affiche l'élément le plus petit de la base\n",
    "(J) : affiche l'élément le moins âgé de la base\n",
    "(V) : affiche l'élément le plus âgé de la base\n",
    "(F)in\n",
    "```  \n",
    "- puis attende le choix de l'utilisateur (une lettre entrée au clavier),  \n",
    "- puis exécute le traitement demandé avec la fonction adaptée.  \n",
    "\n",
    "**Indication** : définir un (autre) dictionnaire adapté."
   ]
  },
  {
   "cell_type": "code",
   "execution_count": null,
   "metadata": {
    "deletable": false,
    "nbgrader": {
     "cell_type": "code",
     "checksum": "2fce6b73cfe2563f6838969f8c9ac5ed",
     "grade": true,
     "grade_id": "cell-f679b9c316b85a33",
     "locked": false,
     "points": 0,
     "schema_version": 3,
     "solution": true,
     "task": false
    },
    "tags": []
   },
   "outputs": [],
   "source": [
    "# ENTRER VOTRE CODE A LA PLACE DE CES 2 LIGNES\n",
    "raise NotImplementedError()"
   ]
  },
  {
   "cell_type": "code",
   "execution_count": null,
   "metadata": {
    "deletable": false,
    "nbgrader": {
     "cell_type": "code",
     "checksum": "c694a56816f10a5e324626b30ebaba6d",
     "grade": true,
     "grade_id": "cell-452bdc53634539d1",
     "locked": false,
     "points": 0,
     "schema_version": 3,
     "solution": true
    },
    "tags": []
   },
   "outputs": [],
   "source": [
    "# ENTRER VOTRE CODE A LA PLACE DE CES 2 LIGNES\n",
    "raise NotImplementedError()"
   ]
  },
  {
   "cell_type": "markdown",
   "metadata": {
    "deletable": false,
    "editable": false,
    "nbgrader": {
     "cell_type": "markdown",
     "checksum": "4dab3c167cbfca32c263e407d51f78ea",
     "grade": false,
     "grade_id": "cell-cdd45fd2ab4bb377",
     "locked": true,
     "schema_version": 3,
     "solution": false
    }
   },
   "source": [
    "# Analyse séquence ADN\n",
    "\n",
    "(`str` et ADN)\n",
    "\n",
    "## Validité d'une séquence ADN\n",
    "\n",
    "Une chaine ou séquence d'ADN _valide_ est une chaîne de caractères non vide et uniquement constituée des caractères `a`, `c`, `g` ou `t` qui codent les _gènes_.\n",
    "Ecrire une fonction `est_valide()` qui contrôle la validité d'une chaîne ADN arbitraire."
   ]
  },
  {
   "cell_type": "code",
   "execution_count": null,
   "metadata": {
    "deletable": false,
    "editable": false,
    "nbgrader": {
     "cell_type": "code",
     "checksum": "3daf1896a19562243d813108cf225ad0",
     "grade": false,
     "grade_id": "cell-b60f7c56e6bb6735",
     "locked": true,
     "schema_version": 3,
     "solution": false,
     "task": false
    },
    "tags": []
   },
   "outputs": [],
   "source": [
    "genes = {'a', 'c', 'g', 't'}"
   ]
  },
  {
   "cell_type": "code",
   "execution_count": null,
   "metadata": {
    "deletable": false,
    "nbgrader": {
     "cell_type": "code",
     "checksum": "5e7bc3d6d63b08a79b224afc8159b574",
     "grade": true,
     "grade_id": "cell-c2a970be4d65b0ef",
     "locked": false,
     "points": 0,
     "schema_version": 3,
     "solution": true,
     "task": false
    },
    "tags": []
   },
   "outputs": [],
   "source": [
    "def est_valide(adn : str) -> bool:\n",
    "    for g in adn:\n",
    "        if g != 'a' and g != 'c' and g != 'g' and g != 't':\n",
    "            return False\n",
    "    return True"
   ]
  },
  {
   "cell_type": "markdown",
   "metadata": {
    "deletable": false,
    "editable": false,
    "nbgrader": {
     "cell_type": "markdown",
     "checksum": "66f28eb8116e3d97b91cec4353feb9b8",
     "grade": false,
     "grade_id": "cell-3e1c2fccac1914b1",
     "locked": true,
     "schema_version": 3,
     "solution": false,
     "task": false
    },
    "tags": []
   },
   "source": [
    "#### Validation\n",
    "\n",
    "Utiliser la chaine `t` suivante pour tester votre fonction."
   ]
  },
  {
   "cell_type": "code",
   "execution_count": null,
   "metadata": {
    "deletable": false,
    "editable": false,
    "nbgrader": {
     "cell_type": "code",
     "checksum": "a4924c997c21df1f541f087b5e2b6040",
     "grade": false,
     "grade_id": "cell-bd6a32e68f71d867",
     "locked": true,
     "schema_version": 3,
     "solution": false,
     "task": false
    },
    "tags": []
   },
   "outputs": [],
   "source": [
    "t = \"acgtagtcaaatgctt\""
   ]
  },
  {
   "cell_type": "code",
   "execution_count": null,
   "metadata": {
    "deletable": false,
    "nbgrader": {
     "cell_type": "code",
     "checksum": "9956b9636859b7364b871e438ffc87a9",
     "grade": true,
     "grade_id": "cell-d3717a7bcf9102ad",
     "locked": false,
     "points": 0,
     "schema_version": 3,
     "solution": true,
     "task": false
    },
    "tags": []
   },
   "outputs": [],
   "source": [
    "assert est_valide(t) == True"
   ]
  },
  {
   "cell_type": "markdown",
   "metadata": {
    "deletable": false,
    "editable": false,
    "nbgrader": {
     "cell_type": "markdown",
     "checksum": "a8ecbb8f1e30dbdb3fd5f2abe8226ccf",
     "grade": false,
     "grade_id": "cell-54f13511d3a25227",
     "locked": true,
     "schema_version": 3,
     "solution": false
    }
   },
   "source": [
    "## Proportion d'apparition\n",
    "\n",
    "### `freqG()`:\n",
    "Ecrire une fonction `freqG()`  qui calcule la proportion d'apparition, exprimée en %, d'un des gènes `a`, `c`, `g` ou `t` dans une chaîne ADN donnée."
   ]
  },
  {
   "cell_type": "code",
   "execution_count": null,
   "metadata": {
    "deletable": false,
    "nbgrader": {
     "cell_type": "code",
     "checksum": "6f2fc97a57f1ce608f92bc2fa840b0e3",
     "grade": true,
     "grade_id": "cell-04fd2aa07d55a00d",
     "locked": false,
     "points": 0,
     "schema_version": 3,
     "solution": true
    },
    "tags": []
   },
   "outputs": [],
   "source": [
    "def freqG(adn : str, gene : str) -> float:\n",
    "    f = 0\n",
    "    for g in adn:\n",
    "        if g == gene:\n",
    "            f += 1\n",
    "    return (f / len(adn))*100"
   ]
  },
  {
   "cell_type": "code",
   "execution_count": null,
   "metadata": {
    "deletable": false,
    "nbgrader": {
     "cell_type": "code",
     "checksum": "a5afc1ae58481ddc3035a2c4726c1413",
     "grade": true,
     "grade_id": "cell-78833226c7a85290",
     "locked": false,
     "points": 0,
     "schema_version": 3,
     "solution": true,
     "task": false
    },
    "tags": []
   },
   "outputs": [
    {
     "name": "stdout",
     "output_type": "stream",
     "text": [
      "31.25\n"
     ]
    }
   ],
   "source": [
    "g = freqG(t, 'a')\n",
    "print(g)"
   ]
  },
  {
   "cell_type": "markdown",
   "metadata": {
    "deletable": false,
    "editable": false,
    "nbgrader": {
     "cell_type": "markdown",
     "checksum": "202a46735201b94ffb6acd78c8097be6",
     "grade": false,
     "grade_id": "cell-17382a9025396d93",
     "locked": true,
     "schema_version": 3,
     "solution": false,
     "task": false
    }
   },
   "source": [
    "### `freq()`:\n",
    "Ecrire une fonction `freq()`  qui calcule la proportion d'apparition, exprimée en %, d'une séquence `seq` de gènes 'a', 'c', 'g' ou 't' de longueur `lSeq` dans une chaîne ADN `st` donnée de longueur `long`. \n",
    "On vérifiera que la séquence `seq` et la chaine ADN `st` sont valides.  "
   ]
  },
  {
   "cell_type": "code",
   "execution_count": null,
   "metadata": {
    "deletable": false,
    "nbgrader": {
     "cell_type": "code",
     "checksum": "8223d88c0d90aa08df77f7c4144fe2e0",
     "grade": true,
     "grade_id": "cell-8914c9c8168ea3b8",
     "locked": false,
     "points": 0,
     "schema_version": 3,
     "solution": true,
     "task": false
    },
    "tags": []
   },
   "outputs": [],
   "source": [
    "def freq(st : str, long : int, seq : str, lseq : int) -> float:\n",
    "    assert est_valide(st) and est_valide(seq) == True\n",
    "    f = 0\n",
    "    i = 0\n",
    "    while(i <= long - lseq):\n",
    "        if seq == st[i:i + lseq]:\n",
    "            f += 1\n",
    "        i += 1\n",
    "    return (f/long)*100"
   ]
  },
  {
   "cell_type": "markdown",
   "metadata": {
    "deletable": false,
    "editable": false,
    "nbgrader": {
     "cell_type": "markdown",
     "checksum": "e8599e969e417409ec69a3db2c7502bf",
     "grade": false,
     "grade_id": "cell-416db4cfce88d1ae",
     "locked": true,
     "schema_version": 3,
     "solution": false,
     "task": false
    },
    "tags": []
   },
   "source": [
    "#### Validation\n",
    "\n",
    "Utiliser la chaine ADN `t` pour tester votre fonction sur des séquences de votre choix."
   ]
  },
  {
   "cell_type": "code",
   "execution_count": null,
   "metadata": {
    "deletable": false,
    "nbgrader": {
     "cell_type": "code",
     "checksum": "6f3e76c00d33b22d65c93f41e353f196",
     "grade": true,
     "grade_id": "cell-f968e0d4a79cd373",
     "locked": false,
     "points": 0,
     "schema_version": 3,
     "solution": true,
     "task": false
    },
    "tags": []
   },
   "outputs": [
    {
     "name": "stdout",
     "output_type": "stream",
     "text": [
      "12.5\n"
     ]
    }
   ],
   "source": [
    "s = \"gt\"\n",
    "p = freq(t, len(t), s, len(s))\n",
    "print(p)"
   ]
  },
  {
   "cell_type": "markdown",
   "metadata": {
    "deletable": false,
    "editable": false,
    "nbgrader": {
     "cell_type": "markdown",
     "checksum": "f4e86377d4b88f999be07ced6c32f285",
     "grade": false,
     "grade_id": "cell-5fa94c9ff5fe7864",
     "locked": true,
     "schema_version": 3,
     "solution": false,
     "task": false
    },
    "tags": []
   },
   "source": [
    "## Test\n",
    "Ecrire un programme qui effectue les traitements suivants:\n",
    "1. Définir une chaîne ADN assez longue\n",
    "2. Récupérer au clavier une séquence ADN \n",
    "3. Vérifier la validité de la chaine et de la séquence  \n",
    "3. Calculer et afficher sa fréquence d'apparition comme suit :\n",
    "\n",
    "`La séquence \"agt\" apparait 18.75% dans la chaine \"acgtagtcaaatgctt\" `\n"
   ]
  },
  {
   "cell_type": "code",
   "execution_count": null,
   "metadata": {
    "deletable": false,
    "nbgrader": {
     "cell_type": "code",
     "checksum": "ba246355464d3169e41ce84790a0cb2c",
     "grade": true,
     "grade_id": "cell-92363feac6a7186b",
     "locked": false,
     "points": 0,
     "schema_version": 3,
     "solution": true
    },
    "tags": []
   },
   "outputs": [
    {
     "name": "stdout",
     "output_type": "stream",
     "text": [
      "La séquence gt apparait 4.05% dans la chaine atgcgtacgtagctagctaggctagctaggctaacgttagctaggctagctagctaagctagctagctaggcta\n"
     ]
    }
   ],
   "source": [
    "adn = \"atgcgtacgtagctagctaggctagctaggctaacgttagctaggctagctagctaagctagctagctaggcta\"\n",
    "def menu(adn):\n",
    "    assert est_valide(adn) == True\n",
    "    s = input(\"Entrer une séquence ADN : \")\n",
    "    while not est_valide(s):\n",
    "        s = input(\"Entrer une séquence ADN : \")\n",
    "    f = freq(adn, len(adn), s, len(s))\n",
    "    print(f\"La séquence {s} apparait {f:.2f}% dans la chaine {adn}\") \n",
    "\n",
    "menu(adn)"
   ]
  },
  {
   "cell_type": "markdown",
   "metadata": {
    "deletable": false,
    "editable": false,
    "nbgrader": {
     "cell_type": "markdown",
     "checksum": "bf4526eaadfecbc7df1138b7d0570d5b",
     "grade": false,
     "grade_id": "cell-03fba6a581f94fcf",
     "locked": true,
     "schema_version": 3,
     "solution": false
    }
   },
   "source": [
    "# Histogrammes\n",
    "(dictionnaire et histogrammes)\n",
    "\n",
    "Les dictionnaires sont utiles pour construire des histogrammes, comme par exemple celui du nombre d'occurrences d'un caractère donné dans une population. Ici _caractère_ est à prendre au sens génétique : le nombre de personnes aux yeux bleus dans la salle, ... (et non \"caractère\" au sens `str`)   "
   ]
  },
  {
   "cell_type": "markdown",
   "metadata": {
    "deletable": false,
    "editable": false,
    "nbgrader": {
     "cell_type": "markdown",
     "checksum": "25f76b1ab99624b84e5a61e8f764810b",
     "grade": false,
     "grade_id": "cell-7143cb9465ba38fb",
     "locked": true,
     "schema_version": 3,
     "solution": false
    }
   },
   "source": [
    "## Trier un dictionnaire par valeurs\n",
    "\n",
    "**Rappel.** Les éléments d'un dictionnaire sont rangés dans un ordre arbitraire et seulement accessibles par leurs clés.  \n",
    "On suppose que les valeurs d'un dictionnaire sont comparables (avec `<` par exemple).  \n",
    "Pour un tel dictionnaire, écrire une fonction `tri()` qui retourne _une liste_ ordonnée par les _valeurs décroissantes_ des couples (clé:valeur) d'un dictionnaire donné.   \n",
    "*Remarque* : vous pouvez utiliser la méthode `.sort()` qui trie une liste donnée.  \n",
    "`toto.sort()` est la liste `toto` triée.  "
   ]
  },
  {
   "cell_type": "code",
   "execution_count": null,
   "metadata": {
    "deletable": false,
    "nbgrader": {
     "cell_type": "code",
     "checksum": "1cef916b2dc98606fff961c8c83e8e74",
     "grade": true,
     "grade_id": "cell-b9aee5c2bca9aa78",
     "locked": false,
     "points": 0,
     "schema_version": 3,
     "solution": true,
     "task": false
    }
   },
   "outputs": [],
   "source": [
    "def tri(d : dict) -> list[tuple]:\n",
    "    d = list(d.items())\n",
    "    d.sort(key = lambda x : x[1])\n",
    "    return d"
   ]
  },
  {
   "cell_type": "code",
   "execution_count": null,
   "metadata": {
    "deletable": false,
    "nbgrader": {
     "cell_type": "code",
     "checksum": "f6e1863ab6e6bf433d76fe2122eed25d",
     "grade": true,
     "grade_id": "cell-9c3833c338d3ecc1",
     "locked": false,
     "points": 0,
     "schema_version": 3,
     "solution": true
    }
   },
   "outputs": [
    {
     "name": "stdout",
     "output_type": "stream",
     "text": [
      "[('orange', 2), ('banane', 3), ('kiwi', 5), ('mangue', 7), ('pomme', 8)]\n"
     ]
    }
   ],
   "source": [
    "d = {\n",
    "    'banane': 3,\n",
    "    'pomme': 8,\n",
    "    'orange': 2,\n",
    "    'kiwi': 5,\n",
    "    'mangue': 7\n",
    "}\n",
    "\n",
    "t = tri(d)\n",
    "print(t)"
   ]
  },
  {
   "cell_type": "markdown",
   "metadata": {
    "deletable": false,
    "editable": false,
    "nbgrader": {
     "cell_type": "markdown",
     "checksum": "52e118dc14aaa98a0f376628de4a7979",
     "grade": false,
     "grade_id": "cell-60f7892387dd710f",
     "locked": true,
     "schema_version": 3,
     "solution": false
    }
   },
   "source": [
    "## Fréquences d'apparition des lettres d'une phrase\n",
    "Ecrire les fonctions :\n",
    "- `compte()`  qui compte les occurrences des lettres d'une phrase quelconque  \n",
    "- `freq()` qui calcule les fréquences d'apparition des lettres d'une phrase\n",
    "- `aff_freq()`qui affiche les lettres et leurs fréquences par ordre décroissant des fréquences.  \n",
    "\n",
    "Tester ces fonctions sur la phrase suivante :  \n",
    "`bonjour que me vaut le plaisir de votre rencontre cher monsieur`"
   ]
  },
  {
   "cell_type": "code",
   "execution_count": 2,
   "metadata": {
    "deletable": false,
    "nbgrader": {
     "cell_type": "code",
     "checksum": "73b92a9cb284a85a89ed8adaed6bb0c2",
     "grade": true,
     "grade_id": "cell-4fe4b6d7fc9ae58e",
     "locked": false,
     "points": 0,
     "schema_version": 3,
     "solution": true,
     "task": false
    }
   },
   "outputs": [],
   "source": [
    "def compte(s : str, c : str) -> int:\n",
    "    occ = 0\n",
    "    for l in s:\n",
    "        if l == c:\n",
    "            occ += 1\n",
    "    return occ\n",
    "\n",
    "def freq(s : str) -> list[int]:\n",
    "    f = {chr(ord(s[i])): 0 for i in range(len(s))}\n",
    "    f[' '] = 0\n",
    "    for c in s:\n",
    "        f[c] += 1\n",
    "    return f\n",
    "\n",
    "def aff_freq(f : dict) -> None:\n",
    "    f = list(f.items())\n",
    "    f.sort(key = lambda x : x[1], reverse = True)\n",
    "    for l in f:\n",
    "        print(f\"| {l[0]:2s}\", end=\" \")\n",
    "    print()\n",
    "    for l in f:\n",
    "        print(f\"| {l[1]:2d}\", end = \" \")\n",
    "    "
   ]
  },
  {
   "cell_type": "code",
   "execution_count": 3,
   "metadata": {
    "deletable": false,
    "nbgrader": {
     "cell_type": "code",
     "checksum": "16fd7dda85956c813d475d750ebd7ac7",
     "grade": true,
     "grade_id": "cell-9fc2668ac7c17b70",
     "locked": false,
     "points": 0,
     "schema_version": 3,
     "solution": true
    }
   },
   "outputs": [
    {
     "name": "stdout",
     "output_type": "stream",
     "text": [
      "|    | e  | r  | o  | n  | u  | t  | i  | m  | v  | a  | l  | s  | c  | b  | j  | q  | p  | d  | h  \n",
      "| 10 |  9 |  7 |  5 |  4 |  4 |  3 |  3 |  2 |  2 |  2 |  2 |  2 |  2 |  1 |  1 |  1 |  1 |  1 |  1 "
     ]
    }
   ],
   "source": [
    "m = \"bonjour que me vaut le plaisir de votre rencontre cher monsieur\"\n",
    "t = freq(m)\n",
    "\n",
    "for c in t.keys():\n",
    "    assert t[c] == compte(m, c)\n",
    "\n",
    "aff_freq(t)"
   ]
  },
  {
   "cell_type": "markdown",
   "metadata": {
    "deletable": false,
    "editable": false,
    "nbgrader": {
     "cell_type": "markdown",
     "checksum": "15cf0053e1eb566a5abdbee825beb929",
     "grade": false,
     "grade_id": "cell-f6845a3e6360c894",
     "locked": true,
     "schema_version": 3,
     "solution": false
    }
   },
   "source": [
    "### Une ch'tite figure\n",
    "Les histogrammes se construisent et se tracent avec `matplotlib`.   \n",
    "- regarder le chapitre \"modules utiles\" du support de cours \n",
    "- ou la doc de `pyplot.hist` par exemple.\n",
    "\n",
    "Ici on va juste _afficher sous forme d'histogramme_ le résultat de nos précédents traitement. \n",
    "- regarder la doc de `pyplot.bar`  \n",
    "- and let's go!'"
   ]
  },
  {
   "cell_type": "code",
   "execution_count": 9,
   "metadata": {
    "deletable": false,
    "nbgrader": {
     "cell_type": "code",
     "checksum": "4ccf14cf0b0ff9dc032759f7cd9cef13",
     "grade": true,
     "grade_id": "cell-66e0b9df07f43cf1",
     "locked": false,
     "points": 0,
     "schema_version": 3,
     "solution": true
    }
   },
   "outputs": [
    {
     "ename": "ModuleNotFoundError",
     "evalue": "No module named 'matplotlib'",
     "output_type": "error",
     "traceback": [
      "\u001b[1;31m---------------------------------------------------------------------------\u001b[0m",
      "\u001b[1;31mModuleNotFoundError\u001b[0m                       Traceback (most recent call last)",
      "Cell \u001b[1;32mIn[9], line 1\u001b[0m\n\u001b[1;32m----> 1\u001b[0m \u001b[38;5;28;01mimport\u001b[39;00m\u001b[38;5;250m \u001b[39m\u001b[38;5;21;01mmatplotlib\u001b[39;00m\n",
      "\u001b[1;31mModuleNotFoundError\u001b[0m: No module named 'matplotlib'"
     ]
    }
   ],
   "source": [
    "import matplotlib\n",
    "import numpy as np\n",
    "\n",
    "xp = np.array(100, 10, 250)\n",
    "\n",
    "plt.hist(xp)\n",
    "plt.show()"
   ]
  },
  {
   "cell_type": "markdown",
   "metadata": {
    "deletable": false,
    "editable": false,
    "nbgrader": {
     "cell_type": "markdown",
     "checksum": "5b195528c24b376e824063776ec6f582",
     "grade": false,
     "grade_id": "cell-6d51c20f8f9091d3",
     "locked": true,
     "schema_version": 3,
     "solution": false
    }
   },
   "source": [
    "Voici un exemple ce que vous pouvez obtenir :\n",
    "![](./histo.png)"
   ]
  }
 ],
 "metadata": {
  "kernelspec": {
   "display_name": "Python 3 (ipykernel)",
   "language": "python",
   "name": "python3"
  },
  "language_info": {
   "codemirror_mode": {
    "name": "ipython",
    "version": 3
   },
   "file_extension": ".py",
   "mimetype": "text/x-python",
   "name": "python",
   "nbconvert_exporter": "python",
   "pygments_lexer": "ipython3",
   "version": "3.12.3"
  },
  "latex_envs": {
   "LaTeX_envs_menu_present": true,
   "autoclose": false,
   "autocomplete": true,
   "bibliofile": "biblio.bib",
   "cite_by": "apalike",
   "current_citInitial": 1,
   "eqLabelWithNumbers": true,
   "eqNumInitial": 1,
   "hotkeys": {
    "equation": "Ctrl-E",
    "itemize": "Ctrl-I"
   },
   "labels_anchors": false,
   "latex_user_defs": false,
   "report_style_numbering": false,
   "user_envs_cfg": false
  },
  "toc": {
   "nav_menu": {},
   "number_sections": true,
   "sideBar": false,
   "skip_h1_title": false,
   "title_cell": "Table of Contents",
   "title_sidebar": "Contents",
   "toc_cell": true,
   "toc_position": {
    "height": "47.05882263183594px",
    "left": "1170.9925537109375px",
    "top": "156.98529052734375px",
    "width": "158.06985473632812px"
   },
   "toc_section_display": false,
   "toc_window_display": true
  }
 },
 "nbformat": 4,
 "nbformat_minor": 4
}
