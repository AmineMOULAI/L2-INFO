{
 "cells": [
  {
   "cell_type": "markdown",
   "id": "8d338a0f",
   "metadata": {
    "deletable": false,
    "editable": false
   },
   "source": [
    "# TP ALGORITHMIQUE ET PROGRAMMATION 2\n",
    "\n",
    "* **DURÉE 3 HEURES**\n",
    "\n",
    "* **VERIFICATIONS A EFFECTUER AU MOINS AVANT LA FIN DE VOTRE TRAVAIL.**  \n",
    "\n",
    "1. Assurez-vous que tout fonctionne comme prévu.  \n",
    "\n",
    "2. Assurez-vous d'avoir complété toutes les zones de réponses (cellules) où il est indiqué "
   ]
  },
  {
   "cell_type": "code",
   "execution_count": null,
   "id": "f3430efc",
   "metadata": {
    "deletable": false
   },
   "outputs": [],
   "source": [
    "# ENTRER VOTRE CODE ICI \n",
    "raise NotImplementedError()"
   ]
  },
  {
   "cell_type": "markdown",
   "id": "88a8a97a",
   "metadata": {
    "deletable": false,
    "editable": false
   },
   "source": [
    "- Votre réponse remplacera la première ligne qui est un commentaire en python **ET** l'instruction `raise NotImplementedError()`. "
   ]
  },
  {
   "cell_type": "markdown",
   "id": "232e2755",
   "metadata": {
    "deletable": false,
    "editable": false
   },
   "source": [
    "# Pour être accompagné par des tests \"automatiques\"\n",
    "\n",
    "Des cellules de tests sont proposées pour une vérification \"automatique\" de vos solutions au fur et à mesure de votre travail. \"automatique\" est entre guillemets car il faut quand même exécuter la cellule qui le contient (directement ou lors de la relance du noyau avec exécution) ! \n",
    "\n",
    "Si votre développement ne vérifie pas le test, l'exception `AssertionError` est levée. Vous pouvez alors corriger votre solution ou continuer à avancer ... à vos risques et périls. Bien sûr, ne modifiez pas le test qui est réputé juste -- jusqu'à preuve du contraire.\n",
    "\n",
    "**Exemple.** Corrigez la cellule suivante pour que l'exception `AssertionError` ne soit plus levée."
   ]
  },
  {
   "cell_type": "code",
   "execution_count": 1,
   "id": "cdc4271b",
   "metadata": {
    "scrolled": true
   },
   "outputs": [
    {
     "ename": "AssertionError",
     "evalue": "",
     "output_type": "error",
     "traceback": [
      "\u001b[1;31m---------------------------------------------------------------------------\u001b[0m",
      "\u001b[1;31mAssertionError\u001b[0m                            Traceback (most recent call last)",
      "Cell \u001b[1;32mIn[1], line 5\u001b[0m\n\u001b[0;32m      2\u001b[0m res \u001b[38;5;241m=\u001b[39m \u001b[38;5;241m1\u001b[39m \u001b[38;5;241m+\u001b[39m \u001b[38;5;241m2\u001b[39m\n\u001b[0;32m      4\u001b[0m \u001b[38;5;66;03m# le test effectué à la ligne suivante ne doit pas être modifié\u001b[39;00m\n\u001b[1;32m----> 5\u001b[0m \u001b[38;5;28;01massert\u001b[39;00m res \u001b[38;5;241m==\u001b[39m \u001b[38;5;241m2\u001b[39m\n",
      "\u001b[1;31mAssertionError\u001b[0m: "
     ]
    }
   ],
   "source": [
    "# Modifier la ligne ci-dessous de sorte à ce que le test de la ligne suivante soit réussi.\n",
    "res = 1 + 2\n",
    "\n",
    "# le test effectué à la ligne suivante ne doit pas être modifié\n",
    "assert res == 2"
   ]
  },
  {
   "cell_type": "markdown",
   "id": "7c707640",
   "metadata": {
    "deletable": false,
    "editable": false
   },
   "source": [
    "# Sudoku\n",
    "\n",
    "Le sudoku est un jeu en forme de grille à deux dimensions $N\\times N$ avec $N$ un carré entier (exemple : 4, 9, 16, 25, etc...). En plus de $N$ lignes et $N$ colonnes, la grille est divisée en $N$ régions. Dans cet examen, les régions seront toujours des carrés de taille $\\sqrt{N}\\times \\sqrt{N}$.\n",
    "\n",
    "Le but du jeu est de remplir la grille avec une série de $N$ nombres différents, qui ne se trouvent jamais plus d’une fois sur une même ligne, dans une même colonne ou dans une même région. \n",
    "\n",
    "La plupart du temps, $N = 9$ et les nombres sont les chiffres allant de 1 à 9. Les régions sont alors des carrés de taille $3\\times 3$. On numérote les lignes de haut en bas et les colonnes de gauche à droite.\n",
    "\n",
    "Quelques nombres sont déjà disposés dans la grille initiale, permettant ainsi une résolution progressive du problème complet. Une grille de Sudoku n'admet pas nécessairement une seule solution.\n",
    "\n",
    "**Exemples** : \n",
    "\n",
    "1. Une grille de Sudoku de taille $4\\times 4$ complètement remplie : chaque ligne, chaque colonne et chaque région contient tous les chiffres de 1 à 4.\n",
    "\n",
    "```\n",
    "                                            -------------\n",
    "                                            | 3 2 | 4 1 |\n",
    "                                            | 4 1 | 3 2 |\n",
    "                                            -------------\n",
    "                                            | 1 4 | 2 3 |\n",
    "                                            | 2 3 | 1 4 |\n",
    "                                            -------------\n",
    "\n",
    "```\n",
    "\n",
    "2. Une grille de Sudoku de taille $4\\times 4$ incomplète. On remarquera que la case marquée d'un point d'interrogation à la troisième ligne contient forcément un 4. En effet, il y a déjà trois cases remplies sur la troisième colonne et le seul nombre manquant est 4.\n",
    "\n",
    "\n",
    "```\n",
    "                                            -------------\n",
    "                                            |     | 3   |\n",
    "                                            |     | 1   |\n",
    "                                            -------------\n",
    "                                            | 3   | ? 1 |\n",
    "                                            |     | 2   |\n",
    "                                            -------------\n",
    "\n",
    "```\n",
    "\n",
    "3. Une grille de Sudoku de taille $9\\times 9$ complètement remplie : chaque ligne, chaque colonne et chaque région contient tous les chiffres de 1 à 9.\n",
    "\n",
    "```\n",
    "                                     -------------------------\n",
    "                                     | 2 5 8 | 7 3 6 | 9 4 1 |\n",
    "                                     | 6 1 9 | 8 2 4 | 3 5 7 |\n",
    "                                     | 4 3 7 | 9 1 5 | 2 6 8 |\n",
    "                                     -------------------------\n",
    "                                     | 3 9 5 | 2 7 1 | 4 8 6 |\n",
    "                                     | 7 6 2 | 4 9 8 | 1 3 5 |\n",
    "                                     | 8 4 1 | 6 5 3 | 7 2 9 |\n",
    "                                     -------------------------\n",
    "                                     | 1 8 4 | 3 6 9 | 5 7 2 |\n",
    "                                     | 5 7 6 | 1 4 2 | 8 9 3 |\n",
    "                                     | 9 2 3 | 5 8 7 | 6 1 4 |\n",
    "                                     -------------------------\n",
    "```\n",
    "\n",
    "4. Une grille de Sudoku de taille $9\\times 9$ incomplète. On remarquera que les deux cases marquées d'un point d'interrogation ne peuvent contenir qu'un 6. En effet, pour la quatrième ligne, la contrainte sur les régions force le 6 à se situer entre les colonnes sept et neuf puisqu'il y a déjà un autre 6 dans les deux autres régions de cette ligne. Étant donné que seule la colonne sept est libre, le 6 ne peut aller qu'à cet emplacement. Le même raisonnement permet de placer le 6 sur le point d'interrogation à la cinquième colonne.\n",
    "\n",
    "```\n",
    "                                     -------------------------\n",
    "                                     | 1   7 |     6 | 4 5   |\n",
    "                                     |   2 5 | 3 4   |     8 |\n",
    "                                     |   6   |     1 |   7   |\n",
    "                                     -------------------------\n",
    "                                     |   5 3 |       | ? 2 9 |\n",
    "                                     | 6 1   |     9 | 8     |\n",
    "                                     |       | 6   2 |     7 |\n",
    "                                     -------------------------\n",
    "                                     |     1 |   9 3 | 2     |\n",
    "                                     |     8 |   ?   |       |\n",
    "                                     |   4   |   7 8 | 5 9 1 |\n",
    "                                     -------------------------\n",
    "```"
   ]
  },
  {
   "cell_type": "markdown",
   "id": "c3bf97dd",
   "metadata": {
    "deletable": false,
    "editable": false
   },
   "source": [
    "## 1. Affichage et travail préliminaire"
   ]
  },
  {
   "cell_type": "code",
   "execution_count": 2,
   "id": "656e48b2",
   "metadata": {
    "deletable": false,
    "editable": false
   },
   "outputs": [],
   "source": [
    "from math import sqrt"
   ]
  },
  {
   "cell_type": "markdown",
   "id": "841a80b5",
   "metadata": {
    "deletable": false,
    "editable": false
   },
   "source": [
    "**Q1.** Écrire une fonction `int_sqrt` qui renvoie le plus grand entier inférieur où égal à la racine carré d'un entier `n`. On pourra utiliser la fonction `sqrt`."
   ]
  },
  {
   "cell_type": "code",
   "execution_count": null,
   "id": "5240ea01",
   "metadata": {},
   "outputs": [
    {
     "ename": "",
     "evalue": "",
     "output_type": "error",
     "traceback": [
      "\u001b[1;31mFailed to start the Kernel. \n",
      "\u001b[1;31mUnable to start Kernel 'Python 3.12.3' due to a timeout waiting for the ports to get used. \n",
      "\u001b[1;31mView Jupyter <a href='command:jupyter.viewOutput'>log</a> for further details."
     ]
    }
   ],
   "source": [
    "def int_sqrt(n : int) -> int:\n",
    "    return int(sqrt(n))"
   ]
  },
  {
   "cell_type": "code",
   "execution_count": 6,
   "id": "1c07ef04",
   "metadata": {
    "deletable": false,
    "editable": false
   },
   "outputs": [],
   "source": [
    "assert type(int_sqrt(5)) == int\n",
    "assert int_sqrt(9) == 3\n",
    "assert int_sqrt(35) == 5"
   ]
  },
  {
   "cell_type": "markdown",
   "id": "af3f0ad1",
   "metadata": {
    "deletable": false,
    "editable": false
   },
   "source": [
    "**Q2.** Créer une fonction `repeat_char` qui retourne une chaîne de caractères formée de `n` caractères `c`."
   ]
  },
  {
   "cell_type": "code",
   "execution_count": 9,
   "id": "4bca10ba",
   "metadata": {},
   "outputs": [],
   "source": [
    "def repeat_char(c : str, n : int) -> str:\n",
    "    '''renvoie une chaîne de caractères formée de n caractères c concaténés'''\n",
    "    assert len(c) == 1 and n >= 0    \n",
    "    return c*n"
   ]
  },
  {
   "cell_type": "code",
   "execution_count": 10,
   "id": "5a30fd60",
   "metadata": {
    "deletable": false,
    "editable": false
   },
   "outputs": [],
   "source": [
    "assert repeat_char(\"b\", 5) == \"bbbbb\"\n",
    "assert repeat_char(\"-\", 12) == \"------------\"\n",
    "assert repeat_char(\"?\",0) == \"\""
   ]
  },
  {
   "cell_type": "markdown",
   "id": "46d6ad45",
   "metadata": {
    "deletable": false,
    "editable": false
   },
   "source": [
    "La fonction `repeat_char` nous permettra d'afficher les lignes de \"-\" permettant de délimiter les régions du Sudoku. "
   ]
  },
  {
   "cell_type": "markdown",
   "id": "dc74357d",
   "metadata": {
    "deletable": false,
    "editable": false
   },
   "source": [
    "Les grilles de Sudoku seront modélisées par des tableaux 2D d'entiers de taille $N\\times N$. La ligne d'indice 0 du tableau correspondra à la ligne du haut de la grille. La grille contiendra des entiers entre 0 et $N$. \n",
    "* 0 indiquera que la case correspondante du sudoku est vide\n",
    "* un entier compris entre 1 et N représentera le nombre correspondant.\n",
    "\n",
    "On donne ci-dessous quatre listes correspondant aux quatre grilles de Sudoku des exemples précédents."
   ]
  },
  {
   "cell_type": "code",
   "execution_count": 11,
   "id": "cba9cc5f",
   "metadata": {
    "deletable": false,
    "editable": false
   },
   "outputs": [],
   "source": [
    "grille1 = [[3,2,4,1],\n",
    "           [4,1,3,2],\n",
    "           [1,4,2,3],\n",
    "           [2,3,1,4]]\n",
    "\n",
    "grille2 = [[0,0,3,0],\n",
    "           [0,0,1,0],\n",
    "           [3,0,0,1],\n",
    "           [0,0,2,0]]\n",
    "\n",
    "grille3 = [[2,5,8,7,3,6,9,4,1],\n",
    "           [6,1,9,8,2,4,3,5,7],\n",
    "           [4,3,7,9,1,5,2,6,8],\n",
    "           [3,9,5,2,7,1,4,8,6],\n",
    "           [7,6,2,4,9,8,1,3,5],\n",
    "           [8,4,1,6,5,3,7,2,9],\n",
    "           [1,8,4,3,6,9,5,7,2],\n",
    "           [5,7,6,1,4,2,8,9,3],\n",
    "           [9,2,3,5,8,7,6,1,4]]\n",
    "\n",
    "grille4 = [[1,0,7,0,0,6,4,5,0],\n",
    "           [0,2,5,3,4,0,0,0,8],\n",
    "           [0,6,0,0,0,1,0,7,0],\n",
    "           [0,5,3,0,0,0,0,2,9],\n",
    "           [6,1,0,0,0,9,8,0,0],\n",
    "           [0,0,0,6,0,2,0,0,7],\n",
    "           [0,0,1,0,9,3,2,0,0],\n",
    "           [0,0,8,0,0,0,0,0,0],\n",
    "           [0,4,0,0,7,8,5,9,1]]"
   ]
  },
  {
   "cell_type": "markdown",
   "id": "dd7d3f36",
   "metadata": {
    "deletable": false,
    "editable": false
   },
   "source": [
    "**Q3.** Créer une fonction `print_grid` permettant d'afficher une grille `grid` de Sudoku de taille `N` sous le même format que dans les exemples en début d'énoncé.\n",
    "\n",
    "**Remarque** : pour un Sudoku de taille $N$ affiché au format ci-dessus, les lignes séparant les régions doivent contenir $2\\left(N + \\sqrt{N}\\right) + 1$ symboles \"-\". \n"
   ]
  },
  {
   "cell_type": "code",
   "execution_count": 83,
   "id": "7ea25e82",
   "metadata": {},
   "outputs": [],
   "source": [
    "def print_grid(grid : list[list[int]], N : int) -> None:\n",
    "    s = repeat_char(\"-\", int(2 * (N + sqrt(N)) + 1))\n",
    "    for i in range(N):\n",
    "        if i % sqrt(N) == 0:\n",
    "            print(s)   \n",
    "        for j in range(N):\n",
    "            if j % sqrt(N) == 0:\n",
    "                print(\"|\", end=\" \")\n",
    "            if grid[i][j] == 0:\n",
    "                print(\"  \", end=\"\")\n",
    "            else:\n",
    "                print(f\"{grid[i][j]}\", end=\" \")\n",
    "        print(\"|\")\n",
    "    print(s)"
   ]
  },
  {
   "cell_type": "code",
   "execution_count": 84,
   "id": "9f1f4281",
   "metadata": {
    "deletable": false,
    "editable": false,
    "scrolled": true
   },
   "outputs": [
    {
     "name": "stdout",
     "output_type": "stream",
     "text": [
      "-------------\n",
      "| 3 2 | 4 1 |\n",
      "| 4 1 | 3 2 |\n",
      "-------------\n",
      "| 1 4 | 2 3 |\n",
      "| 2 3 | 1 4 |\n",
      "-------------\n",
      "-------------------------\n",
      "| 1   7 |     6 | 4 5   |\n",
      "|   2 5 | 3 4   |     8 |\n",
      "|   6   |     1 |   7   |\n",
      "-------------------------\n",
      "|   5 3 |       |   2 9 |\n",
      "| 6 1   |     9 | 8     |\n",
      "|       | 6   2 |     7 |\n",
      "-------------------------\n",
      "|     1 |   9 3 | 2     |\n",
      "|     8 |       |       |\n",
      "|   4   |   7 8 | 5 9 1 |\n",
      "-------------------------\n"
     ]
    }
   ],
   "source": [
    "# Tester votre code sur les exemples ci-dessous\n",
    "print_grid(grille1, 4)\n",
    "\n",
    "print_grid(grille4, 9)"
   ]
  },
  {
   "cell_type": "markdown",
   "id": "b9e9fd3a",
   "metadata": {
    "deletable": false,
    "editable": false
   },
   "source": [
    "**Q4.** Écrire une fonction `nb_empty_cells` qui compte le nombre de cases vides d'une grille de Sudoku `grid` de taille `N`. "
   ]
  },
  {
   "cell_type": "code",
   "execution_count": 85,
   "id": "240da733",
   "metadata": {},
   "outputs": [],
   "source": [
    "def nb_empty_cells(grid : list[list[int]], N : int) -> int:\n",
    "    '''Renvoie le nombre de cellules vides dans la grille grid de taille N'''\n",
    "    nb = 0\n",
    "    for i in range(N):\n",
    "        for j in range(N):\n",
    "            if grid[i][j] == 0:\n",
    "                nb += 1\n",
    "    return nb"
   ]
  },
  {
   "cell_type": "code",
   "execution_count": 86,
   "id": "f841dd11",
   "metadata": {
    "deletable": false,
    "editable": false
   },
   "outputs": [],
   "source": [
    "N = 4\n",
    "assert nb_empty_cells(grille1,N) == 0\n",
    "assert nb_empty_cells(grille2,N) == 11\n",
    "\n",
    "N = 9\n",
    "assert nb_empty_cells(grille3,N) == 0\n",
    "assert nb_empty_cells(grille4,N) == 46"
   ]
  },
  {
   "cell_type": "markdown",
   "id": "aa26ea32",
   "metadata": {
    "deletable": false,
    "editable": false
   },
   "source": [
    "**Q5.** Écrire une fonction `get_occurences` qui prend en paramètre un tableau d'entiers `tab` de taille `N` et qui renvoie un dictionnaire contenant le nombre d'occurences de chacun des éléments du tableau."
   ]
  },
  {
   "cell_type": "code",
   "execution_count": null,
   "id": "b5f30ce8",
   "metadata": {},
   "outputs": [
    {
     "ename": "",
     "evalue": "",
     "output_type": "error",
     "traceback": [
      "\u001b[1;31mFailed to start the Kernel. \n",
      "\u001b[1;31mUnable to start Kernel 'Python 3.12.3' due to a connection timeout. \n",
      "\u001b[1;31mView Jupyter <a href='command:jupyter.viewOutput'>log</a> for further details."
     ]
    }
   ],
   "source": [
    "def get_occurences(tab : list[int], N : int) -> dict[int,int]:\n",
    "    '''Renvoie un dictionnaire contenant le nombre d'occurences de chacun des éléments du tableau tab de \n",
    "    taille N '''\n",
    "    d = {elt: 0 for elt in tab}\n",
    "    for i in range(N):\n",
    "        d[tab[i]] += 1\n",
    "    return d"
   ]
  },
  {
   "cell_type": "code",
   "execution_count": 98,
   "id": "8596e2e0",
   "metadata": {
    "deletable": false,
    "editable": false
   },
   "outputs": [],
   "source": [
    "assert get_occurences([1,4,2,3],4) == {4:1,1:1, 2:1, 3:1}\n",
    "assert get_occurences([-1,5,2,5,3],5) == {5:2,-1:1, 2:1, 3:1}\n",
    "assert get_occurences([0,5,4,2,5,3,4,2,4],9) == {0:1, 5:2, 4:3, 2:2, 3:1}"
   ]
  },
  {
   "cell_type": "markdown",
   "id": "bf74d9cf",
   "metadata": {
    "deletable": false,
    "editable": false
   },
   "source": [
    "On souhaite pouvoir sauvegarder une grille de Sudoku dans un fichier. Pour cela la grille sera sauvegardé sous le format suivant :\n",
    "\n",
    "```\n",
    "taille de la grille\n",
    "valeurs de la 1-ère ligne séparées par des espaces\n",
    "valeurs de la 2-ème ligne séparées par des espaces\n",
    "...\n",
    "...\n",
    "valeurs de la N-ème ligne séparées par des espaces\n",
    "```\n",
    "\n",
    "**Exemple** : la grille `grille2` sera sauvegardée sous le format suivant :\n",
    "\n",
    "```\n",
    "                                            -------------\n",
    "                                            |     | 3   |\n",
    "                                            |     | 1   |\n",
    "                                            -------------\n",
    "                                            | 3   |   1 |\n",
    "                                            |     | 2   |\n",
    "                                            -------------\n",
    "\n",
    "4\n",
    "0 0 3 0\n",
    "0 0 1 0\n",
    "3 0 0 1\n",
    "0 0 2 0\n",
    "```"
   ]
  },
  {
   "cell_type": "markdown",
   "id": "66da229c",
   "metadata": {
    "deletable": false,
    "editable": false
   },
   "source": [
    "**Q6.** Écrire une fonction `save_grid` qui enregistre la grille `grid` de taille `N` dans le fichier de nom `filename` au format expliqué ci-dessus."
   ]
  },
  {
   "cell_type": "code",
   "execution_count": 102,
   "id": "7ef55d62",
   "metadata": {},
   "outputs": [],
   "source": [
    "def save_grid(grid : list[list[int]], N : int, filename : str) -> None:\n",
    "    '''Sauvegarde la grille grid de taille N dans le fichier de nom filename'''\n",
    "    with open(filename, \"w\", encoding=\"utf8\") as f:\n",
    "        f.write(str(N) + '\\n')\n",
    "        for i in range(N):\n",
    "            for j in range(N):\n",
    "                f.write(str(grid[i][j]) + ' ')\n",
    "            f.write('\\n')"
   ]
  },
  {
   "cell_type": "markdown",
   "id": "5e09897a",
   "metadata": {
    "deletable": false,
    "editable": false
   },
   "source": [
    "Vérifier après exécution de la cellule ci-dessous que le fichier `grille2.txt` a bien été créé et qu'il contient la grille `grille2` sauvegardée au format de l'exemple ci-dessus."
   ]
  },
  {
   "cell_type": "code",
   "execution_count": 103,
   "id": "0383f14d",
   "metadata": {
    "deletable": false,
    "editable": false
   },
   "outputs": [],
   "source": [
    "save_grid(grille2,4, \"grille2.txt\")"
   ]
  },
  {
   "cell_type": "markdown",
   "id": "b3f73940",
   "metadata": {},
   "source": [
    "**Q7.** Écrire une fonction `load_grid` qui récupère et renvoie une grille de Sudoku depuis le fichier de nom `filename`. La fonction renverra un tuple contenant la taille de la grille et la grille."
   ]
  },
  {
   "cell_type": "code",
   "execution_count": 106,
   "id": "543f98bc",
   "metadata": {},
   "outputs": [],
   "source": [
    "def load_grid(filename : str) -> tuple[int,list[list[int]]]:\n",
    "    '''Récupère et renvoie la taille et la grille de Sudoku sauvegardée dans le fichier de nom filename'''\n",
    "    with open(filename, \"r\", encoding=\"utf8\") as f:\n",
    "        N = int(f.readline()[:-1])\n",
    "        g = [[0 for j in range(N)] for i in range(N)]\n",
    "        i = 0\n",
    "        while i < N:\n",
    "            l = f.readline()[:-1].split()\n",
    "            j = 0\n",
    "            while j < N:\n",
    "                g[i][j] = int(l[j])\n",
    "                j += 1\n",
    "            i += 1\n",
    "    return N, g"
   ]
  },
  {
   "cell_type": "markdown",
   "id": "0fe60e30",
   "metadata": {
    "deletable": false,
    "editable": false
   },
   "source": [
    "Testez votre fonction sur un fichier de votre choix. Par exemple le fichier `grille2.txt` créé à la question précédente."
   ]
  },
  {
   "cell_type": "code",
   "execution_count": 107,
   "id": "3ba79b20",
   "metadata": {},
   "outputs": [
    {
     "name": "stdout",
     "output_type": "stream",
     "text": [
      "(4, [[0, 0, 3, 0], [0, 0, 1, 0], [3, 0, 0, 1], [0, 0, 2, 0]])\n"
     ]
    }
   ],
   "source": [
    "v = load_grid(\"grille2.txt\")\n",
    "print(v)"
   ]
  },
  {
   "cell_type": "markdown",
   "id": "f22a0165",
   "metadata": {
    "deletable": false,
    "editable": false
   },
   "source": [
    "## 2. Vérification de la validité d'une grille\n",
    "\n",
    "Afin de vérifier si une grille de Sudoku, même incomplète, est correctement remplie, il faut vérifier qu'un même nombre ne se trouve pas plusieurs fois sur une même ligne, une même colonne ou une même région.\n",
    "\n",
    "**Exemples** : les grilles ci-dessous sont incorrectes\n",
    "\n",
    "1. La grille ci-dessous n'est pas valide : il y a deux 1 sur la deuxième ligne et deux 2 dans la région en bas à droite.\n",
    "\n",
    "```\n",
    "                                            -------------\n",
    "                                            |     | 3   |\n",
    "                                            | 1   | 1   |\n",
    "                                            -------------\n",
    "                                            |     | 3 2 |\n",
    "                                            |     | 2   |\n",
    "                                            -------------\n",
    "\n",
    "```\n",
    "\n",
    "2. La grille ci-dessous n'est pas valide : il y a deux 2 sur la troisième colonne et deux 3 sur la quatrième colonne.\n",
    "\n",
    "```\n",
    "                                            -------------\n",
    "                                            | 3 2 | 4 1 |\n",
    "                                            | 4 1 | 2 3 |\n",
    "                                            -------------\n",
    "                                            | 1 4 | 2 3 |\n",
    "                                            | 2 3 | 1 4 |\n",
    "                                            -------------\n",
    "\n",
    "```\n",
    "\n",
    "3. La grille ci-dessous n'est pas valide : il y a deux 3 sur la deuxième ligne, la sixième colonne et la région située au milieu de la première ligne.\n",
    "\n",
    "```\n",
    "                                     -------------------------\n",
    "                                     | 1   7 | 3   6 | 4 5   |\n",
    "                                     |   3 5 |   4 3 |     8 |\n",
    "                                     |   6   |     1 |   7   |\n",
    "                                     -------------------------\n",
    "                                     |   5 3 |       |   2 9 |\n",
    "                                     | 6 1   |     9 | 8     |\n",
    "                                     |       | 6   2 |     7 |\n",
    "                                     -------------------------\n",
    "                                     |     1 |   9 3 | 2     |\n",
    "                                     |     8 |       |       |\n",
    "                                     |   4   |   7 8 | 5 9 1 |\n",
    "                                     -------------------------\n",
    "```"
   ]
  },
  {
   "cell_type": "markdown",
   "id": "f1bd1ea0",
   "metadata": {
    "deletable": false,
    "editable": false
   },
   "source": [
    "On définit ci-dessous les grilles incorrectes données dans l'exemple ci-dessus."
   ]
  },
  {
   "cell_type": "code",
   "execution_count": 108,
   "id": "ab45f2e6",
   "metadata": {
    "deletable": false,
    "editable": false
   },
   "outputs": [],
   "source": [
    "grille5 = [[0,0,3,0],[1,0,1,0],[0,0,3,2],[0,0,2,0]]\n",
    "grille6 = [[3,2,4,1],[4,1,2,3],[1,4,2,3],[2,3,1,4]]\n",
    "grille7 = [[1,0,7,3,0,6,4,5,0],[0,3,5,0,4,3,0,0,8],[0,6,0,0,0,1,0,7,0],\n",
    "           [0,5,3,0,0,0,0,2,9],[6,1,0,0,0,9,8,0,0],[0,0,0,6,0,2,0,0,7],\n",
    "           [0,0,1,0,9,3,2,0,0],[0,0,8,0,0,0,0,0,0],[0,4,0,0,7,8,5,9,1]\n",
    "          ]"
   ]
  },
  {
   "cell_type": "markdown",
   "id": "656a0dde",
   "metadata": {
    "deletable": false,
    "editable": false
   },
   "source": [
    "On va commencer par vérifier qu'une grille de Sudoku est terminée, c'est à dire qu'elle est **complète** et **valide**."
   ]
  },
  {
   "cell_type": "markdown",
   "id": "e5a3a728",
   "metadata": {
    "deletable": false,
    "editable": false
   },
   "source": [
    "**Q8.** Écrire une fonction `check_numbers` qui vérifie si un tableau `tab`, de taille `N`, contient tous les entiers entre 1 et `N`.\n",
    "\n",
    "**Remarque** : on n'utilisera **PAS** la méthode `sort` du type `list` "
   ]
  },
  {
   "cell_type": "code",
   "execution_count": 128,
   "id": "77c22359",
   "metadata": {},
   "outputs": [],
   "source": [
    "def check_numbers(tab : list[int], N : int) -> bool:\n",
    "    '''Vérifie que le tableau tab de taille N contient tous les entiers entre 1 et N'''\n",
    "    for i in range(1, N):\n",
    "        v = tab[i]\n",
    "        j = i \n",
    "        while j > 0 and v < tab[j - 1]:\n",
    "            tab[j] = tab[j - 1]\n",
    "            j -= 1\n",
    "        tab[j] = v\n",
    "    \n",
    "    for i in range(N):\n",
    "        if tab[i] != i + 1:\n",
    "            return False\n",
    "    return True\n",
    "        \n"
   ]
  },
  {
   "cell_type": "code",
   "execution_count": 129,
   "id": "7f2cc674",
   "metadata": {},
   "outputs": [],
   "source": [
    "assert check_numbers([1,2,3,4], 4) == True\n",
    "assert check_numbers([2,1,3,4], 4) == True\n",
    "assert check_numbers([0,1,2,3,4,5,6], 7) == False\n",
    "assert check_numbers([1,2,3,4,5,6,7,8,9], 9) == True\n",
    "assert check_numbers([9,7,3,4,5,6,2,8,1], 9) == True\n",
    "assert check_numbers([1,2,3,4,3,6,7,8,8], 9) == False\n",
    "assert check_numbers([-1,2,3,4,5,6,0,8,9], 9) == False"
   ]
  },
  {
   "cell_type": "markdown",
   "id": "8f7b698f",
   "metadata": {
    "deletable": false,
    "editable": false
   },
   "source": [
    "**Q9.** Écrire une fonction `is_row_complete` qui vérifie si la ligne d'indice `row` contient tous les nombres entre 1 et `N`. La fonction renverra `True` si c'est bien le cas et `False` sinon."
   ]
  },
  {
   "cell_type": "code",
   "execution_count": 130,
   "id": "ed990cdf",
   "metadata": {},
   "outputs": [],
   "source": [
    "def is_row_complete(grid : list[list[int]], N : int, row : int) -> bool:\n",
    "    '''Vérifie si la ligne d'indice row de la grille grid de taille N contient tous les nombres entre 1 et N '''\n",
    "    return check_numbers(grid[row], N)"
   ]
  },
  {
   "cell_type": "code",
   "execution_count": 131,
   "id": "c43fc1f2",
   "metadata": {
    "deletable": false,
    "editable": false
   },
   "outputs": [],
   "source": [
    "N = 4\n",
    "assert is_row_complete(grille1,N,0) == True\n",
    "assert is_row_complete(grille2,N,2) == False\n",
    "assert is_row_complete(grille5,N,2) == False\n",
    "\n",
    "N = 9\n",
    "assert is_row_complete(grille3,N,5) == True\n",
    "assert is_row_complete(grille4,N,8) == False\n",
    "assert is_row_complete(grille7,N,1) == False"
   ]
  },
  {
   "cell_type": "markdown",
   "id": "c327942b",
   "metadata": {
    "deletable": false,
    "editable": false
   },
   "source": [
    "**Q10.** Écrire une fonction `is_column_complete` qui vérifie si la colonne d'indice `col` contient tous les nombres entre 1 et `N`. La fonction renverra `True` si c'est bien le cas et `False` sinon."
   ]
  },
  {
   "cell_type": "code",
   "execution_count": 134,
   "id": "208cc20d",
   "metadata": {},
   "outputs": [],
   "source": [
    "def is_column_complete(grid : list[list[int]], N : int, col : int) -> bool:\n",
    "    '''Vérifie si la colonne d'indice col de la grille grid de taille N contient tous les nombres entre 1 et N '''\n",
    "    c = [grid[i][col] for i in range(N)]\n",
    "    print(c)\n",
    "    return check_numbers(c, N)"
   ]
  },
  {
   "cell_type": "code",
   "execution_count": 135,
   "id": "8d7a8002",
   "metadata": {
    "deletable": false,
    "editable": false
   },
   "outputs": [
    {
     "name": "stdout",
     "output_type": "stream",
     "text": [
      "[1, 4, 1, 2]\n"
     ]
    },
    {
     "ename": "AssertionError",
     "evalue": "",
     "output_type": "error",
     "traceback": [
      "\u001b[1;31m---------------------------------------------------------------------------\u001b[0m",
      "\u001b[1;31mAssertionError\u001b[0m                            Traceback (most recent call last)",
      "Cell \u001b[1;32mIn[135], line 2\u001b[0m\n\u001b[0;32m      1\u001b[0m N \u001b[38;5;241m=\u001b[39m \u001b[38;5;241m4\u001b[39m\n\u001b[1;32m----> 2\u001b[0m \u001b[38;5;28;01massert\u001b[39;00m is_column_complete(grille1,N,\u001b[38;5;241m0\u001b[39m) \u001b[38;5;241m==\u001b[39m \u001b[38;5;28;01mTrue\u001b[39;00m\n\u001b[0;32m      3\u001b[0m \u001b[38;5;28;01massert\u001b[39;00m is_column_complete(grille2,N,\u001b[38;5;241m2\u001b[39m) \u001b[38;5;241m==\u001b[39m \u001b[38;5;28;01mFalse\u001b[39;00m\n\u001b[0;32m      4\u001b[0m \u001b[38;5;28;01massert\u001b[39;00m is_column_complete(grille5,N,\u001b[38;5;241m2\u001b[39m) \u001b[38;5;241m==\u001b[39m \u001b[38;5;28;01mFalse\u001b[39;00m\n",
      "\u001b[1;31mAssertionError\u001b[0m: "
     ]
    }
   ],
   "source": [
    "N = 4\n",
    "assert is_column_complete(grille1,N,0) == True\n",
    "assert is_column_complete(grille2,N,2) == False\n",
    "assert is_column_complete(grille5,N,2) == False\n",
    "\n",
    "N = 9\n",
    "assert is_column_complete(grille3,N,5) == True\n",
    "assert is_column_complete(grille4,N,8) == False\n",
    "assert is_column_complete(grille7,N,1) == False"
   ]
  },
  {
   "cell_type": "code",
   "execution_count": 136,
   "id": "c47e36a9",
   "metadata": {},
   "outputs": [
    {
     "name": "stdout",
     "output_type": "stream",
     "text": [
      "[1, 4, 1, 2]\n"
     ]
    },
    {
     "data": {
      "text/plain": [
       "False"
      ]
     },
     "execution_count": 136,
     "metadata": {},
     "output_type": "execute_result"
    }
   ],
   "source": [
    "is_column_complete(grille1,N,0)"
   ]
  },
  {
   "cell_type": "markdown",
   "id": "43939ef4",
   "metadata": {
    "deletable": false,
    "editable": false
   },
   "source": [
    "**Q11.** Écrire une fonction `is_region_complete` qui vérifie si la région dont le **coin supérieur gauche** se situe aux coordonnées `row`$\\times$`col` contient tous les nombres entre 1 et `N`. La fonction renverra `True` si c'est bien le cas et `False` sinon."
   ]
  },
  {
   "cell_type": "code",
   "execution_count": null,
   "id": "dbe6afba",
   "metadata": {},
   "outputs": [],
   "source": [
    "def is_region_complete(grid : list[list[int]], N : int, row : int, col : int) -> bool:\n",
    "    '''Vérifie si la région dont le coin supérieur gauche est situé aux coordonnées row x col de la grille\n",
    "    grid de taille N contient tous les nombres entre 1 et N '''\n",
    "    # ENTRER VOTRE CODE ICI \n",
    "    raise NotImplementedError()"
   ]
  },
  {
   "cell_type": "code",
   "execution_count": null,
   "id": "c16037bf",
   "metadata": {},
   "outputs": [],
   "source": [
    "N = 4\n",
    "assert is_region_complete(grille1,N,2,0) == True\n",
    "assert is_region_complete(grille2,N,2,2) == False\n",
    "assert is_region_complete(grille5,N,2,0) == False\n",
    "\n",
    "N = 9\n",
    "assert is_region_complete(grille3,N,3,3) == True\n",
    "assert is_region_complete(grille4,N,6,6) == False\n",
    "assert is_region_complete(grille7,N,0,3) == False"
   ]
  },
  {
   "cell_type": "markdown",
   "id": "7df2b473",
   "metadata": {
    "deletable": false,
    "editable": false
   },
   "source": [
    "**Q12.** Écrire une fonction `is_complete` qui vérifie si une grille `grid` de taille `N` est terminée ou non."
   ]
  },
  {
   "cell_type": "code",
   "execution_count": null,
   "id": "78f5b879",
   "metadata": {},
   "outputs": [],
   "source": [
    "def is_complete(grid : list[list[int]], N : int) -> bool:\n",
    "    '''Renvoie True si la grille est terminée et False sinon'''\n",
    "    # ENTRER VOTRE CODE ICI \n",
    "    raise NotImplementedError()"
   ]
  },
  {
   "cell_type": "code",
   "execution_count": null,
   "id": "f12ca133",
   "metadata": {
    "deletable": false,
    "editable": false
   },
   "outputs": [],
   "source": [
    "N = 4\n",
    "assert is_complete(grille1,N) == True\n",
    "assert is_complete(grille2,N) == False\n",
    "assert is_complete(grille6,N) == False\n",
    "\n",
    "N = 9\n",
    "assert is_complete(grille3,N) == True\n",
    "assert is_complete(grille4,N) == False\n",
    "assert is_complete(grille7,N) == False"
   ]
  },
  {
   "cell_type": "markdown",
   "id": "7ebf2585",
   "metadata": {
    "deletable": false,
    "editable": false
   },
   "source": [
    "On va maintenant faire en sorte de vérifier si une grille, même incomplète, est valide ou non. Pour cela il suffit de vérifier qu'un même nombre n'apparait pas plusieurs fois sur une ligne, une colonne ou une région. "
   ]
  },
  {
   "cell_type": "markdown",
   "id": "0af87aba",
   "metadata": {
    "deletable": false,
    "editable": false
   },
   "source": [
    "**Q13.** Écrire une fonction `check_row` qui vérifie si le nombre `num` n'apparait pas plusieurs fois sur la ligne d'indice `row` de la grille `grid` de taille `N`."
   ]
  },
  {
   "cell_type": "code",
   "execution_count": null,
   "id": "4550fa3f",
   "metadata": {},
   "outputs": [],
   "source": [
    "def check_row(grid : list[list[int]], N : int, num : int, row : int) -> bool:\n",
    "    '''Renvoie True si le nombre num n'apparait pas plusieurs fois sur la ligne d'indice row de la grille grid et \n",
    "    False sinon. '''\n",
    "    # ENTRER VOTRE CODE ICI \n",
    "    raise NotImplementedError()"
   ]
  },
  {
   "cell_type": "code",
   "execution_count": null,
   "id": "c987e820",
   "metadata": {
    "deletable": false,
    "editable": false
   },
   "outputs": [],
   "source": [
    "N = 4\n",
    "assert check_row(grille5, N, 1, 3) == True\n",
    "assert check_row(grille5, N, 1, 1) == False\n",
    "\n",
    "N = 9\n",
    "assert check_row(grille7, N, 3, 5) == True\n",
    "assert check_row(grille7, N, 3, 1) == False"
   ]
  },
  {
   "cell_type": "markdown",
   "id": "732633c0",
   "metadata": {
    "deletable": false,
    "editable": false
   },
   "source": [
    "**Q14.** Écrire une fonction `check_column` qui vérifie si le nombre `num` n'apparait pas plusieurs fois sur la colonne d'indice `col` de la grille `grid` de taille `N`."
   ]
  },
  {
   "cell_type": "code",
   "execution_count": null,
   "id": "f8f8c98d",
   "metadata": {},
   "outputs": [],
   "source": [
    "def check_column(grid : list[list[int]], N : int, num : int, col : int) -> bool:\n",
    "    '''Renvoie True si le nombre num n'apparait pas plusieurs fois sur la colonne d'indice col de la grille grid et \n",
    "    False sinon. '''\n",
    "    # ENTRER VOTRE CODE ICI \n",
    "    raise NotImplementedError()"
   ]
  },
  {
   "cell_type": "code",
   "execution_count": null,
   "id": "c1c04c36",
   "metadata": {
    "deletable": false,
    "editable": false
   },
   "outputs": [],
   "source": [
    "N = 4\n",
    "assert check_column(grille5, N, 2, 0) == True\n",
    "assert check_column(grille6, N, 1, 1) == True\n",
    "assert check_column(grille6, N, 2, 2) == False\n",
    "assert check_column(grille6, N, 3, 3) == False\n",
    "\n",
    "N = 9\n",
    "assert check_column(grille7, N, 3, 2) == True\n",
    "assert check_column(grille7, N, 1, 5) == True\n",
    "assert check_column(grille7, N, 3, 5) == False"
   ]
  },
  {
   "cell_type": "markdown",
   "id": "cbd9a4f9",
   "metadata": {
    "deletable": false,
    "editable": false
   },
   "source": [
    "**Q15.** Écrire une fonction `check_region` qui vérifie si la région dont le **coin supérieur gauche** est situé à l'indice `row`$\\times$ `col` ne contient pas plusieurs fois le nombre `num`."
   ]
  },
  {
   "cell_type": "code",
   "execution_count": null,
   "id": "fd1fe50e",
   "metadata": {},
   "outputs": [],
   "source": [
    "def check_region(grid : list[list[int]], N : int, num : int, row : int, col : int) -> bool:\n",
    "    '''Renvoie True si la région dont le coin supérieur gauche est situé à l'indice row x col dans la grille \n",
    "    grid de taille N ne contient pas plusieurs fois le nombre num et False sinon. '''\n",
    "    # ENTRER VOTRE CODE ICI \n",
    "    raise NotImplementedError()"
   ]
  },
  {
   "cell_type": "code",
   "execution_count": null,
   "id": "02977722",
   "metadata": {
    "deletable": false,
    "editable": false
   },
   "outputs": [],
   "source": [
    "N = 4\n",
    "assert check_region(grille5, N, 2, 2, 0) == True\n",
    "assert check_region(grille6, N, 1, 2, 0) == True\n",
    "assert check_region(grille5, N, 2, 2, 2) == False\n",
    "\n",
    "N = 9\n",
    "assert check_region(grille7, N, 7, 3, 3) == True\n",
    "assert check_region(grille7, N, 3, 0, 0) == True\n",
    "assert check_region(grille7, N, 3, 0, 3) == False"
   ]
  },
  {
   "cell_type": "markdown",
   "id": "32268d29",
   "metadata": {
    "deletable": false,
    "editable": false
   },
   "source": [
    "**Q16.** Écrire une fonction `is_valid` qui vérifie si la grille `grid` de taille `N`$\\times$`N`, potentiellement partiellement remplie, est valide ou non."
   ]
  },
  {
   "cell_type": "code",
   "execution_count": null,
   "id": "d92f0be4",
   "metadata": {},
   "outputs": [],
   "source": [
    "def is_valid(grid : list[list[int]], N : int) -> bool:\n",
    "    '''Renvoie True si la grille grid de taille NxN est valide et False sinon. '''\n",
    "    # ENTRER VOTRE CODE ICI \n",
    "    raise NotImplementedError()"
   ]
  },
  {
   "cell_type": "code",
   "execution_count": null,
   "id": "1b30e945",
   "metadata": {
    "deletable": false,
    "editable": false
   },
   "outputs": [],
   "source": [
    "N = 4\n",
    "assert is_valid(grille1,N) == True\n",
    "assert is_valid(grille2,N) == True\n",
    "assert is_valid(grille5,N) == False\n",
    "assert is_valid(grille6,N) == False\n",
    "\n",
    "N = 9\n",
    "assert is_valid(grille3,N) == True\n",
    "assert is_valid(grille4,N) == True\n",
    "assert is_valid(grille7,N) == False"
   ]
  },
  {
   "cell_type": "markdown",
   "id": "5bae8478",
   "metadata": {
    "deletable": false,
    "editable": false
   },
   "source": [
    "## 3. Solveur\n",
    "\n",
    "Pour résoudre un Sudoku, il faut examiner toutes les cases non remplies de la grille et, pour chacune de ces cases, regarder quels nombres pourraient être mis tout en respectant les contraintes de la grille.\n",
    "\n",
    "Lorsqu'une case vide ne peut contenir qu'un seul nombre, la première chose à faire est de rajouter ce nombre dans la grille et de recommencer le procédé.\n"
   ]
  },
  {
   "cell_type": "markdown",
   "id": "336fcf0d",
   "metadata": {
    "deletable": false,
    "editable": false
   },
   "source": [
    "**Q17.** Écrire une fonction `get_possible_numbers_row` qui renvoie un **ensemble** contenant les nombres qui ne sont **PAS** présents sur la ligne d'indice `row` de la grille `grid` de taille `N`.\n",
    "\n",
    "\n",
    "**Remarques** : \n",
    "- on peut rajouter un élément `elt` à un ensemble `E` grâce à la méthode `add()` en utilisant la syntaxe suivante : ``` E.add(elt) ```\n",
    "- on peut retirer un élément `elt` à un ensemble `E` grâce à la méthode `remove()` en utilisant la syntaxe suivante : ``` E.remove(elt) ```"
   ]
  },
  {
   "cell_type": "code",
   "execution_count": null,
   "id": "407941b2",
   "metadata": {},
   "outputs": [],
   "source": [
    "def get_possible_numbers_row(grid : list[list[int]], N : int, row : int) -> set[int] :\n",
    "    '''Renvoie les nombres qui ne sont pas présents sur la ligne d'indice row de la grille grid de taille N '''\n",
    "    # ENTRER VOTRE CODE ICI \n",
    "    raise NotImplementedError()"
   ]
  },
  {
   "cell_type": "code",
   "execution_count": null,
   "id": "3da7aebf",
   "metadata": {
    "deletable": false,
    "editable": false
   },
   "outputs": [],
   "source": [
    "N = 4\n",
    "assert get_possible_numbers_row(grille1, N, 0) == set()\n",
    "assert get_possible_numbers_row(grille2, N, 3) == {1,3,4}\n",
    "\n",
    "N = 9\n",
    "assert get_possible_numbers_row(grille3, N, 5) == set()\n",
    "assert get_possible_numbers_row(grille4, N, 6) == {4,5,6,7,8}"
   ]
  },
  {
   "cell_type": "markdown",
   "id": "80720f31",
   "metadata": {
    "deletable": false,
    "editable": false
   },
   "source": [
    "**Q18.** Écrire une fonction `get_possible_numbers_column` qui renvoie un **ensemble** contenant les nombres qui ne sont **PAS** présents sur la colonne d'indice `col` de la grille `grid` de taille `N`."
   ]
  },
  {
   "cell_type": "code",
   "execution_count": null,
   "id": "99cefc12",
   "metadata": {},
   "outputs": [],
   "source": [
    "def get_possible_numbers_column(grid : list[list[int]], N : int, col : int) -> set[int] :\n",
    "    '''Renvoie les nombres qui ne sont pas présents sur la colonne d'indice col de la grille grid de taille N '''\n",
    "    # ENTRER VOTRE CODE ICI \n",
    "    raise NotImplementedError()"
   ]
  },
  {
   "cell_type": "code",
   "execution_count": null,
   "id": "ae6c6340",
   "metadata": {
    "deletable": false,
    "editable": false
   },
   "outputs": [],
   "source": [
    "N = 4\n",
    "assert get_possible_numbers_column(grille1, N, 0) == set()\n",
    "assert get_possible_numbers_column(grille2, N, 3) == {2,3,4}\n",
    "\n",
    "N = 9\n",
    "assert get_possible_numbers_column(grille3, N, 2) == set()\n",
    "assert get_possible_numbers_column(grille4, N, 5) == {4,5,7}"
   ]
  },
  {
   "cell_type": "markdown",
   "id": "b5469944",
   "metadata": {
    "deletable": false,
    "editable": false
   },
   "source": [
    "**Q19** Écrire une fonction `get_corner` qui renvoie les coordonnées du coin **supérieur gauche** de la région à de taille `S` à laquelle appartient la case de coordonnées `row`$ \\times $`col.`\n",
    "\n",
    "**Remarque** : dans une grille de taille $N$ les régions sont de taille $\\sqrt{N}$. Par exemple si une grille est de taille 9, ses régions sont de taille 3."
   ]
  },
  {
   "cell_type": "code",
   "execution_count": null,
   "id": "3eec6ff8",
   "metadata": {},
   "outputs": [],
   "source": [
    "def get_corner(S : int, row : int, col : int) -> tuple[int]:\n",
    "    '''Renvoie les coordonnées du coin supérieur gauche de la région de taille S\n",
    "    de la case située aux coordonnées row x col'''    \n",
    "    # ENTRER VOTRE CODE ICI \n",
    "    raise NotImplementedError()"
   ]
  },
  {
   "cell_type": "code",
   "execution_count": null,
   "id": "3678442a",
   "metadata": {
    "deletable": false,
    "editable": false
   },
   "outputs": [],
   "source": [
    "assert get_corner(2,1,0) == (0,0)\n",
    "assert get_corner(3,7,4) == (6,3)\n",
    "assert get_corner(4, 15, 12) == (12, 12)\n",
    "assert get_corner(5, 3, 9) == (0,5)"
   ]
  },
  {
   "cell_type": "markdown",
   "id": "a2e843fd",
   "metadata": {
    "deletable": false,
    "editable": false
   },
   "source": [
    "**Q20.** Écrire une fonction `get_possible_numbers_region` qui renvoie un **ensemble** contenant les nombres qui ne sont **PAS** présents dans la région à laquelle appartient la case d'indice `row`$\\times$`col` de la grille `grid` de taille `N`."
   ]
  },
  {
   "cell_type": "code",
   "execution_count": null,
   "id": "964adcd4",
   "metadata": {},
   "outputs": [],
   "source": [
    "def get_possible_numbers_region(grid : list[list[int]], N : int, row : int, col : int) -> set[int] :\n",
    "    '''Renvoie les nombres qui ne sont pas présents dans la région à laquelle appartient la case d'indice \n",
    "    row x col de la grille grid de taille N '''\n",
    "    # ENTRER VOTRE CODE ICI \n",
    "    raise NotImplementedError()"
   ]
  },
  {
   "cell_type": "code",
   "execution_count": null,
   "id": "74fa9b1c",
   "metadata": {
    "deletable": false,
    "editable": false
   },
   "outputs": [],
   "source": [
    "N = 4\n",
    "assert get_possible_numbers_region(grille1,N,1, 3) == set()\n",
    "assert get_possible_numbers_region(grille2,N,2,1) == get_possible_numbers_region(grille2,N,3,0) == {1,2,4}\n",
    "\n",
    "N = 9\n",
    "assert get_possible_numbers_region(grille3,N,8,4) == set()\n",
    "assert get_possible_numbers_region(grille4,N,3,4) == get_possible_numbers_region(grille4,N,5,5) == {1,3,4,5,7,8}"
   ]
  },
  {
   "cell_type": "markdown",
   "id": "fba9c40b",
   "metadata": {
    "deletable": false,
    "editable": false
   },
   "source": [
    "**Q21.** Écrire une fonction `get_possible_numbers_cell` qui renvoie un **ensemble** contenant tous les nombres pouvant être mis dans la case d'indice `row`$\\times$ `col` de la grille `grid` de taille `N`. Il s'agit de tous les nombres qui ne sont pas présents ; ni sur la ligne, ni sur la colonne, ni dans la région de la case en question."
   ]
  },
  {
   "cell_type": "code",
   "execution_count": null,
   "id": "29a55611",
   "metadata": {},
   "outputs": [],
   "source": [
    "def get_possible_numbers_cell(grid : list[list[int]], N : int, row : int, col : int) -> set[int]:\n",
    "    '''Retourne un ensemble contenant tous les nombres pouvant être potentiellement mis dans la case d'indice \n",
    "    row x col de la grille grid de taille N '''\n",
    "    # ENTRER VOTRE CODE ICI \n",
    "    raise NotImplementedError()"
   ]
  },
  {
   "cell_type": "code",
   "execution_count": null,
   "id": "33ff0ba6",
   "metadata": {
    "deletable": false,
    "editable": false
   },
   "outputs": [],
   "source": [
    "N = 4\n",
    "assert get_possible_numbers_cell(grille1, N, 2, 0) == set()\n",
    "assert get_possible_numbers_cell(grille2, N, 2, 2) == {4}\n",
    "assert get_possible_numbers_cell(grille2, N, 3, 3) == {3,4}\n",
    "\n",
    "N = 9\n",
    "assert get_possible_numbers_cell(grille3, N, 7, 4) == set()\n",
    "assert get_possible_numbers_cell(grille4, N, 3, 5) == {4,7}\n",
    "assert get_possible_numbers_cell(grille4, N, 5, 2) == {4,9}"
   ]
  },
  {
   "cell_type": "markdown",
   "id": "d0c065b3",
   "metadata": {
    "deletable": false,
    "editable": false
   },
   "source": [
    "**Q22. $\\star$** Écrire une fonction `first_solver` qui tente de résoudre une grille `grid` de Sudoku de taille `N`. Le solveur remplira toutes les cases vides de la grille pour lesquelles il n'y a qu'une seule possibilité. À chaque fois que le solveur rempliera une case, il devra ré-examiner toutes les cases de la grille jusqu'à ce qu'il ne puisse plus compléter de case. Si la grille est terminée la fonction renverra `True` sinon elle renverra `False`."
   ]
  },
  {
   "cell_type": "code",
   "execution_count": null,
   "id": "ef54d69f",
   "metadata": {},
   "outputs": [],
   "source": [
    "def first_solver(grid : list[list[int]], N : int)-> bool:\n",
    "    '''Remplie toutes les cases de la grille grid de taille N pour lesquelles il n'y a qu'une seule possibilité. '''\n",
    "    # ENTRER VOTRE CODE ICI \n",
    "    raise NotImplementedError()"
   ]
  },
  {
   "cell_type": "code",
   "execution_count": null,
   "id": "eab7b81b",
   "metadata": {
    "deletable": false,
    "editable": false
   },
   "outputs": [],
   "source": [
    "N = 4\n",
    "copie_grille2 = [[0,0,3,0],[0,0,1,0],[3,0,0,1],[0,0,2,0]]\n",
    "assert first_solver(copie_grille2,N) == False\n",
    "assert copie_grille2 == [[0,0,3,0],[0,0,1,0],[3,2,4,1],[0,0,2,3]]\n",
    "\n",
    "N = 9\n",
    "copie_grille4 = [[1,0,7,0,0,6,4,5,0],[0,2,5,3,4,0,0,0,8],[0,6,0,0,0,1,0,7,0],\n",
    "                 [0,5,3,0,0,0,0,2,9],[6,1,0,0,0,9,8,0,0],[0,0,0,6,0,2,0,0,7],\n",
    "                 [0,0,1,0,9,3,2,0,0],[0,0,8,0,0,0,0,0,0],[0,4,0,0,7,8,5,9,1]]\n",
    "assert first_solver(copie_grille4,N) == True\n",
    "assert copie_grille4 == [[1,3,7,9,8,6,4,5,2],[9,2,5,3,4,7,1,6,8],[8,6,4,5,2,1,9,7,3],\n",
    "                        [7,5,3,8,1,4,6,2,9],[6,1,2,7,3,9,8,4,5],[4,8,9,6,5,2,3,1,7],\n",
    "                        [5,7,1,4,9,3,2,8,6], [2,9,8,1,6,5,7,3,4], [3,4,6,2,7,8,5,9,1]]\n",
    "\n",
    "hard_grid = [[3,0,7,1,0,0,0,6,9],[0,0,0,6,7,0,4,0,0],[0,4,0,0,0,0,0,2,0],\n",
    "             [0,0,0,0,9,3,0,7,8],[0,0,0,0,0,0,0,0,0],[8,7,0,4,2,0,0,0,0],\n",
    "             [0,9,0,0,0,0,0,1,0],[0,0,1,0,5,4,0,0,0],[7,6,0,0,0,1,3,0,5]]\n",
    "assert first_solver(hard_grid,N) == False\n",
    "assert hard_grid == [[3,0,7,1,4,0,0,6,9],[0,0,0,6,7,0,4,0,0],[0,4,0,8,3,0,0,2,0],\n",
    "              [0,0,0,5,9,3,0,7,8],[0,0,0,7,1,8,0,0,0],[8,7,0,4,2,6,0,0,0],\n",
    "              [5,9,8,3,6,7,2,1,4],[2,3,1,9,5,4,0,8,0],[7,6,4,2,8,1,3,9,5]]"
   ]
  },
  {
   "cell_type": "markdown",
   "id": "0d79c4b4",
   "metadata": {
    "deletable": false,
    "editable": false
   },
   "source": [
    "Comme on a pu le voir avec la grille `grille2` dans les tests ci-dessous, certains Sudokus ne sont pas entièrement résolus par notre premier solveur. \n",
    "\n",
    "**Exemple** : grille `grille2` avant et après passage dans notre premier solveur.\n",
    "\n",
    "```\n",
    "                                -------------                -------------\n",
    "                                |     | 3   |                |     | 3   |\n",
    "                                |     | 1   |                |     | 1   |\n",
    "                                -------------       ->       -------------\n",
    "                                | 3   |   1 |                | 3 2 | 4 1 |\n",
    "                                |     | 2   |                |     | 2 3 |\n",
    "                                -------------                -------------\n",
    "```\n",
    "\n",
    "\n",
    "La limitation de notre premier solveur vient du fait qu'il considère chaque case de façon indépendante des autres. Pour améliorer notre solveur il va falloir considérer chaque case comme faisant partie d'une ligne, d'une colonne et d'une région. Par exemple, si toutes les cases d'une région ont plusieurs nombres possibles mais que seule une case \n",
    "de la région peut contenir un 3, alors cette case contient forcément un 3.\n",
    "\n",
    "\n",
    "**Exemple** : la case marquée d'un point d'interrogation dans la grille ci-dessous peut contenir un 3 ou un 4. En revanche, c'est la seule case de sa ligne/colonne/région qui peut contenir un 3 étant donné qu'il y a déjà un trois sur la première ligne et la première colonne. La case contient donc forcément un 3.\n",
    "\n",
    "```\n",
    "                                -------------                -------------\n",
    "                                |     | 3   |                |     | 3   |\n",
    "                                |   ? | 1   |                |   3 | 1   |\n",
    "                                -------------       ->       -------------\n",
    "                                | 3 2 | 4 1 |                | 3 2 | 4 1 |\n",
    "                                |     | 2 3 |                |     | 2 3 |\n",
    "                                -------------                -------------\n",
    "```\n",
    "\n",
    "Ainsi, pour chaque valeur possible d'une case, il faut examiner les valeurs possibles des autres cases sur la même ligne. Si une valeur de la case examinée ne peut être placée nul part ailleurs sur cette ligne, alors on sait que cette valeur doit être placée dans la case examinée. Le même raisonnement s'applique aux colonnes et aux régions."
   ]
  },
  {
   "cell_type": "markdown",
   "id": "1ee2d132",
   "metadata": {
    "deletable": false,
    "editable": false
   },
   "source": [
    "**Q23.** Écrire une fonction `fill_cell_using_row` qui, étant donné une grille `grid` de taille `N`, vérifie si **les valeurs potentielles** de la case d'indice `row`$\\times$ `col` peuvent être placées ailleurs sur la ligne d'indice `row`. Si une de ces valeurs ne peut être placée nul part ailleurs sur la ligne, la fonction **placera cette valeur** dans la case d'indice `row`$\\times$`col` et renverra `True`, sinon elle renverra `False`."
   ]
  },
  {
   "cell_type": "code",
   "execution_count": null,
   "id": "5fe9caae",
   "metadata": {},
   "outputs": [],
   "source": [
    "def fill_cell_using_row(grid : list[list[int]], N : int, row : int, col : int) -> bool:\n",
    "    '''Vérifie si l'une des valeurs qui peut être placée dans la case d'indice row x col peut être placée\n",
    "    ailleurs sur la ligne d'indice row. Si ce n'est pas le cas, la fonction placera le nombre en question \n",
    "    dans la case d'indice row x col et renverra True et sinon elle renverra False. '''\n",
    "    # ENTRER VOTRE CODE ICI \n",
    "    raise NotImplementedError()"
   ]
  },
  {
   "cell_type": "code",
   "execution_count": null,
   "id": "25caf7e2",
   "metadata": {
    "deletable": false,
    "editable": false
   },
   "outputs": [],
   "source": [
    "N = 4\n",
    "\n",
    "gr1 = [[0,0,3,0],[0,0,1,0],[3,2,4,1],[0,0,2,3]]\n",
    "assert fill_cell_using_row(gr1, N, 1, 1) == True\n",
    "assert gr1[1][1] == 3\n",
    "\n",
    "N = 9\n",
    "hard_grid = [[3,0,7,1,4,0,0,6,9],[0,0,0,6,7,0,4,0,0],[0,4,0,8,3,0,0,2,0],\n",
    "              [0,0,0,5,9,3,0,7,8],[0,0,0,7,1,8,0,0,0],[8,7,0,4,2,6,0,0,0],\n",
    "              [5,9,8,3,6,7,2,1,4],[2,3,1,9,5,4,0,8,0],[7,6,4,2,8,1,3,9,5]]\n",
    "assert fill_cell_using_row(hard_grid,N,3,0) == True\n",
    "assert hard_grid[3][0] == 4 "
   ]
  },
  {
   "cell_type": "markdown",
   "id": "ba6c3230",
   "metadata": {
    "deletable": false,
    "editable": false
   },
   "source": [
    "**Q24.** Écrire une fonction `fill_cell_using_column` qui, étant donné une grille `grid` de taille `N`, vérifie si **les valeurs potentielles** de la case d'indice `row`$\\times$ `col` peuvent être placées ailleurs sur la colonne d'indice `col`. Si une de ces valeurs ne peut être placée nul part ailleurs sur la colonne, la fonction **placera cette valeur** dans la case d'indice `row`$\\times$`col` et renverra `True`, sinon elle renverra `False`."
   ]
  },
  {
   "cell_type": "code",
   "execution_count": null,
   "id": "768219ab",
   "metadata": {},
   "outputs": [],
   "source": [
    "def fill_cell_using_column(grid : list[list[int]], N : int, row : int, col : int) -> bool:\n",
    "    '''Vérifie si une des valeurs qui peut être placée dans la case d'indice row x col peut être placée\n",
    "    ailleurs sur la colonne d'indice col. Si ce n'est pas le cas, la fonction placera le nombre en question \n",
    "    dans la case d'indice row x col et renverra True et sinon elle renverra False. '''\n",
    "    # ENTRER VOTRE CODE ICI \n",
    "    raise NotImplementedError()"
   ]
  },
  {
   "cell_type": "code",
   "execution_count": null,
   "id": "20657ff1",
   "metadata": {
    "deletable": false,
    "editable": false
   },
   "outputs": [],
   "source": [
    "N = 4\n",
    "\n",
    "gr1 = [[0,0,3,0],[0,0,1,0],[3,2,4,1],[0,0,2,3]]\n",
    "assert fill_cell_using_column(gr1, N, 1, 1) == True\n",
    "assert gr1[1][1] == 3\n",
    "\n",
    "N = 9\n",
    "hard_grid = [[3,0,7,1,4,0,0,6,9],[0,0,0,6,7,0,4,0,0],[0,4,0,8,3,0,0,2,0],\n",
    "              [0,0,0,5,9,3,0,7,8],[0,0,0,7,1,8,0,0,0],[8,7,0,4,2,6,0,0,0],\n",
    "              [5,9,8,3,6,7,2,1,4],[2,3,1,9,5,4,0,8,0],[7,6,4,2,8,1,3,9,5]]\n",
    "assert fill_cell_using_column(hard_grid,N,0,6) == True\n",
    "assert hard_grid[0][6] == 8"
   ]
  },
  {
   "cell_type": "markdown",
   "id": "3fe0b05c",
   "metadata": {
    "deletable": false,
    "editable": false
   },
   "source": [
    "**Q25.** Écrire une fonction `fill_cell_using_region` qui, étant donné une grille `grid` de taille `N`, vérifie si **les valeurs potentielles** de la case d'indice `row`$\\times$ `col` peuvent être placées ailleurs dans la région à laquelle appartient la case. Si une de ces valeurs ne peut être placée nul part ailleurs dans la région, la fonction **placera cette valeur** dans la case d'indice `row`$\\times$`col` et renverra `True`, sinon elle renverra `False`."
   ]
  },
  {
   "cell_type": "code",
   "execution_count": null,
   "id": "69bd72a4",
   "metadata": {},
   "outputs": [],
   "source": [
    "def fill_cell_using_region(grid : list[list[int]], N : int, row : int, col : int) -> bool:\n",
    "    '''Vérifie si une des valeurs qui peut être placée dans la case d'indice row x col peut être placée\n",
    "    ailleurs dans la région à laquelle appartient la case. Si ce n'est pas le cas, la fonction placera le \n",
    "    nombre en question dans la case d'indice row x col et renverra True et sinon elle renverra False. '''\n",
    "    # ENTRER VOTRE CODE ICI \n",
    "    raise NotImplementedError()"
   ]
  },
  {
   "cell_type": "code",
   "execution_count": null,
   "id": "f546b6d6",
   "metadata": {
    "deletable": false,
    "editable": false
   },
   "outputs": [],
   "source": [
    "N = 4\n",
    "\n",
    "gr1 = [[0,0,3,0],[0,0,1,0],[3,2,4,1],[0,0,2,3]]\n",
    "assert fill_cell_using_region(gr1, N, 1, 1) == True\n",
    "assert gr1[1][1] == 3\n",
    "\n",
    "N = 9\n",
    "hard_grid = [[3,0,7,1,4,0,0,6,9],[0,8,0,6,7,0,4,0,0],[0,4,0,8,3,0,0,2,0],\n",
    "              [4,0,0,5,9,3,0,7,8],[0,0,0,7,1,8,0,0,0],[8,7,0,4,2,6,0,0,0],\n",
    "              [5,9,8,3,6,7,2,1,4],[2,3,1,9,5,4,0,8,0],[7,6,4,2,8,1,3,9,5]]\n",
    "assert fill_cell_using_region(hard_grid,N,3,1) == True\n",
    "assert hard_grid[3][1] == 1"
   ]
  },
  {
   "cell_type": "markdown",
   "id": "4ebb73cc",
   "metadata": {
    "deletable": false,
    "editable": false
   },
   "source": [
    "**Q26.$\\star$** Écrire une fonction `second_solver` qui commencera par appeler le premier solveur avant de vérifier s'il peut placer des nombres à l'aide des fonctions `check_numbers_*`. À chaque fois qu'un nombre sera placé, le solveur devra rappeler le premier solveur puis ré-examiner toutes les cases de la grille jusqu'à ce qu'il ne puisse plus compléter de cases. La fonction renverra `True` si la grille est complète et `False` sinon"
   ]
  },
  {
   "cell_type": "code",
   "execution_count": null,
   "id": "385a024f",
   "metadata": {},
   "outputs": [],
   "source": [
    "def second_solver(grid : list[list[int]], N : int) -> bool:\n",
    "    '''second solveur pour résoudre la grille de Sudoku grid de taille N'''\n",
    "    # ENTRER VOTRE CODE ICI \n",
    "    raise NotImplementedError()"
   ]
  },
  {
   "cell_type": "code",
   "execution_count": null,
   "id": "37215a3b",
   "metadata": {
    "deletable": false,
    "editable": false
   },
   "outputs": [],
   "source": [
    "N = 4\n",
    "g1 = [[4,0,0,0],[0,0,0,1],[0,0,0,0],[0,3,2,0]]\n",
    "assert second_solver(g1,N) == True\n",
    "assert g1 == [[4,1,3,2],[3,2,4,1],[2,4,1,3],[1,3,2,4]]\n",
    "\n",
    "g2 = [[0,0,3,0],[0,0,1,0],[3,2,4,1],[0,0,2,3]]\n",
    "assert second_solver(g2,N) == False\n",
    "assert g2 == [[0,0,3,0],[0,3,1,0],[3,2,4,1],[0,0,2,3]]\n",
    "\n",
    "\n",
    "N = 9\n",
    "g3 = [[0,0,0,0,0,9,0,0,3],[1,4,0,0,0,8,9,0,0],[5,0,0,0,0,1,0,6,8],\n",
    "      [9,0,0,0,8,0,0,3,0],[0,0,6,0,7,0,4,0,0],[0,2,0,0,9,0,0,0,1],\n",
    "      [2,5,0,3,0,0,0,0,6],[0,0,9,8,0,0,0,2,5],[7,0,0,9,0,0,0,0,0]]\n",
    "assert second_solver(g3,N) == True\n",
    "assert g3 == [[6,8,2,7,5,9,1,4,3],[1,4,3,2,6,8,9,5,7],[5,9,7,4,3,1,2,6,8],\n",
    "              [9,7,5,1,8,4,6,3,2],[3,1,6,5,7,2,4,8,9],[8,2,4,6,9,3,5,7,1],\n",
    "              [2,5,1,3,4,7,8,9,6],[4,3,9,8,1,6,7,2,5],[7,6,8,9,2,5,3,1,4]]\n",
    "\n",
    "g4 = [[8,0,4,5,0,9,0,3,0],[0,9,0,2,0,0,4,0,5],[0,0,0,0,3,0,0,0,0],\n",
    "      [6,0,0,0,0,5,3,0,0],[9,5,0,0,0,0,0,1,7],[0,0,1,8,0,0,0,0,9],\n",
    "      [0,0,0,0,5,0,0,0,0],[2,0,6,0,0,1,0,9,0],[0,1,0,9,0,6,2,0,4]]\n",
    "assert second_solver(g4,N) == True\n",
    "assert g4 == [[8,2,4,5,6,9,7,3,1],[3,9,7,2,1,8,4,6,5],[1,6,5,7,3,4,9,2,8],\n",
    "              [6,7,8,1,9,5,3,4,2],[9,5,2,6,4,3,8,1,7],[4,3,1,8,2,7,6,5,9],\n",
    "              [7,4,9,3,5,2,1,8,6],[2,8,6,4,7,1,5,9,3],[5,1,3,9,8,6,2,7,4]]\n",
    "\n",
    "hard_grid == [[3,0,7,1,4,0,0,6,9],[0,0,0,6,7,0,4,0,0],[0,4,0,8,3,0,0,2,0],\n",
    "              [0,0,0,5,9,3,0,7,8],[0,0,0,7,1,8,0,0,0],[8,7,0,4,2,6,0,0,0],\n",
    "              [5,9,8,3,6,7,2,1,4],[2,3,1,9,5,4,0,8,0],[7,6,4,2,8,1,3,9,5]]\n",
    "assert second_solver(hard_grid,N) == True\n",
    "hard_grid == [[3,2,7,1,4,5,8,6,9],[9,8,5,6,7,2,4,3,1],[1,4,6,8,3,9,5,2,7],\n",
    "              [4,1,2,5,9,3,6,7,8],[6,5,3,7,1,8,9,4,2],[8,7,9,4,2,6,1,5,3],\n",
    "              [5,9,8,3,6,7,2,1,4],[2,3,1,9,5,4,7,8,6],[7,6,4,2,8,1,3,9,5]]\n",
    "\n",
    "g5 = [[0,0,0,0,0,0,9,7,0],[8,2,0,1,0,0,4,5,0],[0,0,0,5,0,3,0,0,2],\n",
    "      [0,0,5,0,0,7,0,0,0],[0,0,2,0,5,0,3,0,0],[0,0,0,9,0,0,6,0,0],\n",
    "      [2,0,0,6,0,9,0,0,0],[0,9,7,0,0,4,0,3,1],[0,4,8,0,0,0,0,0,0]]\n",
    "assert second_solver(g5,N) == False\n",
    "assert g5 == [[5,0,0,0,0,0,9,7,0],[8,2,9,1,7,6,4,5,3],[0,0,0,5,9,3,0,0,2],\n",
    "              [0,0,5,3,6,7,0,2,0],[0,6,2,0,5,0,3,0,7],[0,0,0,9,0,0,6,0,5],\n",
    "              [2,5,0,6,0,9,7,0,0],[6,9,7,0,0,4,5,3,1],[0,4,8,7,0,5,2,0,0]]\n"
   ]
  },
  {
   "cell_type": "markdown",
   "id": "e0b51b83",
   "metadata": {
    "deletable": false,
    "editable": false
   },
   "source": [
    "Comme on peut le voir sur la grille `g5` de l'exemple ci-dessus, notre deuxième solveur, bien que plus efficace, échoue à résoudre certaines grilles. \n",
    "\n",
    "Dans ce cas, une dernière approche consiste à tester tous les nombres possibles pour les cases vides et à poursuivre la résolution tant qu'elle ne conduit pas à une configuration impossible. Si jamais une configuration impossible est atteinte, l'algorithme revient en arrière en modifiant les valeurs choisies antérieurement et reprent la résolution.\n",
    "\n",
    "**Exemple** : grille `g5` après passage dans le deuxième solveur. La case marquée d'un point d'interrogation dans le coin inférieur gauche peut recevoir un 1 ou un 3. Si l'on met un 1 et que l'on applique à nouveau notre deuxième solveur on obtient une grille incomplète que l'on ne pourra pas compléter sans enfreindre les règles du Sudoku. Il fallait donc mettre un 3.\n",
    "\n",
    "```\n",
    "-------------------------                -------------------------                -------------------------\n",
    "| 5     |       | 9 7   |                | 5     |       | 9 7   |                | 5 3 1 | 8 4 2 | 9 7 6 |\n",
    "| 8 2 9 | 1 7 6 | 4 5 3 |                | 8 2 9 | 1 7 6 | 4 5 3 |                | 8 2 9 | 1 7 6 | 4 5 3 |\n",
    "|       | 5 9 3 |     2 |                |       | 5 9 3 |     2 |                | 4 7 6 | 5 9 3 | 1 8 2 |\n",
    "-------------------------                -------------------------                -------------------------\n",
    "|     5 | 3 6 7 |   2   |                |     5 | 3 6 7 |   2   |                | 9 1 5 | 3 6 7 | 8 2 4 |\n",
    "|   6 2 |   5   | 3   7 |      ->        |   6 2 |   5   | 3   7 |       ->       |   6 2 | 4 5 8 | 3 9 7 |\n",
    "|       | 9     | 6   5 |                |       | 9     | 6   5 |                | 3 8 4 | 9 2 1 | 6   5 |\n",
    "-------------------------                -------------------------                -------------------------\n",
    "| 2 5   | 6   9 | 7     |                | 2 5   | 6   9 | 7     |                | 2 5 3 | 6 1 9 | 7 4 8 |\n",
    "| 6 9 7 |     4 | 5 3 1 |                | 6 9 7 |     4 | 5 3 1 |                | 6 9 7 | 2 8 4 | 5 3 1 |\n",
    "| ? 4 8 | 7   5 | 2     |                | 1 4 8 | 7   5 | 2     |                | 1 4 8 | 7 3 5 | 2 6 9 |\n",
    "-------------------------                -------------------------                -------------------------\n",
    "\n",
    "g5 après deuxième solveur               on met un 1 en bas à gauche             on obtient une grille erronée\n",
    "```\n",
    "\n",
    "L'algorithme pour implémenter ce solveur doit donc tester toutes les possibilités pour toutes les cases non remplies de la grille. On peut le décrire de la manière suivante :\n",
    "\n",
    "1. Si la grille est terminée on renvoie `True`\n",
    "2. On parcourt la grille jusqu'à trouver une case vide `c`\n",
    "3. On liste les nombres possibles pour la case `c`, si aucun nombre ne convient on renvoie `False` sinon on insère un de ces nombres dans la case `c`.\n",
    "4. On retourne à l'étape 1. jusqu'à ce que\n",
    "-  la grille soit terminée, auquel cas on renvoie `True`\n",
    "-  on ne puisse plus compléter la grille, auquel cas on remet la valeur de la case `c` à 0 et on teste les autres nombres possibles pour `c`.\n",
    "5. Si aucun des nombres testés ne convient alors une des hyptohèses précédentes était erronée et on renverra `False`. "
   ]
  },
  {
   "cell_type": "markdown",
   "id": "6c966fd4",
   "metadata": {
    "deletable": false,
    "editable": false
   },
   "source": [
    "**Q27.$\\star\\star$** Écrire une fonction **récursive** `final_solver` qui implémente l'algorithme décrit ci-dessus sans utiliser les solveurs précédents."
   ]
  },
  {
   "cell_type": "code",
   "execution_count": null,
   "id": "884b358a",
   "metadata": {},
   "outputs": [],
   "source": [
    "def final_solver(grid : list[list[int]], N : int) -> bool:\n",
    "    '''solveur final qui teste toutes les hyptohèses '''\n",
    "    # ENTRER VOTRE CODE ICI \n",
    "    raise NotImplementedError()"
   ]
  },
  {
   "cell_type": "code",
   "execution_count": null,
   "id": "3a6bc01a",
   "metadata": {
    "deletable": false,
    "editable": false
   },
   "outputs": [],
   "source": [
    "N = 9\n",
    "g5 = [[5,0,0,0,0,0,9,7,0],[8,2,9,1,7,6,4,5,3],[0,0,0,5,9,3,0,0,2],\n",
    "      [0,0,5,3,6,7,0,2,0],[0,6,2,0,5,0,3,0,7],[0,0,0,9,0,0,6,0,5],\n",
    "      [2,5,0,6,0,9,7,0,0],[6,9,7,0,0,4,5,3,1],[0,4,8,7,0,5,2,0,0]]\n",
    "assert final_solver(g5,N) == True\n",
    "assert g5 == [[5,1,3,8,4,2,9,7,6],[8,2,9,1,7,6,4,5,3],[4,7,6,5,9,3,8,1,2],\n",
    "       [9,8,5,3,6,7,1,2,4],[1,6,2,4,5,8,3,9,7],[7,3,4,9,2,1,6,8,5],\n",
    "       [2,5,1,6,3,9,7,4,8],[6,9,7,2,8,4,5,3,1],[3,4,8,7,1,5,2,6,9]]\n",
    "\n",
    "\n",
    "g6 = [[0,6,9,2,0,7,4,0,0],[0,0,1,9,0,0,0,0,0],[2,0,0,0,0,0,0,6,0],\n",
    "      [0,1,0,6,0,0,9,0,0],[7,0,0,1,0,2,0,0,4],[0,0,5,0,0,3,0,7,0],\n",
    "      [0,2,0,0,0,0,0,0,6],[0,0,0,0,0,4,3,0,0],[0,0,4,5,0,1,7,9,0]]\n",
    "assert final_solver(g6,N) == True\n",
    "assert g6 == [[8,6,9,2,1,7,4,3,5],[5,4,1,9,3,6,8,2,7],[2,7,3,4,5,8,1,6,9],\n",
    "              [4,1,2,6,7,5,9,8,3],[7,3,8,1,9,2,6,5,4],[6,9,5,8,4,3,2,7,1],\n",
    "              [1,2,7,3,8,9,5,4,6],[9,5,6,7,2,4,3,1,8],[3,8,4,5,6,1,7,9,2]]"
   ]
  }
 ],
 "metadata": {
  "celltoolbar": "Format de la Cellule Texte Brut",
  "kernelspec": {
   "display_name": "Python 3 (ipykernel)",
   "language": "python",
   "name": "python3"
  },
  "language_info": {
   "codemirror_mode": {
    "name": "ipython",
    "version": 3
   },
   "file_extension": ".py",
   "mimetype": "text/x-python",
   "name": "python",
   "nbconvert_exporter": "python",
   "pygments_lexer": "ipython3",
   "version": "3.12.3"
  }
 },
 "nbformat": 4,
 "nbformat_minor": 5
}
