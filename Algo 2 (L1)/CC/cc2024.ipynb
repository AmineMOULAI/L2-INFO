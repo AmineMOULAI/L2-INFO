{
 "cells": [
  {
   "cell_type": "markdown",
   "metadata": {},
   "source": [
    "# Ne pas dégrafer les feuilles.\n",
    "**Durée : 2 heure. Aucun document autorisé.**\n",
    "Modalités : Répondre uniquement dans les zones de ﬁfeuilles à petits carreauxﬂ. La qualité de la rédaction\n",
    "sera prise en compte dans la notation. Les questions avec (*) sont de niveau \"Objectif 20\". Un barème est indiqué à droite de chaque question. La note finale sur 20 est proportionnellement déduite de ce barème.\n",
    "## Exercice 1. Pile en tableau et application (15 points)\n",
    "Dans cet exercice, on met en œuvre une pile en utilisant un tableau, puis on applique cette pile à l’évaluation\n",
    "d’une expression arithmétique en notation (dite) post-fixée (ou polonaise inversée).\n",
    "On a déjà présenté et utilisé la notion de pile – par exemple la pile des appels récursifs. Une pile est une\n",
    "structure de données qui permet de stocker des valeurs. Elle est dite LIFO : *last in, first out*.\n",
    "Le sommet de la pile est à la fois la dernière valeur ajoutée à la pile, et la première valeur a en être retirée.\n",
    "Les valeurs stockées dans une pile se manipulent uniquement avec deux traitements :\n",
    "    * empiler : on ajoute une nouvelle valeur à la pile et cette valeur devient le sommet de la pile.\n",
    "    * dépiler : on retire la valeur sommet de pile.\n",
    "Une pile qui contient aucune valeur est dite vide.\n",
    "En pratique, une pile d’assiettes est un bon exemple de pile.\n",
    "En python, un tableau est une liste (`list`). On n’utilisera pas les fonctions `.append()` et `.pop()` (qui correspondent à “empiler” et “dépiler”), ni aucune des fonctions méthodes des `list`. On considère un vrai tableau comme défini en cours.\n"
   ]
  },
  {
   "cell_type": "markdown",
   "metadata": {},
   "source": [
    "Voilà comment une pile est mise en œuvre avec un tableau.\n",
    "- Un tableau de longueur n+1 définit une liste qui peut stocker au plus n valeurs.\n",
    "- Ce nombre n sera appelé ici longueur de la pile.\n",
    "- La première valeur du tableau – celle d’indice 0 – contient l’indice du sommet de la pile, c-a-d. une\n",
    "valeur entre 1 et n.\n",
    "- A l’initialisation, la pile est vide. La valeur d’indice 0 (ie. l’indice du sommet de pile) vaut 0 et les n\n",
    "suivantes sont arbitraires.\n",
    "- Tant que le tableau n’est pas plein, empiler une valeur incrémente l’indice du sommet de pile et stocke\n",
    "cette valeur à l’indice du sommet .\n",
    "- Tant que la pile n’est pas vide, dépiler retourne la valeur du sommet de pile et décrémente l’indice du\n",
    "sommet.\n",
    "- dépiler une pile vide et empiler sur une pile pleine déclenchent l’ “erreur” python Assertion Error."
   ]
  },
  {
   "cell_type": "markdown",
   "metadata": {},
   "source": [
    "Le schéma ci-contre illustre l’effet des traitements successifs suivants.\n",
    "1. initialiser p6, pile de longueur 6\n",
    "2. empiler l’entier 7 sur la pile p6\n",
    "3. empiler l’entier 4 sur la pile p6\n",
    "4. dépiler la pile p6 dans v\n",
    "\n",
    "\n",
    "![Schéma d'une pile](ex.png)"
   ]
  },
  {
   "cell_type": "markdown",
   "metadata": {
    "vscode": {
     "languageId": "plaintext"
    }
   },
   "source": [
    "Important.\n",
    "- La signature de chaque fonction sera complète - seul le docstring n’est pas demandé.\n",
    "- Même si il est mis en œuvre avec un tableau, le paramètre formel pile n’a pas besoin d’être suivi de\n",
    "l’habituel paramètre taille d’un tableau.\n",
    "(⋆) Chaque fonction doit être accompagnée de quelques tests unitaires pertinents.\n"
   ]
  },
  {
   "cell_type": "markdown",
   "metadata": {
    "vscode": {
     "languageId": "plaintext"
    }
   },
   "source": [
    "1. Ecrire la fonction `init_pile()` qui créé et retourne une pile d’entiers de longueur n (c-a-d. qui peut\n",
    "stocker `n` valeurs)."
   ]
  },
  {
   "cell_type": "code",
   "execution_count": 2,
   "metadata": {},
   "outputs": [],
   "source": [
    "def init_pile(n : int) -> list[int]:\n",
    "    stack = [0 for i in range(n + 1)]\n",
    "    return stack"
   ]
  },
  {
   "cell_type": "code",
   "execution_count": 3,
   "metadata": {},
   "outputs": [
    {
     "name": "stdout",
     "output_type": "stream",
     "text": [
      "s1 : [0, 0, 0, 0]\n",
      "s2 : [0, 0, 0, 0, 0]\n",
      "s3 : [0, 0, 0, 0, 0, 0]\n"
     ]
    }
   ],
   "source": [
    "for i in range(3, 6):\n",
    "    print(f\"s{i - 2} : {init_pile(i)}\" )"
   ]
  },
  {
   "cell_type": "markdown",
   "metadata": {},
   "source": [
    "2. Ecrire la fonction est_vide() qui vérifie si une pile est vide ou non."
   ]
  },
  {
   "cell_type": "code",
   "execution_count": 4,
   "metadata": {},
   "outputs": [],
   "source": [
    "def est_vide(stack : list[int]) -> bool:\n",
    "    return stack[0] == 0"
   ]
  },
  {
   "cell_type": "code",
   "execution_count": 5,
   "metadata": {},
   "outputs": [],
   "source": [
    "s1 = [0, 0, 0, 0, 0]\n",
    "assert est_vide(s1) == True\n",
    "\n",
    "s2 = [1, 4, 0, 0, 0]\n",
    "assert est_vide(s2) == False"
   ]
  },
  {
   "cell_type": "markdown",
   "metadata": {},
   "source": [
    "3. Ecrire une fonction empiler() qui empile une valeur v sur une pile p de longueur n. Cette fonction\n",
    "modifie p et ne retourne aucune valeur"
   ]
  },
  {
   "cell_type": "code",
   "execution_count": 6,
   "metadata": {},
   "outputs": [],
   "source": [
    "def empiler(p : list[int], n : int, v : int) -> None:\n",
    "    assert p[0] < n + 1\n",
    "    p[0] += 1\n",
    "    p[p[0]] = v\n",
    "    "
   ]
  },
  {
   "cell_type": "code",
   "execution_count": 7,
   "metadata": {},
   "outputs": [
    {
     "name": "stdout",
     "output_type": "stream",
     "text": [
      "[3, 3, 4, 12, 0]\n"
     ]
    }
   ],
   "source": [
    "s1 = [0, 0, 0, 0, 0]\n",
    "empiler(s1, len(s1), 2)\n",
    "\n",
    "s2 = [2, 3, 4, 0, 0]\n",
    "empiler(s2, len(s2), 12)\n",
    "print(s2)"
   ]
  },
  {
   "cell_type": "markdown",
   "metadata": {},
   "source": [
    "4. Ecrire une fonction depiler() qui dépile et retourne la valeur v sommet de la pile p de longueur\n",
    "n."
   ]
  },
  {
   "cell_type": "code",
   "execution_count": 20,
   "metadata": {},
   "outputs": [],
   "source": [
    "def depiler(p : list[int], n : int) -> int:\n",
    "    assert not est_vide(p)\n",
    "    v = p[p[0]]\n",
    "    p[p[0]] = 0\n",
    "    p[0] -= 1\n",
    "    return v"
   ]
  },
  {
   "cell_type": "code",
   "execution_count": 9,
   "metadata": {},
   "outputs": [
    {
     "name": "stdout",
     "output_type": "stream",
     "text": [
      "1\n"
     ]
    }
   ],
   "source": [
    "s2 = [3, 3, 4, 1, 0]\n",
    "v = depiler(s2, len(s2))\n",
    "print(v)"
   ]
  },
  {
   "cell_type": "code",
   "execution_count": 10,
   "metadata": {},
   "outputs": [],
   "source": [
    "def afficher(s : list[int], n : int) -> None:\n",
    "    for i in range(n - 1, 0, -1):\n",
    "        print(s[i])"
   ]
  },
  {
   "cell_type": "code",
   "execution_count": 11,
   "metadata": {},
   "outputs": [
    {
     "name": "stdout",
     "output_type": "stream",
     "text": [
      "0\n",
      "1\n",
      "4\n",
      "3\n"
     ]
    }
   ],
   "source": [
    "s2 = [3, 3, 4, 1, 0]\n",
    "afficher(s2, len(s2))"
   ]
  },
  {
   "cell_type": "markdown",
   "metadata": {},
   "source": [
    "6. La pile contiendra le résultat de l'expression arithmitique "
   ]
  },
  {
   "cell_type": "markdown",
   "metadata": {},
   "source": [
    "7. On peut choisir une pile de même longueur que la longueur de la chaine de characteres qui représente l'expression arithmitique "
   ]
  },
  {
   "cell_type": "markdown",
   "metadata": {},
   "source": [
    "8. La suite des appels "
   ]
  },
  {
   "cell_type": "code",
   "execution_count": 32,
   "metadata": {},
   "outputs": [
    {
     "name": "stdout",
     "output_type": "stream",
     "text": [
      "[0, 0, 0, 0, 0, 0, 0, 0, 0, 0, 0, 0, 0]\n",
      "[1, 2, 0, 0, 0, 0, 0, 0, 0, 0, 0, 0, 0]\n",
      "[2, 2, 5, 0, 0, 0, 0, 0, 0, 0, 0, 0, 0]\n",
      "[1, 7, 0, 0, 0, 0, 0, 0, 0, 0, 0, 0, 0]\n",
      "[2, 7, 4, 0, 0, 0, 0, 0, 0, 0, 0, 0, 0]\n",
      "[3, 7, 4, 5, 0, 0, 0, 0, 0, 0, 0, 0, 0]\n",
      "[4, 7, 4, 5, 3, 0, 0, 0, 0, 0, 0, 0, 0]\n",
      "[3, 7, 4, 8, 0, 0, 0, 0, 0, 0, 0, 0, 0]\n",
      "[4, 7, 4, 8, 2, 0, 0, 0, 0, 0, 0, 0, 0]\n",
      "[3, 7, 4, 64, 0, 0, 0, 0, 0, 0, 0, 0, 0]\n",
      "[2, 7, 256, 0, 0, 0, 0, 0, 0, 0, 0, 0, 0]\n",
      "[2, 7, 16.0, 0, 0, 0, 0, 0, 0, 0, 0, 0, 0]\n",
      "[1, 112.0, 0, 0, 0, 0, 0, 0, 0, 0, 0, 0, 0]\n"
     ]
    }
   ],
   "source": [
    "from math import sqrt\n",
    "\n",
    "l = 12\n",
    "p = init_pile(l)\n",
    "print(p)\n",
    "\n",
    "empiler(p, len(p), 2)\n",
    "print(p)\n",
    "empiler(p, len(p), 5)\n",
    "print(p)\n",
    "a = depiler(p, len(p))\n",
    "b = depiler(p, len(p))\n",
    "s = a + b\n",
    "empiler(p, len(p), s)\n",
    "print(p)\n",
    "empiler(p, len(p), 4)\n",
    "print(p)\n",
    "empiler(p, len(p), 5)\n",
    "print(p)\n",
    "empiler(p, len(p), 3)\n",
    "print(p)\n",
    "a = depiler(p, len(p))\n",
    "b = depiler(p, len(p))\n",
    "s = a + b\n",
    "empiler(p, len(p), s)\n",
    "print(p)\n",
    "empiler(p, len(p), 2)\n",
    "print(p)\n",
    "a = depiler(p, len(p))\n",
    "b = depiler(p, len(p))\n",
    "s = b ** a\n",
    "empiler(p, len(p), s)\n",
    "print(p)\n",
    "a = depiler(p, len(p))\n",
    "b = depiler(p, len(p))\n",
    "s = b * a\n",
    "empiler(p, len(p), s)\n",
    "print(p)\n",
    "a = depiler(p, len(p))\n",
    "s = sqrt(a)\n",
    "empiler(p, len(p), s)\n",
    "print(p)\n",
    "a = depiler(p, len(p))\n",
    "b = depiler(p, len(p))\n",
    "s = b * a\n",
    "empiler(p, len(p), s)\n",
    "print(p)"
   ]
  },
  {
   "cell_type": "markdown",
   "metadata": {},
   "source": [
    "9. La liste qui représente l'expression arithmitique "
   ]
  },
  {
   "cell_type": "code",
   "execution_count": 34,
   "metadata": {},
   "outputs": [
    {
     "name": "stdout",
     "output_type": "stream",
     "text": [
      "[2, 5, '+', 4, 5, 3, '+', 2, '**', '*', 'RC', '*']\n"
     ]
    }
   ],
   "source": [
    "exp = [2, 5, \"+\", 4, 5, 3, \"+\", 2, \"**\", \"*\", \"RC\", \"*\"]\n",
    "print(exp)"
   ]
  },
  {
   "cell_type": "code",
   "execution_count": 40,
   "metadata": {},
   "outputs": [],
   "source": [
    "from typing import Union\n",
    "import math\n",
    "\n",
    "def ttype(v: Union[str, int, float]) -> int:\n",
    "    '''\n",
    "    retourne :\n",
    "    - 0 si v est un nombre (int ou float),\n",
    "    - 1 si v est un opérateur (noté avec str),\n",
    "    - 2 si v est une fonction (notée avec str)\n",
    "    '''\n",
    "    if isinstance(v, (int, float)):\n",
    "        return 0\n",
    "    elif v in {\"+\", \"-\", \"*\", \"/\", \"**\"}:\n",
    "        return 1\n",
    "    elif v == \"RC\":\n",
    "        return 2\n",
    "    else:\n",
    "        raise ValueError(f\"Type inconnu pour : {v}\")\n",
    "\n",
    "def calc_op(a: Union[int, float], op: str, b: Union[int, float]) -> Union[int, float]:\n",
    "    '''\n",
    "    calcule a op b et retourne ce résultat\n",
    "    '''\n",
    "    assert op in (\"+\", \"-\", \"*\", \"/\", \"**\"), f\"Opérateur non valide : {op}\"\n",
    "    if op == \"+\":\n",
    "        return a + b\n",
    "    elif op == \"-\":\n",
    "        return a - b\n",
    "    elif op == \"*\":\n",
    "        return a * b\n",
    "    elif op == \"/\":\n",
    "        return a / b\n",
    "    elif op == \"**\":\n",
    "        return b ** a\n",
    "\n",
    "def calc_f(f: str, a: Union[int, float]) -> Union[int, float]:\n",
    "    '''\n",
    "    calcule f(a) et retourne ce résultat\n",
    "    '''\n",
    "    assert f == \"RC\", f\"Fonction non valide : {f}\"\n",
    "    return math.sqrt(a)\n"
   ]
  },
  {
   "cell_type": "code",
   "execution_count": 43,
   "metadata": {},
   "outputs": [],
   "source": [
    "def eval(exp : list[str], n : int) -> int |  float:\n",
    "    p = init_pile(n)\n",
    "    for i in range(n):\n",
    "        if ttype(exp[i]) == 0:\n",
    "            empiler(p, n, exp[i])\n",
    "        elif ttype(exp[i]) == 1:\n",
    "            a = depiler(p, n)\n",
    "            b = depiler(p, n)\n",
    "            res = calc_op(a, exp[i], b)\n",
    "            empiler(p, n, res)\n",
    "        else:\n",
    "            a = depiler(p, n)\n",
    "            res = calc_f(exp[i], a)\n",
    "            empiler(p, n, res)\n",
    "    return p[p[0]]"
   ]
  },
  {
   "cell_type": "code",
   "execution_count": 44,
   "metadata": {},
   "outputs": [
    {
     "name": "stdout",
     "output_type": "stream",
     "text": [
      "112.0\n"
     ]
    }
   ],
   "source": [
    "res = eval(exp, len(exp))\n",
    "print(res)"
   ]
  },
  {
   "cell_type": "markdown",
   "metadata": {},
   "source": [
    "## Exercice 2. Arbre binaire : parcours et application (12 points)\n",
    "- Un arbre binaire non vide est formé d’un noeud, sa racine, et de deux sous-arbres binaires, l’un appelé le fils\n",
    "gauche, l’autre le fils droit (ou sous-arbre gauche et sous-arbre droit).\n",
    "Chaque noeud stocke une information, appelée sa valeur (ou son contenu).\n",
    "L’arbre binaire vide ne contient aucun sommet.\n",
    "Un arbre non vide est donc entièrement décrit par le triplet (fils gauche, valeur de la racine, fils droit).\n",
    "On note ab5 l’arbre binaire de la figure suivante où la valeur de chaque noeud est un entier.\n",
    "\n",
    "- On suppose les fonctions suivantes définies sur un arbre binaire (abrégé par “ab”) x. Dans les paramètres\n",
    "de fonction, on note ab le type “ab”. Des assertions illustrent l’application de ces fonctions à l’arbre binaire\n",
    "exemple ab5."
   ]
  },
  {
   "cell_type": "code",
   "execution_count": 46,
   "metadata": {},
   "outputs": [],
   "source": [
    "# type arbre binaire de valeurs entières\n",
    "ab = list[int]\n",
    "\n",
    "def est_vide(x: ab | None) -> bool:\n",
    "    ''' vérifie si l’ab x est vide ou non '''\n",
    "    return x is None\n",
    "\n",
    "def val(x: ab) -> int:\n",
    "    ''' retourne la valeur de la racine de l’ab non vide x '''\n",
    "    assert not est_vide(x)\n",
    "    return x[0]\n",
    "\n",
    "def filsG(x: ab) -> ab | None:\n",
    "    ''' retourne le sous-arbre gauche de l’ab non vide x '''\n",
    "    assert not est_vide(x)\n",
    "    return x[1]\n",
    "\n",
    "def filsD(x: ab) -> ab | None:\n",
    "    ''' retourne le sous-arbre droit de l’ab non vide x '''\n",
    "    assert not est_vide(x)\n",
    "    return x[2]\n",
    "\n",
    "# arbre défini comme sur la figure\n",
    "ab5 = [5, [3, None, None], [6, None, None]]\n",
    "\n",
    "# tests\n",
    "assert est_vide(ab5) == False\n",
    "assert val(ab5) == 5\n",
    "assert val(filsG(ab5)) == 3\n",
    "assert val(filsD(ab5)) == 6\n"
   ]
  },
  {
   "cell_type": "markdown",
   "metadata": {},
   "source": [
    "1. On code l’algorithme ps par la fonction récursive suivante."
   ]
  },
  {
   "cell_type": "code",
   "execution_count": 47,
   "metadata": {},
   "outputs": [],
   "source": [
    "def ps(x: ab) -> None:\n",
    "    if not est_vide(x):\n",
    "        ps(filsG(x))\n",
    "        ps(filsD(x))\n",
    "        print(val(x), end=\", \")"
   ]
  },
  {
   "cell_type": "markdown",
   "metadata": {},
   "source": [
    "On simplifiera l’écriture des réponses aux questions suivantes en identifiant tout sous-arbre non vide\n",
    "de ab5 à la valeur de sa racine (toutes ces valeurs sont différentes). Par exemple, ps(ab5) pourra aussi\n",
    "être noté ps5 et ps(FilsG(ab5)) pourra aussi être noté ps3 car 3 est la valeur de la racine du fils\n",
    "gauche de pp(ab5)\n",
    "\n",
    "* Donner l’arbre des appels de ps(ab5)"
   ]
  },
  {
   "cell_type": "code",
   "execution_count": null,
   "metadata": {},
   "outputs": [],
   "source": [
    "'''\n",
    "            ps(5)\n",
    "         /      \\\n",
    "      ps(3)     ps(6) \n",
    "      /   \\        \\\n",
    "    ps(7) ps(0)    ps(1)\n",
    "    /              /   \\\n",
    "  ps(2)          ps(8) ps(9)\n",
    "\n",
    "'''"
   ]
  },
  {
   "cell_type": "markdown",
   "metadata": {},
   "source": [
    "2. La pile des appels de ps(ab5)"
   ]
  },
  {
   "cell_type": "code",
   "execution_count": 49,
   "metadata": {},
   "outputs": [
    {
     "data": {
      "text/plain": [
       "'\\n\\n\\n\\n\\n                     ps2                                     ps8     ps9\\n                ps7  ps7  ps7       ps0                 ps1  ps1 ps1 ps1 ps1\\n         ps3    ps3  ps3  ps3  ps3  ps3  ps3       ps6  ps6  ps6 ps6 ps6 ps6 ps6\\n.   ps5  ps5    ps5  ps5  ps5  ps5  ps5  ps5  ps5  ps5  ps5  ps5 ps5 ps5 ps5 ps5 ps5 .    \\n0    1    2      3    4    5    6    7    8    9   10   11   12  13  14  15  16  17  18\\n\\n'"
      ]
     },
     "execution_count": 49,
     "metadata": {},
     "output_type": "execute_result"
    }
   ],
   "source": [
    "'''\n",
    "\n",
    "\n",
    "\n",
    "\n",
    "                     ps2                                     ps8     ps9\n",
    "                ps7  ps7  ps7       ps0                 ps1  ps1 ps1 ps1 ps1\n",
    "         ps3    ps3  ps3  ps3  ps3  ps3  ps3       ps6  ps6  ps6 ps6 ps6 ps6 ps6\n",
    ".   ps5  ps5    ps5  ps5  ps5  ps5  ps5  ps5  ps5  ps5  ps5  ps5 ps5 ps5 ps5 ps5 ps5 .    \n",
    "0    1    2      3    4    5    6    7    8    9   10   11   12  13  14  15  16  17  18\n",
    "\n",
    "'''"
   ]
  },
  {
   "cell_type": "markdown",
   "metadata": {},
   "source": [
    "3. Donner les affichages produits par l’exécution de ps(ab5).\n",
    "\n",
    "* Affichage : 2, 7, 0, 3, 8, 9, 1, 6, 5"
   ]
  },
  {
   "cell_type": "code",
   "execution_count": 70,
   "metadata": {},
   "outputs": [],
   "source": [
    "def maximum(x : ab, m : int) -> int:\n",
    "        \n",
    "    if not est_vide(x):\n",
    "        if m < val(x):\n",
    "            m = val(x)\n",
    "        m = maximum(filsG(x), m)\n",
    "        m = maximum(filsD(x), m)\n",
    "    return m\n"
   ]
  },
  {
   "cell_type": "code",
   "execution_count": 55,
   "metadata": {},
   "outputs": [],
   "source": [
    "ab5 = [\n",
    "    5,  # Racine de valeur 5\n",
    "    [   # Fils gauche (rouge)\n",
    "        3,\n",
    "        [   # Fils gauche de 3\n",
    "            7,\n",
    "            [2, None, None],  # Fils gauche de 7\n",
    "            None             # Pas de fils droit de 7\n",
    "        ],\n",
    "        [   # Fils droit de 3\n",
    "            0,\n",
    "            None,\n",
    "            None\n",
    "        ]\n",
    "    ],\n",
    "    [   # Fils droit (bleu)\n",
    "        6,\n",
    "        None,  # Pas de fils gauche de 6\n",
    "        [   # Fils droit de 6\n",
    "            1,\n",
    "            [8, None, None],  # Fils gauche de 1\n",
    "            [9, None, None]   # Fils droit de 1\n",
    "        ]\n",
    "    ]\n",
    "]\n"
   ]
  },
  {
   "cell_type": "code",
   "execution_count": 71,
   "metadata": {},
   "outputs": [
    {
     "name": "stdout",
     "output_type": "stream",
     "text": [
      "9\n"
     ]
    }
   ],
   "source": [
    "print(maximum(ab5, val(ab5)))"
   ]
  },
  {
   "cell_type": "code",
   "execution_count": 79,
   "metadata": {},
   "outputs": [],
   "source": [
    "def nbNoeuds(x : ab) -> int:\n",
    "    if est_vide(x):\n",
    "        return 0\n",
    "    else:\n",
    "        return 1 + nbNoeuds(filsG(x)) + nbNoeuds(filsD(x))"
   ]
  },
  {
   "cell_type": "code",
   "execution_count": 80,
   "metadata": {},
   "outputs": [
    {
     "name": "stdout",
     "output_type": "stream",
     "text": [
      "9\n"
     ]
    }
   ],
   "source": [
    "print(nbNoeuds(ab5))"
   ]
  }
 ],
 "metadata": {
  "kernelspec": {
   "display_name": "Python 3",
   "language": "python",
   "name": "python3"
  },
  "language_info": {
   "codemirror_mode": {
    "name": "ipython",
    "version": 3
   },
   "file_extension": ".py",
   "mimetype": "text/x-python",
   "name": "python",
   "nbconvert_exporter": "python",
   "pygments_lexer": "ipython3",
   "version": "3.12.3"
  }
 },
 "nbformat": 4,
 "nbformat_minor": 2
}
