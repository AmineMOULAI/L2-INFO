{
 "cells": [
  {
   "cell_type": "markdown",
   "metadata": {},
   "source": [
    "# Ne pas dégrafer les feuilles.\n",
    "**Durée : 2 heure. Aucun document autorisé.**\n",
    "Modalités : Répondre uniquement dans les zones de ﬁfeuilles à petits carreauxﬂ. La qualité de la rédaction\n",
    "sera prise en compte dans la notation. Les questions avec (*) sont de niveau \"Objectif 20\". Un barème est indiqué à droite de chaque question. La note finale sur 20 est proportionnellement déduite de ce barème.\n",
    "## Exercice 1. Pile en tableau et application (15 points)\n",
    "Dans cet exercice, on met en œuvre une pile en utilisant un tableau, puis on applique cette pile à l’évaluation\n",
    "d’une expression arithmétique en notation (dite) post-fixée (ou polonaise inversée).\n",
    "On a déjà présenté et utilisé la notion de pile – par exemple la pile des appels récursifs. Une pile est une\n",
    "structure de données qui permet de stocker des valeurs. Elle est dite LIFO : *last in, first out*.\n",
    "Le sommet de la pile est à la fois la dernière valeur ajoutée à la pile, et la première valeur a en être retirée.\n",
    "Les valeurs stockées dans une pile se manipulent uniquement avec deux traitements :\n",
    "    * empiler : on ajoute une nouvelle valeur à la pile et cette valeur devient le sommet de la pile.\n",
    "    * dépiler : on retire la valeur sommet de pile.\n",
    "Une pile qui contient aucune valeur est dite vide.\n",
    "En pratique, une pile d’assiettes est un bon exemple de pile.\n",
    "En python, un tableau est une liste (`list`). On n’utilisera pas les fonctions `.append()` et `.pop()` (qui correspondent à “empiler” et “dépiler”), ni aucune des fonctions méthodes des `list`. On considère un vrai tableau comme défini en cours.\n"
   ]
  },
  {
   "cell_type": "markdown",
   "metadata": {},
   "source": [
    "Voilà comment une pile est mise en œuvre avec un tableau.\n",
    "- Un tableau de longueur n+1 définit une liste qui peut stocker au plus n valeurs.\n",
    "- Ce nombre n sera appelé ici longueur de la pile.\n",
    "- La première valeur du tableau – celle d’indice 0 – contient l’indice du sommet de la pile, c-a-d. une\n",
    "valeur entre 1 et n.\n",
    "- A l’initialisation, la pile est vide. La valeur d’indice 0 (ie. l’indice du sommet de pile) vaut 0 et les n\n",
    "suivantes sont arbitraires.\n",
    "- Tant que le tableau n’est pas plein, empiler une valeur incrémente l’indice du sommet de pile et stocke\n",
    "cette valeur à l’indice du sommet .\n",
    "- Tant que la pile n’est pas vide, dépiler retourne la valeur du sommet de pile et décrémente l’indice du\n",
    "sommet.\n",
    "- dépiler une pile vide et empiler sur une pile pleine déclenchent l’ “erreur” python Assertion Error."
   ]
  },
  {
   "cell_type": "markdown",
   "metadata": {},
   "source": [
    "Le schéma ci-contre illustre l’effet des traitements successifs suivants.\n",
    "1. initialiser p6, pile de longueur 6\n",
    "2. empiler l’entier 7 sur la pile p6\n",
    "3. empiler l’entier 4 sur la pile p6\n",
    "4. dépiler la pile p6 dans v\n",
    "\n",
    "\n",
    "![Schéma d'une pile](ex.png)"
   ]
  },
  {
   "cell_type": "markdown",
   "metadata": {
    "vscode": {
     "languageId": "plaintext"
    }
   },
   "source": [
    "Important.\n",
    "- La signature de chaque fonction sera complète - seul le docstring n’est pas demandé.\n",
    "- Même si il est mis en œuvre avec un tableau, le paramètre formel pile n’a pas besoin d’être suivi de\n",
    "l’habituel paramètre taille d’un tableau.\n",
    "(⋆) Chaque fonction doit être accompagnée de quelques tests unitaires pertinents.\n"
   ]
  },
  {
   "cell_type": "markdown",
   "metadata": {
    "vscode": {
     "languageId": "plaintext"
    }
   },
   "source": [
    "1. Ecrire la fonction `init_pile()` qui créé et retourne une pile d’entiers de longueur n (c-a-d. qui peut\n",
    "stocker `n` valeurs)."
   ]
  },
  {
   "cell_type": "code",
   "execution_count": 7,
   "metadata": {},
   "outputs": [],
   "source": [
    "def init_pile(n : int) -> list[int]:\n",
    "    stack = [0 for i in range(n + 1)]\n",
    "    return stack"
   ]
  },
  {
   "cell_type": "code",
   "execution_count": 10,
   "metadata": {},
   "outputs": [
    {
     "name": "stdout",
     "output_type": "stream",
     "text": [
      "s1 : [0, 0, 0, 0]\n",
      "s2 : [0, 0, 0, 0, 0]\n",
      "s3 : [0, 0, 0, 0, 0, 0]\n"
     ]
    }
   ],
   "source": [
    "for i in range(3, 6):\n",
    "    print(f\"s{i - 2} : {init_pile(i)}\" )"
   ]
  },
  {
   "cell_type": "markdown",
   "metadata": {},
   "source": [
    "2. Ecrire la fonction est_vide() qui vérifie si une pile est vide ou non."
   ]
  },
  {
   "cell_type": "code",
   "execution_count": 13,
   "metadata": {},
   "outputs": [],
   "source": [
    "def est_vide(stack : list[int]) -> bool:\n",
    "    return stack[0] == 0"
   ]
  },
  {
   "cell_type": "code",
   "execution_count": 15,
   "metadata": {},
   "outputs": [],
   "source": [
    "s1 = [0, 0, 0, 0, 0]\n",
    "assert est_vide(s1) == True\n",
    "\n",
    "s2 = [1, 4, 0, 0, 0]\n",
    "assert est_vide(s2) == False"
   ]
  },
  {
   "cell_type": "markdown",
   "metadata": {},
   "source": [
    "3. Ecrire une fonction empiler() qui empile une valeur v sur une pile p de longueur n. Cette fonction\n",
    "modifie p et ne retourne aucune valeur"
   ]
  },
  {
   "cell_type": "code",
   "execution_count": 65,
   "metadata": {},
   "outputs": [],
   "source": [
    "def empiler(p : list[int], n : int, v : int) -> None:\n",
    "    assert p[0] < n + 1\n",
    "    p[0] += 1\n",
    "    p[p[0]] = v\n",
    "    "
   ]
  },
  {
   "cell_type": "code",
   "execution_count": 68,
   "metadata": {},
   "outputs": [
    {
     "name": "stdout",
     "output_type": "stream",
     "text": [
      "[3, 3, 4, 12, 0]\n"
     ]
    }
   ],
   "source": [
    "s1 = [0, 0, 0, 0, 0]\n",
    "empiler(s1, len(s1), 2)\n",
    "\n",
    "s2 = [2, 3, 4, 0, 0]\n",
    "empiler(s2, len(s2), 12)\n",
    "print(s2)"
   ]
  },
  {
   "cell_type": "markdown",
   "metadata": {},
   "source": [
    "4. Ecrire une fonction depiler() qui dépile et retourne la valeur v sommet de la pile p de longueur\n",
    "n."
   ]
  },
  {
   "cell_type": "code",
   "execution_count": 71,
   "metadata": {},
   "outputs": [],
   "source": [
    "def depiler(p : list[int], n : int) -> int:\n",
    "    assert not est_vide(p)\n",
    "    v = p[p[0]]\n",
    "    p[0] -= 1\n",
    "    return v"
   ]
  },
  {
   "cell_type": "code",
   "execution_count": 75,
   "metadata": {},
   "outputs": [
    {
     "name": "stdout",
     "output_type": "stream",
     "text": [
      "1\n"
     ]
    }
   ],
   "source": [
    "s2 = [3, 3, 4, 1, 0]\n",
    "v = depiler(s2, len(s2))\n",
    "print(v)"
   ]
  },
  {
   "cell_type": "code",
   "execution_count": 83,
   "metadata": {},
   "outputs": [],
   "source": [
    "def afficher(s : list[int], n : int) -> None:\n",
    "    for i in range(n - 1, 0, -1):\n",
    "        print(s[i])"
   ]
  },
  {
   "cell_type": "code",
   "execution_count": 84,
   "metadata": {},
   "outputs": [
    {
     "name": "stdout",
     "output_type": "stream",
     "text": [
      "0\n",
      "1\n",
      "4\n",
      "3\n"
     ]
    }
   ],
   "source": [
    "s2 = [3, 3, 4, 1, 0]\n",
    "afficher(s2, len(s2))"
   ]
  }
 ],
 "metadata": {
  "kernelspec": {
   "display_name": "Python 3",
   "language": "python",
   "name": "python3"
  },
  "language_info": {
   "codemirror_mode": {
    "name": "ipython",
    "version": 3
   },
   "file_extension": ".py",
   "mimetype": "text/x-python",
   "name": "python",
   "nbconvert_exporter": "python",
   "pygments_lexer": "ipython3",
   "version": "3.12.3"
  }
 },
 "nbformat": 4,
 "nbformat_minor": 2
}
