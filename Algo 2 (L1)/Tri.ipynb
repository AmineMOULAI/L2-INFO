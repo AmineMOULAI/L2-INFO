{
 "cells": [
  {
   "cell_type": "markdown",
   "id": "3c54a758",
   "metadata": {},
   "source": [
    "# Tri"
   ]
  },
  {
   "cell_type": "markdown",
   "id": "8dfb70db",
   "metadata": {},
   "source": [
    "## Tri insertion"
   ]
  },
  {
   "cell_type": "code",
   "execution_count": 7,
   "id": "15604711",
   "metadata": {},
   "outputs": [],
   "source": [
    "'''\n",
    "    * Input : \n",
    "        * t : list[int] -> Tableau à trier\n",
    "        * n : int -> la taille du tableau \n",
    "    * Output :\n",
    "        * list[int] -> Tableau trié\n",
    "'''\n",
    "\n",
    "def triInsertion(t : list[int], n : int) -> list[int]:\n",
    "    c = 0\n",
    "    for i in range(1, n):\n",
    "        v = t[i]\n",
    "        j = i\n",
    "        c += 1\n",
    "        while j > 0 and v < t[j - 1]:\n",
    "            t[j] = t[j - 1]\n",
    "            j -= 1\n",
    "            c += 1\n",
    "        t[j] = v\n",
    "        if j == 0:\n",
    "            c -= 1\n",
    "    return t, c"
   ]
  },
  {
   "cell_type": "code",
   "execution_count": 8,
   "id": "23a23aea",
   "metadata": {},
   "outputs": [
    {
     "name": "stdout",
     "output_type": "stream",
     "text": [
      "[6, 5, 10, 3, 2, 3, 1, 2, 3, 1]\n",
      "([1, 1, 2, 2, 3, 3, 3, 5, 6, 10], 38)\n"
     ]
    }
   ],
   "source": [
    "from random import randint\n",
    "\n",
    "n = 10\n",
    "v = [randint(0, 10) for i in range(n)]\n",
    "print(v)\n",
    "\n",
    "v = triInsertion(v, n)\n",
    "print(v)"
   ]
  },
  {
   "cell_type": "code",
   "execution_count": null,
   "id": "88f74f57",
   "metadata": {},
   "outputs": [],
   "source": []
  },
  {
   "cell_type": "markdown",
   "id": "42b7de6d",
   "metadata": {},
   "source": [
    "## Tri rapide"
   ]
  },
  {
   "cell_type": "code",
   "execution_count": 23,
   "id": "1d9b3e65",
   "metadata": {},
   "outputs": [],
   "source": [
    "def partition(t : list[int], g : int, d : int) -> int:\n",
    "    assert g < d - 1\n",
    "    pivot = t[d - 1]\n",
    "    m = g\n",
    "    for i in range(g, d - 1):\n",
    "        if t[i] <= pivot:\n",
    "            tmp = t[i]\n",
    "            t[i] = t[m]\n",
    "            t[m] = tmp\n",
    "            m += 1\n",
    "    t[d - 1] = t[m]\n",
    "    t[m] = pivot\n",
    "    return m\n",
    "\n",
    "def tri_rapide0(t : list[int], g : int, d : int) -> None:\n",
    "    \n",
    "    if d - g > 1:\n",
    "        m = partition(t, g, d)\n",
    "        tri_rapide0(t, g, m)\n",
    "        tri_rapide0(t, m + 1, d)\n",
    "        \n",
    "def tri_rapide(t : list[int], n : int) -> None:\n",
    "    tri_rapide0(t, 0, len(t))"
   ]
  },
  {
   "cell_type": "code",
   "execution_count": 24,
   "id": "c53c940d",
   "metadata": {},
   "outputs": [
    {
     "name": "stdout",
     "output_type": "stream",
     "text": [
      "[8, 2, 3, 4, 10, 1, 13, 0, 9, 7]\n",
      "[0, 1, 2, 3, 4, 7, 8, 9, 10, 13]\n"
     ]
    }
   ],
   "source": [
    "n = 10\n",
    "v = [8, 2, 3, 4, 10, 1, 13, 0, 9, 7]\n",
    "print(v)\n",
    "\n",
    "tri_rapide(v, n)\n",
    "print(v)"
   ]
  },
  {
   "cell_type": "code",
   "execution_count": 44,
   "id": "d87dff7d",
   "metadata": {},
   "outputs": [],
   "source": [
    "def partition2(t : list[int], g : int, d : int) -> int:\n",
    "    \n",
    "    assert g < d\n",
    "    t_cible = [0 for i in range(g, d)]\n",
    "    i = 0\n",
    "    j = d - g - 1\n",
    "    pivot = t[g]\n",
    "    \n",
    "    for k in range(g + 1, d):\n",
    "        if t[k] <= pivot:\n",
    "            t_cible[i] = t[k]\n",
    "            i += 1\n",
    "        else:\n",
    "            t_cible[j] = t[k]\n",
    "            j -= 1\n",
    "    assert j == i\n",
    "    m = i\n",
    "    t_cible[m] = pivot\n",
    "    \n",
    "    t[g:d] = t_cible[:]\n",
    "    \n",
    "    return m + g"
   ]
  },
  {
   "cell_type": "code",
   "execution_count": 45,
   "id": "719f1400",
   "metadata": {},
   "outputs": [],
   "source": [
    "def tri_rapide0(t : list[int], g : int, d : int) -> None:\n",
    "    \n",
    "    if d - g > 1:\n",
    "        m = partition2(t, g, d)\n",
    "        tri_rapide0(t, g, m)\n",
    "        tri_rapide0(t, m + 1, d)\n",
    "\n",
    "def tri_rapide(t : list[int], n : int) -> None:\n",
    "    tri_rapide0(t, 0, len(t))"
   ]
  },
  {
   "cell_type": "code",
   "execution_count": 47,
   "id": "9b2f7ab7",
   "metadata": {},
   "outputs": [
    {
     "name": "stdout",
     "output_type": "stream",
     "text": [
      "[94, 66, 98, 40, 31, 41, 2, 63, 39, 30]\n",
      "[2, 30, 31, 39, 40, 41, 63, 66, 94, 98]\n"
     ]
    }
   ],
   "source": [
    "n = 10\n",
    "v = [randint(0, 99) for i in range(n)]\n",
    "print(v)\n",
    "\n",
    "tri_rapide(v, n)\n",
    "print(v)"
   ]
  }
 ],
 "metadata": {
  "kernelspec": {
   "display_name": "Python 3 (ipykernel)",
   "language": "python",
   "name": "python3"
  },
  "language_info": {
   "codemirror_mode": {
    "name": "ipython",
    "version": 3
   },
   "file_extension": ".py",
   "mimetype": "text/x-python",
   "name": "python",
   "nbconvert_exporter": "python",
   "pygments_lexer": "ipython3",
   "version": "3.9.13"
  }
 },
 "nbformat": 4,
 "nbformat_minor": 5
}
